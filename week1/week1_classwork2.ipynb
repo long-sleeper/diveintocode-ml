{
 "cells": [
  {
   "cell_type": "markdown",
   "metadata": {},
   "source": [
    "# Week1　授業課題2　何回折ったら富士山を超えるか問題  "
   ]
  },
  {
   "cell_type": "markdown",
   "metadata": {},
   "source": [
    "「Pythonを使ってみよう」の問題では「1枚の紙を43回折り曲げた時の厚さを計算するプログラム」を作成し、43回折ることで月に届くことが確認できました。\n",
    "\n",
    "\n",
    "ここで「何回折ったらある厚さになるのか」という疑問が生まれます。こういったことを計算するプログラムを作成していきましょう。"
   ]
  },
  {
   "cell_type": "markdown",
   "metadata": {},
   "source": [
    "#### 紙を折った時の厚さの数式  \n",
    "$n$回折った紙の厚さ$t_{n}$は、折る前の紙の厚さ$t_0$を使い以下のように表せます。\n",
    "\n",
    "$$\n",
    "t_{n}=t_0 \\times 2^{n}\n",
    "$$\n",
    "\n",
    "折る前の紙の厚さ $t_0$ は**0.00008m**とします。一般的なコピー用紙の厚さです。"
   ]
  },
  {
   "cell_type": "markdown",
   "metadata": {},
   "source": [
    "### 【問題１】富士山を超える最小の折る回数\n",
    "厚さが「富士山(3776m)」を超えるのは何回紙を折った時か計算するプログラムを作成してください。"
   ]
  },
  {
   "cell_type": "code",
   "execution_count": 2,
   "metadata": {},
   "outputs": [
    {
     "name": "stdout",
     "output_type": "stream",
     "text": [
      "富士山を超えるには最小 26 回折る必要がある\n"
     ]
    }
   ],
   "source": [
    "# 富士山を超えるときの回数\n",
    "folded_thickness = 0.00008\n",
    "n_loop = 0\n",
    "while(folded_thickness < 3776):\n",
    "    folded_thickness *= 2\n",
    "    n_loop += 1\n",
    "\n",
    "print(\"富士山を超えるには最小 {} 回折る必要がある\".format(n_loop))"
   ]
  },
  {
   "cell_type": "markdown",
   "metadata": {},
   "source": [
    "### 【問題２】任意の厚さに対応した関数を作成\n",
    "距離を入力すると、何回折った時に超えるかを出力する関数を作成してください。引数として、折る前の厚さ $t_0$ も設定できるようにしましょう。\n",
    "\n",
    "\n",
    "この関数を利用して、「最も近い太陽以外の恒星」に到達するには紙を何回折る必要があるか計算してください。「最も近い太陽以外の恒星」の距離は調査してください。"
   ]
  },
  {
   "cell_type": "code",
   "execution_count": 3,
   "metadata": {},
   "outputs": [
    {
     "name": "stdout",
     "output_type": "stream",
     "text": [
      "プロキシマ・ケンタウリに達するには 69 回折る必要がある\n"
     ]
    }
   ],
   "source": [
    "# 距離から必要な折る回数を求める関数\n",
    "def n_fold(t0, distance):\n",
    "    folded_thickness = t0\n",
    "    n_loop = 0\n",
    "    while(folded_thickness < distance):\n",
    "        folded_thickness *= 2\n",
    "        n_loop += 1\n",
    "    return n_loop\n",
    "\n",
    "# 最も近い太陽以外の恒星に到達するために必要な折る回数\n",
    "# 恒星(プロキシマ・ケンタウリ)までの距離：4.243光年\n",
    "# 1光年＝9.461×10^15[m]\n",
    "t0 = 0.00008\n",
    "D_PROXIMA_CENTAURI = 4.243*9.461e+15\n",
    "print(\"プロキシマ・ケンタウリに達するには {} 回折る必要がある\"\n",
    "      .format(n_fold(t0, D_PROXIMA_CENTAURI)))"
   ]
  },
  {
   "cell_type": "markdown",
   "metadata": {},
   "source": [
    "### 【問題3】必要な紙の長さ\n",
    "実際のところ身近にある紙は43回はおろか10回も折れません。しかし、大きな紙ほどたくさん折ることができ、トイレットペーパーのような長い紙を一方向に折ることを考えた時の折れる回数を求める公式が存在します。\n",
    "\n",
    "\n",
    "厚さ $t_0$\n",
    " の紙をn回折るために必要な紙の長さLは以下の公式で求まります。\n",
    "$$\n",
    "L=\\frac{\\pi t_0}{6}(2^n+4)(2^n - 1)\n",
    "$$\n",
    "\n",
    "この公式を利用して、実際に紙を折り任意の厚さに到達するために必要な紙の長さを求める関数を作成してください。\n",
    "\n",
    "\n",
    "そしてこれを使って「月」「富士山」「最も近い太陽以外の恒星」に届くために必要な紙の長さを求めてください。"
   ]
  },
  {
   "cell_type": "code",
   "execution_count": 4,
   "metadata": {},
   "outputs": [],
   "source": [
    "# ある厚さまで折るのに必要な紙の長さを求める関数\n",
    "import math\n",
    "def length_paper(t0, thickness):\n",
    "    n_loop = n_fold(t0, thickness)\n",
    "    L = math.pi*t0*(2**n_loop+4)*(2**n_loop-1)/6\n",
    "    return L"
   ]
  },
  {
   "cell_type": "code",
   "execution_count": 5,
   "metadata": {},
   "outputs": [
    {
     "name": "stdout",
     "output_type": "stream",
     "text": [
      "月まで達するのに 1.4595803601100348e+37 [m]の長さの紙が必要\n"
     ]
    }
   ],
   "source": [
    "# 月に達するまでに必要な紙の長さ\n",
    "# 月までの距離：384400[km]\n",
    "t0 = 0.00008\n",
    "D_MOON = 4.243*9.461e+15\n",
    "print(\"月まで達するのに {} [m]の長さの紙が必要\"\n",
    "      .format(length_paper(t0, D_MOON)))"
   ]
  },
  {
   "cell_type": "code",
   "execution_count": 6,
   "metadata": {},
   "outputs": [
    {
     "name": "stdout",
     "output_type": "stream",
     "text": [
      "富士山まで達するのに 188646348487.24014 [m]の長さの紙が必要\n"
     ]
    }
   ],
   "source": [
    "# 富士山に達するまでに必要な紙の長さ\n",
    "# 富士山の高さ：3776[m]\n",
    "t0 = 0.00008\n",
    "H_MT_FUJI = 3776\n",
    "print(\"富士山まで達するのに {} [m]の長さの紙が必要\"\n",
    "      .format(length_paper(t0, H_MT_FUJI)))"
   ]
  },
  {
   "cell_type": "code",
   "execution_count": 7,
   "metadata": {},
   "outputs": [
    {
     "name": "stdout",
     "output_type": "stream",
     "text": [
      "プロキシマ・ケンタウリまで達するのに 1.4595803601100348e+37 [m]の長さの紙が必要\n"
     ]
    }
   ],
   "source": [
    "# 最も近い太陽以外の恒星に達するまでに必要な紙の長さ\n",
    "# 恒星(プロキシマ・ケンタウリ)までの距離：4.243光年\n",
    "# 1光年＝9.461×10^15[m]\n",
    "t0 = 0.00008\n",
    "D_PROXIMA_CENTAURI = 4.243*9.461e+15\n",
    "print(\"プロキシマ・ケンタウリまで達するのに {} [m]の長さの紙が必要\"\n",
    "      .format(length_paper(t0, D_PROXIMA_CENTAURI)))"
   ]
  }
 ],
 "metadata": {
  "kernelspec": {
   "display_name": "Python 3",
   "language": "python",
   "name": "python3"
  },
  "language_info": {
   "codemirror_mode": {
    "name": "ipython",
    "version": 3
   },
   "file_extension": ".py",
   "mimetype": "text/x-python",
   "name": "python",
   "nbconvert_exporter": "python",
   "pygments_lexer": "ipython3",
   "version": "3.7.6"
  }
 },
 "nbformat": 4,
 "nbformat_minor": 4
}
