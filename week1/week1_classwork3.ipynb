{
 "cells": [
  {
   "cell_type": "markdown",
   "metadata": {},
   "source": [
    "# Week1　授業課題3　栗まんじゅう問題"
   ]
  },
  {
   "cell_type": "markdown",
   "metadata": {},
   "source": [
    "【問題】栗まんじゅうが太陽系を覆う日  \n",
    "1個の栗まんじゅうにバイバインを振りかけた場合、太陽系が栗まんじゅうで覆われるのは何分後でしょうか。これを計算するプログラムを作成してください。\n",
    "\n",
    "\n",
    "栗まんじゅうや太陽系の体積を調査した上で仮定して計算してください。栗まんじゅうの隙間や重力などは考えず、問題を単純化して構いません。\n",
    "\n",
    "\n",
    "ボールにバイバインを振りかけた時、東京ドームが一杯になる時間など他の状況にも適用できるような汎用的なプログラムを作成してください。また、グラフを表示するなど分かりやすいノートブックを作成してください。"
   ]
  },
  {
   "cell_type": "markdown",
   "metadata": {},
   "source": [
    "１．栗まんじゅうが太陽系を覆うまで"
   ]
  },
  {
   "cell_type": "code",
   "execution_count": 1,
   "metadata": {},
   "outputs": [
    {
     "name": "stdout",
     "output_type": "stream",
     "text": [
      "栗まんじゅうが太陽系を覆うのは 710 分後\n"
     ]
    }
   ],
   "source": [
    "import math\n",
    "# 栗まんじゅうの体積：100[cm^3]→([m^3]へ変換)\n",
    "V_MARRON = 100e-6\n",
    "# 太陽から海王星までの距離：4.4769×10^9[km]→([m^3]へ変換)\n",
    "# 球の体積の公式を用いて太陽系の体積とする\n",
    "V_SOLARSYSTEM = 4/3*math.pi*(4.4769e+12)**3\n",
    "\n",
    "# バイバインで増える体積と時間の関数\n",
    "def time_fullfill(v_subject, v_object):\n",
    "    n_loop = 0\n",
    "    times = [0]\n",
    "    volumes = [v_subject]\n",
    "    while(v_subject < v_object):\n",
    "        n_loop += 1\n",
    "        times.append(n_loop*5)\n",
    "        v_subject *= 2\n",
    "        volumes.append(v_subject)\n",
    "    return times, volumes\n",
    "\n",
    "# 栗まんじゅうが太陽系を覆うまでの時間\n",
    "print(\"栗まんじゅうが太陽系を覆うのは {} 分後\"\n",
    "      .format(time_fullfill(V_MARRON, V_SOLARSYSTEM)[0][-1]))"
   ]
  },
  {
   "cell_type": "markdown",
   "metadata": {},
   "source": [
    "２．野球ボールが東京ドームを覆うまで"
   ]
  },
  {
   "cell_type": "code",
   "execution_count": 2,
   "metadata": {},
   "outputs": [
    {
     "name": "stdout",
     "output_type": "stream",
     "text": [
      "野球ボールが東京ドームを覆うのは 165 分後\n"
     ]
    }
   ],
   "source": [
    "# 野球ボールの直径：74.84[mm]→([m^3]へ変換)\n",
    "V_BASEBALL = 4/3*math.pi*(74.84e-3/2)**3\n",
    "# 東京ドームの容積：124万[m^3]\n",
    "V_TOKYODOME = 1240000\n",
    "\n",
    "print(\"野球ボールが東京ドームを覆うのは {} 分後\"\n",
    "      .format(time_fullfill(V_BASEBALL, V_TOKYODOME)[0][-1]))"
   ]
  },
  {
   "cell_type": "markdown",
   "metadata": {},
   "source": [
    "３．グラフ表示"
   ]
  },
  {
   "cell_type": "code",
   "execution_count": 5,
   "metadata": {},
   "outputs": [
    {
     "data": {
      "image/png": "[encoded data removed]",
      "text/plain": [
       "<Figure size 432x288 with 1 Axes>"
      ]
     },
     "metadata": {
      "needs_background": "light"
     },
     "output_type": "display_data"
    }
   ],
   "source": [
    "# 野球ボール、東京ドームの例でグラフ表示\n",
    "times, volumes = time_fullfill(V_BASEBALL, V_TOKYODOME)\n",
    "\n",
    "import matplotlib.pyplot as plt\n",
    "%matplotlib inline\n",
    "plt.title(\"time for baseballs fill TokyoDome\")\n",
    "plt.xlabel(\"time [min]\")\n",
    "plt.ylabel(\"volume [m^3]\")\n",
    "plt.plot(times, volumes, label='baseballs')\n",
    "plt.hlines([V_TOKYODOME], times[0], times[-1], 'red', \n",
    "           ls='--', label='TokyoDome')\n",
    "plt.legend()\n",
    "plt.show()"
   ]
  }
 ],
 "metadata": {
  "kernelspec": {
   "display_name": "Python 3",
   "language": "python",
   "name": "python3"
  },
  "language_info": {
   "codemirror_mode": {
    "name": "ipython",
    "version": 3
   },
   "file_extension": ".py",
   "mimetype": "text/x-python",
   "name": "python",
   "nbconvert_exporter": "python",
   "pygments_lexer": "ipython3",
   "version": "3.7.6"
  }
 },
 "nbformat": 4,
 "nbformat_minor": 4
}
