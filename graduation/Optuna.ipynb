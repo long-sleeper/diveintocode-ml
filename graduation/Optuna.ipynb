{
 "cells": [
  {
   "cell_type": "markdown",
   "metadata": {},
   "source": [
    "# Optunaモデルの作成"
   ]
  },
  {
   "cell_type": "code",
   "execution_count": 1,
   "metadata": {},
   "outputs": [],
   "source": [
    "import numpy as np\n",
    "import pandas as pd\n",
    "import matplotlib.pyplot as plt\n",
    "from matplotlib import cm\n",
    "import seaborn as sns\n",
    "%matplotlib inline\n",
    "from sklearn.model_selection import train_test_split\n",
    "from sklearn.model_selection import KFold\n",
    "import optuna.integration.lightgbm as lgb"
   ]
  },
  {
   "cell_type": "markdown",
   "metadata": {},
   "source": [
    "EDAで作成したデータファイル（``data_7.csv``）から特徴量を読み込む"
   ]
  },
  {
   "cell_type": "code",
   "execution_count": 2,
   "metadata": {},
   "outputs": [
    {
     "data": {
      "text/html": [
       "<div>\n",
       "<style scoped>\n",
       "    .dataframe tbody tr th:only-of-type {\n",
       "        vertical-align: middle;\n",
       "    }\n",
       "\n",
       "    .dataframe tbody tr th {\n",
       "        vertical-align: top;\n",
       "    }\n",
       "\n",
       "    .dataframe thead th {\n",
       "        text-align: right;\n",
       "    }\n",
       "</style>\n",
       "<table border=\"1\" class=\"dataframe\">\n",
       "  <thead>\n",
       "    <tr style=\"text-align: right;\">\n",
       "      <th></th>\n",
       "      <th>Id</th>\n",
       "      <th>age</th>\n",
       "      <th>domain1_var1</th>\n",
       "      <th>domain1_var2</th>\n",
       "      <th>domain2_var1</th>\n",
       "      <th>domain2_var2</th>\n",
       "      <th>IC_01</th>\n",
       "      <th>IC_07</th>\n",
       "      <th>IC_05</th>\n",
       "      <th>IC_16</th>\n",
       "      <th>...</th>\n",
       "      <th>CBN(13)_vs_DMN(94)</th>\n",
       "      <th>CBN(18)_vs_DMN(94)</th>\n",
       "      <th>CBN(4)_vs_DMN(94)</th>\n",
       "      <th>CBN(7)_vs_DMN(94)</th>\n",
       "      <th>CBN(18)_vs_CBN(13)</th>\n",
       "      <th>CBN(4)_vs_CBN(13)</th>\n",
       "      <th>CBN(7)_vs_CBN(13)</th>\n",
       "      <th>CBN(4)_vs_CBN(18)</th>\n",
       "      <th>CBN(7)_vs_CBN(18)</th>\n",
       "      <th>CBN(7)_vs_CBN(4)</th>\n",
       "    </tr>\n",
       "  </thead>\n",
       "  <tbody>\n",
       "    <tr>\n",
       "      <th>0</th>\n",
       "      <td>10001</td>\n",
       "      <td>57.436077</td>\n",
       "      <td>30.571975</td>\n",
       "      <td>62.553736</td>\n",
       "      <td>53.325130</td>\n",
       "      <td>51.427998</td>\n",
       "      <td>0.006070</td>\n",
       "      <td>0.014466</td>\n",
       "      <td>0.004136</td>\n",
       "      <td>0.000658</td>\n",
       "      <td>...</td>\n",
       "      <td>-0.203459</td>\n",
       "      <td>0.630524</td>\n",
       "      <td>0.227728</td>\n",
       "      <td>0.407087</td>\n",
       "      <td>0.450352</td>\n",
       "      <td>-0.074469</td>\n",
       "      <td>0.151244</td>\n",
       "      <td>-0.105504</td>\n",
       "      <td>0.626158</td>\n",
       "      <td>0.352528</td>\n",
       "    </tr>\n",
       "    <tr>\n",
       "      <th>1</th>\n",
       "      <td>10002</td>\n",
       "      <td>59.580851</td>\n",
       "      <td>50.969456</td>\n",
       "      <td>67.470628</td>\n",
       "      <td>60.651856</td>\n",
       "      <td>58.311361</td>\n",
       "      <td>0.009087</td>\n",
       "      <td>0.009291</td>\n",
       "      <td>0.007049</td>\n",
       "      <td>-0.002076</td>\n",
       "      <td>...</td>\n",
       "      <td>-0.306443</td>\n",
       "      <td>-0.047546</td>\n",
       "      <td>0.260530</td>\n",
       "      <td>-0.207901</td>\n",
       "      <td>0.595487</td>\n",
       "      <td>0.809261</td>\n",
       "      <td>0.648386</td>\n",
       "      <td>0.052190</td>\n",
       "      <td>0.772152</td>\n",
       "      <td>0.271778</td>\n",
       "    </tr>\n",
       "    <tr>\n",
       "      <th>2</th>\n",
       "      <td>10004</td>\n",
       "      <td>71.413018</td>\n",
       "      <td>53.152498</td>\n",
       "      <td>58.012103</td>\n",
       "      <td>52.418389</td>\n",
       "      <td>62.536641</td>\n",
       "      <td>0.004675</td>\n",
       "      <td>0.000957</td>\n",
       "      <td>0.006154</td>\n",
       "      <td>-0.000429</td>\n",
       "      <td>...</td>\n",
       "      <td>-0.276111</td>\n",
       "      <td>0.393040</td>\n",
       "      <td>0.370413</td>\n",
       "      <td>0.042790</td>\n",
       "      <td>0.437297</td>\n",
       "      <td>0.560578</td>\n",
       "      <td>0.440411</td>\n",
       "      <td>0.032559</td>\n",
       "      <td>0.923573</td>\n",
       "      <td>0.112833</td>\n",
       "    </tr>\n",
       "    <tr>\n",
       "      <th>3</th>\n",
       "      <td>10005</td>\n",
       "      <td>66.532630</td>\n",
       "      <td>51.847306</td>\n",
       "      <td>60.052535</td>\n",
       "      <td>52.108977</td>\n",
       "      <td>69.993075</td>\n",
       "      <td>-0.000398</td>\n",
       "      <td>0.006878</td>\n",
       "      <td>0.009051</td>\n",
       "      <td>0.000369</td>\n",
       "      <td>...</td>\n",
       "      <td>-0.248033</td>\n",
       "      <td>0.522701</td>\n",
       "      <td>0.107870</td>\n",
       "      <td>0.605457</td>\n",
       "      <td>0.660222</td>\n",
       "      <td>0.711500</td>\n",
       "      <td>0.321404</td>\n",
       "      <td>0.077306</td>\n",
       "      <td>1.063450</td>\n",
       "      <td>0.124246</td>\n",
       "    </tr>\n",
       "    <tr>\n",
       "      <th>4</th>\n",
       "      <td>10007</td>\n",
       "      <td>38.617381</td>\n",
       "      <td>49.197021</td>\n",
       "      <td>65.674285</td>\n",
       "      <td>40.151376</td>\n",
       "      <td>34.096421</td>\n",
       "      <td>0.005192</td>\n",
       "      <td>0.010585</td>\n",
       "      <td>0.012160</td>\n",
       "      <td>-0.000920</td>\n",
       "      <td>...</td>\n",
       "      <td>-0.178258</td>\n",
       "      <td>0.387695</td>\n",
       "      <td>0.166441</td>\n",
       "      <td>0.176302</td>\n",
       "      <td>0.504423</td>\n",
       "      <td>0.821638</td>\n",
       "      <td>0.517638</td>\n",
       "      <td>0.372172</td>\n",
       "      <td>0.787271</td>\n",
       "      <td>0.328486</td>\n",
       "    </tr>\n",
       "  </tbody>\n",
       "</table>\n",
       "<p>5 rows × 1463 columns</p>\n",
       "</div>"
      ],
      "text/plain": [
       "      Id        age  domain1_var1  domain1_var2  domain2_var1  domain2_var2  \\\n",
       "0  10001  57.436077     30.571975     62.553736     53.325130     51.427998   \n",
       "1  10002  59.580851     50.969456     67.470628     60.651856     58.311361   \n",
       "2  10004  71.413018     53.152498     58.012103     52.418389     62.536641   \n",
       "3  10005  66.532630     51.847306     60.052535     52.108977     69.993075   \n",
       "4  10007  38.617381     49.197021     65.674285     40.151376     34.096421   \n",
       "\n",
       "      IC_01     IC_07     IC_05     IC_16  ...  CBN(13)_vs_DMN(94)  \\\n",
       "0  0.006070  0.014466  0.004136  0.000658  ...           -0.203459   \n",
       "1  0.009087  0.009291  0.007049 -0.002076  ...           -0.306443   \n",
       "2  0.004675  0.000957  0.006154 -0.000429  ...           -0.276111   \n",
       "3 -0.000398  0.006878  0.009051  0.000369  ...           -0.248033   \n",
       "4  0.005192  0.010585  0.012160 -0.000920  ...           -0.178258   \n",
       "\n",
       "   CBN(18)_vs_DMN(94)  CBN(4)_vs_DMN(94)  CBN(7)_vs_DMN(94)  \\\n",
       "0            0.630524           0.227728           0.407087   \n",
       "1           -0.047546           0.260530          -0.207901   \n",
       "2            0.393040           0.370413           0.042790   \n",
       "3            0.522701           0.107870           0.605457   \n",
       "4            0.387695           0.166441           0.176302   \n",
       "\n",
       "   CBN(18)_vs_CBN(13)  CBN(4)_vs_CBN(13)  CBN(7)_vs_CBN(13)  \\\n",
       "0            0.450352          -0.074469           0.151244   \n",
       "1            0.595487           0.809261           0.648386   \n",
       "2            0.437297           0.560578           0.440411   \n",
       "3            0.660222           0.711500           0.321404   \n",
       "4            0.504423           0.821638           0.517638   \n",
       "\n",
       "   CBN(4)_vs_CBN(18)  CBN(7)_vs_CBN(18)  CBN(7)_vs_CBN(4)  \n",
       "0          -0.105504           0.626158          0.352528  \n",
       "1           0.052190           0.772152          0.271778  \n",
       "2           0.032559           0.923573          0.112833  \n",
       "3           0.077306           1.063450          0.124246  \n",
       "4           0.372172           0.787271          0.328486  \n",
       "\n",
       "[5 rows x 1463 columns]"
      ]
     },
     "execution_count": 2,
     "metadata": {},
     "output_type": "execute_result"
    }
   ],
   "source": [
    "df_7 = pd.read_csv('data_7.csv')\n",
    "df_7.head()"
   ]
  },
  {
   "cell_type": "markdown",
   "metadata": {},
   "source": [
    "Bayesian Optimizationで、自動的にハイパーパラメーターチューニングを実施するOptunaを使用。\n",
    "\n",
    "学習に時間がかかるためクロスバリデーションせず、1通りのtrain/validationの分割で実施する。"
   ]
  },
  {
   "cell_type": "code",
   "execution_count": 7,
   "metadata": {},
   "outputs": [
    {
     "name": "stdout",
     "output_type": "stream",
     "text": [
      "==< domain1_var2 >==\n",
      "X_train : (4407, 1457)\n"
     ]
    },
    {
     "name": "stderr",
     "output_type": "stream",
     "text": [
      "C:\\Users\\USER\\anaconda3\\envs\\tf115\\lib\\site-packages\\optuna\\_experimental.py:61: ExperimentalWarning: train is experimental (supported from v0.18.0). The interface can change in the future.\n",
      "  ExperimentalWarning,\n",
      "C:\\Users\\USER\\anaconda3\\envs\\tf115\\lib\\site-packages\\optuna\\_experimental.py:83: ExperimentalWarning: LightGBMTuner is experimental (supported from v1.5.0). The interface can change in the future.\n",
      "  ExperimentalWarning,\n",
      "\n",
      "  0%|          | 0/7 [00:00<?, ?it/s]\n",
      "feature_fraction, val_score: inf:   0%|          | 0/7 [00:00<?, ?it/s]"
     ]
    },
    {
     "name": "stdout",
     "output_type": "stream",
     "text": [
      "Training until validation scores don't improve for 20 rounds\n",
      "[20]\ttraining's rmse: 8.61546\tvalid_1's rmse: 10.4077\n",
      "[40]\ttraining's rmse: 6.64566\tvalid_1's rmse: 10.0097\n",
      "[60]\ttraining's rmse: 5.31587\tvalid_1's rmse: 9.85377\n",
      "[80]\ttraining's rmse: 4.29706\tvalid_1's rmse: 9.79653\n",
      "[100]\ttraining's rmse: 3.51406\tvalid_1's rmse: 9.77083\n",
      "[120]\ttraining's rmse: 2.90465\tvalid_1's rmse: 9.74444\n",
      "[140]\ttraining's rmse: 2.42012\tvalid_1's rmse: 9.74005\n",
      "Early stopping, best iteration is:\n",
      "[131]\ttraining's rmse: 2.62355\tvalid_1's rmse: 9.72616\n"
     ]
    },
    {
     "name": "stderr",
     "output_type": "stream",
     "text": [
      "\n",
      "feature_fraction, val_score: 9.726156:   0%|          | 0/7 [00:11<?, ?it/s]\n",
      "feature_fraction, val_score: 9.726156:  14%|#4        | 1/7 [00:11<01:08, 11.34s/it][I 2020-06-28 21:21:53,044] Finished trial#0 with value: 9.726156007753785 with parameters: {'feature_fraction': 0.5}. Best is trial#0 with value: 9.726156007753785.\n",
      "\n",
      "feature_fraction, val_score: 9.726156:  14%|#4        | 1/7 [00:11<01:08, 11.34s/it]"
     ]
    },
    {
     "name": "stdout",
     "output_type": "stream",
     "text": [
      "Training until validation scores don't improve for 20 rounds\n",
      "[20]\ttraining's rmse: 8.48176\tvalid_1's rmse: 10.4772\n",
      "[40]\ttraining's rmse: 6.50203\tvalid_1's rmse: 10.099\n",
      "[60]\ttraining's rmse: 5.14185\tvalid_1's rmse: 9.97616\n",
      "[80]\ttraining's rmse: 4.11464\tvalid_1's rmse: 9.92542\n",
      "[100]\ttraining's rmse: 3.33424\tvalid_1's rmse: 9.88993\n",
      "[120]\ttraining's rmse: 2.71114\tvalid_1's rmse: 9.87599\n",
      "[140]\ttraining's rmse: 2.23239\tvalid_1's rmse: 9.85814\n",
      "[160]\ttraining's rmse: 1.85097\tvalid_1's rmse: 9.83827\n",
      "[180]\ttraining's rmse: 1.53028\tvalid_1's rmse: 9.83583\n",
      "[200]\ttraining's rmse: 1.2733\tvalid_1's rmse: 9.84105\n",
      "Early stopping, best iteration is:\n",
      "[186]\ttraining's rmse: 1.44684\tvalid_1's rmse: 9.83202\n"
     ]
    },
    {
     "name": "stderr",
     "output_type": "stream",
     "text": [
      "\n",
      "feature_fraction, val_score: 9.726156:  14%|#4        | 1/7 [00:57<01:08, 11.34s/it]\n",
      "feature_fraction, val_score: 9.726156:  29%|##8       | 2/7 [00:57<01:48, 21.75s/it][I 2020-06-28 21:22:39,140] Finished trial#1 with value: 9.832017107149335 with parameters: {'feature_fraction': 0.8999999999999999}. Best is trial#0 with value: 9.726156007753785.\n",
      "\n",
      "feature_fraction, val_score: 9.726156:  29%|##8       | 2/7 [00:57<01:48, 21.75s/it]"
     ]
    },
    {
     "name": "stdout",
     "output_type": "stream",
     "text": [
      "Training until validation scores don't improve for 20 rounds\n",
      "[20]\ttraining's rmse: 8.45787\tvalid_1's rmse: 10.4072\n",
      "[40]\ttraining's rmse: 6.5009\tvalid_1's rmse: 10.0735\n",
      "[60]\ttraining's rmse: 5.14071\tvalid_1's rmse: 9.94368\n",
      "[80]\ttraining's rmse: 4.13148\tvalid_1's rmse: 9.91103\n",
      "[100]\ttraining's rmse: 3.35942\tvalid_1's rmse: 9.87683\n",
      "[120]\ttraining's rmse: 2.75525\tvalid_1's rmse: 9.86282\n",
      "[140]\ttraining's rmse: 2.27236\tvalid_1's rmse: 9.84746\n",
      "[160]\ttraining's rmse: 1.88409\tvalid_1's rmse: 9.83128\n",
      "[180]\ttraining's rmse: 1.5648\tvalid_1's rmse: 9.82416\n",
      "[200]\ttraining's rmse: 1.30411\tvalid_1's rmse: 9.83117\n",
      "Early stopping, best iteration is:\n",
      "[184]\ttraining's rmse: 1.51405\tvalid_1's rmse: 9.82379\n"
     ]
    },
    {
     "name": "stderr",
     "output_type": "stream",
     "text": [
      "\n",
      "feature_fraction, val_score: 9.726156:  29%|##8       | 2/7 [01:42<01:48, 21.75s/it]\n",
      "feature_fraction, val_score: 9.726156:  43%|####2     | 3/7 [01:42<01:54, 28.65s/it][I 2020-06-28 21:23:23,856] Finished trial#2 with value: 9.823793564584163 with parameters: {'feature_fraction': 0.8}. Best is trial#0 with value: 9.726156007753785.\n",
      "\n",
      "feature_fraction, val_score: 9.726156:  43%|####2     | 3/7 [01:42<01:54, 28.65s/it]"
     ]
    },
    {
     "name": "stdout",
     "output_type": "stream",
     "text": [
      "Training until validation scores don't improve for 20 rounds\n",
      "[20]\ttraining's rmse: 8.54251\tvalid_1's rmse: 10.4313\n",
      "[40]\ttraining's rmse: 6.59728\tvalid_1's rmse: 9.95783\n",
      "[60]\ttraining's rmse: 5.22954\tvalid_1's rmse: 9.85381\n",
      "[80]\ttraining's rmse: 4.21537\tvalid_1's rmse: 9.80402\n",
      "[100]\ttraining's rmse: 3.43766\tvalid_1's rmse: 9.78225\n",
      "[120]\ttraining's rmse: 2.83067\tvalid_1's rmse: 9.75936\n",
      "[140]\ttraining's rmse: 2.34932\tvalid_1's rmse: 9.72466\n",
      "[160]\ttraining's rmse: 1.95916\tvalid_1's rmse: 9.70566\n",
      "Early stopping, best iteration is:\n",
      "[156]\ttraining's rmse: 2.02983\tvalid_1's rmse: 9.7031\n"
     ]
    },
    {
     "name": "stderr",
     "output_type": "stream",
     "text": [
      "\n",
      "feature_fraction, val_score: 9.703097:  43%|####2     | 3/7 [02:12<01:54, 28.65s/it]\n",
      "feature_fraction, val_score: 9.703097:  57%|#####7    | 4/7 [02:12<01:27, 29.18s/it][I 2020-06-28 21:23:54,254] Finished trial#3 with value: 9.70309656489774 with parameters: {'feature_fraction': 0.6}. Best is trial#3 with value: 9.70309656489774.\n",
      "\n",
      "feature_fraction, val_score: 9.703097:  57%|#####7    | 4/7 [02:12<01:27, 29.18s/it]"
     ]
    },
    {
     "name": "stdout",
     "output_type": "stream",
     "text": [
      "Training until validation scores don't improve for 20 rounds\n",
      "[20]\ttraining's rmse: 8.67542\tvalid_1's rmse: 10.5112\n",
      "[40]\ttraining's rmse: 6.69927\tvalid_1's rmse: 10.0508\n",
      "[60]\ttraining's rmse: 5.37229\tvalid_1's rmse: 9.89277\n",
      "[80]\ttraining's rmse: 4.38146\tvalid_1's rmse: 9.80131\n",
      "[100]\ttraining's rmse: 3.60561\tvalid_1's rmse: 9.77329\n",
      "[120]\ttraining's rmse: 2.99201\tvalid_1's rmse: 9.77608\n",
      "Early stopping, best iteration is:\n",
      "[105]\ttraining's rmse: 3.43959\tvalid_1's rmse: 9.76456\n"
     ]
    },
    {
     "name": "stderr",
     "output_type": "stream",
     "text": [
      "\n",
      "feature_fraction, val_score: 9.703097:  57%|#####7    | 4/7 [02:28<01:27, 29.18s/it]\n",
      "feature_fraction, val_score: 9.703097:  71%|#######1  | 5/7 [02:28<00:50, 25.17s/it][I 2020-06-28 21:24:10,075] Finished trial#4 with value: 9.764555242158197 with parameters: {'feature_fraction': 0.4}. Best is trial#3 with value: 9.70309656489774.\n",
      "\n",
      "feature_fraction, val_score: 9.703097:  71%|#######1  | 5/7 [02:28<00:50, 25.17s/it]"
     ]
    },
    {
     "name": "stdout",
     "output_type": "stream",
     "text": [
      "Training until validation scores don't improve for 20 rounds\n",
      "[20]\ttraining's rmse: 8.44953\tvalid_1's rmse: 10.4186\n",
      "[40]\ttraining's rmse: 6.46154\tvalid_1's rmse: 10.0676\n",
      "[60]\ttraining's rmse: 5.09977\tvalid_1's rmse: 9.9214\n",
      "[80]\ttraining's rmse: 4.07739\tvalid_1's rmse: 9.87002\n",
      "[100]\ttraining's rmse: 3.29871\tvalid_1's rmse: 9.8209\n",
      "[120]\ttraining's rmse: 2.69966\tvalid_1's rmse: 9.80045\n",
      "[140]\ttraining's rmse: 2.2221\tvalid_1's rmse: 9.80087\n",
      "[160]\ttraining's rmse: 1.84022\tvalid_1's rmse: 9.78932\n",
      "[180]\ttraining's rmse: 1.52215\tvalid_1's rmse: 9.77746\n",
      "[200]\ttraining's rmse: 1.26147\tvalid_1's rmse: 9.77414\n",
      "[220]\ttraining's rmse: 1.05026\tvalid_1's rmse: 9.76431\n",
      "[240]\ttraining's rmse: 0.874678\tvalid_1's rmse: 9.76392\n",
      "Early stopping, best iteration is:\n",
      "[227]\ttraining's rmse: 0.986564\tvalid_1's rmse: 9.76076\n"
     ]
    },
    {
     "name": "stderr",
     "output_type": "stream",
     "text": [
      "\n",
      "feature_fraction, val_score: 9.703097:  71%|#######1  | 5/7 [03:31<00:50, 25.17s/it]\n",
      "feature_fraction, val_score: 9.703097:  86%|########5 | 6/7 [03:31<00:36, 36.66s/it][I 2020-06-28 21:25:13,571] Finished trial#5 with value: 9.760758316951366 with parameters: {'feature_fraction': 1.0}. Best is trial#3 with value: 9.70309656489774.\n",
      "\n",
      "feature_fraction, val_score: 9.703097:  86%|########5 | 6/7 [03:31<00:36, 36.66s/it]"
     ]
    },
    {
     "name": "stdout",
     "output_type": "stream",
     "text": [
      "Training until validation scores don't improve for 20 rounds\n",
      "[20]\ttraining's rmse: 8.48339\tvalid_1's rmse: 10.4628\n",
      "[40]\ttraining's rmse: 6.53718\tvalid_1's rmse: 10.0075\n",
      "[60]\ttraining's rmse: 5.19215\tvalid_1's rmse: 9.92145\n",
      "[80]\ttraining's rmse: 4.17595\tvalid_1's rmse: 9.88055\n",
      "[100]\ttraining's rmse: 3.3977\tvalid_1's rmse: 9.83679\n",
      "[120]\ttraining's rmse: 2.79727\tvalid_1's rmse: 9.82693\n",
      "[140]\ttraining's rmse: 2.30565\tvalid_1's rmse: 9.81315\n",
      "Early stopping, best iteration is:\n",
      "[136]\ttraining's rmse: 2.39494\tvalid_1's rmse: 9.80844\n"
     ]
    },
    {
     "name": "stderr",
     "output_type": "stream",
     "text": [
      "\n",
      "feature_fraction, val_score: 9.703097:  86%|########5 | 6/7 [04:03<00:36, 36.66s/it]\n",
      "feature_fraction, val_score: 9.703097: 100%|##########| 7/7 [04:03<00:00, 35.13s/it][I 2020-06-28 21:25:45,135] Finished trial#6 with value: 9.808440046729235 with parameters: {'feature_fraction': 0.7}. Best is trial#3 with value: 9.70309656489774.\n",
      "feature_fraction, val_score: 9.703097: 100%|##########| 7/7 [04:03<00:00, 34.79s/it]\n",
      "\n",
      "  0%|          | 0/20 [00:00<?, ?it/s]\n",
      "num_leaves, val_score: 9.703097:   0%|          | 0/20 [00:00<?, ?it/s]"
     ]
    },
    {
     "name": "stdout",
     "output_type": "stream",
     "text": [
      "Training until validation scores don't improve for 20 rounds\n",
      "[20]\ttraining's rmse: 8.11613\tvalid_1's rmse: 10.4178\n",
      "[40]\ttraining's rmse: 5.98311\tvalid_1's rmse: 10.0567\n",
      "[60]\ttraining's rmse: 4.55856\tvalid_1's rmse: 9.92682\n",
      "[80]\ttraining's rmse: 3.51224\tvalid_1's rmse: 9.86185\n",
      "[100]\ttraining's rmse: 2.73808\tvalid_1's rmse: 9.81949\n",
      "[120]\ttraining's rmse: 2.15961\tvalid_1's rmse: 9.81628\n",
      "Early stopping, best iteration is:\n",
      "[113]\ttraining's rmse: 2.34752\tvalid_1's rmse: 9.81161\n"
     ]
    },
    {
     "name": "stderr",
     "output_type": "stream",
     "text": [
      "\n",
      "num_leaves, val_score: 9.703097:   0%|          | 0/20 [00:28<?, ?it/s]\n",
      "num_leaves, val_score: 9.703097:   5%|5         | 1/20 [00:28<09:02, 28.54s/it][I 2020-06-28 21:26:13,821] Finished trial#7 with value: 9.811609845515324 with parameters: {'num_leaves': 38}. Best is trial#7 with value: 9.811609845515324.\n",
      "\n",
      "num_leaves, val_score: 9.703097:   5%|5         | 1/20 [00:28<09:02, 28.54s/it]"
     ]
    },
    {
     "name": "stdout",
     "output_type": "stream",
     "text": [
      "Training until validation scores don't improve for 20 rounds\n",
      "[20]\ttraining's rmse: 4.67033\tvalid_1's rmse: 10.4397\n",
      "[40]\ttraining's rmse: 2.02185\tvalid_1's rmse: 10.208\n",
      "[60]\ttraining's rmse: 1.01515\tvalid_1's rmse: 10.1479\n",
      "[80]\ttraining's rmse: 0.60674\tvalid_1's rmse: 10.1301\n",
      "[100]\ttraining's rmse: 0.419051\tvalid_1's rmse: 10.1207\n",
      "[120]\ttraining's rmse: 0.316775\tvalid_1's rmse: 10.1159\n",
      "[140]\ttraining's rmse: 0.251983\tvalid_1's rmse: 10.1155\n",
      "Early stopping, best iteration is:\n",
      "[129]\ttraining's rmse: 0.284401\tvalid_1's rmse: 10.1149\n"
     ]
    },
    {
     "name": "stderr",
     "output_type": "stream",
     "text": [
      "\n",
      "num_leaves, val_score: 9.703097:   5%|5         | 1/20 [01:54<09:02, 28.54s/it]\n",
      "num_leaves, val_score: 9.703097:  10%|#         | 2/20 [01:54<13:43, 45.73s/it][I 2020-06-28 21:27:39,671] Finished trial#8 with value: 10.114920412322245 with parameters: {'num_leaves': 196}. Best is trial#7 with value: 9.811609845515324.\n",
      "\n",
      "num_leaves, val_score: 9.703097:  10%|#         | 2/20 [01:54<13:43, 45.73s/it]"
     ]
    },
    {
     "name": "stdout",
     "output_type": "stream",
     "text": [
      "Training until validation scores don't improve for 20 rounds\n",
      "[20]\ttraining's rmse: 6.2218\tvalid_1's rmse: 10.4548\n",
      "[40]\ttraining's rmse: 3.48348\tvalid_1's rmse: 10.1262\n",
      "[60]\ttraining's rmse: 2.00956\tvalid_1's rmse: 10.0273\n",
      "[80]\ttraining's rmse: 1.1774\tvalid_1's rmse: 9.98739\n",
      "[100]\ttraining's rmse: 0.698473\tvalid_1's rmse: 9.97866\n",
      "[120]\ttraining's rmse: 0.418119\tvalid_1's rmse: 9.97113\n",
      "[140]\ttraining's rmse: 0.25264\tvalid_1's rmse: 9.97004\n",
      "[160]\ttraining's rmse: 0.154997\tvalid_1's rmse: 9.96973\n",
      "Early stopping, best iteration is:\n",
      "[148]\ttraining's rmse: 0.206814\tvalid_1's rmse: 9.96862\n"
     ]
    },
    {
     "name": "stderr",
     "output_type": "stream",
     "text": [
      "\n",
      "num_leaves, val_score: 9.703097:  10%|#         | 2/20 [03:02<13:43, 45.73s/it]\n",
      "num_leaves, val_score: 9.703097:  15%|#5        | 3/20 [03:02<14:49, 52.33s/it][I 2020-06-28 21:28:47,399] Finished trial#9 with value: 9.968620345407235 with parameters: {'num_leaves': 86}. Best is trial#7 with value: 9.811609845515324.\n",
      "\n",
      "num_leaves, val_score: 9.703097:  15%|#5        | 3/20 [03:02<14:49, 52.33s/it]"
     ]
    },
    {
     "name": "stdout",
     "output_type": "stream",
     "text": [
      "Training until validation scores don't improve for 20 rounds\n",
      "[20]\ttraining's rmse: 4.67033\tvalid_1's rmse: 10.4397\n",
      "[40]\ttraining's rmse: 2.02185\tvalid_1's rmse: 10.208\n",
      "[60]\ttraining's rmse: 1.01515\tvalid_1's rmse: 10.1479\n",
      "[80]\ttraining's rmse: 0.60674\tvalid_1's rmse: 10.1301\n",
      "[100]\ttraining's rmse: 0.419051\tvalid_1's rmse: 10.1207\n",
      "[120]\ttraining's rmse: 0.316775\tvalid_1's rmse: 10.1159\n",
      "[140]\ttraining's rmse: 0.251983\tvalid_1's rmse: 10.1155\n",
      "Early stopping, best iteration is:\n",
      "[129]\ttraining's rmse: 0.284401\tvalid_1's rmse: 10.1149\n"
     ]
    },
    {
     "name": "stderr",
     "output_type": "stream",
     "text": [
      "\n",
      "num_leaves, val_score: 9.703097:  15%|#5        | 3/20 [04:26<14:49, 52.33s/it]\n",
      "num_leaves, val_score: 9.703097:  20%|##        | 4/20 [04:26<16:33, 62.10s/it][I 2020-06-28 21:30:12,277] Finished trial#10 with value: 10.114920412322245 with parameters: {'num_leaves': 199}. Best is trial#7 with value: 9.811609845515324.\n",
      "\n",
      "num_leaves, val_score: 9.703097:  20%|##        | 4/20 [04:27<16:33, 62.10s/it]"
     ]
    },
    {
     "name": "stdout",
     "output_type": "stream",
     "text": [
      "Training until validation scores don't improve for 20 rounds\n",
      "[20]\ttraining's rmse: 6.31795\tvalid_1's rmse: 10.3864\n",
      "[40]\ttraining's rmse: 3.5975\tvalid_1's rmse: 10.0534\n",
      "[60]\ttraining's rmse: 2.11723\tvalid_1's rmse: 9.96121\n",
      "[80]\ttraining's rmse: 1.26754\tvalid_1's rmse: 9.91158\n",
      "[100]\ttraining's rmse: 0.764071\tvalid_1's rmse: 9.90034\n",
      "[120]\ttraining's rmse: 0.462607\tvalid_1's rmse: 9.89454\n",
      "[140]\ttraining's rmse: 0.282113\tvalid_1's rmse: 9.88942\n",
      "[160]\ttraining's rmse: 0.172585\tvalid_1's rmse: 9.88374\n",
      "[180]\ttraining's rmse: 0.106019\tvalid_1's rmse: 9.88276\n",
      "[200]\ttraining's rmse: 0.0655469\tvalid_1's rmse: 9.88283\n",
      "Early stopping, best iteration is:\n",
      "[181]\ttraining's rmse: 0.103517\tvalid_1's rmse: 9.88252\n"
     ]
    },
    {
     "name": "stderr",
     "output_type": "stream",
     "text": [
      "\n",
      "num_leaves, val_score: 9.703097:  20%|##        | 4/20 [05:43<16:33, 62.10s/it]\n",
      "num_leaves, val_score: 9.703097:  25%|##5       | 5/20 [05:43<16:38, 66.56s/it][I 2020-06-28 21:31:29,247] Finished trial#11 with value: 9.88252339664419 with parameters: {'num_leaves': 82}. Best is trial#7 with value: 9.811609845515324.\n",
      "\n",
      "num_leaves, val_score: 9.703097:  25%|##5       | 5/20 [05:44<16:38, 66.56s/it]"
     ]
    },
    {
     "name": "stdout",
     "output_type": "stream",
     "text": [
      "Training until validation scores don't improve for 20 rounds\n",
      "[20]\ttraining's rmse: 5.51343\tvalid_1's rmse: 10.5209\n",
      "[40]\ttraining's rmse: 2.72172\tvalid_1's rmse: 10.2756\n",
      "[60]\ttraining's rmse: 1.40967\tvalid_1's rmse: 10.1909\n",
      "[80]\ttraining's rmse: 0.751453\tvalid_1's rmse: 10.168\n",
      "[100]\ttraining's rmse: 0.417915\tvalid_1's rmse: 10.1606\n",
      "[120]\ttraining's rmse: 0.248235\tvalid_1's rmse: 10.1525\n",
      "[140]\ttraining's rmse: 0.165265\tvalid_1's rmse: 10.1528\n",
      "Early stopping, best iteration is:\n",
      "[125]\ttraining's rmse: 0.221323\tvalid_1's rmse: 10.1519\n"
     ]
    },
    {
     "name": "stderr",
     "output_type": "stream",
     "text": [
      "\n",
      "num_leaves, val_score: 9.703097:  25%|##5       | 5/20 [06:53<16:38, 66.56s/it]\n",
      "num_leaves, val_score: 9.703097:  30%|###       | 6/20 [06:53<15:43, 67.38s/it][I 2020-06-28 21:32:38,549] Finished trial#12 with value: 10.151894965630715 with parameters: {'num_leaves': 112}. Best is trial#7 with value: 9.811609845515324.\n",
      "\n",
      "num_leaves, val_score: 9.703097:  30%|###       | 6/20 [06:53<15:43, 67.38s/it]"
     ]
    },
    {
     "name": "stdout",
     "output_type": "stream",
     "text": [
      "Training until validation scores don't improve for 20 rounds\n",
      "[20]\ttraining's rmse: 4.7703\tvalid_1's rmse: 10.4399\n",
      "[40]\ttraining's rmse: 2.0777\tvalid_1's rmse: 10.1521\n",
      "[60]\ttraining's rmse: 1.02664\tvalid_1's rmse: 10.0767\n",
      "[80]\ttraining's rmse: 0.593464\tvalid_1's rmse: 10.0639\n",
      "[100]\ttraining's rmse: 0.394534\tvalid_1's rmse: 10.0565\n",
      "[120]\ttraining's rmse: 0.286611\tvalid_1's rmse: 10.0583\n",
      "Early stopping, best iteration is:\n",
      "[100]\ttraining's rmse: 0.394534\tvalid_1's rmse: 10.0565\n"
     ]
    },
    {
     "name": "stderr",
     "output_type": "stream",
     "text": [
      "\n",
      "num_leaves, val_score: 9.703097:  30%|###       | 6/20 [07:59<15:43, 67.38s/it]\n",
      "num_leaves, val_score: 9.703097:  35%|###5      | 7/20 [07:59<14:29, 66.92s/it][I 2020-06-28 21:33:44,383] Finished trial#13 with value: 10.056496878622507 with parameters: {'num_leaves': 159}. Best is trial#7 with value: 9.811609845515324.\n",
      "\n",
      "num_leaves, val_score: 9.703097:  35%|###5      | 7/20 [07:59<14:29, 66.92s/it]"
     ]
    },
    {
     "name": "stdout",
     "output_type": "stream",
     "text": [
      "Training until validation scores don't improve for 20 rounds\n",
      "[20]\ttraining's rmse: 4.67033\tvalid_1's rmse: 10.4397\n",
      "[40]\ttraining's rmse: 2.02185\tvalid_1's rmse: 10.208\n",
      "[60]\ttraining's rmse: 1.01515\tvalid_1's rmse: 10.1479\n",
      "[80]\ttraining's rmse: 0.60674\tvalid_1's rmse: 10.1301\n",
      "[100]\ttraining's rmse: 0.419051\tvalid_1's rmse: 10.1207\n",
      "[120]\ttraining's rmse: 0.316775\tvalid_1's rmse: 10.1159\n",
      "[140]\ttraining's rmse: 0.251983\tvalid_1's rmse: 10.1155\n",
      "Early stopping, best iteration is:\n",
      "[129]\ttraining's rmse: 0.284401\tvalid_1's rmse: 10.1149\n"
     ]
    },
    {
     "name": "stderr",
     "output_type": "stream",
     "text": [
      "\n",
      "num_leaves, val_score: 9.703097:  35%|###5      | 7/20 [09:24<14:29, 66.92s/it]\n",
      "num_leaves, val_score: 9.703097:  40%|####      | 8/20 [09:24<14:29, 72.46s/it][I 2020-06-28 21:35:09,785] Finished trial#14 with value: 10.114920412322245 with parameters: {'num_leaves': 197}. Best is trial#7 with value: 9.811609845515324.\n",
      "\n",
      "num_leaves, val_score: 9.703097:  40%|####      | 8/20 [09:24<14:29, 72.46s/it]"
     ]
    },
    {
     "name": "stdout",
     "output_type": "stream",
     "text": [
      "Training until validation scores don't improve for 20 rounds\n",
      "[20]\ttraining's rmse: 4.67033\tvalid_1's rmse: 10.4397\n",
      "[40]\ttraining's rmse: 2.02185\tvalid_1's rmse: 10.208\n",
      "[60]\ttraining's rmse: 1.01515\tvalid_1's rmse: 10.1479\n",
      "[80]\ttraining's rmse: 0.60674\tvalid_1's rmse: 10.1301\n",
      "[100]\ttraining's rmse: 0.419051\tvalid_1's rmse: 10.1207\n",
      "[120]\ttraining's rmse: 0.316775\tvalid_1's rmse: 10.1159\n",
      "[140]\ttraining's rmse: 0.251983\tvalid_1's rmse: 10.1155\n",
      "Early stopping, best iteration is:\n",
      "[129]\ttraining's rmse: 0.284401\tvalid_1's rmse: 10.1149\n"
     ]
    },
    {
     "name": "stderr",
     "output_type": "stream",
     "text": [
      "\n",
      "num_leaves, val_score: 9.703097:  40%|####      | 8/20 [10:50<14:29, 72.46s/it]\n",
      "num_leaves, val_score: 9.703097:  45%|####5     | 9/20 [10:50<14:01, 76.46s/it][I 2020-06-28 21:36:35,578] Finished trial#15 with value: 10.114920412322245 with parameters: {'num_leaves': 207}. Best is trial#7 with value: 9.811609845515324.\n",
      "\n",
      "num_leaves, val_score: 9.703097:  45%|####5     | 9/20 [10:50<14:01, 76.46s/it]"
     ]
    },
    {
     "name": "stdout",
     "output_type": "stream",
     "text": [
      "Training until validation scores don't improve for 20 rounds\n",
      "[20]\ttraining's rmse: 7.08848\tvalid_1's rmse: 10.3781\n",
      "[40]\ttraining's rmse: 4.56782\tvalid_1's rmse: 10.0579\n",
      "[60]\ttraining's rmse: 3.03288\tvalid_1's rmse: 9.97382\n",
      "[80]\ttraining's rmse: 2.05056\tvalid_1's rmse: 9.93964\n",
      "[100]\ttraining's rmse: 1.40316\tvalid_1's rmse: 9.93059\n",
      "Early stopping, best iteration is:\n",
      "[87]\ttraining's rmse: 1.79267\tvalid_1's rmse: 9.9245\n"
     ]
    },
    {
     "name": "stderr",
     "output_type": "stream",
     "text": [
      "\n",
      "num_leaves, val_score: 9.703097:  45%|####5     | 9/20 [11:23<14:01, 76.46s/it]\n",
      "num_leaves, val_score: 9.703097:  50%|#####     | 10/20 [11:23<10:35, 63.55s/it][I 2020-06-28 21:37:08,983] Finished trial#16 with value: 9.924502665179546 with parameters: {'num_leaves': 60}. Best is trial#7 with value: 9.811609845515324.\n",
      "\n",
      "num_leaves, val_score: 9.703097:  50%|#####     | 10/20 [11:23<10:35, 63.55s/it]"
     ]
    },
    {
     "name": "stdout",
     "output_type": "stream",
     "text": [
      "Training until validation scores don't improve for 20 rounds\n",
      "[20]\ttraining's rmse: 9.87107\tvalid_1's rmse: 10.5472\n",
      "[40]\ttraining's rmse: 8.71862\tvalid_1's rmse: 10.1076\n",
      "[60]\ttraining's rmse: 7.89346\tvalid_1's rmse: 9.93948\n",
      "[80]\ttraining's rmse: 7.22737\tvalid_1's rmse: 9.86216\n",
      "[100]\ttraining's rmse: 6.65528\tvalid_1's rmse: 9.84018\n",
      "[120]\ttraining's rmse: 6.16916\tvalid_1's rmse: 9.79496\n",
      "[140]\ttraining's rmse: 5.73793\tvalid_1's rmse: 9.78155\n",
      "[160]\ttraining's rmse: 5.35659\tvalid_1's rmse: 9.75959\n",
      "[180]\ttraining's rmse: 5.00389\tvalid_1's rmse: 9.75461\n",
      "[200]\ttraining's rmse: 4.68145\tvalid_1's rmse: 9.73016\n",
      "[220]\ttraining's rmse: 4.39427\tvalid_1's rmse: 9.72368\n",
      "[240]\ttraining's rmse: 4.12925\tvalid_1's rmse: 9.71648\n",
      "Early stopping, best iteration is:\n",
      "[229]\ttraining's rmse: 4.27166\tvalid_1's rmse: 9.70401\n"
     ]
    },
    {
     "name": "stderr",
     "output_type": "stream",
     "text": [
      "\n",
      "num_leaves, val_score: 9.703097:  50%|#####     | 10/20 [11:41<10:35, 63.55s/it]\n",
      "num_leaves, val_score: 9.703097:  55%|#####5    | 11/20 [11:41<07:28, 49.87s/it][I 2020-06-28 21:37:26,933] Finished trial#17 with value: 9.704008899893878 with parameters: {'num_leaves': 12}. Best is trial#17 with value: 9.704008899893878.\n",
      "\n",
      "num_leaves, val_score: 9.703097:  55%|#####5    | 11/20 [11:41<07:28, 49.87s/it]"
     ]
    },
    {
     "name": "stdout",
     "output_type": "stream",
     "text": [
      "Training until validation scores don't improve for 20 rounds\n",
      "[20]\ttraining's rmse: 10.4473\tvalid_1's rmse: 10.7585\n",
      "[40]\ttraining's rmse: 9.64495\tvalid_1's rmse: 10.2559\n",
      "[60]\ttraining's rmse: 9.13048\tvalid_1's rmse: 10.0403\n",
      "[80]\ttraining's rmse: 8.71102\tvalid_1's rmse: 9.91228\n",
      "[100]\ttraining's rmse: 8.36304\tvalid_1's rmse: 9.85808\n",
      "[120]\ttraining's rmse: 8.04532\tvalid_1's rmse: 9.81767\n",
      "[140]\ttraining's rmse: 7.76304\tvalid_1's rmse: 9.79689\n",
      "[160]\ttraining's rmse: 7.50027\tvalid_1's rmse: 9.77246\n",
      "[180]\ttraining's rmse: 7.25912\tvalid_1's rmse: 9.7712\n",
      "[200]\ttraining's rmse: 7.02537\tvalid_1's rmse: 9.75408\n",
      "[220]\ttraining's rmse: 6.81303\tvalid_1's rmse: 9.73484\n",
      "Early stopping, best iteration is:\n",
      "[210]\ttraining's rmse: 6.91786\tvalid_1's rmse: 9.72752\n"
     ]
    },
    {
     "name": "stderr",
     "output_type": "stream",
     "text": [
      "\n",
      "num_leaves, val_score: 9.703097:  55%|#####5    | 11/20 [11:49<07:28, 49.87s/it]\n",
      "num_leaves, val_score: 9.703097:  60%|######    | 12/20 [11:49<04:58, 37.37s/it][I 2020-06-28 21:37:35,151] Finished trial#18 with value: 9.727521776804569 with parameters: {'num_leaves': 6}. Best is trial#17 with value: 9.704008899893878.\n",
      "\n",
      "num_leaves, val_score: 9.703097:  60%|######    | 12/20 [11:50<04:58, 37.37s/it]"
     ]
    },
    {
     "name": "stdout",
     "output_type": "stream",
     "text": [
      "Training until validation scores don't improve for 20 rounds\n",
      "[20]\ttraining's rmse: 9.69909\tvalid_1's rmse: 10.5\n",
      "[40]\ttraining's rmse: 8.45444\tvalid_1's rmse: 10.0604\n",
      "[60]\ttraining's rmse: 7.54801\tvalid_1's rmse: 9.85558\n",
      "[80]\ttraining's rmse: 6.81998\tvalid_1's rmse: 9.76239\n",
      "[100]\ttraining's rmse: 6.21109\tvalid_1's rmse: 9.74074\n",
      "[120]\ttraining's rmse: 5.68129\tvalid_1's rmse: 9.73494\n",
      "Early stopping, best iteration is:\n",
      "[115]\ttraining's rmse: 5.80285\tvalid_1's rmse: 9.71356\n"
     ]
    },
    {
     "name": "stderr",
     "output_type": "stream",
     "text": [
      "\n",
      "num_leaves, val_score: 9.703097:  60%|######    | 12/20 [12:02<04:58, 37.37s/it]\n",
      "num_leaves, val_score: 9.703097:  65%|######5   | 13/20 [12:02<03:29, 29.94s/it][I 2020-06-28 21:37:47,745] Finished trial#19 with value: 9.71356354967929 with parameters: {'num_leaves': 14}. Best is trial#17 with value: 9.704008899893878.\n",
      "\n",
      "num_leaves, val_score: 9.703097:  65%|######5   | 13/20 [12:02<03:29, 29.94s/it]"
     ]
    },
    {
     "name": "stdout",
     "output_type": "stream",
     "text": [
      "Training until validation scores don't improve for 20 rounds\n",
      "[20]\ttraining's rmse: 11.4162\tvalid_1's rmse: 11.5353\n",
      "[40]\ttraining's rmse: 10.7857\tvalid_1's rmse: 10.9262\n",
      "[60]\ttraining's rmse: 10.4862\tvalid_1's rmse: 10.6534\n",
      "[80]\ttraining's rmse: 10.2788\tvalid_1's rmse: 10.4935\n",
      "[100]\ttraining's rmse: 10.1175\tvalid_1's rmse: 10.3719\n",
      "[120]\ttraining's rmse: 9.98349\tvalid_1's rmse: 10.2657\n",
      "[140]\ttraining's rmse: 9.86807\tvalid_1's rmse: 10.1843\n",
      "[160]\ttraining's rmse: 9.76558\tvalid_1's rmse: 10.1173\n",
      "[180]\ttraining's rmse: 9.67371\tvalid_1's rmse: 10.0642\n",
      "[200]\ttraining's rmse: 9.58922\tvalid_1's rmse: 10.0254\n",
      "[220]\ttraining's rmse: 9.51169\tvalid_1's rmse: 9.99053\n",
      "[240]\ttraining's rmse: 9.43928\tvalid_1's rmse: 9.95464\n",
      "Did not meet early stopping. Best iteration is:\n",
      "[250]\ttraining's rmse: 9.40505\tvalid_1's rmse: 9.93248\n"
     ]
    },
    {
     "name": "stderr",
     "output_type": "stream",
     "text": [
      "\n",
      "num_leaves, val_score: 9.703097:  65%|######5   | 13/20 [12:04<03:29, 29.94s/it]\n",
      "num_leaves, val_score: 9.703097:  70%|#######   | 14/20 [12:04<02:09, 21.62s/it][I 2020-06-28 21:37:49,947] Finished trial#20 with value: 9.932477326391373 with parameters: {'num_leaves': 2}. Best is trial#17 with value: 9.704008899893878.\n",
      "\n",
      "num_leaves, val_score: 9.703097:  70%|#######   | 14/20 [12:04<02:09, 21.62s/it]"
     ]
    },
    {
     "name": "stdout",
     "output_type": "stream",
     "text": [
      "Training until validation scores don't improve for 20 rounds\n",
      "[20]\ttraining's rmse: 8.42341\tvalid_1's rmse: 10.463\n",
      "[40]\ttraining's rmse: 6.38653\tvalid_1's rmse: 10.0472\n",
      "[60]\ttraining's rmse: 5.02259\tvalid_1's rmse: 9.96522\n",
      "[80]\ttraining's rmse: 4.01142\tvalid_1's rmse: 9.899\n",
      "[100]\ttraining's rmse: 3.23635\tvalid_1's rmse: 9.86995\n",
      "[120]\ttraining's rmse: 2.63644\tvalid_1's rmse: 9.85666\n",
      "[140]\ttraining's rmse: 2.15623\tvalid_1's rmse: 9.8451\n",
      "[160]\ttraining's rmse: 1.78097\tvalid_1's rmse: 9.83625\n",
      "[180]\ttraining's rmse: 1.47972\tvalid_1's rmse: 9.82679\n",
      "[200]\ttraining's rmse: 1.22498\tvalid_1's rmse: 9.8207\n",
      "[220]\ttraining's rmse: 1.01977\tvalid_1's rmse: 9.81447\n",
      "[240]\ttraining's rmse: 0.844811\tvalid_1's rmse: 9.81649\n",
      "Early stopping, best iteration is:\n",
      "[224]\ttraining's rmse: 0.985694\tvalid_1's rmse: 9.81253\n"
     ]
    },
    {
     "name": "stderr",
     "output_type": "stream",
     "text": [
      "\n",
      "num_leaves, val_score: 9.703097:  70%|#######   | 14/20 [12:47<02:09, 21.62s/it]\n",
      "num_leaves, val_score: 9.703097:  75%|#######5  | 15/20 [12:47<02:19, 27.91s/it][I 2020-06-28 21:38:32,535] Finished trial#21 with value: 9.812530806157882 with parameters: {'num_leaves': 33}. Best is trial#17 with value: 9.704008899893878.\n",
      "\n",
      "num_leaves, val_score: 9.703097:  75%|#######5  | 15/20 [12:47<02:19, 27.91s/it]"
     ]
    },
    {
     "name": "stdout",
     "output_type": "stream",
     "text": [
      "Training until validation scores don't improve for 20 rounds\n",
      "[20]\ttraining's rmse: 10.3639\tvalid_1's rmse: 10.7132\n",
      "[40]\ttraining's rmse: 9.49916\tvalid_1's rmse: 10.1742\n",
      "[60]\ttraining's rmse: 8.91896\tvalid_1's rmse: 9.94312\n",
      "[80]\ttraining's rmse: 8.4502\tvalid_1's rmse: 9.83262\n",
      "[100]\ttraining's rmse: 8.05181\tvalid_1's rmse: 9.75955\n",
      "[120]\ttraining's rmse: 7.70103\tvalid_1's rmse: 9.68771\n",
      "[140]\ttraining's rmse: 7.38685\tvalid_1's rmse: 9.66207\n",
      "[160]\ttraining's rmse: 7.0944\tvalid_1's rmse: 9.62358\n",
      "[180]\ttraining's rmse: 6.82694\tvalid_1's rmse: 9.64255\n",
      "Early stopping, best iteration is:\n",
      "[161]\ttraining's rmse: 7.08255\tvalid_1's rmse: 9.62093\n"
     ]
    },
    {
     "name": "stderr",
     "output_type": "stream",
     "text": [
      "\n",
      "num_leaves, val_score: 9.620934:  75%|#######5  | 15/20 [12:55<02:19, 27.91s/it]\n",
      "num_leaves, val_score: 9.620934:  80%|########  | 16/20 [12:55<01:28, 22.03s/it][I 2020-06-28 21:38:40,832] Finished trial#22 with value: 9.620934238992872 with parameters: {'num_leaves': 7}. Best is trial#22 with value: 9.620934238992872.\n",
      "\n",
      "num_leaves, val_score: 9.620934:  80%|########  | 16/20 [12:55<01:28, 22.03s/it]"
     ]
    },
    {
     "name": "stdout",
     "output_type": "stream",
     "text": [
      "Training until validation scores don't improve for 20 rounds\n",
      "[20]\ttraining's rmse: 4.67033\tvalid_1's rmse: 10.4397\n",
      "[40]\ttraining's rmse: 2.02185\tvalid_1's rmse: 10.208\n",
      "[60]\ttraining's rmse: 1.01515\tvalid_1's rmse: 10.1479\n",
      "[80]\ttraining's rmse: 0.60674\tvalid_1's rmse: 10.1301\n",
      "[100]\ttraining's rmse: 0.419051\tvalid_1's rmse: 10.1207\n",
      "[120]\ttraining's rmse: 0.316775\tvalid_1's rmse: 10.1159\n",
      "[140]\ttraining's rmse: 0.251983\tvalid_1's rmse: 10.1155\n",
      "Early stopping, best iteration is:\n",
      "[129]\ttraining's rmse: 0.284401\tvalid_1's rmse: 10.1149\n"
     ]
    },
    {
     "name": "stderr",
     "output_type": "stream",
     "text": [
      "\n",
      "num_leaves, val_score: 9.620934:  80%|########  | 16/20 [14:20<01:28, 22.03s/it]\n",
      "num_leaves, val_score: 9.620934:  85%|########5 | 17/20 [14:20<02:02, 40.76s/it][I 2020-06-28 21:40:05,302] Finished trial#23 with value: 10.114920412322245 with parameters: {'num_leaves': 250}. Best is trial#22 with value: 9.620934238992872.\n",
      "\n",
      "num_leaves, val_score: 9.620934:  85%|########5 | 17/20 [14:20<02:02, 40.76s/it]"
     ]
    },
    {
     "name": "stdout",
     "output_type": "stream",
     "text": [
      "Training until validation scores don't improve for 20 rounds\n",
      "[20]\ttraining's rmse: 7.7964\tvalid_1's rmse: 10.4499\n",
      "[40]\ttraining's rmse: 5.51016\tvalid_1's rmse: 10.0486\n",
      "[60]\ttraining's rmse: 4.02047\tvalid_1's rmse: 9.93624\n",
      "[80]\ttraining's rmse: 2.98053\tvalid_1's rmse: 9.89178\n",
      "[100]\ttraining's rmse: 2.23608\tvalid_1's rmse: 9.86069\n",
      "[120]\ttraining's rmse: 1.6879\tvalid_1's rmse: 9.84522\n",
      "[140]\ttraining's rmse: 1.27901\tvalid_1's rmse: 9.83067\n",
      "[160]\ttraining's rmse: 0.974511\tvalid_1's rmse: 9.82623\n",
      "[180]\ttraining's rmse: 0.746827\tvalid_1's rmse: 9.82012\n",
      "[200]\ttraining's rmse: 0.576452\tvalid_1's rmse: 9.81953\n",
      "[220]\ttraining's rmse: 0.442184\tvalid_1's rmse: 9.81746\n",
      "[240]\ttraining's rmse: 0.343303\tvalid_1's rmse: 9.81411\n",
      "Did not meet early stopping. Best iteration is:\n",
      "[250]\ttraining's rmse: 0.301618\tvalid_1's rmse: 9.81397\n"
     ]
    },
    {
     "name": "stderr",
     "output_type": "stream",
     "text": [
      "\n",
      "num_leaves, val_score: 9.620934:  85%|########5 | 17/20 [15:18<02:02, 40.76s/it]\n",
      "num_leaves, val_score: 9.620934:  90%|######### | 18/20 [15:18<01:32, 46.11s/it][I 2020-06-28 21:41:03,895] Finished trial#24 with value: 9.813971310024746 with parameters: {'num_leaves': 45}. Best is trial#22 with value: 9.620934238992872.\n",
      "\n",
      "num_leaves, val_score: 9.620934:  90%|######### | 18/20 [15:18<01:32, 46.11s/it]"
     ]
    },
    {
     "name": "stdout",
     "output_type": "stream",
     "text": [
      "Training until validation scores don't improve for 20 rounds\n",
      "[20]\ttraining's rmse: 5.14127\tvalid_1's rmse: 10.4242\n",
      "[40]\ttraining's rmse: 2.36135\tvalid_1's rmse: 10.1359\n",
      "[60]\ttraining's rmse: 1.16864\tvalid_1's rmse: 10.0736\n",
      "[80]\ttraining's rmse: 0.625139\tvalid_1's rmse: 10.0619\n",
      "[100]\ttraining's rmse: 0.37741\tvalid_1's rmse: 10.059\n",
      "[120]\ttraining's rmse: 0.259787\tvalid_1's rmse: 10.0568\n",
      "[140]\ttraining's rmse: 0.199187\tvalid_1's rmse: 10.0551\n",
      "Early stopping, best iteration is:\n",
      "[139]\ttraining's rmse: 0.201426\tvalid_1's rmse: 10.0548\n"
     ]
    },
    {
     "name": "stderr",
     "output_type": "stream",
     "text": [
      "\n",
      "num_leaves, val_score: 9.620934:  90%|######### | 18/20 [16:40<01:32, 46.11s/it]\n",
      "num_leaves, val_score: 9.620934:  95%|#########5| 19/20 [16:40<00:56, 56.88s/it][I 2020-06-28 21:42:25,945] Finished trial#25 with value: 10.0548400378046 with parameters: {'num_leaves': 132}. Best is trial#22 with value: 9.620934238992872.\n",
      "\n",
      "num_leaves, val_score: 9.620934:  95%|#########5| 19/20 [16:40<00:56, 56.88s/it]"
     ]
    },
    {
     "name": "stdout",
     "output_type": "stream",
     "text": [
      "Training until validation scores don't improve for 20 rounds\n",
      "[20]\ttraining's rmse: 11.4162\tvalid_1's rmse: 11.5353\n",
      "[40]\ttraining's rmse: 10.7857\tvalid_1's rmse: 10.9262\n",
      "[60]\ttraining's rmse: 10.4862\tvalid_1's rmse: 10.6534\n",
      "[80]\ttraining's rmse: 10.2788\tvalid_1's rmse: 10.4935\n",
      "[100]\ttraining's rmse: 10.1175\tvalid_1's rmse: 10.3719\n",
      "[120]\ttraining's rmse: 9.98349\tvalid_1's rmse: 10.2657\n",
      "[140]\ttraining's rmse: 9.86807\tvalid_1's rmse: 10.1843\n",
      "[160]\ttraining's rmse: 9.76558\tvalid_1's rmse: 10.1173\n",
      "[180]\ttraining's rmse: 9.67371\tvalid_1's rmse: 10.0642\n",
      "[200]\ttraining's rmse: 9.58922\tvalid_1's rmse: 10.0254\n",
      "[220]\ttraining's rmse: 9.51169\tvalid_1's rmse: 9.99053\n",
      "[240]\ttraining's rmse: 9.43928\tvalid_1's rmse: 9.95464\n",
      "Did not meet early stopping. Best iteration is:\n",
      "[250]\ttraining's rmse: 9.40505\tvalid_1's rmse: 9.93248\n"
     ]
    },
    {
     "name": "stderr",
     "output_type": "stream",
     "text": [
      "\n",
      "num_leaves, val_score: 9.620934:  95%|#########5| 19/20 [16:43<00:56, 56.88s/it]\n",
      "num_leaves, val_score: 9.620934: 100%|##########| 20/20 [16:43<00:00, 40.55s/it][I 2020-06-28 21:42:28,357] Finished trial#26 with value: 9.932477326391373 with parameters: {'num_leaves': 2}. Best is trial#22 with value: 9.620934238992872.\n",
      "num_leaves, val_score: 9.620934: 100%|##########| 20/20 [16:43<00:00, 50.16s/it]\n",
      "\n",
      "  0%|          | 0/10 [00:00<?, ?it/s]\n",
      "bagging, val_score: 9.620934:   0%|          | 0/10 [00:00<?, ?it/s]"
     ]
    },
    {
     "name": "stdout",
     "output_type": "stream",
     "text": [
      "Training until validation scores don't improve for 20 rounds\n",
      "[20]\ttraining's rmse: 10.3217\tvalid_1's rmse: 10.6559\n",
      "[40]\ttraining's rmse: 9.47582\tvalid_1's rmse: 10.1653\n",
      "[60]\ttraining's rmse: 8.90473\tvalid_1's rmse: 9.9339\n",
      "[80]\ttraining's rmse: 8.44563\tvalid_1's rmse: 9.78556\n",
      "[100]\ttraining's rmse: 8.03858\tvalid_1's rmse: 9.74621\n",
      "[120]\ttraining's rmse: 7.6912\tvalid_1's rmse: 9.69656\n",
      "[140]\ttraining's rmse: 7.36175\tvalid_1's rmse: 9.67523\n",
      "[160]\ttraining's rmse: 7.0648\tvalid_1's rmse: 9.66301\n",
      "[180]\ttraining's rmse: 6.78554\tvalid_1's rmse: 9.66008\n",
      "[200]\ttraining's rmse: 6.52435\tvalid_1's rmse: 9.66326\n",
      "[220]\ttraining's rmse: 6.28354\tvalid_1's rmse: 9.65372\n",
      "Early stopping, best iteration is:\n",
      "[208]\ttraining's rmse: 6.43078\tvalid_1's rmse: 9.64753\n"
     ]
    },
    {
     "name": "stderr",
     "output_type": "stream",
     "text": [
      "\n",
      "bagging, val_score: 9.620934:   0%|          | 0/10 [00:09<?, ?it/s]\n",
      "bagging, val_score: 9.620934:  10%|#         | 1/10 [00:09<01:27,  9.68s/it][I 2020-06-28 21:42:38,180] Finished trial#27 with value: 9.64752513780287 with parameters: {'bagging_fraction': 0.829137115091486, 'bagging_freq': 4}. Best is trial#27 with value: 9.64752513780287.\n",
      "\n",
      "bagging, val_score: 9.620934:  10%|#         | 1/10 [00:09<01:27,  9.68s/it]"
     ]
    },
    {
     "name": "stdout",
     "output_type": "stream",
     "text": [
      "Training until validation scores don't improve for 20 rounds\n",
      "[20]\ttraining's rmse: 10.3332\tvalid_1's rmse: 10.6702\n",
      "[40]\ttraining's rmse: 9.48687\tvalid_1's rmse: 10.1701\n",
      "[60]\ttraining's rmse: 8.91426\tvalid_1's rmse: 9.96899\n",
      "[80]\ttraining's rmse: 8.45127\tvalid_1's rmse: 9.87903\n",
      "[100]\ttraining's rmse: 8.04502\tvalid_1's rmse: 9.79709\n",
      "[120]\ttraining's rmse: 7.69136\tvalid_1's rmse: 9.75485\n",
      "[140]\ttraining's rmse: 7.37208\tvalid_1's rmse: 9.73266\n",
      "[160]\ttraining's rmse: 7.0803\tvalid_1's rmse: 9.69821\n",
      "[180]\ttraining's rmse: 6.78589\tvalid_1's rmse: 9.66354\n",
      "[200]\ttraining's rmse: 6.51915\tvalid_1's rmse: 9.61293\n",
      "[220]\ttraining's rmse: 6.27086\tvalid_1's rmse: 9.61661\n",
      "Early stopping, best iteration is:\n",
      "[205]\ttraining's rmse: 6.45567\tvalid_1's rmse: 9.6068\n"
     ]
    },
    {
     "name": "stderr",
     "output_type": "stream",
     "text": [
      "\n",
      "bagging, val_score: 9.606795:  10%|#         | 1/10 [00:19<01:27,  9.68s/it]\n",
      "bagging, val_score: 9.606795:  20%|##        | 2/10 [00:19<01:18,  9.87s/it][I 2020-06-28 21:42:48,492] Finished trial#28 with value: 9.606795441221216 with parameters: {'bagging_fraction': 0.6358213486073606, 'bagging_freq': 5}. Best is trial#28 with value: 9.606795441221216.\n",
      "\n",
      "bagging, val_score: 9.606795:  20%|##        | 2/10 [00:20<01:18,  9.87s/it]"
     ]
    },
    {
     "name": "stdout",
     "output_type": "stream",
     "text": [
      "Training until validation scores don't improve for 20 rounds\n",
      "[20]\ttraining's rmse: 10.3395\tvalid_1's rmse: 10.683\n",
      "[40]\ttraining's rmse: 9.47653\tvalid_1's rmse: 10.1527\n",
      "[60]\ttraining's rmse: 8.89874\tvalid_1's rmse: 9.93939\n",
      "[80]\ttraining's rmse: 8.42941\tvalid_1's rmse: 9.81578\n",
      "[100]\ttraining's rmse: 8.02014\tvalid_1's rmse: 9.74307\n",
      "[120]\ttraining's rmse: 7.67946\tvalid_1's rmse: 9.67571\n",
      "[140]\ttraining's rmse: 7.3528\tvalid_1's rmse: 9.65028\n",
      "[160]\ttraining's rmse: 7.06013\tvalid_1's rmse: 9.61343\n",
      "[180]\ttraining's rmse: 6.78768\tvalid_1's rmse: 9.58722\n",
      "[200]\ttraining's rmse: 6.52757\tvalid_1's rmse: 9.57296\n",
      "[220]\ttraining's rmse: 6.28181\tvalid_1's rmse: 9.54468\n",
      "[240]\ttraining's rmse: 6.04997\tvalid_1's rmse: 9.54922\n",
      "Early stopping, best iteration is:\n",
      "[224]\ttraining's rmse: 6.23561\tvalid_1's rmse: 9.53778\n"
     ]
    },
    {
     "name": "stderr",
     "output_type": "stream",
     "text": [
      "\n",
      "bagging, val_score: 9.537783:  20%|##        | 2/10 [00:31<01:18,  9.87s/it]\n",
      "bagging, val_score: 9.537783:  30%|###       | 3/10 [00:31<01:12, 10.41s/it][I 2020-06-28 21:43:00,174] Finished trial#29 with value: 9.537782889208385 with parameters: {'bagging_fraction': 0.9088533228505308, 'bagging_freq': 3}. Best is trial#29 with value: 9.537782889208385.\n",
      "\n",
      "bagging, val_score: 9.537783:  30%|###       | 3/10 [00:31<01:12, 10.41s/it]"
     ]
    },
    {
     "name": "stdout",
     "output_type": "stream",
     "text": [
      "Training until validation scores don't improve for 20 rounds\n",
      "[20]\ttraining's rmse: 10.3346\tvalid_1's rmse: 10.6967\n",
      "[40]\ttraining's rmse: 9.47867\tvalid_1's rmse: 10.1828\n",
      "[60]\ttraining's rmse: 8.8967\tvalid_1's rmse: 9.92839\n",
      "[80]\ttraining's rmse: 8.43568\tvalid_1's rmse: 9.8323\n",
      "[100]\ttraining's rmse: 8.03956\tvalid_1's rmse: 9.74526\n",
      "[120]\ttraining's rmse: 7.67319\tvalid_1's rmse: 9.68508\n",
      "[140]\ttraining's rmse: 7.34834\tvalid_1's rmse: 9.65367\n",
      "[160]\ttraining's rmse: 7.05991\tvalid_1's rmse: 9.64916\n",
      "Early stopping, best iteration is:\n",
      "[147]\ttraining's rmse: 7.24935\tvalid_1's rmse: 9.64125\n"
     ]
    },
    {
     "name": "stderr",
     "output_type": "stream",
     "text": [
      "\n",
      "bagging, val_score: 9.537783:  30%|###       | 3/10 [00:39<01:12, 10.41s/it]\n",
      "bagging, val_score: 9.537783:  40%|####      | 4/10 [00:39<00:57,  9.64s/it][I 2020-06-28 21:43:08,033] Finished trial#30 with value: 9.641246510910568 with parameters: {'bagging_fraction': 0.9450992996649702, 'bagging_freq': 7}. Best is trial#29 with value: 9.537782889208385.\n",
      "\n",
      "bagging, val_score: 9.537783:  40%|####      | 4/10 [00:39<00:57,  9.64s/it]"
     ]
    },
    {
     "name": "stdout",
     "output_type": "stream",
     "text": [
      "Training until validation scores don't improve for 20 rounds\n",
      "[20]\ttraining's rmse: 10.3402\tvalid_1's rmse: 10.6584\n",
      "[40]\ttraining's rmse: 9.48698\tvalid_1's rmse: 10.178\n",
      "[60]\ttraining's rmse: 8.90741\tvalid_1's rmse: 9.94242\n",
      "[80]\ttraining's rmse: 8.44413\tvalid_1's rmse: 9.77422\n",
      "[100]\ttraining's rmse: 8.04574\tvalid_1's rmse: 9.73332\n",
      "[120]\ttraining's rmse: 7.68279\tvalid_1's rmse: 9.69264\n",
      "[140]\ttraining's rmse: 7.35465\tvalid_1's rmse: 9.66892\n",
      "[160]\ttraining's rmse: 7.05908\tvalid_1's rmse: 9.65811\n",
      "[180]\ttraining's rmse: 6.78369\tvalid_1's rmse: 9.6595\n",
      "Early stopping, best iteration is:\n",
      "[163]\ttraining's rmse: 7.01778\tvalid_1's rmse: 9.64499\n"
     ]
    },
    {
     "name": "stderr",
     "output_type": "stream",
     "text": [
      "\n",
      "bagging, val_score: 9.537783:  40%|####      | 4/10 [00:48<00:57,  9.64s/it]\n",
      "bagging, val_score: 9.537783:  50%|#####     | 5/10 [00:48<00:47,  9.42s/it][I 2020-06-28 21:43:16,920] Finished trial#31 with value: 9.644986428818155 with parameters: {'bagging_fraction': 0.874560510005556, 'bagging_freq': 4}. Best is trial#29 with value: 9.537782889208385.\n",
      "\n",
      "bagging, val_score: 9.537783:  50%|#####     | 5/10 [00:48<00:47,  9.42s/it]"
     ]
    },
    {
     "name": "stdout",
     "output_type": "stream",
     "text": [
      "Training until validation scores don't improve for 20 rounds\n",
      "[20]\ttraining's rmse: 10.3382\tvalid_1's rmse: 10.7207\n",
      "[40]\ttraining's rmse: 9.48146\tvalid_1's rmse: 10.1781\n",
      "[60]\ttraining's rmse: 8.90232\tvalid_1's rmse: 9.9743\n",
      "[80]\ttraining's rmse: 8.43589\tvalid_1's rmse: 9.86693\n",
      "[100]\ttraining's rmse: 8.03389\tvalid_1's rmse: 9.82649\n",
      "[120]\ttraining's rmse: 7.6748\tvalid_1's rmse: 9.78872\n",
      "[140]\ttraining's rmse: 7.35733\tvalid_1's rmse: 9.76615\n",
      "[160]\ttraining's rmse: 7.05206\tvalid_1's rmse: 9.74775\n",
      "[180]\ttraining's rmse: 6.78099\tvalid_1's rmse: 9.71471\n",
      "[200]\ttraining's rmse: 6.53538\tvalid_1's rmse: 9.69808\n",
      "[220]\ttraining's rmse: 6.29134\tvalid_1's rmse: 9.66167\n",
      "[240]\ttraining's rmse: 6.05976\tvalid_1's rmse: 9.65467\n",
      "Did not meet early stopping. Best iteration is:\n",
      "[250]\ttraining's rmse: 5.94921\tvalid_1's rmse: 9.6483\n"
     ]
    },
    {
     "name": "stderr",
     "output_type": "stream",
     "text": [
      "\n",
      "bagging, val_score: 9.537783:  50%|#####     | 5/10 [00:58<00:47,  9.42s/it]\n",
      "bagging, val_score: 9.537783:  60%|######    | 6/10 [00:58<00:38,  9.72s/it][I 2020-06-28 21:43:27,340] Finished trial#32 with value: 9.648300472809634 with parameters: {'bagging_fraction': 0.8385977889151321, 'bagging_freq': 6}. Best is trial#29 with value: 9.537782889208385.\n",
      "\n",
      "bagging, val_score: 9.537783:  60%|######    | 6/10 [00:58<00:38,  9.72s/it]"
     ]
    },
    {
     "name": "stdout",
     "output_type": "stream",
     "text": [
      "Training until validation scores don't improve for 20 rounds\n",
      "[20]\ttraining's rmse: 10.327\tvalid_1's rmse: 10.6659\n",
      "[40]\ttraining's rmse: 9.48679\tvalid_1's rmse: 10.1973\n",
      "[60]\ttraining's rmse: 8.90978\tvalid_1's rmse: 9.98051\n",
      "[80]\ttraining's rmse: 8.44136\tvalid_1's rmse: 9.87999\n",
      "[100]\ttraining's rmse: 8.04114\tvalid_1's rmse: 9.80364\n",
      "[120]\ttraining's rmse: 7.67764\tvalid_1's rmse: 9.76232\n",
      "Early stopping, best iteration is:\n",
      "[114]\ttraining's rmse: 7.77614\tvalid_1's rmse: 9.75501\n"
     ]
    },
    {
     "name": "stderr",
     "output_type": "stream",
     "text": [
      "\n",
      "bagging, val_score: 9.537783:  60%|######    | 6/10 [01:05<00:38,  9.72s/it]\n",
      "bagging, val_score: 9.537783:  70%|#######   | 7/10 [01:05<00:26,  8.95s/it][I 2020-06-28 21:43:34,489] Finished trial#33 with value: 9.75501262999104 with parameters: {'bagging_fraction': 0.9535152819586307, 'bagging_freq': 7}. Best is trial#29 with value: 9.537782889208385.\n",
      "\n",
      "bagging, val_score: 9.537783:  70%|#######   | 7/10 [01:06<00:26,  8.95s/it]"
     ]
    },
    {
     "name": "stdout",
     "output_type": "stream",
     "text": [
      "Training until validation scores don't improve for 20 rounds\n",
      "[20]\ttraining's rmse: 10.3413\tvalid_1's rmse: 10.7083\n",
      "[40]\ttraining's rmse: 9.50538\tvalid_1's rmse: 10.2804\n",
      "[60]\ttraining's rmse: 8.95119\tvalid_1's rmse: 10.0542\n",
      "[80]\ttraining's rmse: 8.50572\tvalid_1's rmse: 9.91918\n",
      "[100]\ttraining's rmse: 8.12252\tvalid_1's rmse: 9.82546\n",
      "[120]\ttraining's rmse: 7.77513\tvalid_1's rmse: 9.78378\n",
      "[140]\ttraining's rmse: 7.47352\tvalid_1's rmse: 9.77792\n",
      "Early stopping, best iteration is:\n",
      "[122]\ttraining's rmse: 7.74694\tvalid_1's rmse: 9.76855\n"
     ]
    },
    {
     "name": "stderr",
     "output_type": "stream",
     "text": [
      "\n",
      "bagging, val_score: 9.537783:  70%|#######   | 7/10 [01:11<00:26,  8.95s/it]\n",
      "bagging, val_score: 9.537783:  80%|########  | 8/10 [01:11<00:15,  7.98s/it][I 2020-06-28 21:43:40,203] Finished trial#34 with value: 9.768551567347963 with parameters: {'bagging_fraction': 0.4278506845436116, 'bagging_freq': 6}. Best is trial#29 with value: 9.537782889208385.\n",
      "\n",
      "bagging, val_score: 9.537783:  80%|########  | 8/10 [01:11<00:15,  7.98s/it]"
     ]
    },
    {
     "name": "stdout",
     "output_type": "stream",
     "text": [
      "Training until validation scores don't improve for 20 rounds\n",
      "[20]\ttraining's rmse: 10.3548\tvalid_1's rmse: 10.6577\n",
      "[40]\ttraining's rmse: 9.50444\tvalid_1's rmse: 10.1308\n",
      "[60]\ttraining's rmse: 8.92716\tvalid_1's rmse: 9.91423\n",
      "[80]\ttraining's rmse: 8.45453\tvalid_1's rmse: 9.78629\n",
      "[100]\ttraining's rmse: 8.04581\tvalid_1's rmse: 9.69501\n",
      "[120]\ttraining's rmse: 7.69314\tvalid_1's rmse: 9.66915\n",
      "[140]\ttraining's rmse: 7.37747\tvalid_1's rmse: 9.62566\n",
      "[160]\ttraining's rmse: 7.07656\tvalid_1's rmse: 9.61221\n",
      "[180]\ttraining's rmse: 6.79324\tvalid_1's rmse: 9.61914\n",
      "Early stopping, best iteration is:\n",
      "[164]\ttraining's rmse: 7.01712\tvalid_1's rmse: 9.60736\n"
     ]
    },
    {
     "name": "stderr",
     "output_type": "stream",
     "text": [
      "\n",
      "bagging, val_score: 9.537783:  80%|########  | 8/10 [01:20<00:15,  7.98s/it]\n",
      "bagging, val_score: 9.537783:  90%|######### | 9/10 [01:20<00:08,  8.34s/it][I 2020-06-28 21:43:49,372] Finished trial#35 with value: 9.607360026941059 with parameters: {'bagging_fraction': 0.9655512619228578, 'bagging_freq': 5}. Best is trial#29 with value: 9.537782889208385.\n",
      "\n",
      "bagging, val_score: 9.537783:  90%|######### | 9/10 [01:21<00:08,  8.34s/it]"
     ]
    },
    {
     "name": "stdout",
     "output_type": "stream",
     "text": [
      "Training until validation scores don't improve for 20 rounds\n",
      "[20]\ttraining's rmse: 10.3251\tvalid_1's rmse: 10.685\n",
      "[40]\ttraining's rmse: 9.47903\tvalid_1's rmse: 10.2049\n",
      "[60]\ttraining's rmse: 8.89543\tvalid_1's rmse: 10.0059\n",
      "[80]\ttraining's rmse: 8.43993\tvalid_1's rmse: 9.90846\n",
      "[100]\ttraining's rmse: 8.0436\tvalid_1's rmse: 9.8253\n",
      "[120]\ttraining's rmse: 7.69181\tvalid_1's rmse: 9.8158\n",
      "[140]\ttraining's rmse: 7.37187\tvalid_1's rmse: 9.77516\n",
      "[160]\ttraining's rmse: 7.08052\tvalid_1's rmse: 9.76261\n",
      "[180]\ttraining's rmse: 6.81415\tvalid_1's rmse: 9.75547\n",
      "[200]\ttraining's rmse: 6.55929\tvalid_1's rmse: 9.7401\n",
      "[220]\ttraining's rmse: 6.3219\tvalid_1's rmse: 9.70659\n",
      "[240]\ttraining's rmse: 6.10279\tvalid_1's rmse: 9.70531\n",
      "Did not meet early stopping. Best iteration is:\n",
      "[250]\ttraining's rmse: 5.98594\tvalid_1's rmse: 9.70386\n"
     ]
    },
    {
     "name": "stderr",
     "output_type": "stream",
     "text": [
      "\n",
      "bagging, val_score: 9.537783:  90%|######### | 9/10 [01:31<00:08,  8.34s/it]\n",
      "bagging, val_score: 9.537783: 100%|##########| 10/10 [01:31<00:00,  9.06s/it][I 2020-06-28 21:44:00,109] Finished trial#36 with value: 9.703856031362953 with parameters: {'bagging_fraction': 0.970025402181453, 'bagging_freq': 4}. Best is trial#29 with value: 9.537782889208385.\n",
      "bagging, val_score: 9.537783: 100%|##########| 10/10 [01:31<00:00,  9.17s/it]\n",
      "\n",
      "  0%|          | 0/6 [00:00<?, ?it/s]\n",
      "feature_fraction_stage2, val_score: 9.537783:   0%|          | 0/6 [00:00<?, ?it/s]"
     ]
    },
    {
     "name": "stdout",
     "output_type": "stream",
     "text": [
      "Training until validation scores don't improve for 20 rounds\n",
      "[20]\ttraining's rmse: 10.3383\tvalid_1's rmse: 10.6916\n",
      "[40]\ttraining's rmse: 9.48302\tvalid_1's rmse: 10.2029\n",
      "[60]\ttraining's rmse: 8.89953\tvalid_1's rmse: 9.96827\n",
      "[80]\ttraining's rmse: 8.41568\tvalid_1's rmse: 9.82007\n",
      "[100]\ttraining's rmse: 8.01526\tvalid_1's rmse: 9.75865\n",
      "[120]\ttraining's rmse: 7.66129\tvalid_1's rmse: 9.70718\n",
      "[140]\ttraining's rmse: 7.33452\tvalid_1's rmse: 9.66449\n",
      "[160]\ttraining's rmse: 7.03395\tvalid_1's rmse: 9.65038\n",
      "[180]\ttraining's rmse: 6.76272\tvalid_1's rmse: 9.63642\n",
      "[200]\ttraining's rmse: 6.51043\tvalid_1's rmse: 9.62423\n",
      "[220]\ttraining's rmse: 6.27499\tvalid_1's rmse: 9.60332\n",
      "[240]\ttraining's rmse: 6.04306\tvalid_1's rmse: 9.61211\n",
      "Early stopping, best iteration is:\n",
      "[221]\ttraining's rmse: 6.26537\tvalid_1's rmse: 9.60162\n"
     ]
    },
    {
     "name": "stderr",
     "output_type": "stream",
     "text": [
      "\n",
      "feature_fraction_stage2, val_score: 9.537783:   0%|          | 0/6 [00:12<?, ?it/s]\n",
      "feature_fraction_stage2, val_score: 9.537783:  17%|#6        | 1/6 [00:12<01:01, 12.29s/it][I 2020-06-28 21:44:12,542] Finished trial#37 with value: 9.601619935568262 with parameters: {'feature_fraction': 0.6799999999999999}. Best is trial#37 with value: 9.601619935568262.\n",
      "\n",
      "feature_fraction_stage2, val_score: 9.537783:  17%|#6        | 1/6 [00:12<01:01, 12.29s/it]"
     ]
    },
    {
     "name": "stdout",
     "output_type": "stream",
     "text": [
      "Training until validation scores don't improve for 20 rounds\n",
      "[20]\ttraining's rmse: 10.34\tvalid_1's rmse: 10.659\n",
      "[40]\ttraining's rmse: 9.48133\tvalid_1's rmse: 10.1637\n",
      "[60]\ttraining's rmse: 8.89637\tvalid_1's rmse: 9.97223\n",
      "[80]\ttraining's rmse: 8.41992\tvalid_1's rmse: 9.83727\n",
      "[100]\ttraining's rmse: 8.01337\tvalid_1's rmse: 9.76298\n",
      "[120]\ttraining's rmse: 7.65543\tvalid_1's rmse: 9.71848\n",
      "[140]\ttraining's rmse: 7.33033\tvalid_1's rmse: 9.70933\n",
      "[160]\ttraining's rmse: 7.02571\tvalid_1's rmse: 9.69481\n",
      "[180]\ttraining's rmse: 6.75644\tvalid_1's rmse: 9.66624\n",
      "[200]\ttraining's rmse: 6.49789\tvalid_1's rmse: 9.62811\n",
      "[220]\ttraining's rmse: 6.25542\tvalid_1's rmse: 9.62905\n",
      "[240]\ttraining's rmse: 6.03122\tvalid_1's rmse: 9.63855\n",
      "Early stopping, best iteration is:\n",
      "[223]\ttraining's rmse: 6.22055\tvalid_1's rmse: 9.6263\n"
     ]
    },
    {
     "name": "stderr",
     "output_type": "stream",
     "text": [
      "\n",
      "feature_fraction_stage2, val_score: 9.537783:  17%|#6        | 1/6 [00:24<01:01, 12.29s/it]\n",
      "feature_fraction_stage2, val_score: 9.537783:  33%|###3      | 2/6 [00:24<00:48, 12.21s/it][I 2020-06-28 21:44:24,588] Finished trial#38 with value: 9.6262981683357 with parameters: {'feature_fraction': 0.6479999999999999}. Best is trial#37 with value: 9.601619935568262.\n",
      "\n",
      "feature_fraction_stage2, val_score: 9.537783:  33%|###3      | 2/6 [00:24<00:48, 12.21s/it]"
     ]
    },
    {
     "name": "stdout",
     "output_type": "stream",
     "text": [
      "Training until validation scores don't improve for 20 rounds\n",
      "[20]\ttraining's rmse: 10.3856\tvalid_1's rmse: 10.7021\n",
      "[40]\ttraining's rmse: 9.5042\tvalid_1's rmse: 10.1421\n",
      "[60]\ttraining's rmse: 8.92426\tvalid_1's rmse: 9.90914\n",
      "[80]\ttraining's rmse: 8.45206\tvalid_1's rmse: 9.81332\n",
      "[100]\ttraining's rmse: 8.0504\tvalid_1's rmse: 9.71363\n",
      "[120]\ttraining's rmse: 7.69997\tvalid_1's rmse: 9.63919\n",
      "[140]\ttraining's rmse: 7.38519\tvalid_1's rmse: 9.63001\n",
      "Early stopping, best iteration is:\n",
      "[131]\ttraining's rmse: 7.52585\tvalid_1's rmse: 9.61494\n"
     ]
    },
    {
     "name": "stderr",
     "output_type": "stream",
     "text": [
      "\n",
      "feature_fraction_stage2, val_score: 9.537783:  33%|###3      | 2/6 [00:30<00:48, 12.21s/it]\n",
      "feature_fraction_stage2, val_score: 9.537783:  50%|#####     | 3/6 [00:30<00:31, 10.53s/it][I 2020-06-28 21:44:31,173] Finished trial#39 with value: 9.614941165523971 with parameters: {'feature_fraction': 0.552}. Best is trial#37 with value: 9.601619935568262.\n",
      "\n",
      "feature_fraction_stage2, val_score: 9.537783:  50%|#####     | 3/6 [00:31<00:31, 10.53s/it]"
     ]
    },
    {
     "name": "stdout",
     "output_type": "stream",
     "text": [
      "Training until validation scores don't improve for 20 rounds\n",
      "[20]\ttraining's rmse: 10.3425\tvalid_1's rmse: 10.6976\n",
      "[40]\ttraining's rmse: 9.48386\tvalid_1's rmse: 10.171\n",
      "[60]\ttraining's rmse: 8.91025\tvalid_1's rmse: 9.93681\n",
      "[80]\ttraining's rmse: 8.44416\tvalid_1's rmse: 9.78711\n",
      "[100]\ttraining's rmse: 8.03299\tvalid_1's rmse: 9.72645\n",
      "[120]\ttraining's rmse: 7.67817\tvalid_1's rmse: 9.66265\n",
      "[140]\ttraining's rmse: 7.36574\tvalid_1's rmse: 9.63875\n",
      "[160]\ttraining's rmse: 7.07122\tvalid_1's rmse: 9.62927\n",
      "[180]\ttraining's rmse: 6.79331\tvalid_1's rmse: 9.62233\n",
      "Early stopping, best iteration is:\n",
      "[178]\ttraining's rmse: 6.82014\tvalid_1's rmse: 9.61281\n"
     ]
    },
    {
     "name": "stderr",
     "output_type": "stream",
     "text": [
      "\n",
      "feature_fraction_stage2, val_score: 9.537783:  50%|#####     | 3/6 [00:40<00:31, 10.53s/it]\n",
      "feature_fraction_stage2, val_score: 9.537783:  67%|######6   | 4/6 [00:40<00:20, 10.26s/it][I 2020-06-28 21:44:40,824] Finished trial#40 with value: 9.612807749601988 with parameters: {'feature_fraction': 0.584}. Best is trial#37 with value: 9.601619935568262.\n",
      "\n",
      "feature_fraction_stage2, val_score: 9.537783:  67%|######6   | 4/6 [00:40<00:20, 10.26s/it]"
     ]
    },
    {
     "name": "stdout",
     "output_type": "stream",
     "text": [
      "Training until validation scores don't improve for 20 rounds\n",
      "[20]\ttraining's rmse: 10.338\tvalid_1's rmse: 10.6945\n",
      "[40]\ttraining's rmse: 9.46724\tvalid_1's rmse: 10.1274\n",
      "[60]\ttraining's rmse: 8.89333\tvalid_1's rmse: 9.92416\n",
      "[80]\ttraining's rmse: 8.42853\tvalid_1's rmse: 9.84526\n",
      "[100]\ttraining's rmse: 8.03536\tvalid_1's rmse: 9.78396\n",
      "[120]\ttraining's rmse: 7.68227\tvalid_1's rmse: 9.74122\n",
      "[140]\ttraining's rmse: 7.35614\tvalid_1's rmse: 9.71581\n",
      "[160]\ttraining's rmse: 7.04963\tvalid_1's rmse: 9.70467\n",
      "[180]\ttraining's rmse: 6.78423\tvalid_1's rmse: 9.68472\n",
      "[200]\ttraining's rmse: 6.52673\tvalid_1's rmse: 9.67904\n",
      "[220]\ttraining's rmse: 6.28053\tvalid_1's rmse: 9.62938\n",
      "[240]\ttraining's rmse: 6.06202\tvalid_1's rmse: 9.63132\n",
      "Did not meet early stopping. Best iteration is:\n",
      "[250]\ttraining's rmse: 5.94941\tvalid_1's rmse: 9.62143\n"
     ]
    },
    {
     "name": "stderr",
     "output_type": "stream",
     "text": [
      "\n",
      "feature_fraction_stage2, val_score: 9.537783:  67%|######6   | 4/6 [00:52<00:20, 10.26s/it]\n",
      "feature_fraction_stage2, val_score: 9.537783:  83%|########3 | 5/6 [00:52<00:10, 10.67s/it][I 2020-06-28 21:44:52,448] Finished trial#41 with value: 9.621430244381811 with parameters: {'feature_fraction': 0.616}. Best is trial#37 with value: 9.601619935568262.\n",
      "\n",
      "feature_fraction_stage2, val_score: 9.537783:  83%|########3 | 5/6 [00:52<00:10, 10.67s/it]"
     ]
    },
    {
     "name": "stdout",
     "output_type": "stream",
     "text": [
      "Training until validation scores don't improve for 20 rounds\n",
      "[20]\ttraining's rmse: 10.4209\tvalid_1's rmse: 10.7519\n",
      "[40]\ttraining's rmse: 9.50517\tvalid_1's rmse: 10.1779\n",
      "[60]\ttraining's rmse: 8.92648\tvalid_1's rmse: 9.93871\n",
      "[80]\ttraining's rmse: 8.45353\tvalid_1's rmse: 9.81626\n",
      "[100]\ttraining's rmse: 8.04945\tvalid_1's rmse: 9.73107\n",
      "[120]\ttraining's rmse: 7.69752\tvalid_1's rmse: 9.6794\n",
      "[140]\ttraining's rmse: 7.38475\tvalid_1's rmse: 9.63298\n",
      "[160]\ttraining's rmse: 7.08341\tvalid_1's rmse: 9.60719\n",
      "[180]\ttraining's rmse: 6.81167\tvalid_1's rmse: 9.58205\n",
      "Early stopping, best iteration is:\n",
      "[176]\ttraining's rmse: 6.86574\tvalid_1's rmse: 9.57909\n"
     ]
    },
    {
     "name": "stderr",
     "output_type": "stream",
     "text": [
      "\n",
      "feature_fraction_stage2, val_score: 9.537783:  83%|########3 | 5/6 [00:59<00:10, 10.67s/it]\n",
      "feature_fraction_stage2, val_score: 9.537783: 100%|##########| 6/6 [00:59<00:00,  9.80s/it][I 2020-06-28 21:45:00,195] Finished trial#42 with value: 9.579085272857604 with parameters: {'feature_fraction': 0.52}. Best is trial#42 with value: 9.579085272857604.\n",
      "feature_fraction_stage2, val_score: 9.537783: 100%|##########| 6/6 [01:00<00:00, 10.01s/it]\n",
      "\n",
      "  0%|          | 0/20 [00:00<?, ?it/s]\n",
      "regularization_factors, val_score: 9.537783:   0%|          | 0/20 [00:00<?, ?it/s]"
     ]
    },
    {
     "name": "stdout",
     "output_type": "stream",
     "text": [
      "Training until validation scores don't improve for 20 rounds\n",
      "[20]\ttraining's rmse: 10.3347\tvalid_1's rmse: 10.677\n",
      "[40]\ttraining's rmse: 9.4677\tvalid_1's rmse: 10.1759\n",
      "[60]\ttraining's rmse: 8.87667\tvalid_1's rmse: 9.94728\n",
      "[80]\ttraining's rmse: 8.40166\tvalid_1's rmse: 9.81912\n",
      "[100]\ttraining's rmse: 8.00285\tvalid_1's rmse: 9.76274\n",
      "[120]\ttraining's rmse: 7.65184\tvalid_1's rmse: 9.71298\n",
      "[140]\ttraining's rmse: 7.33668\tvalid_1's rmse: 9.63662\n",
      "[160]\ttraining's rmse: 7.04126\tvalid_1's rmse: 9.62504\n",
      "[180]\ttraining's rmse: 6.76332\tvalid_1's rmse: 9.60215\n",
      "[200]\ttraining's rmse: 6.5044\tvalid_1's rmse: 9.58272\n",
      "[220]\ttraining's rmse: 6.2568\tvalid_1's rmse: 9.57209\n",
      "Early stopping, best iteration is:\n",
      "[218]\ttraining's rmse: 6.28106\tvalid_1's rmse: 9.56911\n"
     ]
    },
    {
     "name": "stderr",
     "output_type": "stream",
     "text": [
      "\n",
      "regularization_factors, val_score: 9.537783:   0%|          | 0/20 [00:10<?, ?it/s]\n",
      "regularization_factors, val_score: 9.537783:   5%|5         | 1/20 [00:10<03:27, 10.92s/it][I 2020-06-28 21:45:11,261] Finished trial#43 with value: 9.569106528645369 with parameters: {'lambda_l1': 0.002450313597348191, 'lambda_l2': 0.09389228172479033}. Best is trial#43 with value: 9.569106528645369.\n",
      "\n",
      "regularization_factors, val_score: 9.537783:   5%|5         | 1/20 [00:11<03:27, 10.92s/it]"
     ]
    },
    {
     "name": "stdout",
     "output_type": "stream",
     "text": [
      "Training until validation scores don't improve for 20 rounds\n",
      "[20]\ttraining's rmse: 10.3435\tvalid_1's rmse: 10.6759\n",
      "[40]\ttraining's rmse: 9.48167\tvalid_1's rmse: 10.1277\n",
      "[60]\ttraining's rmse: 8.91429\tvalid_1's rmse: 9.92147\n",
      "[80]\ttraining's rmse: 8.44713\tvalid_1's rmse: 9.78898\n",
      "[100]\ttraining's rmse: 8.04668\tvalid_1's rmse: 9.70217\n",
      "[120]\ttraining's rmse: 7.7026\tvalid_1's rmse: 9.666\n",
      "[140]\ttraining's rmse: 7.38233\tvalid_1's rmse: 9.62056\n",
      "[160]\ttraining's rmse: 7.09453\tvalid_1's rmse: 9.59202\n",
      "[180]\ttraining's rmse: 6.82885\tvalid_1's rmse: 9.58022\n",
      "Early stopping, best iteration is:\n",
      "[174]\ttraining's rmse: 6.90475\tvalid_1's rmse: 9.57044\n"
     ]
    },
    {
     "name": "stderr",
     "output_type": "stream",
     "text": [
      "\n",
      "regularization_factors, val_score: 9.537783:   5%|5         | 1/20 [00:19<03:27, 10.92s/it]\n",
      "regularization_factors, val_score: 9.537783:  10%|#         | 2/20 [00:19<03:05, 10.29s/it][I 2020-06-28 21:45:20,077] Finished trial#44 with value: 9.570435339037308 with parameters: {'lambda_l1': 0.0018650573034648624, 'lambda_l2': 1.7425342362679381}. Best is trial#43 with value: 9.569106528645369.\n",
      "\n",
      "regularization_factors, val_score: 9.537783:  10%|#         | 2/20 [00:19<03:05, 10.29s/it]"
     ]
    },
    {
     "name": "stdout",
     "output_type": "stream",
     "text": [
      "Training until validation scores don't improve for 20 rounds\n",
      "[20]\ttraining's rmse: 10.3346\tvalid_1's rmse: 10.677\n",
      "[40]\ttraining's rmse: 9.4676\tvalid_1's rmse: 10.1759\n",
      "[60]\ttraining's rmse: 8.88276\tvalid_1's rmse: 9.94227\n",
      "[80]\ttraining's rmse: 8.40927\tvalid_1's rmse: 9.83798\n",
      "[100]\ttraining's rmse: 8.00675\tvalid_1's rmse: 9.78699\n",
      "[120]\ttraining's rmse: 7.65437\tvalid_1's rmse: 9.74519\n",
      "[140]\ttraining's rmse: 7.3348\tvalid_1's rmse: 9.67454\n",
      "[160]\ttraining's rmse: 7.04176\tvalid_1's rmse: 9.6549\n",
      "[180]\ttraining's rmse: 6.76947\tvalid_1's rmse: 9.65684\n",
      "[200]\ttraining's rmse: 6.51244\tvalid_1's rmse: 9.61382\n",
      "[220]\ttraining's rmse: 6.26681\tvalid_1's rmse: 9.60452\n",
      "[240]\ttraining's rmse: 6.03654\tvalid_1's rmse: 9.60157\n",
      "Did not meet early stopping. Best iteration is:\n",
      "[250]\ttraining's rmse: 5.92643\tvalid_1's rmse: 9.60021\n"
     ]
    },
    {
     "name": "stderr",
     "output_type": "stream",
     "text": [
      "\n",
      "regularization_factors, val_score: 9.537783:  10%|#         | 2/20 [00:31<03:05, 10.29s/it]\n",
      "regularization_factors, val_score: 9.537783:  15%|#5        | 3/20 [00:31<03:03, 10.79s/it][I 2020-06-28 21:45:32,034] Finished trial#45 with value: 9.600214740619114 with parameters: {'lambda_l1': 0.3216166510558927, 'lambda_l2': 2.886064717893848e-06}. Best is trial#43 with value: 9.569106528645369.\n",
      "\n",
      "regularization_factors, val_score: 9.537783:  15%|#5        | 3/20 [00:31<03:03, 10.79s/it]"
     ]
    },
    {
     "name": "stdout",
     "output_type": "stream",
     "text": [
      "Training until validation scores don't improve for 20 rounds\n",
      "[20]\ttraining's rmse: 10.3395\tvalid_1's rmse: 10.683\n",
      "[40]\ttraining's rmse: 9.47653\tvalid_1's rmse: 10.1527\n",
      "[60]\ttraining's rmse: 8.89874\tvalid_1's rmse: 9.93939\n",
      "[80]\ttraining's rmse: 8.42941\tvalid_1's rmse: 9.81578\n",
      "[100]\ttraining's rmse: 8.02014\tvalid_1's rmse: 9.74307\n",
      "[120]\ttraining's rmse: 7.67946\tvalid_1's rmse: 9.67571\n",
      "[140]\ttraining's rmse: 7.3528\tvalid_1's rmse: 9.65028\n",
      "[160]\ttraining's rmse: 7.06013\tvalid_1's rmse: 9.61343\n",
      "[180]\ttraining's rmse: 6.78768\tvalid_1's rmse: 9.58722\n",
      "[200]\ttraining's rmse: 6.52757\tvalid_1's rmse: 9.57296\n",
      "[220]\ttraining's rmse: 6.28181\tvalid_1's rmse: 9.54468\n",
      "[240]\ttraining's rmse: 6.04997\tvalid_1's rmse: 9.54922\n",
      "Early stopping, best iteration is:\n",
      "[224]\ttraining's rmse: 6.23561\tvalid_1's rmse: 9.53778\n"
     ]
    },
    {
     "name": "stderr",
     "output_type": "stream",
     "text": [
      "\n",
      "regularization_factors, val_score: 9.537783:  15%|#5        | 3/20 [00:43<03:03, 10.79s/it]\n",
      "regularization_factors, val_score: 9.537783:  20%|##        | 4/20 [00:43<02:55, 10.99s/it][I 2020-06-28 21:45:43,499] Finished trial#46 with value: 9.537782842834412 with parameters: {'lambda_l1': 3.830440219977019e-05, 'lambda_l2': 4.8168204318616805e-05}. Best is trial#46 with value: 9.537782842834412.\n",
      "\n",
      "regularization_factors, val_score: 9.537783:  20%|##        | 4/20 [00:43<02:55, 10.99s/it]"
     ]
    },
    {
     "name": "stdout",
     "output_type": "stream",
     "text": [
      "Training until validation scores don't improve for 20 rounds\n",
      "[20]\ttraining's rmse: 10.3395\tvalid_1's rmse: 10.683\n",
      "[40]\ttraining's rmse: 9.47654\tvalid_1's rmse: 10.1527\n",
      "[60]\ttraining's rmse: 8.89875\tvalid_1's rmse: 9.93939\n",
      "[80]\ttraining's rmse: 8.42942\tvalid_1's rmse: 9.81578\n",
      "[100]\ttraining's rmse: 8.02015\tvalid_1's rmse: 9.74307\n",
      "[120]\ttraining's rmse: 7.67948\tvalid_1's rmse: 9.67571\n",
      "[140]\ttraining's rmse: 7.35282\tvalid_1's rmse: 9.65028\n",
      "[160]\ttraining's rmse: 7.06015\tvalid_1's rmse: 9.61344\n",
      "[180]\ttraining's rmse: 6.78771\tvalid_1's rmse: 9.58722\n",
      "[200]\ttraining's rmse: 6.52759\tvalid_1's rmse: 9.57296\n",
      "[220]\ttraining's rmse: 6.28184\tvalid_1's rmse: 9.54468\n",
      "[240]\ttraining's rmse: 6.05001\tvalid_1's rmse: 9.54922\n",
      "Early stopping, best iteration is:\n",
      "[224]\ttraining's rmse: 6.23564\tvalid_1's rmse: 9.53778\n"
     ]
    },
    {
     "name": "stderr",
     "output_type": "stream",
     "text": [
      "\n",
      "regularization_factors, val_score: 9.537782:  20%|##        | 4/20 [00:54<02:55, 10.99s/it]\n",
      "regularization_factors, val_score: 9.537782:  25%|##5       | 5/20 [00:54<02:44, 11.00s/it][I 2020-06-28 21:45:54,506] Finished trial#47 with value: 9.537782419665776 with parameters: {'lambda_l1': 0.005084374477674569, 'lambda_l2': 4.39566518833969e-07}. Best is trial#47 with value: 9.537782419665776.\n",
      "\n",
      "regularization_factors, val_score: 9.537782:  25%|##5       | 5/20 [00:54<02:44, 11.00s/it]"
     ]
    },
    {
     "name": "stdout",
     "output_type": "stream",
     "text": [
      "Training until validation scores don't improve for 20 rounds\n",
      "[20]\ttraining's rmse: 10.3346\tvalid_1's rmse: 10.677\n",
      "[40]\ttraining's rmse: 9.46757\tvalid_1's rmse: 10.1758\n",
      "[60]\ttraining's rmse: 8.87647\tvalid_1's rmse: 9.94725\n",
      "[80]\ttraining's rmse: 8.40139\tvalid_1's rmse: 9.8191\n",
      "[100]\ttraining's rmse: 8.00251\tvalid_1's rmse: 9.76272\n",
      "[120]\ttraining's rmse: 7.65139\tvalid_1's rmse: 9.71297\n",
      "[140]\ttraining's rmse: 7.33612\tvalid_1's rmse: 9.63661\n",
      "[160]\ttraining's rmse: 7.03925\tvalid_1's rmse: 9.6245\n",
      "[180]\ttraining's rmse: 6.76751\tvalid_1's rmse: 9.60225\n",
      "[200]\ttraining's rmse: 6.5046\tvalid_1's rmse: 9.58955\n",
      "[220]\ttraining's rmse: 6.26096\tvalid_1's rmse: 9.5583\n",
      "[240]\ttraining's rmse: 6.03819\tvalid_1's rmse: 9.55654\n",
      "Early stopping, best iteration is:\n",
      "[229]\ttraining's rmse: 6.15989\tvalid_1's rmse: 9.54752\n"
     ]
    },
    {
     "name": "stderr",
     "output_type": "stream",
     "text": [
      "\n",
      "regularization_factors, val_score: 9.537782:  25%|##5       | 5/20 [01:05<02:44, 11.00s/it]\n",
      "regularization_factors, val_score: 9.537782:  30%|###       | 6/20 [01:05<02:34, 11.04s/it][I 2020-06-28 21:46:05,654] Finished trial#48 with value: 9.547517842619916 with parameters: {'lambda_l1': 4.3782352647523544e-05, 'lambda_l2': 0.06255916967204442}. Best is trial#47 with value: 9.537782419665776.\n",
      "\n",
      "regularization_factors, val_score: 9.537782:  30%|###       | 6/20 [01:05<02:34, 11.04s/it]"
     ]
    },
    {
     "name": "stdout",
     "output_type": "stream",
     "text": [
      "Training until validation scores don't improve for 20 rounds\n",
      "[20]\ttraining's rmse: 10.3395\tvalid_1's rmse: 10.683\n",
      "[40]\ttraining's rmse: 9.47653\tvalid_1's rmse: 10.1527\n",
      "[60]\ttraining's rmse: 8.89874\tvalid_1's rmse: 9.93939\n",
      "[80]\ttraining's rmse: 8.42941\tvalid_1's rmse: 9.81578\n",
      "[100]\ttraining's rmse: 8.02014\tvalid_1's rmse: 9.74307\n",
      "[120]\ttraining's rmse: 7.67946\tvalid_1's rmse: 9.67571\n",
      "[140]\ttraining's rmse: 7.3528\tvalid_1's rmse: 9.65028\n",
      "[160]\ttraining's rmse: 7.06013\tvalid_1's rmse: 9.61343\n",
      "[180]\ttraining's rmse: 6.78768\tvalid_1's rmse: 9.58722\n",
      "[200]\ttraining's rmse: 6.52757\tvalid_1's rmse: 9.57296\n",
      "[220]\ttraining's rmse: 6.28181\tvalid_1's rmse: 9.54468\n",
      "[240]\ttraining's rmse: 6.04997\tvalid_1's rmse: 9.54922\n",
      "Early stopping, best iteration is:\n",
      "[224]\ttraining's rmse: 6.23561\tvalid_1's rmse: 9.53778\n"
     ]
    },
    {
     "name": "stderr",
     "output_type": "stream",
     "text": [
      "\n",
      "regularization_factors, val_score: 9.537782:  30%|###       | 6/20 [01:16<02:34, 11.04s/it]\n",
      "regularization_factors, val_score: 9.537782:  35%|###5      | 7/20 [01:16<02:23, 11.07s/it][I 2020-06-28 21:46:16,797] Finished trial#49 with value: 9.537782889048588 with parameters: {'lambda_l1': 6.706218714128876e-07, 'lambda_l2': 1.2500975515990403e-07}. Best is trial#47 with value: 9.537782419665776.\n",
      "\n",
      "regularization_factors, val_score: 9.537782:  35%|###5      | 7/20 [01:16<02:23, 11.07s/it]"
     ]
    },
    {
     "name": "stdout",
     "output_type": "stream",
     "text": [
      "Training until validation scores don't improve for 20 rounds\n",
      "[20]\ttraining's rmse: 10.3557\tvalid_1's rmse: 10.7043\n",
      "[40]\ttraining's rmse: 9.49155\tvalid_1's rmse: 10.161\n",
      "[60]\ttraining's rmse: 8.92332\tvalid_1's rmse: 9.96278\n",
      "[80]\ttraining's rmse: 8.45161\tvalid_1's rmse: 9.824\n",
      "[100]\ttraining's rmse: 8.04542\tvalid_1's rmse: 9.77025\n",
      "[120]\ttraining's rmse: 7.69166\tvalid_1's rmse: 9.7009\n",
      "[140]\ttraining's rmse: 7.37783\tvalid_1's rmse: 9.66721\n",
      "[160]\ttraining's rmse: 7.07409\tvalid_1's rmse: 9.65153\n",
      "[180]\ttraining's rmse: 6.80192\tvalid_1's rmse: 9.62848\n",
      "[200]\ttraining's rmse: 6.54676\tvalid_1's rmse: 9.61855\n",
      "[220]\ttraining's rmse: 6.30218\tvalid_1's rmse: 9.5997\n",
      "[240]\ttraining's rmse: 6.08028\tvalid_1's rmse: 9.60164\n",
      "Did not meet early stopping. Best iteration is:\n",
      "[250]\ttraining's rmse: 5.96564\tvalid_1's rmse: 9.59298\n"
     ]
    },
    {
     "name": "stderr",
     "output_type": "stream",
     "text": [
      "\n",
      "regularization_factors, val_score: 9.537782:  35%|###5      | 7/20 [01:28<02:23, 11.07s/it]\n",
      "regularization_factors, val_score: 9.537782:  40%|####      | 8/20 [01:28<02:15, 11.29s/it][I 2020-06-28 21:46:28,580] Finished trial#50 with value: 9.592977220144396 with parameters: {'lambda_l1': 3.1251332711594038, 'lambda_l2': 0.002335053798435898}. Best is trial#47 with value: 9.537782419665776.\n",
      "\n",
      "regularization_factors, val_score: 9.537782:  40%|####      | 8/20 [01:28<02:15, 11.29s/it]"
     ]
    },
    {
     "name": "stdout",
     "output_type": "stream",
     "text": [
      "Training until validation scores don't improve for 20 rounds\n",
      "[20]\ttraining's rmse: 10.3395\tvalid_1's rmse: 10.683\n",
      "[40]\ttraining's rmse: 9.47653\tvalid_1's rmse: 10.1527\n",
      "[60]\ttraining's rmse: 8.89874\tvalid_1's rmse: 9.93939\n",
      "[80]\ttraining's rmse: 8.42941\tvalid_1's rmse: 9.81578\n",
      "[100]\ttraining's rmse: 8.02014\tvalid_1's rmse: 9.74307\n",
      "[120]\ttraining's rmse: 7.67946\tvalid_1's rmse: 9.67571\n",
      "[140]\ttraining's rmse: 7.3528\tvalid_1's rmse: 9.65028\n",
      "[160]\ttraining's rmse: 7.06013\tvalid_1's rmse: 9.61343\n",
      "[180]\ttraining's rmse: 6.78768\tvalid_1's rmse: 9.58722\n",
      "[200]\ttraining's rmse: 6.52757\tvalid_1's rmse: 9.57296\n",
      "[220]\ttraining's rmse: 6.28181\tvalid_1's rmse: 9.54468\n",
      "[240]\ttraining's rmse: 6.04997\tvalid_1's rmse: 9.54922\n",
      "Early stopping, best iteration is:\n",
      "[224]\ttraining's rmse: 6.23561\tvalid_1's rmse: 9.53778\n"
     ]
    },
    {
     "name": "stderr",
     "output_type": "stream",
     "text": [
      "\n",
      "regularization_factors, val_score: 9.537782:  40%|####      | 8/20 [01:39<02:15, 11.29s/it]\n",
      "regularization_factors, val_score: 9.537782:  45%|####5     | 9/20 [01:39<02:02, 11.15s/it][I 2020-06-28 21:46:39,416] Finished trial#51 with value: 9.537782856915976 with parameters: {'lambda_l1': 0.0003488451925907558, 'lambda_l2': 1.0070873068654875e-08}. Best is trial#47 with value: 9.537782419665776.\n",
      "\n",
      "regularization_factors, val_score: 9.537782:  45%|####5     | 9/20 [01:39<02:02, 11.15s/it]"
     ]
    },
    {
     "name": "stdout",
     "output_type": "stream",
     "text": [
      "Training until validation scores don't improve for 20 rounds\n",
      "[20]\ttraining's rmse: 10.3558\tvalid_1's rmse: 10.7132\n",
      "[40]\ttraining's rmse: 9.48071\tvalid_1's rmse: 10.167\n",
      "[60]\ttraining's rmse: 8.90828\tvalid_1's rmse: 9.93618\n",
      "[80]\ttraining's rmse: 8.44822\tvalid_1's rmse: 9.8355\n",
      "[100]\ttraining's rmse: 8.03851\tvalid_1's rmse: 9.76231\n",
      "[120]\ttraining's rmse: 7.68452\tvalid_1's rmse: 9.69273\n",
      "[140]\ttraining's rmse: 7.35719\tvalid_1's rmse: 9.65037\n",
      "[160]\ttraining's rmse: 7.05722\tvalid_1's rmse: 9.6079\n",
      "[180]\ttraining's rmse: 6.7837\tvalid_1's rmse: 9.6117\n",
      "[200]\ttraining's rmse: 6.52003\tvalid_1's rmse: 9.58891\n",
      "[220]\ttraining's rmse: 6.27837\tvalid_1's rmse: 9.57133\n",
      "[240]\ttraining's rmse: 6.05244\tvalid_1's rmse: 9.57374\n",
      "Did not meet early stopping. Best iteration is:\n",
      "[250]\ttraining's rmse: 5.93875\tvalid_1's rmse: 9.5673\n"
     ]
    },
    {
     "name": "stderr",
     "output_type": "stream",
     "text": [
      "\n",
      "regularization_factors, val_score: 9.537782:  45%|####5     | 9/20 [01:50<02:02, 11.15s/it]\n",
      "regularization_factors, val_score: 9.537782:  50%|#####     | 10/20 [01:50<01:52, 11.28s/it][I 2020-06-28 21:46:51,002] Finished trial#52 with value: 9.567300121956166 with parameters: {'lambda_l1': 0.19437798438513973, 'lambda_l2': 0.18309251854538838}. Best is trial#47 with value: 9.537782419665776.\n",
      "\n",
      "regularization_factors, val_score: 9.537782:  50%|#####     | 10/20 [01:50<01:52, 11.28s/it]"
     ]
    },
    {
     "name": "stdout",
     "output_type": "stream",
     "text": [
      "Training until validation scores don't improve for 20 rounds\n",
      "[20]\ttraining's rmse: 10.3395\tvalid_1's rmse: 10.683\n",
      "[40]\ttraining's rmse: 9.47653\tvalid_1's rmse: 10.1527\n",
      "[60]\ttraining's rmse: 8.89874\tvalid_1's rmse: 9.93939\n",
      "[80]\ttraining's rmse: 8.42941\tvalid_1's rmse: 9.81578\n",
      "[100]\ttraining's rmse: 8.02014\tvalid_1's rmse: 9.74307\n",
      "[120]\ttraining's rmse: 7.67946\tvalid_1's rmse: 9.67571\n",
      "[140]\ttraining's rmse: 7.3528\tvalid_1's rmse: 9.65028\n",
      "[160]\ttraining's rmse: 7.06013\tvalid_1's rmse: 9.61343\n",
      "[180]\ttraining's rmse: 6.78768\tvalid_1's rmse: 9.58722\n",
      "[200]\ttraining's rmse: 6.52757\tvalid_1's rmse: 9.57296\n",
      "[220]\ttraining's rmse: 6.28181\tvalid_1's rmse: 9.54468\n",
      "[240]\ttraining's rmse: 6.04997\tvalid_1's rmse: 9.54922\n",
      "Early stopping, best iteration is:\n",
      "[224]\ttraining's rmse: 6.23561\tvalid_1's rmse: 9.53778\n"
     ]
    },
    {
     "name": "stderr",
     "output_type": "stream",
     "text": [
      "\n",
      "regularization_factors, val_score: 9.537782:  50%|#####     | 10/20 [02:02<01:52, 11.28s/it]\n",
      "regularization_factors, val_score: 9.537782:  55%|#####5    | 11/20 [02:02<01:42, 11.37s/it][I 2020-06-28 21:47:02,570] Finished trial#53 with value: 9.537782888600914 with parameters: {'lambda_l1': 1.0974367449398588e-08, 'lambda_l2': 6.592850007874533e-07}. Best is trial#47 with value: 9.537782419665776.\n",
      "\n",
      "regularization_factors, val_score: 9.537782:  55%|#####5    | 11/20 [02:02<01:42, 11.37s/it]"
     ]
    },
    {
     "name": "stdout",
     "output_type": "stream",
     "text": [
      "Training until validation scores don't improve for 20 rounds\n",
      "[20]\ttraining's rmse: 10.3395\tvalid_1's rmse: 10.683\n",
      "[40]\ttraining's rmse: 9.47653\tvalid_1's rmse: 10.1527\n",
      "[60]\ttraining's rmse: 8.89874\tvalid_1's rmse: 9.93939\n",
      "[80]\ttraining's rmse: 8.42941\tvalid_1's rmse: 9.81578\n",
      "[100]\ttraining's rmse: 8.02014\tvalid_1's rmse: 9.74307\n",
      "[120]\ttraining's rmse: 7.67946\tvalid_1's rmse: 9.67571\n",
      "[140]\ttraining's rmse: 7.3528\tvalid_1's rmse: 9.65028\n",
      "[160]\ttraining's rmse: 7.06013\tvalid_1's rmse: 9.61343\n",
      "[180]\ttraining's rmse: 6.78768\tvalid_1's rmse: 9.58722\n",
      "[200]\ttraining's rmse: 6.52757\tvalid_1's rmse: 9.57296\n",
      "[220]\ttraining's rmse: 6.28181\tvalid_1's rmse: 9.54468\n",
      "[240]\ttraining's rmse: 6.04997\tvalid_1's rmse: 9.54922\n",
      "Early stopping, best iteration is:\n",
      "[224]\ttraining's rmse: 6.23561\tvalid_1's rmse: 9.53778\n"
     ]
    },
    {
     "name": "stderr",
     "output_type": "stream",
     "text": [
      "\n",
      "regularization_factors, val_score: 9.537782:  55%|#####5    | 11/20 [02:12<01:42, 11.37s/it]\n",
      "regularization_factors, val_score: 9.537782:  60%|######    | 12/20 [02:12<01:29, 11.14s/it][I 2020-06-28 21:47:13,180] Finished trial#54 with value: 9.537782854829008 with parameters: {'lambda_l1': 7.74803339627879e-06, 'lambda_l2': 3.7525446248090743e-05}. Best is trial#47 with value: 9.537782419665776.\n",
      "\n",
      "regularization_factors, val_score: 9.537782:  60%|######    | 12/20 [02:12<01:29, 11.14s/it]"
     ]
    },
    {
     "name": "stdout",
     "output_type": "stream",
     "text": [
      "Training until validation scores don't improve for 20 rounds\n",
      "[20]\ttraining's rmse: 10.3395\tvalid_1's rmse: 10.683\n",
      "[40]\ttraining's rmse: 9.47655\tvalid_1's rmse: 10.1527\n",
      "[60]\ttraining's rmse: 8.89877\tvalid_1's rmse: 9.9394\n",
      "[80]\ttraining's rmse: 8.42945\tvalid_1's rmse: 9.81578\n",
      "[100]\ttraining's rmse: 8.02019\tvalid_1's rmse: 9.74308\n",
      "[120]\ttraining's rmse: 7.67953\tvalid_1's rmse: 9.67572\n",
      "[140]\ttraining's rmse: 7.35288\tvalid_1's rmse: 9.65029\n",
      "[160]\ttraining's rmse: 7.06022\tvalid_1's rmse: 9.61344\n",
      "[180]\ttraining's rmse: 6.78779\tvalid_1's rmse: 9.58722\n",
      "[200]\ttraining's rmse: 6.52769\tvalid_1's rmse: 9.57296\n",
      "[220]\ttraining's rmse: 6.28334\tvalid_1's rmse: 9.55144\n",
      "Early stopping, best iteration is:\n",
      "[219]\ttraining's rmse: 6.29373\tvalid_1's rmse: 9.54664\n"
     ]
    },
    {
     "name": "stderr",
     "output_type": "stream",
     "text": [
      "\n",
      "regularization_factors, val_score: 9.537782:  60%|######    | 12/20 [02:24<01:29, 11.14s/it]\n",
      "regularization_factors, val_score: 9.537782:  65%|######5   | 13/20 [02:24<01:18, 11.20s/it][I 2020-06-28 21:47:24,500] Finished trial#55 with value: 9.546636130527432 with parameters: {'lambda_l1': 0.021593654496075403, 'lambda_l2': 0.0001376964891367229}. Best is trial#47 with value: 9.537782419665776.\n",
      "\n",
      "regularization_factors, val_score: 9.537782:  65%|######5   | 13/20 [02:24<01:18, 11.20s/it]"
     ]
    },
    {
     "name": "stdout",
     "output_type": "stream",
     "text": [
      "Training until validation scores don't improve for 20 rounds\n",
      "[20]\ttraining's rmse: 10.3395\tvalid_1's rmse: 10.683\n",
      "[40]\ttraining's rmse: 9.47653\tvalid_1's rmse: 10.1527\n",
      "[60]\ttraining's rmse: 8.89874\tvalid_1's rmse: 9.93939\n",
      "[80]\ttraining's rmse: 8.42941\tvalid_1's rmse: 9.81578\n",
      "[100]\ttraining's rmse: 8.02014\tvalid_1's rmse: 9.74307\n",
      "[120]\ttraining's rmse: 7.67946\tvalid_1's rmse: 9.67571\n",
      "[140]\ttraining's rmse: 7.3528\tvalid_1's rmse: 9.65028\n",
      "[160]\ttraining's rmse: 7.06013\tvalid_1's rmse: 9.61343\n",
      "[180]\ttraining's rmse: 6.78768\tvalid_1's rmse: 9.58722\n",
      "[200]\ttraining's rmse: 6.52757\tvalid_1's rmse: 9.57296\n",
      "[220]\ttraining's rmse: 6.28181\tvalid_1's rmse: 9.54468\n",
      "[240]\ttraining's rmse: 6.04997\tvalid_1's rmse: 9.54922\n",
      "Early stopping, best iteration is:\n",
      "[224]\ttraining's rmse: 6.23561\tvalid_1's rmse: 9.53778\n"
     ]
    },
    {
     "name": "stderr",
     "output_type": "stream",
     "text": [
      "\n",
      "regularization_factors, val_score: 9.537782:  65%|######5   | 13/20 [02:35<01:18, 11.20s/it]\n",
      "regularization_factors, val_score: 9.537782:  70%|#######   | 14/20 [02:35<01:07, 11.24s/it][I 2020-06-28 21:47:35,849] Finished trial#56 with value: 9.537782889115956 with parameters: {'lambda_l1': 8.037411495172343e-07, 'lambda_l2': 1.0438064765553186e-08}. Best is trial#47 with value: 9.537782419665776.\n",
      "\n",
      "regularization_factors, val_score: 9.537782:  70%|#######   | 14/20 [02:35<01:07, 11.24s/it]"
     ]
    },
    {
     "name": "stdout",
     "output_type": "stream",
     "text": [
      "Training until validation scores don't improve for 20 rounds\n",
      "[20]\ttraining's rmse: 10.3395\tvalid_1's rmse: 10.683\n",
      "[40]\ttraining's rmse: 9.47653\tvalid_1's rmse: 10.1527\n",
      "[60]\ttraining's rmse: 8.89874\tvalid_1's rmse: 9.93939\n",
      "[80]\ttraining's rmse: 8.42941\tvalid_1's rmse: 9.81578\n",
      "[100]\ttraining's rmse: 8.02014\tvalid_1's rmse: 9.74307\n",
      "[120]\ttraining's rmse: 7.67946\tvalid_1's rmse: 9.67571\n",
      "[140]\ttraining's rmse: 7.3528\tvalid_1's rmse: 9.65028\n",
      "[160]\ttraining's rmse: 7.06013\tvalid_1's rmse: 9.61343\n",
      "[180]\ttraining's rmse: 6.78768\tvalid_1's rmse: 9.58722\n",
      "[200]\ttraining's rmse: 6.52757\tvalid_1's rmse: 9.57296\n",
      "[220]\ttraining's rmse: 6.28181\tvalid_1's rmse: 9.54468\n",
      "[240]\ttraining's rmse: 6.04997\tvalid_1's rmse: 9.54922\n",
      "Early stopping, best iteration is:\n",
      "[224]\ttraining's rmse: 6.23561\tvalid_1's rmse: 9.53778\n"
     ]
    },
    {
     "name": "stderr",
     "output_type": "stream",
     "text": [
      "\n",
      "regularization_factors, val_score: 9.537782:  70%|#######   | 14/20 [02:46<01:07, 11.24s/it]\n",
      "regularization_factors, val_score: 9.537782:  75%|#######5  | 15/20 [02:46<00:56, 11.22s/it][I 2020-06-28 21:47:47,020] Finished trial#57 with value: 9.537782878016774 with parameters: {'lambda_l1': 4.0569754273318694e-05, 'lambda_l2': 8.531282005741357e-06}. Best is trial#47 with value: 9.537782419665776.\n",
      "\n",
      "regularization_factors, val_score: 9.537782:  75%|#######5  | 15/20 [02:46<00:56, 11.22s/it]"
     ]
    },
    {
     "name": "stdout",
     "output_type": "stream",
     "text": [
      "Training until validation scores don't improve for 20 rounds\n",
      "[20]\ttraining's rmse: 10.3395\tvalid_1's rmse: 10.683\n",
      "[40]\ttraining's rmse: 9.47655\tvalid_1's rmse: 10.1527\n",
      "[60]\ttraining's rmse: 8.89877\tvalid_1's rmse: 9.93939\n",
      "[80]\ttraining's rmse: 8.42945\tvalid_1's rmse: 9.81578\n",
      "[100]\ttraining's rmse: 8.02018\tvalid_1's rmse: 9.74308\n",
      "[120]\ttraining's rmse: 7.67952\tvalid_1's rmse: 9.67571\n",
      "[140]\ttraining's rmse: 7.35288\tvalid_1's rmse: 9.65028\n",
      "[160]\ttraining's rmse: 7.06022\tvalid_1's rmse: 9.61344\n",
      "[180]\ttraining's rmse: 6.78778\tvalid_1's rmse: 9.58722\n",
      "[200]\ttraining's rmse: 6.52768\tvalid_1's rmse: 9.57296\n",
      "[220]\ttraining's rmse: 6.28333\tvalid_1's rmse: 9.55144\n",
      "Early stopping, best iteration is:\n",
      "[219]\ttraining's rmse: 6.29372\tvalid_1's rmse: 9.54664\n"
     ]
    },
    {
     "name": "stderr",
     "output_type": "stream",
     "text": [
      "\n",
      "regularization_factors, val_score: 9.537782:  75%|#######5  | 15/20 [02:57<00:56, 11.22s/it]\n",
      "regularization_factors, val_score: 9.537782:  80%|########  | 16/20 [02:57<00:44, 11.05s/it][I 2020-06-28 21:47:57,672] Finished trial#58 with value: 9.546635155948916 with parameters: {'lambda_l1': 0.010491390786360162, 'lambda_l2': 0.002346993006859562}. Best is trial#47 with value: 9.537782419665776.\n",
      "\n",
      "regularization_factors, val_score: 9.537782:  80%|########  | 16/20 [02:57<00:44, 11.05s/it]"
     ]
    },
    {
     "name": "stdout",
     "output_type": "stream",
     "text": [
      "Training until validation scores don't improve for 20 rounds\n",
      "[20]\ttraining's rmse: 10.3395\tvalid_1's rmse: 10.683\n",
      "[40]\ttraining's rmse: 9.47653\tvalid_1's rmse: 10.1527\n",
      "[60]\ttraining's rmse: 8.89874\tvalid_1's rmse: 9.93939\n",
      "[80]\ttraining's rmse: 8.42941\tvalid_1's rmse: 9.81578\n",
      "[100]\ttraining's rmse: 8.02014\tvalid_1's rmse: 9.74307\n",
      "[120]\ttraining's rmse: 7.67946\tvalid_1's rmse: 9.67571\n",
      "[140]\ttraining's rmse: 7.3528\tvalid_1's rmse: 9.65028\n",
      "[160]\ttraining's rmse: 7.06013\tvalid_1's rmse: 9.61343\n",
      "[180]\ttraining's rmse: 6.78768\tvalid_1's rmse: 9.58722\n",
      "[200]\ttraining's rmse: 6.52757\tvalid_1's rmse: 9.57296\n",
      "[220]\ttraining's rmse: 6.28181\tvalid_1's rmse: 9.54468\n",
      "[240]\ttraining's rmse: 6.04997\tvalid_1's rmse: 9.54922\n",
      "Early stopping, best iteration is:\n",
      "[224]\ttraining's rmse: 6.23561\tvalid_1's rmse: 9.53778\n"
     ]
    },
    {
     "name": "stderr",
     "output_type": "stream",
     "text": [
      "\n",
      "regularization_factors, val_score: 9.537782:  80%|########  | 16/20 [03:08<00:44, 11.05s/it]\n",
      "regularization_factors, val_score: 9.537782:  85%|########5 | 17/20 [03:08<00:33, 11.18s/it][I 2020-06-28 21:48:09,143] Finished trial#59 with value: 9.537782889132059 with parameters: {'lambda_l1': 1.458819461908411e-08, 'lambda_l2': 1.2326327140083652e-07}. Best is trial#47 with value: 9.537782419665776.\n",
      "\n",
      "regularization_factors, val_score: 9.537782:  85%|########5 | 17/20 [03:08<00:33, 11.18s/it]"
     ]
    },
    {
     "name": "stdout",
     "output_type": "stream",
     "text": [
      "Training until validation scores don't improve for 20 rounds\n",
      "[20]\ttraining's rmse: 10.3395\tvalid_1's rmse: 10.683\n",
      "[40]\ttraining's rmse: 9.47653\tvalid_1's rmse: 10.1527\n",
      "[60]\ttraining's rmse: 8.89875\tvalid_1's rmse: 9.93939\n",
      "[80]\ttraining's rmse: 8.42942\tvalid_1's rmse: 9.81578\n",
      "[100]\ttraining's rmse: 8.02015\tvalid_1's rmse: 9.74307\n",
      "[120]\ttraining's rmse: 7.67948\tvalid_1's rmse: 9.67571\n",
      "[140]\ttraining's rmse: 7.35282\tvalid_1's rmse: 9.65028\n",
      "[160]\ttraining's rmse: 7.06015\tvalid_1's rmse: 9.61344\n",
      "[180]\ttraining's rmse: 6.7877\tvalid_1's rmse: 9.58722\n",
      "[200]\ttraining's rmse: 6.52759\tvalid_1's rmse: 9.57296\n",
      "[220]\ttraining's rmse: 6.28184\tvalid_1's rmse: 9.54468\n",
      "[240]\ttraining's rmse: 6.05\tvalid_1's rmse: 9.54922\n",
      "Early stopping, best iteration is:\n",
      "[224]\ttraining's rmse: 6.23564\tvalid_1's rmse: 9.53778\n"
     ]
    },
    {
     "name": "stderr",
     "output_type": "stream",
     "text": [
      "\n",
      "regularization_factors, val_score: 9.537782:  85%|########5 | 17/20 [03:19<00:33, 11.18s/it]\n",
      "regularization_factors, val_score: 9.537782:  90%|######### | 18/20 [03:19<00:22, 11.17s/it][I 2020-06-28 21:48:20,314] Finished trial#60 with value: 9.53778197413201 with parameters: {'lambda_l1': 0.00019469096779554766, 'lambda_l2': 0.0009990594377990293}. Best is trial#60 with value: 9.53778197413201.\n",
      "\n",
      "regularization_factors, val_score: 9.537782:  90%|######### | 18/20 [03:20<00:22, 11.17s/it]"
     ]
    },
    {
     "name": "stdout",
     "output_type": "stream",
     "text": [
      "Training until validation scores don't improve for 20 rounds\n",
      "[20]\ttraining's rmse: 10.3395\tvalid_1's rmse: 10.683\n",
      "[40]\ttraining's rmse: 9.47661\tvalid_1's rmse: 10.1527\n",
      "[60]\ttraining's rmse: 8.89886\tvalid_1's rmse: 9.93942\n",
      "[80]\ttraining's rmse: 8.42957\tvalid_1's rmse: 9.8158\n",
      "[100]\ttraining's rmse: 8.02034\tvalid_1's rmse: 9.74309\n",
      "[120]\ttraining's rmse: 7.67972\tvalid_1's rmse: 9.67573\n",
      "[140]\ttraining's rmse: 7.35312\tvalid_1's rmse: 9.6503\n",
      "[160]\ttraining's rmse: 7.0605\tvalid_1's rmse: 9.61345\n",
      "[180]\ttraining's rmse: 6.78812\tvalid_1's rmse: 9.58723\n",
      "[200]\ttraining's rmse: 6.52806\tvalid_1's rmse: 9.57296\n",
      "[220]\ttraining's rmse: 6.28375\tvalid_1's rmse: 9.55143\n",
      "Early stopping, best iteration is:\n",
      "[219]\ttraining's rmse: 6.29414\tvalid_1's rmse: 9.54663\n"
     ]
    },
    {
     "name": "stderr",
     "output_type": "stream",
     "text": [
      "\n",
      "regularization_factors, val_score: 9.537782:  90%|######### | 18/20 [03:30<00:22, 11.17s/it]\n",
      "regularization_factors, val_score: 9.537782:  95%|#########5| 19/20 [03:30<00:11, 11.03s/it][I 2020-06-28 21:48:30,995] Finished trial#61 with value: 9.546632198288659 with parameters: {'lambda_l1': 0.08495969998135042, 'lambda_l2': 0.0009340805283730779}. Best is trial#60 with value: 9.53778197413201.\n",
      "\n",
      "regularization_factors, val_score: 9.537782:  95%|#########5| 19/20 [03:30<00:11, 11.03s/it]"
     ]
    },
    {
     "name": "stdout",
     "output_type": "stream",
     "text": [
      "Training until validation scores don't improve for 20 rounds\n",
      "[20]\ttraining's rmse: 10.3435\tvalid_1's rmse: 10.6758\n",
      "[40]\ttraining's rmse: 9.4781\tvalid_1's rmse: 10.1383\n",
      "[60]\ttraining's rmse: 8.91092\tvalid_1's rmse: 9.94479\n",
      "[80]\ttraining's rmse: 8.4467\tvalid_1's rmse: 9.84249\n",
      "[100]\ttraining's rmse: 8.04559\tvalid_1's rmse: 9.7607\n",
      "[120]\ttraining's rmse: 7.6952\tvalid_1's rmse: 9.71321\n",
      "[140]\ttraining's rmse: 7.37285\tvalid_1's rmse: 9.68947\n",
      "[160]\ttraining's rmse: 7.07795\tvalid_1's rmse: 9.65612\n",
      "[180]\ttraining's rmse: 6.808\tvalid_1's rmse: 9.65859\n",
      "[200]\ttraining's rmse: 6.55082\tvalid_1's rmse: 9.63992\n",
      "[220]\ttraining's rmse: 6.31799\tvalid_1's rmse: 9.61338\n",
      "[240]\ttraining's rmse: 6.0965\tvalid_1's rmse: 9.6192\n",
      "Did not meet early stopping. Best iteration is:\n",
      "[250]\ttraining's rmse: 5.9828\tvalid_1's rmse: 9.62663\n"
     ]
    },
    {
     "name": "stderr",
     "output_type": "stream",
     "text": [
      "\n",
      "regularization_factors, val_score: 9.537782:  95%|#########5| 19/20 [03:42<00:11, 11.03s/it]\n",
      "regularization_factors, val_score: 9.537782: 100%|##########| 20/20 [03:42<00:00, 11.37s/it][I 2020-06-28 21:48:43,169] Finished trial#62 with value: 9.626625641798324 with parameters: {'lambda_l1': 8.703975270472206, 'lambda_l2': 0.01854913980943238}. Best is trial#60 with value: 9.53778197413201.\n",
      "regularization_factors, val_score: 9.537782: 100%|##########| 20/20 [03:42<00:00, 11.15s/it]\n",
      "\n",
      "  0%|          | 0/5 [00:00<?, ?it/s]\n",
      "min_data_in_leaf, val_score: 9.537782:   0%|          | 0/5 [00:00<?, ?it/s]"
     ]
    },
    {
     "name": "stdout",
     "output_type": "stream",
     "text": [
      "Training until validation scores don't improve for 20 rounds\n",
      "[20]\ttraining's rmse: 10.3395\tvalid_1's rmse: 10.683\n",
      "[40]\ttraining's rmse: 9.47653\tvalid_1's rmse: 10.1527\n",
      "[60]\ttraining's rmse: 8.90511\tvalid_1's rmse: 9.94478\n",
      "[80]\ttraining's rmse: 8.43372\tvalid_1's rmse: 9.81271\n",
      "[100]\ttraining's rmse: 8.02697\tvalid_1's rmse: 9.7334\n",
      "[120]\ttraining's rmse: 7.67581\tvalid_1's rmse: 9.68409\n",
      "[140]\ttraining's rmse: 7.35704\tvalid_1's rmse: 9.65544\n",
      "[160]\ttraining's rmse: 7.06392\tvalid_1's rmse: 9.62712\n",
      "[180]\ttraining's rmse: 6.79859\tvalid_1's rmse: 9.61951\n",
      "[200]\ttraining's rmse: 6.54608\tvalid_1's rmse: 9.5825\n",
      "[220]\ttraining's rmse: 6.29797\tvalid_1's rmse: 9.56393\n",
      "Early stopping, best iteration is:\n",
      "[218]\ttraining's rmse: 6.32064\tvalid_1's rmse: 9.55712\n"
     ]
    },
    {
     "name": "stderr",
     "output_type": "stream",
     "text": [
      "\n",
      "min_data_in_leaf, val_score: 9.537782:   0%|          | 0/5 [00:10<?, ?it/s]\n",
      "min_data_in_leaf, val_score: 9.537782:  20%|##        | 1/5 [00:10<00:43, 10.94s/it][I 2020-06-28 21:48:54,266] Finished trial#63 with value: 9.557116524671214 with parameters: {'min_child_samples': 25}. Best is trial#63 with value: 9.557116524671214.\n",
      "\n",
      "min_data_in_leaf, val_score: 9.537782:  20%|##        | 1/5 [00:11<00:43, 10.94s/it]"
     ]
    },
    {
     "name": "stdout",
     "output_type": "stream",
     "text": [
      "Training until validation scores don't improve for 20 rounds\n",
      "[20]\ttraining's rmse: 10.3429\tvalid_1's rmse: 10.6817\n",
      "[40]\ttraining's rmse: 9.46445\tvalid_1's rmse: 10.165\n",
      "[60]\ttraining's rmse: 8.89137\tvalid_1's rmse: 9.96259\n",
      "[80]\ttraining's rmse: 8.4255\tvalid_1's rmse: 9.83519\n",
      "[100]\ttraining's rmse: 8.02924\tvalid_1's rmse: 9.79424\n",
      "[120]\ttraining's rmse: 7.67933\tvalid_1's rmse: 9.72858\n",
      "[140]\ttraining's rmse: 7.37372\tvalid_1's rmse: 9.71871\n",
      "[160]\ttraining's rmse: 7.08072\tvalid_1's rmse: 9.69128\n",
      "[180]\ttraining's rmse: 6.81713\tvalid_1's rmse: 9.68775\n",
      "[200]\ttraining's rmse: 6.56453\tvalid_1's rmse: 9.66801\n",
      "[220]\ttraining's rmse: 6.32314\tvalid_1's rmse: 9.66137\n",
      "[240]\ttraining's rmse: 6.10504\tvalid_1's rmse: 9.64316\n",
      "Did not meet early stopping. Best iteration is:\n",
      "[250]\ttraining's rmse: 5.99055\tvalid_1's rmse: 9.63221\n"
     ]
    },
    {
     "name": "stderr",
     "output_type": "stream",
     "text": [
      "\n",
      "min_data_in_leaf, val_score: 9.537782:  20%|##        | 1/5 [00:20<00:43, 10.94s/it]\n",
      "min_data_in_leaf, val_score: 9.537782:  40%|####      | 2/5 [00:20<00:31, 10.65s/it][I 2020-06-28 21:49:04,240] Finished trial#64 with value: 9.63220657190722 with parameters: {'min_child_samples': 50}. Best is trial#63 with value: 9.557116524671214.\n",
      "\n",
      "min_data_in_leaf, val_score: 9.537782:  40%|####      | 2/5 [00:21<00:31, 10.65s/it]"
     ]
    },
    {
     "name": "stdout",
     "output_type": "stream",
     "text": [
      "Training until validation scores don't improve for 20 rounds\n",
      "[20]\ttraining's rmse: 10.3399\tvalid_1's rmse: 10.6913\n",
      "[40]\ttraining's rmse: 9.4785\tvalid_1's rmse: 10.1743\n",
      "[60]\ttraining's rmse: 8.9045\tvalid_1's rmse: 9.98756\n",
      "[80]\ttraining's rmse: 8.42406\tvalid_1's rmse: 9.88079\n",
      "[100]\ttraining's rmse: 8.02243\tvalid_1's rmse: 9.81379\n",
      "[120]\ttraining's rmse: 7.67094\tvalid_1's rmse: 9.75564\n",
      "[140]\ttraining's rmse: 7.3494\tvalid_1's rmse: 9.72204\n",
      "[160]\ttraining's rmse: 7.0554\tvalid_1's rmse: 9.70673\n",
      "[180]\ttraining's rmse: 6.78365\tvalid_1's rmse: 9.69623\n",
      "[200]\ttraining's rmse: 6.52528\tvalid_1's rmse: 9.67113\n",
      "[220]\ttraining's rmse: 6.27782\tvalid_1's rmse: 9.67039\n",
      "[240]\ttraining's rmse: 6.04879\tvalid_1's rmse: 9.69466\n",
      "Early stopping, best iteration is:\n",
      "[224]\ttraining's rmse: 6.22931\tvalid_1's rmse: 9.66237\n"
     ]
    },
    {
     "name": "stderr",
     "output_type": "stream",
     "text": [
      "\n",
      "min_data_in_leaf, val_score: 9.537782:  40%|####      | 2/5 [00:32<00:31, 10.65s/it]\n",
      "min_data_in_leaf, val_score: 9.537782:  60%|######    | 3/5 [00:32<00:21, 10.97s/it][I 2020-06-28 21:49:15,951] Finished trial#65 with value: 9.662373347512444 with parameters: {'min_child_samples': 10}. Best is trial#63 with value: 9.557116524671214.\n",
      "\n",
      "min_data_in_leaf, val_score: 9.537782:  60%|######    | 3/5 [00:32<00:21, 10.97s/it]"
     ]
    },
    {
     "name": "stdout",
     "output_type": "stream",
     "text": [
      "Training until validation scores don't improve for 20 rounds\n",
      "[20]\ttraining's rmse: 10.3399\tvalid_1's rmse: 10.6913\n",
      "[40]\ttraining's rmse: 9.48015\tvalid_1's rmse: 10.1861\n",
      "[60]\ttraining's rmse: 8.89234\tvalid_1's rmse: 9.95775\n",
      "[80]\ttraining's rmse: 8.41954\tvalid_1's rmse: 9.87577\n",
      "[100]\ttraining's rmse: 8.01412\tvalid_1's rmse: 9.81512\n",
      "[120]\ttraining's rmse: 7.65839\tvalid_1's rmse: 9.78177\n",
      "[140]\ttraining's rmse: 7.33728\tvalid_1's rmse: 9.75215\n",
      "[160]\ttraining's rmse: 7.02991\tvalid_1's rmse: 9.71938\n",
      "[180]\ttraining's rmse: 6.74844\tvalid_1's rmse: 9.69838\n",
      "[200]\ttraining's rmse: 6.49213\tvalid_1's rmse: 9.68122\n",
      "[220]\ttraining's rmse: 6.24607\tvalid_1's rmse: 9.66323\n",
      "[240]\ttraining's rmse: 6.01569\tvalid_1's rmse: 9.66423\n",
      "Early stopping, best iteration is:\n",
      "[221]\ttraining's rmse: 6.23644\tvalid_1's rmse: 9.66037\n"
     ]
    },
    {
     "name": "stderr",
     "output_type": "stream",
     "text": [
      "\n",
      "min_data_in_leaf, val_score: 9.537782:  60%|######    | 3/5 [00:44<00:21, 10.97s/it]\n",
      "min_data_in_leaf, val_score: 9.537782:  80%|########  | 4/5 [00:44<00:11, 11.35s/it][I 2020-06-28 21:49:28,189] Finished trial#66 with value: 9.660372015181053 with parameters: {'min_child_samples': 5}. Best is trial#63 with value: 9.557116524671214.\n",
      "\n",
      "min_data_in_leaf, val_score: 9.537782:  80%|########  | 4/5 [00:45<00:11, 11.35s/it]"
     ]
    },
    {
     "name": "stdout",
     "output_type": "stream",
     "text": [
      "Training until validation scores don't improve for 20 rounds\n",
      "[20]\ttraining's rmse: 10.3426\tvalid_1's rmse: 10.6869\n",
      "[40]\ttraining's rmse: 9.48025\tvalid_1's rmse: 10.1427\n",
      "[60]\ttraining's rmse: 8.90989\tvalid_1's rmse: 9.91286\n",
      "[80]\ttraining's rmse: 8.45287\tvalid_1's rmse: 9.81001\n",
      "[100]\ttraining's rmse: 8.07119\tvalid_1's rmse: 9.73738\n",
      "[120]\ttraining's rmse: 7.72813\tvalid_1's rmse: 9.68638\n",
      "[140]\ttraining's rmse: 7.41088\tvalid_1's rmse: 9.62596\n",
      "[160]\ttraining's rmse: 7.12164\tvalid_1's rmse: 9.57641\n",
      "[180]\ttraining's rmse: 6.87097\tvalid_1's rmse: 9.54178\n",
      "[200]\ttraining's rmse: 6.61976\tvalid_1's rmse: 9.5209\n",
      "[220]\ttraining's rmse: 6.38705\tvalid_1's rmse: 9.53093\n",
      "Early stopping, best iteration is:\n",
      "[201]\ttraining's rmse: 6.60768\tvalid_1's rmse: 9.5203\n"
     ]
    },
    {
     "name": "stderr",
     "output_type": "stream",
     "text": [
      "\n",
      "min_data_in_leaf, val_score: 9.520302:  80%|########  | 4/5 [00:52<00:11, 11.35s/it]\n",
      "min_data_in_leaf, val_score: 9.520302: 100%|##########| 5/5 [00:52<00:00, 10.35s/it][I 2020-06-28 21:49:36,211] Finished trial#67 with value: 9.52030206892117 with parameters: {'min_child_samples': 100}. Best is trial#67 with value: 9.52030206892117.\n",
      "min_data_in_leaf, val_score: 9.520302: 100%|##########| 5/5 [00:53<00:00, 10.61s/it]\n"
     ]
    },
    {
     "data": {
      "image/png": "[encoded data removed]",
      "text/plain": [
       "<Figure size 576x576 with 1 Axes>"
      ]
     },
     "metadata": {
      "needs_background": "light"
     },
     "output_type": "display_data"
    },
    {
     "name": "stdout",
     "output_type": "stream",
     "text": [
      "==< domain1_var1 >==\n",
      "X_train : (4407, 1458)\n"
     ]
    },
    {
     "name": "stderr",
     "output_type": "stream",
     "text": [
      "C:\\Users\\USER\\anaconda3\\envs\\tf115\\lib\\site-packages\\optuna\\_experimental.py:61: ExperimentalWarning: train is experimental (supported from v0.18.0). The interface can change in the future.\n",
      "  ExperimentalWarning,\n",
      "C:\\Users\\USER\\anaconda3\\envs\\tf115\\lib\\site-packages\\optuna\\_experimental.py:83: ExperimentalWarning: LightGBMTuner is experimental (supported from v1.5.0). The interface can change in the future.\n",
      "  ExperimentalWarning,\n",
      "\n",
      "  0%|          | 0/7 [00:00<?, ?it/s]\n",
      "feature_fraction, val_score: inf:   0%|          | 0/7 [00:00<?, ?it/s]"
     ]
    },
    {
     "name": "stdout",
     "output_type": "stream",
     "text": [
      "Training until validation scores don't improve for 20 rounds\n",
      "[20]\ttraining's rmse: 7.53464\tvalid_1's rmse: 9.49113\n",
      "Early stopping, best iteration is:\n",
      "[13]\ttraining's rmse: 8.13915\tvalid_1's rmse: 9.46619\n"
     ]
    },
    {
     "name": "stderr",
     "output_type": "stream",
     "text": [
      "\n",
      "feature_fraction, val_score: 9.466192:   0%|          | 0/7 [00:09<?, ?it/s]\n",
      "feature_fraction, val_score: 9.466192:  14%|#4        | 1/7 [00:09<00:56,  9.38s/it][I 2020-06-28 21:49:47,177] Finished trial#0 with value: 9.466192061752205 with parameters: {'feature_fraction': 0.8999999999999999}. Best is trial#0 with value: 9.466192061752205.\n",
      "\n",
      "feature_fraction, val_score: 9.466192:  14%|#4        | 1/7 [00:09<00:56,  9.38s/it]"
     ]
    },
    {
     "name": "stdout",
     "output_type": "stream",
     "text": [
      "Training until validation scores don't improve for 20 rounds\n",
      "[20]\ttraining's rmse: 7.52246\tvalid_1's rmse: 9.53698\n",
      "Early stopping, best iteration is:\n",
      "[19]\ttraining's rmse: 7.60469\tvalid_1's rmse: 9.51999\n"
     ]
    },
    {
     "name": "stderr",
     "output_type": "stream",
     "text": [
      "\n",
      "feature_fraction, val_score: 9.466192:  14%|#4        | 1/7 [00:20<00:56,  9.38s/it]\n",
      "feature_fraction, val_score: 9.466192:  29%|##8       | 2/7 [00:20<00:49,  9.91s/it][I 2020-06-28 21:49:58,309] Finished trial#1 with value: 9.519986879203321 with parameters: {'feature_fraction': 1.0}. Best is trial#0 with value: 9.466192061752205.\n",
      "\n",
      "feature_fraction, val_score: 9.466192:  29%|##8       | 2/7 [00:20<00:49,  9.91s/it]"
     ]
    },
    {
     "name": "stdout",
     "output_type": "stream",
     "text": [
      "Training until validation scores don't improve for 20 rounds\n",
      "[20]\ttraining's rmse: 7.58421\tvalid_1's rmse: 9.48523\n",
      "[40]\ttraining's rmse: 6.14153\tvalid_1's rmse: 9.50321\n",
      "Early stopping, best iteration is:\n",
      "[27]\ttraining's rmse: 7.03369\tvalid_1's rmse: 9.47198\n"
     ]
    },
    {
     "name": "stderr",
     "output_type": "stream",
     "text": [
      "\n",
      "feature_fraction, val_score: 9.466192:  29%|##8       | 2/7 [00:29<00:49,  9.91s/it]\n",
      "feature_fraction, val_score: 9.466192:  43%|####2     | 3/7 [00:29<00:39,  9.75s/it][I 2020-06-28 21:50:07,691] Finished trial#2 with value: 9.471983940292597 with parameters: {'feature_fraction': 0.7}. Best is trial#0 with value: 9.466192061752205.\n",
      "\n",
      "feature_fraction, val_score: 9.466192:  43%|####2     | 3/7 [00:30<00:39,  9.75s/it]"
     ]
    },
    {
     "name": "stdout",
     "output_type": "stream",
     "text": [
      "Training until validation scores don't improve for 20 rounds\n",
      "[20]\ttraining's rmse: 7.59944\tvalid_1's rmse: 9.47552\n",
      "Early stopping, best iteration is:\n",
      "[18]\ttraining's rmse: 7.7656\tvalid_1's rmse: 9.46376\n"
     ]
    },
    {
     "name": "stderr",
     "output_type": "stream",
     "text": [
      "\n",
      "feature_fraction, val_score: 9.463759:  43%|####2     | 3/7 [00:37<00:39,  9.75s/it]\n",
      "feature_fraction, val_score: 9.463759:  57%|#####7    | 4/7 [00:37<00:26,  8.96s/it][I 2020-06-28 21:50:14,812] Finished trial#3 with value: 9.463758681718227 with parameters: {'feature_fraction': 0.6}. Best is trial#3 with value: 9.463758681718227.\n",
      "\n",
      "feature_fraction, val_score: 9.463759:  57%|#####7    | 4/7 [00:37<00:26,  8.96s/it]"
     ]
    },
    {
     "name": "stdout",
     "output_type": "stream",
     "text": [
      "Training until validation scores don't improve for 20 rounds\n",
      "[20]\ttraining's rmse: 7.6119\tvalid_1's rmse: 9.5003\n",
      "[40]\ttraining's rmse: 6.2315\tvalid_1's rmse: 9.51683\n",
      "Early stopping, best iteration is:\n",
      "[21]\ttraining's rmse: 7.53411\tvalid_1's rmse: 9.49971\n"
     ]
    },
    {
     "name": "stderr",
     "output_type": "stream",
     "text": [
      "\n",
      "feature_fraction, val_score: 9.463759:  57%|#####7    | 4/7 [00:43<00:26,  8.96s/it]\n",
      "feature_fraction, val_score: 9.463759:  71%|#######1  | 5/7 [00:43<00:16,  8.12s/it][I 2020-06-28 21:50:20,947] Finished trial#4 with value: 9.49970618725542 with parameters: {'feature_fraction': 0.5}. Best is trial#3 with value: 9.463758681718227.\n",
      "\n",
      "feature_fraction, val_score: 9.463759:  71%|#######1  | 5/7 [00:43<00:16,  8.12s/it]"
     ]
    },
    {
     "name": "stdout",
     "output_type": "stream",
     "text": [
      "Training until validation scores don't improve for 20 rounds\n",
      "[20]\ttraining's rmse: 7.63654\tvalid_1's rmse: 9.45511\n",
      "[40]\ttraining's rmse: 6.26982\tvalid_1's rmse: 9.48287\n",
      "Early stopping, best iteration is:\n",
      "[22]\ttraining's rmse: 7.47822\tvalid_1's rmse: 9.44342\n"
     ]
    },
    {
     "name": "stderr",
     "output_type": "stream",
     "text": [
      "\n",
      "feature_fraction, val_score: 9.443420:  71%|#######1  | 5/7 [00:48<00:16,  8.12s/it]\n",
      "feature_fraction, val_score: 9.443420:  86%|########5 | 6/7 [00:48<00:07,  7.42s/it][I 2020-06-28 21:50:26,764] Finished trial#5 with value: 9.443419764899792 with parameters: {'feature_fraction': 0.4}. Best is trial#5 with value: 9.443419764899792.\n",
      "\n",
      "feature_fraction, val_score: 9.443420:  86%|########5 | 6/7 [00:49<00:07,  7.42s/it]"
     ]
    },
    {
     "name": "stdout",
     "output_type": "stream",
     "text": [
      "Training until validation scores don't improve for 20 rounds\n",
      "[20]\ttraining's rmse: 7.54689\tvalid_1's rmse: 9.50072\n",
      "Early stopping, best iteration is:\n",
      "[16]\ttraining's rmse: 7.88792\tvalid_1's rmse: 9.48365\n"
     ]
    },
    {
     "name": "stderr",
     "output_type": "stream",
     "text": [
      "\n",
      "feature_fraction, val_score: 9.443420:  86%|########5 | 6/7 [00:57<00:07,  7.42s/it]\n",
      "feature_fraction, val_score: 9.443420: 100%|##########| 7/7 [00:57<00:00,  7.71s/it][I 2020-06-28 21:50:35,145] Finished trial#6 with value: 9.483650713624241 with parameters: {'feature_fraction': 0.8}. Best is trial#5 with value: 9.443419764899792.\n",
      "feature_fraction, val_score: 9.443420: 100%|##########| 7/7 [00:57<00:00,  8.21s/it]\n",
      "\n",
      "  0%|          | 0/20 [00:00<?, ?it/s]\n",
      "num_leaves, val_score: 9.443420:   0%|          | 0/20 [00:00<?, ?it/s]"
     ]
    },
    {
     "name": "stdout",
     "output_type": "stream",
     "text": [
      "Training until validation scores don't improve for 20 rounds\n",
      "[20]\ttraining's rmse: 4.18672\tvalid_1's rmse: 9.59314\n",
      "[40]\ttraining's rmse: 1.95357\tvalid_1's rmse: 9.58477\n",
      "Early stopping, best iteration is:\n",
      "[38]\ttraining's rmse: 2.09728\tvalid_1's rmse: 9.58118\n"
     ]
    },
    {
     "name": "stderr",
     "output_type": "stream",
     "text": [
      "\n",
      "num_leaves, val_score: 9.443420:   0%|          | 0/20 [00:21<?, ?it/s]\n",
      "num_leaves, val_score: 9.443420:   5%|5         | 1/20 [00:21<06:52, 21.72s/it][I 2020-06-28 21:50:57,033] Finished trial#7 with value: 9.58117829254982 with parameters: {'num_leaves': 221}. Best is trial#7 with value: 9.58117829254982.\n",
      "\n",
      "num_leaves, val_score: 9.443420:   5%|5         | 1/20 [00:21<06:52, 21.72s/it]"
     ]
    },
    {
     "name": "stdout",
     "output_type": "stream",
     "text": [
      "Training until validation scores don't improve for 20 rounds\n",
      "[20]\ttraining's rmse: 5.76197\tvalid_1's rmse: 9.59161\n",
      "Early stopping, best iteration is:\n",
      "[9]\ttraining's rmse: 7.61473\tvalid_1's rmse: 9.56187\n"
     ]
    },
    {
     "name": "stderr",
     "output_type": "stream",
     "text": [
      "\n",
      "num_leaves, val_score: 9.443420:   5%|5         | 1/20 [00:30<06:52, 21.72s/it]\n",
      "num_leaves, val_score: 9.443420:  10%|#         | 2/20 [00:30<05:20, 17.82s/it][I 2020-06-28 21:51:05,725] Finished trial#8 with value: 9.561873191313767 with parameters: {'num_leaves': 80}. Best is trial#8 with value: 9.561873191313767.\n",
      "\n",
      "num_leaves, val_score: 9.443420:  10%|#         | 2/20 [00:30<05:20, 17.82s/it]"
     ]
    },
    {
     "name": "stdout",
     "output_type": "stream",
     "text": [
      "Training until validation scores don't improve for 20 rounds\n",
      "[20]\ttraining's rmse: 4.18672\tvalid_1's rmse: 9.59314\n",
      "[40]\ttraining's rmse: 1.95357\tvalid_1's rmse: 9.58477\n",
      "Early stopping, best iteration is:\n",
      "[38]\ttraining's rmse: 2.09728\tvalid_1's rmse: 9.58118\n"
     ]
    },
    {
     "name": "stderr",
     "output_type": "stream",
     "text": [
      "\n",
      "num_leaves, val_score: 9.443420:  10%|#         | 2/20 [00:52<05:20, 17.82s/it]\n",
      "num_leaves, val_score: 9.443420:  15%|#5        | 3/20 [00:52<05:26, 19.21s/it][I 2020-06-28 21:51:28,207] Finished trial#9 with value: 9.58117829254982 with parameters: {'num_leaves': 216}. Best is trial#8 with value: 9.561873191313767.\n",
      "\n",
      "num_leaves, val_score: 9.443420:  15%|#5        | 3/20 [00:53<05:26, 19.21s/it]"
     ]
    },
    {
     "name": "stdout",
     "output_type": "stream",
     "text": [
      "Training until validation scores don't improve for 20 rounds\n",
      "[20]\ttraining's rmse: 6.58334\tvalid_1's rmse: 9.517\n",
      "[40]\ttraining's rmse: 4.6438\tvalid_1's rmse: 9.57436\n",
      "Early stopping, best iteration is:\n",
      "[20]\ttraining's rmse: 6.58334\tvalid_1's rmse: 9.517\n"
     ]
    },
    {
     "name": "stderr",
     "output_type": "stream",
     "text": [
      "\n",
      "num_leaves, val_score: 9.443420:  15%|#5        | 3/20 [01:01<05:26, 19.21s/it]\n",
      "num_leaves, val_score: 9.443420:  20%|##        | 4/20 [01:01<04:17, 16.10s/it][I 2020-06-28 21:51:37,062] Finished trial#10 with value: 9.516996566741007 with parameters: {'num_leaves': 56}. Best is trial#10 with value: 9.516996566741007.\n",
      "\n",
      "num_leaves, val_score: 9.443420:  20%|##        | 4/20 [01:01<04:17, 16.10s/it]"
     ]
    },
    {
     "name": "stdout",
     "output_type": "stream",
     "text": [
      "Training until validation scores don't improve for 20 rounds\n",
      "[20]\ttraining's rmse: 5.51123\tvalid_1's rmse: 9.5866\n",
      "Early stopping, best iteration is:\n",
      "[11]\ttraining's rmse: 7.05303\tvalid_1's rmse: 9.57569\n"
     ]
    },
    {
     "name": "stderr",
     "output_type": "stream",
     "text": [
      "\n",
      "num_leaves, val_score: 9.443420:  20%|##        | 4/20 [01:11<04:17, 16.10s/it]\n",
      "num_leaves, val_score: 9.443420:  25%|##5       | 5/20 [01:11<03:31, 14.08s/it][I 2020-06-28 21:51:46,389] Finished trial#11 with value: 9.575691808447697 with parameters: {'num_leaves': 90}. Best is trial#10 with value: 9.516996566741007.\n",
      "\n",
      "num_leaves, val_score: 9.443420:  25%|##5       | 5/20 [01:11<03:31, 14.08s/it]"
     ]
    },
    {
     "name": "stdout",
     "output_type": "stream",
     "text": [
      "Training until validation scores don't improve for 20 rounds\n",
      "[20]\ttraining's rmse: 5.02947\tvalid_1's rmse: 9.57898\n",
      "[40]\ttraining's rmse: 2.72923\tvalid_1's rmse: 9.56905\n",
      "Early stopping, best iteration is:\n",
      "[30]\ttraining's rmse: 3.69353\tvalid_1's rmse: 9.54905\n"
     ]
    },
    {
     "name": "stderr",
     "output_type": "stream",
     "text": [
      "\n",
      "num_leaves, val_score: 9.443420:  25%|##5       | 5/20 [01:27<03:31, 14.08s/it]\n",
      "num_leaves, val_score: 9.443420:  30%|###       | 6/20 [01:27<03:28, 14.86s/it][I 2020-06-28 21:52:03,101] Finished trial#12 with value: 9.54904531851979 with parameters: {'num_leaves': 110}. Best is trial#10 with value: 9.516996566741007.\n",
      "\n",
      "num_leaves, val_score: 9.443420:  30%|###       | 6/20 [01:27<03:28, 14.86s/it]"
     ]
    },
    {
     "name": "stdout",
     "output_type": "stream",
     "text": [
      "Training until validation scores don't improve for 20 rounds\n",
      "[20]\ttraining's rmse: 4.74205\tvalid_1's rmse: 9.58719\n",
      "Early stopping, best iteration is:\n",
      "[17]\ttraining's rmse: 5.26764\tvalid_1's rmse: 9.56735\n"
     ]
    },
    {
     "name": "stderr",
     "output_type": "stream",
     "text": [
      "\n",
      "num_leaves, val_score: 9.443420:  30%|###       | 6/20 [01:40<03:28, 14.86s/it]\n",
      "num_leaves, val_score: 9.443420:  35%|###5      | 7/20 [01:40<03:05, 14.26s/it][I 2020-06-28 21:52:15,955] Finished trial#13 with value: 9.567351654828567 with parameters: {'num_leaves': 124}. Best is trial#10 with value: 9.516996566741007.\n",
      "\n",
      "num_leaves, val_score: 9.443420:  35%|###5      | 7/20 [01:40<03:05, 14.26s/it]"
     ]
    },
    {
     "name": "stdout",
     "output_type": "stream",
     "text": [
      "Training until validation scores don't improve for 20 rounds\n",
      "[20]\ttraining's rmse: 4.18672\tvalid_1's rmse: 9.59314\n",
      "[40]\ttraining's rmse: 1.95357\tvalid_1's rmse: 9.58477\n",
      "Early stopping, best iteration is:\n",
      "[38]\ttraining's rmse: 2.09728\tvalid_1's rmse: 9.58118\n"
     ]
    },
    {
     "name": "stderr",
     "output_type": "stream",
     "text": [
      "\n",
      "num_leaves, val_score: 9.443420:  35%|###5      | 7/20 [02:04<03:05, 14.26s/it]\n",
      "num_leaves, val_score: 9.443420:  40%|####      | 8/20 [02:04<03:25, 17.15s/it][I 2020-06-28 21:52:39,823] Finished trial#14 with value: 9.58117829254982 with parameters: {'num_leaves': 229}. Best is trial#10 with value: 9.516996566741007.\n",
      "\n",
      "num_leaves, val_score: 9.443420:  40%|####      | 8/20 [02:04<03:25, 17.15s/it]"
     ]
    },
    {
     "name": "stdout",
     "output_type": "stream",
     "text": [
      "Training until validation scores don't improve for 20 rounds\n",
      "[20]\ttraining's rmse: 5.85585\tvalid_1's rmse: 9.52996\n",
      "[40]\ttraining's rmse: 3.68555\tvalid_1's rmse: 9.55008\n",
      "Early stopping, best iteration is:\n",
      "[22]\ttraining's rmse: 5.58466\tvalid_1's rmse: 9.51505\n"
     ]
    },
    {
     "name": "stderr",
     "output_type": "stream",
     "text": [
      "\n",
      "num_leaves, val_score: 9.443420:  40%|####      | 8/20 [02:16<03:25, 17.15s/it]\n",
      "num_leaves, val_score: 9.443420:  45%|####5     | 9/20 [02:16<02:50, 15.53s/it][I 2020-06-28 21:52:51,589] Finished trial#15 with value: 9.51505139371872 with parameters: {'num_leaves': 77}. Best is trial#15 with value: 9.51505139371872.\n",
      "\n",
      "num_leaves, val_score: 9.443420:  45%|####5     | 9/20 [02:16<02:50, 15.53s/it]"
     ]
    },
    {
     "name": "stdout",
     "output_type": "stream",
     "text": [
      "Training until validation scores don't improve for 20 rounds\n",
      "[20]\ttraining's rmse: 7.95736\tvalid_1's rmse: 9.4895\n",
      "[40]\ttraining's rmse: 6.77546\tvalid_1's rmse: 9.50907\n",
      "Early stopping, best iteration is:\n",
      "[24]\ttraining's rmse: 7.69591\tvalid_1's rmse: 9.47181\n"
     ]
    },
    {
     "name": "stderr",
     "output_type": "stream",
     "text": [
      "\n",
      "num_leaves, val_score: 9.443420:  45%|####5     | 9/20 [02:20<02:50, 15.53s/it]\n",
      "num_leaves, val_score: 9.443420:  50%|#####     | 10/20 [02:20<02:02, 12.24s/it][I 2020-06-28 21:52:56,157] Finished trial#16 with value: 9.471805109260995 with parameters: {'num_leaves': 25}. Best is trial#16 with value: 9.471805109260995.\n",
      "\n",
      "num_leaves, val_score: 9.443420:  50%|#####     | 10/20 [02:20<02:02, 12.24s/it]"
     ]
    },
    {
     "name": "stdout",
     "output_type": "stream",
     "text": [
      "Training until validation scores don't improve for 20 rounds\n",
      "[20]\ttraining's rmse: 9.07536\tvalid_1's rmse: 9.44969\n",
      "[40]\ttraining's rmse: 8.74397\tvalid_1's rmse: 9.42463\n",
      "[60]\ttraining's rmse: 8.47064\tvalid_1's rmse: 9.42833\n",
      "Early stopping, best iteration is:\n",
      "[41]\ttraining's rmse: 8.72869\tvalid_1's rmse: 9.4218\n"
     ]
    },
    {
     "name": "stderr",
     "output_type": "stream",
     "text": [
      "\n",
      "num_leaves, val_score: 9.421797:  50%|#####     | 10/20 [02:22<02:02, 12.24s/it]\n",
      "num_leaves, val_score: 9.421797:  55%|#####5    | 11/20 [02:22<01:21,  9.09s/it][I 2020-06-28 21:52:57,908] Finished trial#17 with value: 9.421796936053521 with parameters: {'num_leaves': 6}. Best is trial#17 with value: 9.421796936053521.\n",
      "\n",
      "num_leaves, val_score: 9.421797:  55%|#####5    | 11/20 [02:22<01:21,  9.09s/it]"
     ]
    },
    {
     "name": "stdout",
     "output_type": "stream",
     "text": [
      "Training until validation scores don't improve for 20 rounds\n",
      "[20]\ttraining's rmse: 9.37744\tvalid_1's rmse: 9.50311\n",
      "[40]\ttraining's rmse: 9.27006\tvalid_1's rmse: 9.4694\n",
      "[60]\ttraining's rmse: 9.20462\tvalid_1's rmse: 9.45598\n",
      "[80]\ttraining's rmse: 9.15203\tvalid_1's rmse: 9.45334\n",
      "[100]\ttraining's rmse: 9.10489\tvalid_1's rmse: 9.44769\n",
      "[120]\ttraining's rmse: 9.06174\tvalid_1's rmse: 9.45242\n",
      "Early stopping, best iteration is:\n",
      "[105]\ttraining's rmse: 9.09376\tvalid_1's rmse: 9.44513\n"
     ]
    },
    {
     "name": "stderr",
     "output_type": "stream",
     "text": [
      "\n",
      "num_leaves, val_score: 9.421797:  55%|#####5    | 11/20 [02:23<01:21,  9.09s/it]\n",
      "num_leaves, val_score: 9.421797:  60%|######    | 12/20 [02:23<00:53,  6.64s/it][I 2020-06-28 21:52:58,810] Finished trial#18 with value: 9.445130796495281 with parameters: {'num_leaves': 2}. Best is trial#17 with value: 9.421796936053521.\n",
      "\n",
      "num_leaves, val_score: 9.421797:  60%|######    | 12/20 [02:23<00:53,  6.64s/it]"
     ]
    },
    {
     "name": "stdout",
     "output_type": "stream",
     "text": [
      "Training until validation scores don't improve for 20 rounds\n",
      "[20]\ttraining's rmse: 9.14269\tvalid_1's rmse: 9.45938\n",
      "[40]\ttraining's rmse: 8.87296\tvalid_1's rmse: 9.41982\n",
      "[60]\ttraining's rmse: 8.64394\tvalid_1's rmse: 9.42351\n",
      "Early stopping, best iteration is:\n",
      "[55]\ttraining's rmse: 8.70104\tvalid_1's rmse: 9.40666\n"
     ]
    },
    {
     "name": "stderr",
     "output_type": "stream",
     "text": [
      "\n",
      "num_leaves, val_score: 9.406665:  60%|######    | 12/20 [02:25<00:53,  6.64s/it]\n",
      "num_leaves, val_score: 9.406665:  65%|######5   | 13/20 [02:25<00:36,  5.20s/it][I 2020-06-28 21:53:00,662] Finished trial#19 with value: 9.406664773518825 with parameters: {'num_leaves': 5}. Best is trial#19 with value: 9.406664773518825.\n",
      "\n",
      "num_leaves, val_score: 9.406665:  65%|######5   | 13/20 [02:25<00:36,  5.20s/it]"
     ]
    },
    {
     "name": "stdout",
     "output_type": "stream",
     "text": [
      "Training until validation scores don't improve for 20 rounds\n",
      "[20]\ttraining's rmse: 4.21411\tvalid_1's rmse: 9.65748\n",
      "Early stopping, best iteration is:\n",
      "[11]\ttraining's rmse: 6.09688\tvalid_1's rmse: 9.64157\n"
     ]
    },
    {
     "name": "stderr",
     "output_type": "stream",
     "text": [
      "\n",
      "num_leaves, val_score: 9.406665:  65%|######5   | 13/20 [02:37<00:36,  5.20s/it]\n",
      "num_leaves, val_score: 9.406665:  70%|#######   | 14/20 [02:37<00:44,  7.36s/it][I 2020-06-28 21:53:13,076] Finished trial#20 with value: 9.641565185599571 with parameters: {'num_leaves': 164}. Best is trial#19 with value: 9.406664773518825.\n",
      "\n",
      "num_leaves, val_score: 9.406665:  70%|#######   | 14/20 [02:37<00:44,  7.36s/it]"
     ]
    },
    {
     "name": "stdout",
     "output_type": "stream",
     "text": [
      "Training until validation scores don't improve for 20 rounds\n",
      "[20]\ttraining's rmse: 8.8172\tvalid_1's rmse: 9.45158\n",
      "[40]\ttraining's rmse: 8.28468\tvalid_1's rmse: 9.46032\n",
      "Early stopping, best iteration is:\n",
      "[20]\ttraining's rmse: 8.8172\tvalid_1's rmse: 9.45158\n"
     ]
    },
    {
     "name": "stderr",
     "output_type": "stream",
     "text": [
      "\n",
      "num_leaves, val_score: 9.406665:  70%|#######   | 14/20 [02:39<00:44,  7.36s/it]\n",
      "num_leaves, val_score: 9.406665:  75%|#######5  | 15/20 [02:39<00:28,  5.79s/it][I 2020-06-28 21:53:15,178] Finished trial#21 with value: 9.451582746905498 with parameters: {'num_leaves': 10}. Best is trial#19 with value: 9.406664773518825.\n",
      "\n",
      "num_leaves, val_score: 9.406665:  75%|#######5  | 15/20 [02:40<00:28,  5.79s/it]"
     ]
    },
    {
     "name": "stdout",
     "output_type": "stream",
     "text": [
      "Training until validation scores don't improve for 20 rounds\n",
      "[20]\ttraining's rmse: 7.46802\tvalid_1's rmse: 9.50867\n",
      "Early stopping, best iteration is:\n",
      "[19]\ttraining's rmse: 7.55784\tvalid_1's rmse: 9.49488\n"
     ]
    },
    {
     "name": "stderr",
     "output_type": "stream",
     "text": [
      "\n",
      "num_leaves, val_score: 9.406665:  75%|#######5  | 15/20 [02:45<00:28,  5.79s/it]\n",
      "num_leaves, val_score: 9.406665:  80%|########  | 16/20 [02:45<00:22,  5.68s/it][I 2020-06-28 21:53:20,624] Finished trial#22 with value: 9.494879522734857 with parameters: {'num_leaves': 35}. Best is trial#19 with value: 9.406664773518825.\n",
      "\n",
      "num_leaves, val_score: 9.406665:  80%|########  | 16/20 [02:45<00:22,  5.68s/it]"
     ]
    },
    {
     "name": "stdout",
     "output_type": "stream",
     "text": [
      "Training until validation scores don't improve for 20 rounds\n",
      "[20]\ttraining's rmse: 4.18672\tvalid_1's rmse: 9.59314\n",
      "[40]\ttraining's rmse: 1.95357\tvalid_1's rmse: 9.58477\n",
      "Early stopping, best iteration is:\n",
      "[38]\ttraining's rmse: 2.09728\tvalid_1's rmse: 9.58118\n"
     ]
    },
    {
     "name": "stderr",
     "output_type": "stream",
     "text": [
      "\n",
      "num_leaves, val_score: 9.406665:  80%|########  | 16/20 [03:08<00:22,  5.68s/it]\n",
      "num_leaves, val_score: 9.406665:  85%|########5 | 17/20 [03:08<00:32, 10.85s/it][I 2020-06-28 21:53:43,530] Finished trial#23 with value: 9.58117829254982 with parameters: {'num_leaves': 178}. Best is trial#19 with value: 9.406664773518825.\n",
      "\n",
      "num_leaves, val_score: 9.406665:  85%|########5 | 17/20 [03:08<00:32, 10.85s/it]"
     ]
    },
    {
     "name": "stdout",
     "output_type": "stream",
     "text": [
      "Training until validation scores don't improve for 20 rounds\n",
      "[20]\ttraining's rmse: 7.36731\tvalid_1's rmse: 9.52509\n",
      "[40]\ttraining's rmse: 5.82099\tvalid_1's rmse: 9.51455\n",
      "Early stopping, best iteration is:\n",
      "[22]\ttraining's rmse: 7.18978\tvalid_1's rmse: 9.49354\n"
     ]
    },
    {
     "name": "stderr",
     "output_type": "stream",
     "text": [
      "\n",
      "num_leaves, val_score: 9.406665:  85%|########5 | 17/20 [03:14<00:32, 10.85s/it]\n",
      "num_leaves, val_score: 9.406665:  90%|######### | 18/20 [03:14<00:18,  9.49s/it][I 2020-06-28 21:53:49,830] Finished trial#24 with value: 9.493537806016528 with parameters: {'num_leaves': 37}. Best is trial#19 with value: 9.406664773518825.\n",
      "\n",
      "num_leaves, val_score: 9.406665:  90%|######### | 18/20 [03:14<00:18,  9.49s/it]"
     ]
    },
    {
     "name": "stdout",
     "output_type": "stream",
     "text": [
      "Training until validation scores don't improve for 20 rounds\n",
      "[20]\ttraining's rmse: 9.21473\tvalid_1's rmse: 9.47554\n",
      "[40]\ttraining's rmse: 9.00429\tvalid_1's rmse: 9.45156\n",
      "[60]\ttraining's rmse: 8.83403\tvalid_1's rmse: 9.45258\n",
      "Early stopping, best iteration is:\n",
      "[45]\ttraining's rmse: 8.96055\tvalid_1's rmse: 9.44657\n"
     ]
    },
    {
     "name": "stderr",
     "output_type": "stream",
     "text": [
      "\n",
      "num_leaves, val_score: 9.406665:  90%|######### | 18/20 [03:15<00:18,  9.49s/it]\n",
      "num_leaves, val_score: 9.406665:  95%|#########5| 19/20 [03:15<00:07,  7.01s/it][I 2020-06-28 21:53:51,067] Finished trial#25 with value: 9.446565195431766 with parameters: {'num_leaves': 4}. Best is trial#19 with value: 9.406664773518825.\n",
      "\n",
      "num_leaves, val_score: 9.406665:  95%|#########5| 19/20 [03:15<00:07,  7.01s/it]"
     ]
    },
    {
     "name": "stdout",
     "output_type": "stream",
     "text": [
      "Training until validation scores don't improve for 20 rounds\n",
      "[20]\ttraining's rmse: 6.69464\tvalid_1's rmse: 9.56168\n",
      "[40]\ttraining's rmse: 4.80804\tvalid_1's rmse: 9.56608\n",
      "Early stopping, best iteration is:\n",
      "[33]\ttraining's rmse: 5.38461\tvalid_1's rmse: 9.54431\n"
     ]
    },
    {
     "name": "stderr",
     "output_type": "stream",
     "text": [
      "\n",
      "num_leaves, val_score: 9.406665:  95%|#########5| 19/20 [03:26<00:07,  7.01s/it]\n",
      "num_leaves, val_score: 9.406665: 100%|##########| 20/20 [03:26<00:00,  8.22s/it][I 2020-06-28 21:54:02,111] Finished trial#26 with value: 9.544309683030598 with parameters: {'num_leaves': 53}. Best is trial#19 with value: 9.406664773518825.\n",
      "num_leaves, val_score: 9.406665: 100%|##########| 20/20 [03:26<00:00, 10.35s/it]\n",
      "\n",
      "  0%|          | 0/10 [00:00<?, ?it/s]\n",
      "bagging, val_score: 9.406665:   0%|          | 0/10 [00:00<?, ?it/s]"
     ]
    },
    {
     "name": "stdout",
     "output_type": "stream",
     "text": [
      "Training until validation scores don't improve for 20 rounds\n",
      "[20]\ttraining's rmse: 9.14566\tvalid_1's rmse: 9.48639\n",
      "[40]\ttraining's rmse: 8.8694\tvalid_1's rmse: 9.45174\n",
      "[60]\ttraining's rmse: 8.63882\tvalid_1's rmse: 9.40783\n",
      "[80]\ttraining's rmse: 8.41866\tvalid_1's rmse: 9.41718\n",
      "Early stopping, best iteration is:\n",
      "[65]\ttraining's rmse: 8.58072\tvalid_1's rmse: 9.40375\n"
     ]
    },
    {
     "name": "stderr",
     "output_type": "stream",
     "text": [
      "\n",
      "bagging, val_score: 9.403754:   0%|          | 0/10 [00:01<?, ?it/s]\n",
      "bagging, val_score: 9.403754:  10%|#         | 1/10 [00:01<00:17,  1.91s/it][I 2020-06-28 21:54:04,170] Finished trial#27 with value: 9.403753800685587 with parameters: {'bagging_fraction': 0.8494815113975512, 'bagging_freq': 6}. Best is trial#27 with value: 9.403753800685587.\n",
      "\n",
      "bagging, val_score: 9.403754:  10%|#         | 1/10 [00:02<00:17,  1.91s/it]"
     ]
    },
    {
     "name": "stdout",
     "output_type": "stream",
     "text": [
      "Training until validation scores don't improve for 20 rounds\n",
      "[20]\ttraining's rmse: 9.12715\tvalid_1's rmse: 9.48316\n",
      "[40]\ttraining's rmse: 8.86124\tvalid_1's rmse: 9.44359\n",
      "[60]\ttraining's rmse: 8.6259\tvalid_1's rmse: 9.41203\n",
      "[80]\ttraining's rmse: 8.4116\tvalid_1's rmse: 9.42773\n",
      "Early stopping, best iteration is:\n",
      "[67]\ttraining's rmse: 8.5527\tvalid_1's rmse: 9.40491\n"
     ]
    },
    {
     "name": "stderr",
     "output_type": "stream",
     "text": [
      "\n",
      "bagging, val_score: 9.403754:  10%|#         | 1/10 [00:04<00:17,  1.91s/it]\n",
      "bagging, val_score: 9.403754:  20%|##        | 2/10 [00:04<00:15,  1.96s/it][I 2020-06-28 21:54:06,277] Finished trial#28 with value: 9.404911897900922 with parameters: {'bagging_fraction': 0.5097413568030893, 'bagging_freq': 1}. Best is trial#27 with value: 9.403753800685587.\n",
      "\n",
      "bagging, val_score: 9.403754:  20%|##        | 2/10 [00:04<00:15,  1.96s/it]"
     ]
    },
    {
     "name": "stdout",
     "output_type": "stream",
     "text": [
      "Training until validation scores don't improve for 20 rounds\n",
      "[20]\ttraining's rmse: 9.1481\tvalid_1's rmse: 9.48208\n",
      "[40]\ttraining's rmse: 8.88003\tvalid_1's rmse: 9.45705\n",
      "[60]\ttraining's rmse: 8.64975\tvalid_1's rmse: 9.45071\n",
      "Early stopping, best iteration is:\n",
      "[41]\ttraining's rmse: 8.86569\tvalid_1's rmse: 9.44826\n"
     ]
    },
    {
     "name": "stderr",
     "output_type": "stream",
     "text": [
      "\n",
      "bagging, val_score: 9.403754:  20%|##        | 2/10 [00:05<00:15,  1.96s/it]\n",
      "bagging, val_score: 9.403754:  30%|###       | 3/10 [00:05<00:12,  1.85s/it][I 2020-06-28 21:54:07,853] Finished trial#29 with value: 9.448259412629213 with parameters: {'bagging_fraction': 0.975246303590982, 'bagging_freq': 6}. Best is trial#27 with value: 9.403753800685587.\n",
      "\n",
      "bagging, val_score: 9.403754:  30%|###       | 3/10 [00:05<00:12,  1.85s/it]"
     ]
    },
    {
     "name": "stdout",
     "output_type": "stream",
     "text": [
      "Training until validation scores don't improve for 20 rounds\n",
      "[20]\ttraining's rmse: 9.14725\tvalid_1's rmse: 9.46671\n",
      "[40]\ttraining's rmse: 8.87056\tvalid_1's rmse: 9.45934\n",
      "Early stopping, best iteration is:\n",
      "[28]\ttraining's rmse: 9.02148\tvalid_1's rmse: 9.45295\n"
     ]
    },
    {
     "name": "stderr",
     "output_type": "stream",
     "text": [
      "\n",
      "bagging, val_score: 9.403754:  30%|###       | 3/10 [00:06<00:12,  1.85s/it]\n",
      "bagging, val_score: 9.403754:  40%|####      | 4/10 [00:06<00:10,  1.67s/it][I 2020-06-28 21:54:09,115] Finished trial#30 with value: 9.452949276938625 with parameters: {'bagging_fraction': 0.520946083696435, 'bagging_freq': 3}. Best is trial#27 with value: 9.403753800685587.\n",
      "\n",
      "bagging, val_score: 9.403754:  40%|####      | 4/10 [00:06<00:10,  1.67s/it]"
     ]
    },
    {
     "name": "stdout",
     "output_type": "stream",
     "text": [
      "Training until validation scores don't improve for 20 rounds\n",
      "[20]\ttraining's rmse: 9.1438\tvalid_1's rmse: 9.47324\n",
      "[40]\ttraining's rmse: 8.88053\tvalid_1's rmse: 9.45582\n",
      "Early stopping, best iteration is:\n",
      "[32]\ttraining's rmse: 8.97298\tvalid_1's rmse: 9.44361\n"
     ]
    },
    {
     "name": "stderr",
     "output_type": "stream",
     "text": [
      "\n",
      "bagging, val_score: 9.403754:  40%|####      | 4/10 [00:08<00:10,  1.67s/it]\n",
      "bagging, val_score: 9.403754:  50%|#####     | 5/10 [00:08<00:08,  1.65s/it][I 2020-06-28 21:54:10,701] Finished trial#31 with value: 9.443612874553732 with parameters: {'bagging_fraction': 0.9604442200004317, 'bagging_freq': 7}. Best is trial#27 with value: 9.403753800685587.\n",
      "\n",
      "bagging, val_score: 9.403754:  50%|#####     | 5/10 [00:08<00:08,  1.65s/it]"
     ]
    },
    {
     "name": "stdout",
     "output_type": "stream",
     "text": [
      "Training until validation scores don't improve for 20 rounds\n",
      "[20]\ttraining's rmse: 9.13946\tvalid_1's rmse: 9.49566\n",
      "[40]\ttraining's rmse: 8.86479\tvalid_1's rmse: 9.45236\n",
      "[60]\ttraining's rmse: 8.63839\tvalid_1's rmse: 9.47944\n",
      "Early stopping, best iteration is:\n",
      "[40]\ttraining's rmse: 8.86479\tvalid_1's rmse: 9.45236\n"
     ]
    },
    {
     "name": "stderr",
     "output_type": "stream",
     "text": [
      "\n",
      "bagging, val_score: 9.403754:  50%|#####     | 5/10 [00:10<00:08,  1.65s/it]\n",
      "bagging, val_score: 9.403754:  60%|######    | 6/10 [00:10<00:06,  1.63s/it][I 2020-06-28 21:54:12,265] Finished trial#32 with value: 9.452359285481736 with parameters: {'bagging_fraction': 0.5636311471215438, 'bagging_freq': 6}. Best is trial#27 with value: 9.403753800685587.\n",
      "\n",
      "bagging, val_score: 9.403754:  60%|######    | 6/10 [00:10<00:06,  1.63s/it]"
     ]
    },
    {
     "name": "stdout",
     "output_type": "stream",
     "text": [
      "Training until validation scores don't improve for 20 rounds\n",
      "[20]\ttraining's rmse: 9.15254\tvalid_1's rmse: 9.47837\n",
      "[40]\ttraining's rmse: 8.86887\tvalid_1's rmse: 9.46218\n",
      "[60]\ttraining's rmse: 8.64088\tvalid_1's rmse: 9.44621\n",
      "[80]\ttraining's rmse: 8.42257\tvalid_1's rmse: 9.46015\n",
      "Early stopping, best iteration is:\n",
      "[61]\ttraining's rmse: 8.62997\tvalid_1's rmse: 9.44389\n"
     ]
    },
    {
     "name": "stderr",
     "output_type": "stream",
     "text": [
      "\n",
      "bagging, val_score: 9.403754:  60%|######    | 6/10 [00:11<00:06,  1.63s/it]\n",
      "bagging, val_score: 9.403754:  70%|#######   | 7/10 [00:11<00:05,  1.68s/it][I 2020-06-28 21:54:14,103] Finished trial#33 with value: 9.443892833101835 with parameters: {'bagging_fraction': 0.7567898562480022, 'bagging_freq': 4}. Best is trial#27 with value: 9.403753800685587.\n",
      "\n",
      "bagging, val_score: 9.403754:  70%|#######   | 7/10 [00:11<00:05,  1.68s/it]"
     ]
    },
    {
     "name": "stdout",
     "output_type": "stream",
     "text": [
      "Training until validation scores don't improve for 20 rounds\n",
      "[20]\ttraining's rmse: 9.14175\tvalid_1's rmse: 9.46103\n",
      "[40]\ttraining's rmse: 8.87452\tvalid_1's rmse: 9.42489\n",
      "[60]\ttraining's rmse: 8.65139\tvalid_1's rmse: 9.42963\n",
      "Early stopping, best iteration is:\n",
      "[43]\ttraining's rmse: 8.84097\tvalid_1's rmse: 9.42238\n"
     ]
    },
    {
     "name": "stderr",
     "output_type": "stream",
     "text": [
      "\n",
      "bagging, val_score: 9.403754:  70%|#######   | 7/10 [00:13<00:05,  1.68s/it]\n",
      "bagging, val_score: 9.403754:  80%|########  | 8/10 [00:13<00:03,  1.66s/it][I 2020-06-28 21:54:15,698] Finished trial#34 with value: 9.422375544724689 with parameters: {'bagging_fraction': 0.8575912350789404, 'bagging_freq': 2}. Best is trial#27 with value: 9.403753800685587.\n",
      "\n",
      "bagging, val_score: 9.403754:  80%|########  | 8/10 [00:13<00:03,  1.66s/it]"
     ]
    },
    {
     "name": "stdout",
     "output_type": "stream",
     "text": [
      "Training until validation scores don't improve for 20 rounds\n",
      "[20]\ttraining's rmse: 9.14406\tvalid_1's rmse: 9.45652\n",
      "[40]\ttraining's rmse: 8.87946\tvalid_1's rmse: 9.48536\n",
      "Early stopping, best iteration is:\n",
      "[20]\ttraining's rmse: 9.14406\tvalid_1's rmse: 9.45652\n"
     ]
    },
    {
     "name": "stderr",
     "output_type": "stream",
     "text": [
      "\n",
      "bagging, val_score: 9.403754:  80%|########  | 8/10 [00:14<00:03,  1.66s/it]\n",
      "bagging, val_score: 9.403754:  90%|######### | 9/10 [00:14<00:01,  1.48s/it][I 2020-06-28 21:54:16,781] Finished trial#35 with value: 9.456521770677805 with parameters: {'bagging_fraction': 0.648894199601223, 'bagging_freq': 7}. Best is trial#27 with value: 9.403753800685587.\n",
      "\n",
      "bagging, val_score: 9.403754:  90%|######### | 9/10 [00:14<00:01,  1.48s/it]"
     ]
    },
    {
     "name": "stdout",
     "output_type": "stream",
     "text": [
      "Training until validation scores don't improve for 20 rounds\n",
      "[20]\ttraining's rmse: 9.14674\tvalid_1's rmse: 9.48069\n",
      "[40]\ttraining's rmse: 8.86986\tvalid_1's rmse: 9.45479\n",
      "[60]\ttraining's rmse: 8.64123\tvalid_1's rmse: 9.484\n",
      "Early stopping, best iteration is:\n",
      "[42]\ttraining's rmse: 8.84375\tvalid_1's rmse: 9.44855\n"
     ]
    },
    {
     "name": "stderr",
     "output_type": "stream",
     "text": [
      "\n",
      "bagging, val_score: 9.403754:  90%|######### | 9/10 [00:16<00:01,  1.48s/it]\n",
      "bagging, val_score: 9.403754: 100%|##########| 10/10 [00:16<00:00,  1.51s/it][I 2020-06-28 21:54:18,373] Finished trial#36 with value: 9.448547138768115 with parameters: {'bagging_fraction': 0.9848347611632763, 'bagging_freq': 4}. Best is trial#27 with value: 9.403753800685587.\n",
      "bagging, val_score: 9.403754: 100%|##########| 10/10 [00:16<00:00,  1.62s/it]\n",
      "\n",
      "  0%|          | 0/3 [00:00<?, ?it/s]\n",
      "feature_fraction_stage2, val_score: 9.403754:   0%|          | 0/3 [00:00<?, ?it/s]"
     ]
    },
    {
     "name": "stdout",
     "output_type": "stream",
     "text": [
      "Training until validation scores don't improve for 20 rounds\n",
      "[20]\ttraining's rmse: 9.14566\tvalid_1's rmse: 9.48639\n",
      "[40]\ttraining's rmse: 8.86667\tvalid_1's rmse: 9.45793\n",
      "[60]\ttraining's rmse: 8.64034\tvalid_1's rmse: 9.44886\n",
      "Early stopping, best iteration is:\n",
      "[54]\ttraining's rmse: 8.70504\tvalid_1's rmse: 9.44468\n"
     ]
    },
    {
     "name": "stderr",
     "output_type": "stream",
     "text": [
      "\n",
      "feature_fraction_stage2, val_score: 9.403754:   0%|          | 0/3 [00:01<?, ?it/s]\n",
      "feature_fraction_stage2, val_score: 9.403754:  33%|###3      | 1/3 [00:01<00:03,  1.75s/it][I 2020-06-28 21:54:20,263] Finished trial#37 with value: 9.444679689098603 with parameters: {'feature_fraction': 0.41600000000000004}. Best is trial#37 with value: 9.444679689098603.\n",
      "\n",
      "feature_fraction_stage2, val_score: 9.403754:  33%|###3      | 1/3 [00:01<00:03,  1.75s/it]"
     ]
    },
    {
     "name": "stdout",
     "output_type": "stream",
     "text": [
      "Training until validation scores don't improve for 20 rounds\n",
      "[20]\ttraining's rmse: 9.14888\tvalid_1's rmse: 9.49243\n",
      "[40]\ttraining's rmse: 8.86611\tvalid_1's rmse: 9.4647\n",
      "[60]\ttraining's rmse: 8.63818\tvalid_1's rmse: 9.45403\n",
      "[80]\ttraining's rmse: 8.42048\tvalid_1's rmse: 9.44838\n",
      "[100]\ttraining's rmse: 8.21769\tvalid_1's rmse: 9.4527\n",
      "Early stopping, best iteration is:\n",
      "[87]\ttraining's rmse: 8.34479\tvalid_1's rmse: 9.44321\n"
     ]
    },
    {
     "name": "stderr",
     "output_type": "stream",
     "text": [
      "\n",
      "feature_fraction_stage2, val_score: 9.403754:  33%|###3      | 1/3 [00:04<00:03,  1.75s/it]\n",
      "feature_fraction_stage2, val_score: 9.403754:  67%|######6   | 2/3 [00:04<00:01,  1.98s/it][I 2020-06-28 21:54:22,774] Finished trial#38 with value: 9.443212372763426 with parameters: {'feature_fraction': 0.44800000000000006}. Best is trial#38 with value: 9.443212372763426.\n",
      "\n",
      "feature_fraction_stage2, val_score: 9.403754:  67%|######6   | 2/3 [00:04<00:01,  1.98s/it]"
     ]
    },
    {
     "name": "stdout",
     "output_type": "stream",
     "text": [
      "Training until validation scores don't improve for 20 rounds\n",
      "[20]\ttraining's rmse: 9.14631\tvalid_1's rmse: 9.48198\n",
      "[40]\ttraining's rmse: 8.8644\tvalid_1's rmse: 9.47365\n",
      "[60]\ttraining's rmse: 8.63688\tvalid_1's rmse: 9.46058\n",
      "[80]\ttraining's rmse: 8.4123\tvalid_1's rmse: 9.45483\n",
      "[100]\ttraining's rmse: 8.21099\tvalid_1's rmse: 9.45106\n",
      "Early stopping, best iteration is:\n",
      "[96]\ttraining's rmse: 8.24757\tvalid_1's rmse: 9.44756\n"
     ]
    },
    {
     "name": "stderr",
     "output_type": "stream",
     "text": [
      "\n",
      "feature_fraction_stage2, val_score: 9.403754:  67%|######6   | 2/3 [00:07<00:01,  1.98s/it]\n",
      "feature_fraction_stage2, val_score: 9.403754: 100%|##########| 3/3 [00:07<00:00,  2.36s/it][I 2020-06-28 21:54:26,045] Finished trial#39 with value: 9.447559944587738 with parameters: {'feature_fraction': 0.48000000000000004}. Best is trial#38 with value: 9.443212372763426.\n",
      "feature_fraction_stage2, val_score: 9.403754: 100%|##########| 3/3 [00:07<00:00,  2.56s/it]\n",
      "\n",
      "  0%|          | 0/20 [00:00<?, ?it/s]\n",
      "regularization_factors, val_score: 9.403754:   0%|          | 0/20 [00:00<?, ?it/s]"
     ]
    },
    {
     "name": "stdout",
     "output_type": "stream",
     "text": [
      "Training until validation scores don't improve for 20 rounds\n",
      "[20]\ttraining's rmse: 9.14881\tvalid_1's rmse: 9.48069\n",
      "[40]\ttraining's rmse: 8.87541\tvalid_1's rmse: 9.46977\n",
      "[60]\ttraining's rmse: 8.64967\tvalid_1's rmse: 9.45717\n",
      "[80]\ttraining's rmse: 8.43522\tvalid_1's rmse: 9.46876\n",
      "Early stopping, best iteration is:\n",
      "[65]\ttraining's rmse: 8.5938\tvalid_1's rmse: 9.44907\n"
     ]
    },
    {
     "name": "stderr",
     "output_type": "stream",
     "text": [
      "\n",
      "regularization_factors, val_score: 9.403754:   0%|          | 0/20 [00:02<?, ?it/s]\n",
      "regularization_factors, val_score: 9.403754:   5%|5         | 1/20 [00:02<00:43,  2.31s/it][I 2020-06-28 21:54:28,513] Finished trial#40 with value: 9.44907001670531 with parameters: {'lambda_l1': 6.723876559346043, 'lambda_l2': 7.090225541914089e-06}. Best is trial#40 with value: 9.44907001670531.\n",
      "\n",
      "regularization_factors, val_score: 9.403754:   5%|5         | 1/20 [00:02<00:43,  2.31s/it]"
     ]
    },
    {
     "name": "stdout",
     "output_type": "stream",
     "text": [
      "Training until validation scores don't improve for 20 rounds\n",
      "[20]\ttraining's rmse: 9.14556\tvalid_1's rmse: 9.4901\n",
      "[40]\ttraining's rmse: 8.86485\tvalid_1's rmse: 9.45449\n",
      "[60]\ttraining's rmse: 8.63466\tvalid_1's rmse: 9.43545\n",
      "[80]\ttraining's rmse: 8.41028\tvalid_1's rmse: 9.43909\n",
      "Early stopping, best iteration is:\n",
      "[73]\ttraining's rmse: 8.48849\tvalid_1's rmse: 9.42968\n"
     ]
    },
    {
     "name": "stderr",
     "output_type": "stream",
     "text": [
      "\n",
      "regularization_factors, val_score: 9.403754:   5%|5         | 1/20 [00:04<00:43,  2.31s/it]\n",
      "regularization_factors, val_score: 9.403754:  10%|#         | 2/20 [00:04<00:41,  2.31s/it][I 2020-06-28 21:54:30,817] Finished trial#41 with value: 9.429677508849434 with parameters: {'lambda_l1': 0.47182543627903306, 'lambda_l2': 2.1433951860141312e-05}. Best is trial#41 with value: 9.429677508849434.\n",
      "\n",
      "regularization_factors, val_score: 9.403754:  10%|#         | 2/20 [00:04<00:41,  2.31s/it]"
     ]
    },
    {
     "name": "stdout",
     "output_type": "stream",
     "text": [
      "Training until validation scores don't improve for 20 rounds\n",
      "[20]\ttraining's rmse: 9.14551\tvalid_1's rmse: 9.49011\n",
      "[40]\ttraining's rmse: 8.8651\tvalid_1's rmse: 9.45883\n",
      "[60]\ttraining's rmse: 8.63331\tvalid_1's rmse: 9.44609\n",
      "[80]\ttraining's rmse: 8.41295\tvalid_1's rmse: 9.44973\n",
      "Early stopping, best iteration is:\n",
      "[65]\ttraining's rmse: 8.57468\tvalid_1's rmse: 9.44014\n"
     ]
    },
    {
     "name": "stderr",
     "output_type": "stream",
     "text": [
      "\n",
      "regularization_factors, val_score: 9.403754:  10%|#         | 2/20 [00:06<00:41,  2.31s/it]\n",
      "regularization_factors, val_score: 9.403754:  15%|#5        | 3/20 [00:06<00:37,  2.20s/it][I 2020-06-28 21:54:32,766] Finished trial#42 with value: 9.440144416768817 with parameters: {'lambda_l1': 9.450420321022818e-08, 'lambda_l2': 0.07746207743001715}. Best is trial#41 with value: 9.429677508849434.\n",
      "\n",
      "regularization_factors, val_score: 9.403754:  15%|#5        | 3/20 [00:06<00:37,  2.20s/it]"
     ]
    },
    {
     "name": "stdout",
     "output_type": "stream",
     "text": [
      "Training until validation scores don't improve for 20 rounds\n",
      "[20]\ttraining's rmse: 9.14566\tvalid_1's rmse: 9.48639\n",
      "[40]\ttraining's rmse: 8.8694\tvalid_1's rmse: 9.45174\n",
      "[60]\ttraining's rmse: 8.63882\tvalid_1's rmse: 9.40783\n",
      "[80]\ttraining's rmse: 8.41866\tvalid_1's rmse: 9.41718\n",
      "Early stopping, best iteration is:\n",
      "[65]\ttraining's rmse: 8.58072\tvalid_1's rmse: 9.40375\n"
     ]
    },
    {
     "name": "stderr",
     "output_type": "stream",
     "text": [
      "\n",
      "regularization_factors, val_score: 9.403754:  15%|#5        | 3/20 [00:08<00:37,  2.20s/it]\n",
      "regularization_factors, val_score: 9.403754:  20%|##        | 4/20 [00:08<00:34,  2.13s/it][I 2020-06-28 21:54:34,727] Finished trial#43 with value: 9.403753795474273 with parameters: {'lambda_l1': 5.973543392298304e-05, 'lambda_l2': 1.9284248307348133e-05}. Best is trial#43 with value: 9.403753795474273.\n",
      "\n",
      "regularization_factors, val_score: 9.403754:  20%|##        | 4/20 [00:08<00:34,  2.13s/it]"
     ]
    },
    {
     "name": "stdout",
     "output_type": "stream",
     "text": [
      "Training until validation scores don't improve for 20 rounds\n",
      "[20]\ttraining's rmse: 9.14976\tvalid_1's rmse: 9.48096\n",
      "[40]\ttraining's rmse: 8.87466\tvalid_1's rmse: 9.47736\n",
      "[60]\ttraining's rmse: 8.65222\tvalid_1's rmse: 9.45352\n",
      "[80]\ttraining's rmse: 8.43645\tvalid_1's rmse: 9.45078\n",
      "Early stopping, best iteration is:\n",
      "[65]\ttraining's rmse: 8.59607\tvalid_1's rmse: 9.44686\n"
     ]
    },
    {
     "name": "stderr",
     "output_type": "stream",
     "text": [
      "\n",
      "regularization_factors, val_score: 9.403754:  20%|##        | 4/20 [00:10<00:34,  2.13s/it]\n",
      "regularization_factors, val_score: 9.403754:  25%|##5       | 5/20 [00:10<00:31,  2.10s/it][I 2020-06-28 21:54:36,770] Finished trial#44 with value: 9.44686338611132 with parameters: {'lambda_l1': 9.126234208064872e-06, 'lambda_l2': 2.7585495860314615}. Best is trial#43 with value: 9.403753795474273.\n",
      "\n",
      "regularization_factors, val_score: 9.403754:  25%|##5       | 5/20 [00:10<00:31,  2.10s/it]"
     ]
    },
    {
     "name": "stdout",
     "output_type": "stream",
     "text": [
      "Training until validation scores don't improve for 20 rounds\n",
      "[20]\ttraining's rmse: 9.14566\tvalid_1's rmse: 9.48639\n",
      "[40]\ttraining's rmse: 8.8694\tvalid_1's rmse: 9.45174\n",
      "[60]\ttraining's rmse: 8.63882\tvalid_1's rmse: 9.40783\n",
      "[80]\ttraining's rmse: 8.41866\tvalid_1's rmse: 9.41718\n",
      "Early stopping, best iteration is:\n",
      "[65]\ttraining's rmse: 8.58072\tvalid_1's rmse: 9.40375\n"
     ]
    },
    {
     "name": "stderr",
     "output_type": "stream",
     "text": [
      "\n",
      "regularization_factors, val_score: 9.403754:  25%|##5       | 5/20 [00:12<00:31,  2.10s/it]\n",
      "regularization_factors, val_score: 9.403754:  30%|###       | 6/20 [00:12<00:29,  2.08s/it][I 2020-06-28 21:54:38,786] Finished trial#45 with value: 9.40375379671948 with parameters: {'lambda_l1': 3.7802898210037633e-07, 'lambda_l2': 9.699700994888826e-05}. Best is trial#43 with value: 9.403753795474273.\n",
      "\n",
      "regularization_factors, val_score: 9.403754:  30%|###       | 6/20 [00:12<00:29,  2.08s/it]"
     ]
    },
    {
     "name": "stdout",
     "output_type": "stream",
     "text": [
      "Training until validation scores don't improve for 20 rounds\n",
      "[20]\ttraining's rmse: 9.14821\tvalid_1's rmse: 9.4809\n",
      "[40]\ttraining's rmse: 8.87474\tvalid_1's rmse: 9.47219\n",
      "[60]\ttraining's rmse: 8.64079\tvalid_1's rmse: 9.44602\n",
      "[80]\ttraining's rmse: 8.42589\tvalid_1's rmse: 9.45363\n",
      "Early stopping, best iteration is:\n",
      "[63]\ttraining's rmse: 8.60523\tvalid_1's rmse: 9.44509\n"
     ]
    },
    {
     "name": "stderr",
     "output_type": "stream",
     "text": [
      "\n",
      "regularization_factors, val_score: 9.403754:  30%|###       | 6/20 [00:14<00:29,  2.08s/it]\n",
      "regularization_factors, val_score: 9.403754:  35%|###5      | 7/20 [00:14<00:26,  2.05s/it][I 2020-06-28 21:54:40,770] Finished trial#46 with value: 9.445094737082425 with parameters: {'lambda_l1': 7.788688007368646e-06, 'lambda_l2': 1.4363314396311122}. Best is trial#43 with value: 9.403753795474273.\n",
      "\n",
      "regularization_factors, val_score: 9.403754:  35%|###5      | 7/20 [00:14<00:26,  2.05s/it]"
     ]
    },
    {
     "name": "stdout",
     "output_type": "stream",
     "text": [
      "Training until validation scores don't improve for 20 rounds\n",
      "[20]\ttraining's rmse: 9.14953\tvalid_1's rmse: 9.48095\n",
      "[40]\ttraining's rmse: 8.87643\tvalid_1's rmse: 9.46608\n",
      "[60]\ttraining's rmse: 8.65724\tvalid_1's rmse: 9.4556\n",
      "Early stopping, best iteration is:\n",
      "[50]\ttraining's rmse: 8.75956\tvalid_1's rmse: 9.44592\n"
     ]
    },
    {
     "name": "stderr",
     "output_type": "stream",
     "text": [
      "\n",
      "regularization_factors, val_score: 9.403754:  35%|###5      | 7/20 [00:16<00:26,  2.05s/it]\n",
      "regularization_factors, val_score: 9.403754:  40%|####      | 8/20 [00:16<00:24,  2.05s/it][I 2020-06-28 21:54:42,811] Finished trial#47 with value: 9.445919105120781 with parameters: {'lambda_l1': 1.2750967864056195e-05, 'lambda_l2': 2.5597734309497433}. Best is trial#43 with value: 9.403753795474273.\n",
      "\n",
      "regularization_factors, val_score: 9.403754:  40%|####      | 8/20 [00:16<00:24,  2.05s/it]"
     ]
    },
    {
     "name": "stdout",
     "output_type": "stream",
     "text": [
      "Training until validation scores don't improve for 20 rounds\n",
      "[20]\ttraining's rmse: 9.14581\tvalid_1's rmse: 9.49009\n",
      "[40]\ttraining's rmse: 8.86545\tvalid_1's rmse: 9.45446\n",
      "[60]\ttraining's rmse: 8.63114\tvalid_1's rmse: 9.43989\n",
      "[80]\ttraining's rmse: 8.4094\tvalid_1's rmse: 9.43442\n",
      "[100]\ttraining's rmse: 8.21328\tvalid_1's rmse: 9.42723\n",
      "[120]\ttraining's rmse: 8.02418\tvalid_1's rmse: 9.43625\n",
      "Early stopping, best iteration is:\n",
      "[105]\ttraining's rmse: 8.1676\tvalid_1's rmse: 9.4223\n"
     ]
    },
    {
     "name": "stderr",
     "output_type": "stream",
     "text": [
      "\n",
      "regularization_factors, val_score: 9.403754:  40%|####      | 8/20 [00:19<00:24,  2.05s/it]\n",
      "regularization_factors, val_score: 9.403754:  45%|####5     | 9/20 [00:19<00:25,  2.32s/it][I 2020-06-28 21:54:45,766] Finished trial#48 with value: 9.422295513419424 with parameters: {'lambda_l1': 0.36871958076859973, 'lambda_l2': 0.18753838495241063}. Best is trial#43 with value: 9.403753795474273.\n",
      "\n",
      "regularization_factors, val_score: 9.403754:  45%|####5     | 9/20 [00:19<00:25,  2.32s/it]"
     ]
    },
    {
     "name": "stdout",
     "output_type": "stream",
     "text": [
      "Training until validation scores don't improve for 20 rounds\n",
      "[20]\ttraining's rmse: 9.14566\tvalid_1's rmse: 9.48639\n",
      "[40]\ttraining's rmse: 8.8694\tvalid_1's rmse: 9.45174\n",
      "[60]\ttraining's rmse: 8.63882\tvalid_1's rmse: 9.40783\n",
      "[80]\ttraining's rmse: 8.41866\tvalid_1's rmse: 9.41718\n",
      "Early stopping, best iteration is:\n",
      "[65]\ttraining's rmse: 8.58072\tvalid_1's rmse: 9.40375\n"
     ]
    },
    {
     "name": "stderr",
     "output_type": "stream",
     "text": [
      "\n",
      "regularization_factors, val_score: 9.403754:  45%|####5     | 9/20 [00:21<00:25,  2.32s/it]\n",
      "regularization_factors, val_score: 9.403754:  50%|#####     | 10/20 [00:21<00:22,  2.22s/it][I 2020-06-28 21:54:47,763] Finished trial#49 with value: 9.403753787942057 with parameters: {'lambda_l1': 1.2457936907148096e-07, 'lambda_l2': 0.00030149647360124226}. Best is trial#49 with value: 9.403753787942057.\n",
      "\n",
      "regularization_factors, val_score: 9.403754:  50%|#####     | 10/20 [00:21<00:22,  2.22s/it]"
     ]
    },
    {
     "name": "stdout",
     "output_type": "stream",
     "text": [
      "Training until validation scores don't improve for 20 rounds\n",
      "[20]\ttraining's rmse: 9.14566\tvalid_1's rmse: 9.48639\n",
      "[40]\ttraining's rmse: 8.8694\tvalid_1's rmse: 9.45174\n",
      "[60]\ttraining's rmse: 8.63882\tvalid_1's rmse: 9.40783\n",
      "[80]\ttraining's rmse: 8.41866\tvalid_1's rmse: 9.41718\n",
      "Early stopping, best iteration is:\n",
      "[65]\ttraining's rmse: 8.58072\tvalid_1's rmse: 9.40375\n"
     ]
    },
    {
     "name": "stderr",
     "output_type": "stream",
     "text": [
      "\n",
      "regularization_factors, val_score: 9.403754:  50%|#####     | 10/20 [00:23<00:22,  2.22s/it]\n",
      "regularization_factors, val_score: 9.403754:  55%|#####5    | 11/20 [00:23<00:19,  2.17s/it][I 2020-06-28 21:54:49,826] Finished trial#50 with value: 9.403753800690327 with parameters: {'lambda_l1': 1.0360825374596304e-08, 'lambda_l2': 1.062211130935135e-08}. Best is trial#49 with value: 9.403753787942057.\n",
      "\n",
      "regularization_factors, val_score: 9.403754:  55%|#####5    | 11/20 [00:23<00:19,  2.17s/it]"
     ]
    },
    {
     "name": "stdout",
     "output_type": "stream",
     "text": [
      "Training until validation scores don't improve for 20 rounds\n",
      "[20]\ttraining's rmse: 9.14566\tvalid_1's rmse: 9.48639\n",
      "[40]\ttraining's rmse: 8.8694\tvalid_1's rmse: 9.45174\n",
      "[60]\ttraining's rmse: 8.63882\tvalid_1's rmse: 9.40783\n",
      "[80]\ttraining's rmse: 8.41866\tvalid_1's rmse: 9.41718\n",
      "Early stopping, best iteration is:\n",
      "[65]\ttraining's rmse: 8.58073\tvalid_1's rmse: 9.40375\n"
     ]
    },
    {
     "name": "stderr",
     "output_type": "stream",
     "text": [
      "\n",
      "regularization_factors, val_score: 9.403754:  55%|#####5    | 11/20 [00:25<00:19,  2.17s/it]\n",
      "regularization_factors, val_score: 9.403754:  60%|######    | 12/20 [00:25<00:16,  2.12s/it][I 2020-06-28 21:54:51,806] Finished trial#51 with value: 9.403753626522498 with parameters: {'lambda_l1': 0.002304655242908671, 'lambda_l2': 1.6131836832666485e-07}. Best is trial#51 with value: 9.403753626522498.\n",
      "\n",
      "regularization_factors, val_score: 9.403754:  60%|######    | 12/20 [00:25<00:16,  2.12s/it]"
     ]
    },
    {
     "name": "stdout",
     "output_type": "stream",
     "text": [
      "Training until validation scores don't improve for 20 rounds\n",
      "[20]\ttraining's rmse: 9.14566\tvalid_1's rmse: 9.48639\n",
      "[40]\ttraining's rmse: 8.86941\tvalid_1's rmse: 9.45174\n",
      "[60]\ttraining's rmse: 8.63883\tvalid_1's rmse: 9.40783\n",
      "[80]\ttraining's rmse: 8.41867\tvalid_1's rmse: 9.41718\n",
      "Early stopping, best iteration is:\n",
      "[65]\ttraining's rmse: 8.58073\tvalid_1's rmse: 9.40375\n"
     ]
    },
    {
     "name": "stderr",
     "output_type": "stream",
     "text": [
      "\n",
      "regularization_factors, val_score: 9.403753:  60%|######    | 12/20 [00:27<00:16,  2.12s/it]\n",
      "regularization_factors, val_score: 9.403753:  65%|######5   | 13/20 [00:27<00:14,  2.06s/it][I 2020-06-28 21:54:53,746] Finished trial#52 with value: 9.40375326488514 with parameters: {'lambda_l1': 0.007078770313559114, 'lambda_l2': 7.928257317169228e-08}. Best is trial#52 with value: 9.40375326488514.\n",
      "\n",
      "regularization_factors, val_score: 9.403753:  65%|######5   | 13/20 [00:27<00:14,  2.06s/it]"
     ]
    },
    {
     "name": "stdout",
     "output_type": "stream",
     "text": [
      "Training until validation scores don't improve for 20 rounds\n",
      "[20]\ttraining's rmse: 9.14566\tvalid_1's rmse: 9.48639\n",
      "[40]\ttraining's rmse: 8.8694\tvalid_1's rmse: 9.45174\n",
      "[60]\ttraining's rmse: 8.63883\tvalid_1's rmse: 9.40783\n",
      "[80]\ttraining's rmse: 8.41866\tvalid_1's rmse: 9.41718\n",
      "Early stopping, best iteration is:\n",
      "[65]\ttraining's rmse: 8.58073\tvalid_1's rmse: 9.40375\n"
     ]
    },
    {
     "name": "stderr",
     "output_type": "stream",
     "text": [
      "\n",
      "regularization_factors, val_score: 9.403753:  65%|######5   | 13/20 [00:29<00:14,  2.06s/it]\n",
      "regularization_factors, val_score: 9.403753:  70%|#######   | 14/20 [00:29<00:12,  2.04s/it][I 2020-06-28 21:54:55,731] Finished trial#53 with value: 9.40375349602148 with parameters: {'lambda_l1': 0.004029474705381164, 'lambda_l2': 1.9853139420973926e-08}. Best is trial#52 with value: 9.40375326488514.\n",
      "\n",
      "regularization_factors, val_score: 9.403753:  70%|#######   | 14/20 [00:29<00:12,  2.04s/it]"
     ]
    },
    {
     "name": "stdout",
     "output_type": "stream",
     "text": [
      "Training until validation scores don't improve for 20 rounds\n",
      "[20]\ttraining's rmse: 9.14566\tvalid_1's rmse: 9.48639\n",
      "[40]\ttraining's rmse: 8.8694\tvalid_1's rmse: 9.45174\n",
      "[60]\ttraining's rmse: 8.63883\tvalid_1's rmse: 9.40783\n",
      "[80]\ttraining's rmse: 8.41866\tvalid_1's rmse: 9.41718\n",
      "Early stopping, best iteration is:\n",
      "[65]\ttraining's rmse: 8.58073\tvalid_1's rmse: 9.40375\n"
     ]
    },
    {
     "name": "stderr",
     "output_type": "stream",
     "text": [
      "\n",
      "regularization_factors, val_score: 9.403753:  70%|#######   | 14/20 [00:31<00:12,  2.04s/it]\n",
      "regularization_factors, val_score: 9.403753:  75%|#######5  | 15/20 [00:31<00:10,  2.10s/it][I 2020-06-28 21:54:57,968] Finished trial#54 with value: 9.403753522006832 with parameters: {'lambda_l1': 0.0036866151657809734, 'lambda_l2': 1.7090203293776597e-08}. Best is trial#52 with value: 9.40375326488514.\n",
      "\n",
      "regularization_factors, val_score: 9.403753:  75%|#######5  | 15/20 [00:31<00:10,  2.10s/it]"
     ]
    },
    {
     "name": "stdout",
     "output_type": "stream",
     "text": [
      "Training until validation scores don't improve for 20 rounds\n",
      "[20]\ttraining's rmse: 9.14567\tvalid_1's rmse: 9.48639\n",
      "[40]\ttraining's rmse: 8.86942\tvalid_1's rmse: 9.45174\n",
      "[60]\ttraining's rmse: 8.63886\tvalid_1's rmse: 9.40783\n",
      "[80]\ttraining's rmse: 8.4187\tvalid_1's rmse: 9.41718\n",
      "Early stopping, best iteration is:\n",
      "[65]\ttraining's rmse: 8.58076\tvalid_1's rmse: 9.40375\n"
     ]
    },
    {
     "name": "stderr",
     "output_type": "stream",
     "text": [
      "\n",
      "regularization_factors, val_score: 9.403752:  75%|#######5  | 15/20 [00:34<00:10,  2.10s/it]\n",
      "regularization_factors, val_score: 9.403752:  80%|########  | 16/20 [00:34<00:08,  2.20s/it][I 2020-06-28 21:55:00,407] Finished trial#55 with value: 9.403751669713861 with parameters: {'lambda_l1': 0.02815917736921707, 'lambda_l2': 7.017644116367758e-07}. Best is trial#55 with value: 9.403751669713861.\n",
      "\n",
      "regularization_factors, val_score: 9.403752:  80%|########  | 16/20 [00:34<00:08,  2.20s/it]"
     ]
    },
    {
     "name": "stdout",
     "output_type": "stream",
     "text": [
      "Training until validation scores don't improve for 20 rounds\n",
      "[20]\ttraining's rmse: 9.1457\tvalid_1's rmse: 9.48639\n",
      "[40]\ttraining's rmse: 8.86951\tvalid_1's rmse: 9.45174\n",
      "[60]\ttraining's rmse: 8.63898\tvalid_1's rmse: 9.40782\n",
      "[80]\ttraining's rmse: 8.41888\tvalid_1's rmse: 9.41716\n",
      "Early stopping, best iteration is:\n",
      "[65]\ttraining's rmse: 8.5809\tvalid_1's rmse: 9.40374\n"
     ]
    },
    {
     "name": "stderr",
     "output_type": "stream",
     "text": [
      "\n",
      "regularization_factors, val_score: 9.403744:  80%|########  | 16/20 [00:36<00:08,  2.20s/it]\n",
      "regularization_factors, val_score: 9.403744:  85%|########5 | 17/20 [00:36<00:06,  2.14s/it][I 2020-06-28 21:55:02,390] Finished trial#56 with value: 9.403744256424215 with parameters: {'lambda_l1': 0.1261695140175684, 'lambda_l2': 3.473111048464773e-07}. Best is trial#56 with value: 9.403744256424215.\n",
      "\n",
      "regularization_factors, val_score: 9.403744:  85%|########5 | 17/20 [00:36<00:06,  2.14s/it]"
     ]
    },
    {
     "name": "stdout",
     "output_type": "stream",
     "text": [
      "Training until validation scores don't improve for 20 rounds\n",
      "[20]\ttraining's rmse: 9.14571\tvalid_1's rmse: 9.48639\n",
      "[40]\ttraining's rmse: 8.86951\tvalid_1's rmse: 9.45174\n",
      "[60]\ttraining's rmse: 8.63899\tvalid_1's rmse: 9.40782\n",
      "[80]\ttraining's rmse: 8.41889\tvalid_1's rmse: 9.41716\n",
      "Early stopping, best iteration is:\n",
      "[65]\ttraining's rmse: 8.58091\tvalid_1's rmse: 9.40374\n"
     ]
    },
    {
     "name": "stderr",
     "output_type": "stream",
     "text": [
      "\n",
      "regularization_factors, val_score: 9.403744:  85%|########5 | 17/20 [00:38<00:06,  2.14s/it]\n",
      "regularization_factors, val_score: 9.403744:  90%|######### | 18/20 [00:38<00:04,  2.05s/it][I 2020-06-28 21:55:04,247] Finished trial#57 with value: 9.403743681132948 with parameters: {'lambda_l1': 0.133778384579985, 'lambda_l2': 6.90432039775484e-07}. Best is trial#57 with value: 9.403743681132948.\n",
      "\n",
      "regularization_factors, val_score: 9.403744:  90%|######### | 18/20 [00:38<00:04,  2.05s/it]"
     ]
    },
    {
     "name": "stdout",
     "output_type": "stream",
     "text": [
      "Training until validation scores don't improve for 20 rounds\n",
      "[20]\ttraining's rmse: 9.14898\tvalid_1's rmse: 9.48068\n",
      "[40]\ttraining's rmse: 8.87577\tvalid_1's rmse: 9.46972\n",
      "[60]\ttraining's rmse: 8.65026\tvalid_1's rmse: 9.45709\n",
      "[80]\ttraining's rmse: 8.43525\tvalid_1's rmse: 9.46971\n",
      "Early stopping, best iteration is:\n",
      "[65]\ttraining's rmse: 8.59445\tvalid_1's rmse: 9.44899\n"
     ]
    },
    {
     "name": "stderr",
     "output_type": "stream",
     "text": [
      "\n",
      "regularization_factors, val_score: 9.403744:  90%|######### | 18/20 [00:40<00:04,  2.05s/it]\n",
      "regularization_factors, val_score: 9.403744:  95%|#########5| 19/20 [00:40<00:02,  2.05s/it][I 2020-06-28 21:55:06,309] Finished trial#58 with value: 9.448989589426116 with parameters: {'lambda_l1': 7.175229344003455, 'lambda_l2': 0.006651068749215585}. Best is trial#57 with value: 9.403743681132948.\n",
      "\n",
      "regularization_factors, val_score: 9.403744:  95%|#########5| 19/20 [00:40<00:02,  2.05s/it]"
     ]
    },
    {
     "name": "stdout",
     "output_type": "stream",
     "text": [
      "Training until validation scores don't improve for 20 rounds\n",
      "[20]\ttraining's rmse: 9.14547\tvalid_1's rmse: 9.49011\n",
      "[40]\ttraining's rmse: 8.86464\tvalid_1's rmse: 9.4545\n",
      "[60]\ttraining's rmse: 8.63546\tvalid_1's rmse: 9.4358\n",
      "[80]\ttraining's rmse: 8.41535\tvalid_1's rmse: 9.42883\n",
      "[100]\ttraining's rmse: 8.22122\tvalid_1's rmse: 9.42913\n",
      "Early stopping, best iteration is:\n",
      "[87]\ttraining's rmse: 8.34549\tvalid_1's rmse: 9.42175\n"
     ]
    },
    {
     "name": "stderr",
     "output_type": "stream",
     "text": [
      "\n",
      "regularization_factors, val_score: 9.403744:  95%|#########5| 19/20 [00:42<00:02,  2.05s/it]\n",
      "regularization_factors, val_score: 9.403744: 100%|##########| 20/20 [00:42<00:00,  2.11s/it][I 2020-06-28 21:55:08,524] Finished trial#59 with value: 9.421747013235146 with parameters: {'lambda_l1': 0.2207332678634962, 'lambda_l2': 1.2991466189092076e-06}. Best is trial#57 with value: 9.403743681132948.\n",
      "regularization_factors, val_score: 9.403744: 100%|##########| 20/20 [00:42<00:00,  2.12s/it]\n",
      "\n",
      "  0%|          | 0/5 [00:00<?, ?it/s]\n",
      "min_data_in_leaf, val_score: 9.403744:   0%|          | 0/5 [00:00<?, ?it/s]"
     ]
    },
    {
     "name": "stdout",
     "output_type": "stream",
     "text": [
      "Training until validation scores don't improve for 20 rounds\n",
      "[20]\ttraining's rmse: 9.1505\tvalid_1's rmse: 9.47512\n",
      "[40]\ttraining's rmse: 8.88317\tvalid_1's rmse: 9.45805\n",
      "[60]\ttraining's rmse: 8.66306\tvalid_1's rmse: 9.44891\n",
      "[80]\ttraining's rmse: 8.45786\tvalid_1's rmse: 9.46486\n",
      "Early stopping, best iteration is:\n",
      "[65]\ttraining's rmse: 8.61014\tvalid_1's rmse: 9.44622\n"
     ]
    },
    {
     "name": "stderr",
     "output_type": "stream",
     "text": [
      "\n",
      "min_data_in_leaf, val_score: 9.403744:   0%|          | 0/5 [00:01<?, ?it/s]\n",
      "min_data_in_leaf, val_score: 9.403744:  20%|##        | 1/5 [00:01<00:06,  1.64s/it][I 2020-06-28 21:55:10,295] Finished trial#60 with value: 9.446220785167009 with parameters: {'min_child_samples': 100}. Best is trial#60 with value: 9.446220785167009.\n",
      "\n",
      "min_data_in_leaf, val_score: 9.403744:  20%|##        | 1/5 [00:01<00:06,  1.64s/it]"
     ]
    },
    {
     "name": "stdout",
     "output_type": "stream",
     "text": [
      "Training until validation scores don't improve for 20 rounds\n",
      "[20]\ttraining's rmse: 9.14629\tvalid_1's rmse: 9.48442\n",
      "[40]\ttraining's rmse: 8.86861\tvalid_1's rmse: 9.45925\n",
      "[60]\ttraining's rmse: 8.64249\tvalid_1's rmse: 9.43764\n",
      "[80]\ttraining's rmse: 8.4264\tvalid_1's rmse: 9.4489\n",
      "Early stopping, best iteration is:\n",
      "[65]\ttraining's rmse: 8.58619\tvalid_1's rmse: 9.43204\n"
     ]
    },
    {
     "name": "stderr",
     "output_type": "stream",
     "text": [
      "\n",
      "min_data_in_leaf, val_score: 9.403744:  20%|##        | 1/5 [00:03<00:06,  1.64s/it]\n",
      "min_data_in_leaf, val_score: 9.403744:  40%|####      | 2/5 [00:03<00:05,  1.73s/it][I 2020-06-28 21:55:12,257] Finished trial#61 with value: 9.432042734882527 with parameters: {'min_child_samples': 25}. Best is trial#61 with value: 9.432042734882527.\n",
      "\n",
      "min_data_in_leaf, val_score: 9.403744:  40%|####      | 2/5 [00:03<00:05,  1.73s/it]"
     ]
    },
    {
     "name": "stdout",
     "output_type": "stream",
     "text": [
      "Training until validation scores don't improve for 20 rounds\n",
      "[20]\ttraining's rmse: 9.15153\tvalid_1's rmse: 9.47957\n",
      "[40]\ttraining's rmse: 8.8764\tvalid_1's rmse: 9.44773\n",
      "[60]\ttraining's rmse: 8.65194\tvalid_1's rmse: 9.44606\n",
      "Early stopping, best iteration is:\n",
      "[43]\ttraining's rmse: 8.83882\tvalid_1's rmse: 9.43889\n"
     ]
    },
    {
     "name": "stderr",
     "output_type": "stream",
     "text": [
      "\n",
      "min_data_in_leaf, val_score: 9.403744:  40%|####      | 2/5 [00:05<00:05,  1.73s/it]\n",
      "min_data_in_leaf, val_score: 9.403744:  60%|######    | 3/5 [00:05<00:03,  1.75s/it][I 2020-06-28 21:55:14,054] Finished trial#62 with value: 9.438891717792957 with parameters: {'min_child_samples': 50}. Best is trial#61 with value: 9.432042734882527.\n",
      "\n",
      "min_data_in_leaf, val_score: 9.403744:  60%|######    | 3/5 [00:05<00:03,  1.75s/it]"
     ]
    },
    {
     "name": "stdout",
     "output_type": "stream",
     "text": [
      "Training until validation scores don't improve for 20 rounds\n",
      "[20]\ttraining's rmse: 9.15246\tvalid_1's rmse: 9.49794\n",
      "[40]\ttraining's rmse: 8.87748\tvalid_1's rmse: 9.48752\n",
      "[60]\ttraining's rmse: 8.64419\tvalid_1's rmse: 9.47196\n",
      "[80]\ttraining's rmse: 8.41234\tvalid_1's rmse: 9.47359\n",
      "Early stopping, best iteration is:\n",
      "[60]\ttraining's rmse: 8.64419\tvalid_1's rmse: 9.47196\n"
     ]
    },
    {
     "name": "stderr",
     "output_type": "stream",
     "text": [
      "\n",
      "min_data_in_leaf, val_score: 9.403744:  60%|######    | 3/5 [00:07<00:03,  1.75s/it]\n",
      "min_data_in_leaf, val_score: 9.403744:  80%|########  | 4/5 [00:07<00:01,  1.92s/it][I 2020-06-28 21:55:16,373] Finished trial#63 with value: 9.47195928195812 with parameters: {'min_child_samples': 10}. Best is trial#61 with value: 9.432042734882527.\n",
      "\n",
      "min_data_in_leaf, val_score: 9.403744:  80%|########  | 4/5 [00:07<00:01,  1.92s/it]"
     ]
    },
    {
     "name": "stdout",
     "output_type": "stream",
     "text": [
      "Training until validation scores don't improve for 20 rounds\n",
      "[20]\ttraining's rmse: 9.14824\tvalid_1's rmse: 9.49156\n",
      "[40]\ttraining's rmse: 8.8742\tvalid_1's rmse: 9.48057\n",
      "[60]\ttraining's rmse: 8.63934\tvalid_1's rmse: 9.44937\n",
      "[80]\ttraining's rmse: 8.41747\tvalid_1's rmse: 9.43515\n",
      "[100]\ttraining's rmse: 8.2192\tvalid_1's rmse: 9.45242\n",
      "Early stopping, best iteration is:\n",
      "[80]\ttraining's rmse: 8.41747\tvalid_1's rmse: 9.43515\n"
     ]
    },
    {
     "name": "stderr",
     "output_type": "stream",
     "text": [
      "\n",
      "min_data_in_leaf, val_score: 9.403744:  80%|########  | 4/5 [00:10<00:01,  1.92s/it]\n",
      "min_data_in_leaf, val_score: 9.403744: 100%|##########| 5/5 [00:10<00:00,  2.09s/it][I 2020-06-28 21:55:18,867] Finished trial#64 with value: 9.435154311612758 with parameters: {'min_child_samples': 5}. Best is trial#61 with value: 9.432042734882527.\n",
      "min_data_in_leaf, val_score: 9.403744: 100%|##########| 5/5 [00:10<00:00,  2.07s/it]\n"
     ]
    },
    {
     "data": {
      "image/png": "[encoded data removed]",
      "text/plain": [
       "<Figure size 576x576 with 1 Axes>"
      ]
     },
     "metadata": {
      "needs_background": "light"
     },
     "output_type": "display_data"
    },
    {
     "name": "stdout",
     "output_type": "stream",
     "text": [
      "==< age >==\n",
      "X_train : (4407, 1459)\n"
     ]
    },
    {
     "name": "stderr",
     "output_type": "stream",
     "text": [
      "C:\\Users\\USER\\anaconda3\\envs\\tf115\\lib\\site-packages\\optuna\\_experimental.py:61: ExperimentalWarning: train is experimental (supported from v0.18.0). The interface can change in the future.\n",
      "  ExperimentalWarning,\n",
      "C:\\Users\\USER\\anaconda3\\envs\\tf115\\lib\\site-packages\\optuna\\_experimental.py:83: ExperimentalWarning: LightGBMTuner is experimental (supported from v1.5.0). The interface can change in the future.\n",
      "  ExperimentalWarning,\n",
      "\n",
      "  0%|          | 0/7 [00:00<?, ?it/s]\n",
      "feature_fraction, val_score: inf:   0%|          | 0/7 [00:00<?, ?it/s]"
     ]
    },
    {
     "name": "stdout",
     "output_type": "stream",
     "text": [
      "Training until validation scores don't improve for 20 rounds\n",
      "[20]\ttraining's rmse: 8.78533\tvalid_1's rmse: 10.8899\n",
      "Early stopping, best iteration is:\n",
      "[3]\ttraining's rmse: 10.6157\tvalid_1's rmse: 10.8184\n"
     ]
    },
    {
     "name": "stderr",
     "output_type": "stream",
     "text": [
      "\n",
      "feature_fraction, val_score: 10.818359:   0%|          | 0/7 [00:06<?, ?it/s]\n",
      "feature_fraction, val_score: 10.818359:  14%|#4        | 1/7 [00:06<00:41,  6.94s/it][I 2020-06-28 21:55:26,959] Finished trial#0 with value: 10.818359319570392 with parameters: {'feature_fraction': 0.8999999999999999}. Best is trial#0 with value: 10.818359319570392.\n",
      "\n",
      "feature_fraction, val_score: 10.818359:  14%|#4        | 1/7 [00:07<00:41,  6.94s/it]"
     ]
    },
    {
     "name": "stdout",
     "output_type": "stream",
     "text": [
      "Training until validation scores don't improve for 20 rounds\n",
      "[20]\ttraining's rmse: 8.7717\tvalid_1's rmse: 10.8451\n",
      "Early stopping, best iteration is:\n",
      "[1]\ttraining's rmse: 10.8659\tvalid_1's rmse: 10.8229\n"
     ]
    },
    {
     "name": "stderr",
     "output_type": "stream",
     "text": [
      "\n",
      "feature_fraction, val_score: 10.818359:  14%|#4        | 1/7 [00:13<00:41,  6.94s/it]\n",
      "feature_fraction, val_score: 10.818359:  29%|##8       | 2/7 [00:13<00:33,  6.79s/it][I 2020-06-28 21:55:33,399] Finished trial#1 with value: 10.822930572218889 with parameters: {'feature_fraction': 1.0}. Best is trial#0 with value: 10.818359319570392.\n",
      "\n",
      "feature_fraction, val_score: 10.818359:  29%|##8       | 2/7 [00:13<00:33,  6.79s/it]"
     ]
    },
    {
     "name": "stdout",
     "output_type": "stream",
     "text": [
      "Training until validation scores don't improve for 20 rounds\n",
      "[20]\ttraining's rmse: 8.86403\tvalid_1's rmse: 10.8872\n",
      "Early stopping, best iteration is:\n",
      "[3]\ttraining's rmse: 10.631\tvalid_1's rmse: 10.8094\n"
     ]
    },
    {
     "name": "stderr",
     "output_type": "stream",
     "text": [
      "\n",
      "feature_fraction, val_score: 10.809406:  29%|##8       | 2/7 [00:17<00:33,  6.79s/it]\n",
      "feature_fraction, val_score: 10.809406:  43%|####2     | 3/7 [00:17<00:24,  6.10s/it][I 2020-06-28 21:55:37,895] Finished trial#2 with value: 10.809405914159905 with parameters: {'feature_fraction': 0.7}. Best is trial#2 with value: 10.809405914159905.\n",
      "\n",
      "feature_fraction, val_score: 10.809406:  43%|####2     | 3/7 [00:18<00:24,  6.10s/it]"
     ]
    },
    {
     "name": "stdout",
     "output_type": "stream",
     "text": [
      "Training until validation scores don't improve for 20 rounds\n",
      "[20]\ttraining's rmse: 8.86854\tvalid_1's rmse: 10.9388\n",
      "Early stopping, best iteration is:\n",
      "[1]\ttraining's rmse: 10.871\tvalid_1's rmse: 10.8115\n"
     ]
    },
    {
     "name": "stderr",
     "output_type": "stream",
     "text": [
      "\n",
      "feature_fraction, val_score: 10.809406:  43%|####2     | 3/7 [00:21<00:24,  6.10s/it]\n",
      "feature_fraction, val_score: 10.809406:  57%|#####7    | 4/7 [00:21<00:16,  5.36s/it][I 2020-06-28 21:55:41,547] Finished trial#3 with value: 10.81148428574972 with parameters: {'feature_fraction': 0.6}. Best is trial#2 with value: 10.809405914159905.\n",
      "\n",
      "feature_fraction, val_score: 10.809406:  57%|#####7    | 4/7 [00:21<00:16,  5.36s/it]"
     ]
    },
    {
     "name": "stdout",
     "output_type": "stream",
     "text": [
      "Training until validation scores don't improve for 20 rounds\n",
      "[20]\ttraining's rmse: 8.80939\tvalid_1's rmse: 10.9318\n",
      "Early stopping, best iteration is:\n",
      "[6]\ttraining's rmse: 10.2673\tvalid_1's rmse: 10.8166\n"
     ]
    },
    {
     "name": "stderr",
     "output_type": "stream",
     "text": [
      "\n",
      "feature_fraction, val_score: 10.809406:  57%|#####7    | 4/7 [00:27<00:16,  5.36s/it]\n",
      "feature_fraction, val_score: 10.809406:  71%|#######1  | 5/7 [00:27<00:11,  5.64s/it][I 2020-06-28 21:55:47,840] Finished trial#4 with value: 10.816588340158317 with parameters: {'feature_fraction': 0.8}. Best is trial#2 with value: 10.809405914159905.\n",
      "\n",
      "feature_fraction, val_score: 10.809406:  71%|#######1  | 5/7 [00:27<00:11,  5.64s/it]"
     ]
    },
    {
     "name": "stdout",
     "output_type": "stream",
     "text": [
      "Training until validation scores don't improve for 20 rounds\n",
      "[20]\ttraining's rmse: 8.96105\tvalid_1's rmse: 10.8918\n",
      "Early stopping, best iteration is:\n",
      "[1]\ttraining's rmse: 10.8767\tvalid_1's rmse: 10.8269\n"
     ]
    },
    {
     "name": "stderr",
     "output_type": "stream",
     "text": [
      "\n",
      "feature_fraction, val_score: 10.809406:  71%|#######1  | 5/7 [00:30<00:11,  5.64s/it]\n",
      "feature_fraction, val_score: 10.809406:  86%|########5 | 6/7 [00:30<00:04,  4.79s/it][I 2020-06-28 21:55:50,647] Finished trial#5 with value: 10.826855635272922 with parameters: {'feature_fraction': 0.4}. Best is trial#2 with value: 10.809405914159905.\n",
      "\n",
      "feature_fraction, val_score: 10.809406:  86%|########5 | 6/7 [00:30<00:04,  4.79s/it]"
     ]
    },
    {
     "name": "stdout",
     "output_type": "stream",
     "text": [
      "Training until validation scores don't improve for 20 rounds\n",
      "[20]\ttraining's rmse: 8.89398\tvalid_1's rmse: 10.9008\n",
      "Early stopping, best iteration is:\n",
      "[1]\ttraining's rmse: 10.8809\tvalid_1's rmse: 10.8226\n"
     ]
    },
    {
     "name": "stderr",
     "output_type": "stream",
     "text": [
      "\n",
      "feature_fraction, val_score: 10.809406:  86%|########5 | 6/7 [00:33<00:04,  4.79s/it]\n",
      "feature_fraction, val_score: 10.809406: 100%|##########| 7/7 [00:33<00:00,  4.31s/it][I 2020-06-28 21:55:53,821] Finished trial#6 with value: 10.822571556978275 with parameters: {'feature_fraction': 0.5}. Best is trial#2 with value: 10.809405914159905.\n",
      "feature_fraction, val_score: 10.809406: 100%|##########| 7/7 [00:33<00:00,  4.85s/it]\n",
      "\n",
      "  0%|          | 0/20 [00:00<?, ?it/s]\n",
      "num_leaves, val_score: 10.809406:   0%|          | 0/20 [00:00<?, ?it/s]"
     ]
    },
    {
     "name": "stdout",
     "output_type": "stream",
     "text": [
      "Training until validation scores don't improve for 20 rounds\n",
      "[20]\ttraining's rmse: 7.06355\tvalid_1's rmse: 10.9799\n",
      "Early stopping, best iteration is:\n",
      "[1]\ttraining's rmse: 10.758\tvalid_1's rmse: 10.8161\n"
     ]
    },
    {
     "name": "stderr",
     "output_type": "stream",
     "text": [
      "\n",
      "num_leaves, val_score: 10.809406:   0%|          | 0/20 [00:08<?, ?it/s]\n",
      "num_leaves, val_score: 10.809406:   5%|5         | 1/20 [00:08<02:32,  8.02s/it][I 2020-06-28 21:56:02,005] Finished trial#7 with value: 10.816077091484551 with parameters: {'num_leaves': 67}. Best is trial#7 with value: 10.816077091484551.\n",
      "\n",
      "num_leaves, val_score: 10.809406:   5%|5         | 1/20 [00:08<02:32,  8.02s/it]"
     ]
    },
    {
     "name": "stdout",
     "output_type": "stream",
     "text": [
      "Training until validation scores don't improve for 20 rounds\n",
      "[20]\ttraining's rmse: 4.88477\tvalid_1's rmse: 11.0634\n",
      "Early stopping, best iteration is:\n",
      "[1]\ttraining's rmse: 10.5491\tvalid_1's rmse: 10.8397\n"
     ]
    },
    {
     "name": "stderr",
     "output_type": "stream",
     "text": [
      "\n",
      "num_leaves, val_score: 10.809406:   5%|5         | 1/20 [00:21<02:32,  8.02s/it]\n",
      "num_leaves, val_score: 10.809406:  10%|#         | 2/20 [00:21<02:52,  9.60s/it][I 2020-06-28 21:56:15,288] Finished trial#8 with value: 10.83965610590134 with parameters: {'num_leaves': 211}. Best is trial#7 with value: 10.816077091484551.\n",
      "\n",
      "num_leaves, val_score: 10.809406:  10%|#         | 2/20 [00:21<02:52,  9.60s/it]"
     ]
    },
    {
     "name": "stdout",
     "output_type": "stream",
     "text": [
      "Training until validation scores don't improve for 20 rounds\n",
      "[20]\ttraining's rmse: 4.88477\tvalid_1's rmse: 11.0634\n",
      "Early stopping, best iteration is:\n",
      "[1]\ttraining's rmse: 10.5491\tvalid_1's rmse: 10.8397\n"
     ]
    },
    {
     "name": "stderr",
     "output_type": "stream",
     "text": [
      "\n",
      "num_leaves, val_score: 10.809406:  10%|#         | 2/20 [00:35<02:52,  9.60s/it]\n",
      "num_leaves, val_score: 10.809406:  15%|#5        | 3/20 [00:35<03:05, 10.91s/it][I 2020-06-28 21:56:29,265] Finished trial#9 with value: 10.83965610590134 with parameters: {'num_leaves': 212}. Best is trial#7 with value: 10.816077091484551.\n",
      "\n",
      "num_leaves, val_score: 10.809406:  15%|#5        | 3/20 [00:35<03:05, 10.91s/it]"
     ]
    },
    {
     "name": "stdout",
     "output_type": "stream",
     "text": [
      "Training until validation scores don't improve for 20 rounds\n",
      "[20]\ttraining's rmse: 4.88477\tvalid_1's rmse: 11.0634\n",
      "Early stopping, best iteration is:\n",
      "[1]\ttraining's rmse: 10.5491\tvalid_1's rmse: 10.8397\n"
     ]
    },
    {
     "name": "stderr",
     "output_type": "stream",
     "text": [
      "\n",
      "num_leaves, val_score: 10.809406:  15%|#5        | 3/20 [00:49<03:05, 10.91s/it]\n",
      "num_leaves, val_score: 10.809406:  20%|##        | 4/20 [00:49<03:08, 11.80s/it][I 2020-06-28 21:56:43,140] Finished trial#10 with value: 10.83965610590134 with parameters: {'num_leaves': 247}. Best is trial#7 with value: 10.816077091484551.\n",
      "\n",
      "num_leaves, val_score: 10.809406:  20%|##        | 4/20 [00:49<03:08, 11.80s/it]"
     ]
    },
    {
     "name": "stdout",
     "output_type": "stream",
     "text": [
      "Training until validation scores don't improve for 20 rounds\n",
      "[20]\ttraining's rmse: 8.14908\tvalid_1's rmse: 10.9018\n",
      "Early stopping, best iteration is:\n",
      "[1]\ttraining's rmse: 10.8323\tvalid_1's rmse: 10.8182\n"
     ]
    },
    {
     "name": "stderr",
     "output_type": "stream",
     "text": [
      "\n",
      "num_leaves, val_score: 10.809406:  20%|##        | 4/20 [00:55<03:08, 11.80s/it]\n",
      "num_leaves, val_score: 10.809406:  25%|##5       | 5/20 [00:55<02:31, 10.07s/it][I 2020-06-28 21:56:49,154] Finished trial#11 with value: 10.81823928738664 with parameters: {'num_leaves': 43}. Best is trial#7 with value: 10.816077091484551.\n",
      "\n",
      "num_leaves, val_score: 10.809406:  25%|##5       | 5/20 [00:55<02:31, 10.07s/it]"
     ]
    },
    {
     "name": "stdout",
     "output_type": "stream",
     "text": [
      "Training until validation scores don't improve for 20 rounds\n",
      "[20]\ttraining's rmse: 4.88477\tvalid_1's rmse: 11.0634\n",
      "Early stopping, best iteration is:\n",
      "[1]\ttraining's rmse: 10.5491\tvalid_1's rmse: 10.8397\n"
     ]
    },
    {
     "name": "stderr",
     "output_type": "stream",
     "text": [
      "\n",
      "num_leaves, val_score: 10.809406:  25%|##5       | 5/20 [01:08<02:31, 10.07s/it]\n",
      "num_leaves, val_score: 10.809406:  30%|###       | 6/20 [01:08<02:34, 11.04s/it][I 2020-06-28 21:57:02,472] Finished trial#12 with value: 10.83965610590134 with parameters: {'num_leaves': 197}. Best is trial#7 with value: 10.816077091484551.\n",
      "\n",
      "num_leaves, val_score: 10.809406:  30%|###       | 6/20 [01:08<02:34, 11.04s/it]"
     ]
    },
    {
     "name": "stdout",
     "output_type": "stream",
     "text": [
      "Training until validation scores don't improve for 20 rounds\n",
      "[20]\ttraining's rmse: 6.75014\tvalid_1's rmse: 10.9646\n",
      "Early stopping, best iteration is:\n",
      "[1]\ttraining's rmse: 10.7296\tvalid_1's rmse: 10.8204\n"
     ]
    },
    {
     "name": "stderr",
     "output_type": "stream",
     "text": [
      "\n",
      "num_leaves, val_score: 10.809406:  30%|###       | 6/20 [01:18<02:34, 11.04s/it]\n",
      "num_leaves, val_score: 10.809406:  35%|###5      | 7/20 [01:18<02:19, 10.74s/it][I 2020-06-28 21:57:12,486] Finished trial#13 with value: 10.820386318222553 with parameters: {'num_leaves': 75}. Best is trial#7 with value: 10.816077091484551.\n",
      "\n",
      "num_leaves, val_score: 10.809406:  35%|###5      | 7/20 [01:18<02:19, 10.74s/it]"
     ]
    },
    {
     "name": "stdout",
     "output_type": "stream",
     "text": [
      "Training until validation scores don't improve for 20 rounds\n",
      "[20]\ttraining's rmse: 5.12003\tvalid_1's rmse: 11.0804\n",
      "Early stopping, best iteration is:\n",
      "[1]\ttraining's rmse: 10.5723\tvalid_1's rmse: 10.8356\n"
     ]
    },
    {
     "name": "stderr",
     "output_type": "stream",
     "text": [
      "\n",
      "num_leaves, val_score: 10.809406:  35%|###5      | 7/20 [01:31<02:19, 10.74s/it]\n",
      "num_leaves, val_score: 10.809406:  40%|####      | 8/20 [01:31<02:17, 11.50s/it][I 2020-06-28 21:57:25,781] Finished trial#14 with value: 10.835624624159168 with parameters: {'num_leaves': 146}. Best is trial#7 with value: 10.816077091484551.\n",
      "\n",
      "num_leaves, val_score: 10.809406:  40%|####      | 8/20 [01:31<02:17, 11.50s/it]"
     ]
    },
    {
     "name": "stdout",
     "output_type": "stream",
     "text": [
      "Training until validation scores don't improve for 20 rounds\n",
      "[20]\ttraining's rmse: 10.4975\tvalid_1's rmse: 10.8566\n",
      "Early stopping, best iteration is:\n",
      "[2]\ttraining's rmse: 10.9426\tvalid_1's rmse: 10.8159\n"
     ]
    },
    {
     "name": "stderr",
     "output_type": "stream",
     "text": [
      "\n",
      "num_leaves, val_score: 10.809406:  40%|####      | 8/20 [01:33<02:17, 11.50s/it]\n",
      "num_leaves, val_score: 10.809406:  45%|####5     | 9/20 [01:33<01:33,  8.49s/it][I 2020-06-28 21:57:27,250] Finished trial#15 with value: 10.815904343604439 with parameters: {'num_leaves': 7}. Best is trial#15 with value: 10.815904343604439.\n",
      "\n",
      "num_leaves, val_score: 10.809406:  45%|####5     | 9/20 [01:33<01:33,  8.49s/it]"
     ]
    },
    {
     "name": "stdout",
     "output_type": "stream",
     "text": [
      "Training until validation scores don't improve for 20 rounds\n",
      "[20]\ttraining's rmse: 7.24541\tvalid_1's rmse: 10.9307\n",
      "Early stopping, best iteration is:\n",
      "[1]\ttraining's rmse: 10.7691\tvalid_1's rmse: 10.8155\n"
     ]
    },
    {
     "name": "stderr",
     "output_type": "stream",
     "text": [
      "\n",
      "num_leaves, val_score: 10.809406:  45%|####5     | 9/20 [01:40<01:33,  8.49s/it]\n",
      "num_leaves, val_score: 10.809406:  50%|#####     | 10/20 [01:40<01:21,  8.14s/it][I 2020-06-28 21:57:34,566] Finished trial#16 with value: 10.815513694758671 with parameters: {'num_leaves': 63}. Best is trial#16 with value: 10.815513694758671.\n",
      "\n",
      "num_leaves, val_score: 10.809406:  50%|#####     | 10/20 [01:40<01:21,  8.14s/it]"
     ]
    },
    {
     "name": "stdout",
     "output_type": "stream",
     "text": [
      "Training until validation scores don't improve for 20 rounds\n",
      "[20]\ttraining's rmse: 5.70065\tvalid_1's rmse: 10.9595\n",
      "Early stopping, best iteration is:\n",
      "[1]\ttraining's rmse: 10.6341\tvalid_1's rmse: 10.8258\n"
     ]
    },
    {
     "name": "stderr",
     "output_type": "stream",
     "text": [
      "\n",
      "num_leaves, val_score: 10.809406:  50%|#####     | 10/20 [01:52<01:21,  8.14s/it]\n",
      "num_leaves, val_score: 10.809406:  55%|#####5    | 11/20 [01:52<01:23,  9.32s/it][I 2020-06-28 21:57:46,649] Finished trial#17 with value: 10.825757560555225 with parameters: {'num_leaves': 112}. Best is trial#16 with value: 10.815513694758671.\n",
      "\n",
      "num_leaves, val_score: 10.809406:  55%|#####5    | 11/20 [01:52<01:23,  9.32s/it]"
     ]
    },
    {
     "name": "stdout",
     "output_type": "stream",
     "text": [
      "Training until validation scores don't improve for 20 rounds\n",
      "[20]\ttraining's rmse: 10.6709\tvalid_1's rmse: 10.8418\n",
      "Early stopping, best iteration is:\n",
      "[2]\ttraining's rmse: 10.9604\tvalid_1's rmse: 10.8165\n"
     ]
    },
    {
     "name": "stderr",
     "output_type": "stream",
     "text": [
      "\n",
      "num_leaves, val_score: 10.809406:  55%|#####5    | 11/20 [01:53<01:23,  9.32s/it]\n",
      "num_leaves, val_score: 10.809406:  60%|######    | 12/20 [01:53<00:54,  6.82s/it][I 2020-06-28 21:57:47,634] Finished trial#18 with value: 10.816493623225375 with parameters: {'num_leaves': 5}. Best is trial#16 with value: 10.815513694758671.\n",
      "\n",
      "num_leaves, val_score: 10.809406:  60%|######    | 12/20 [01:53<00:54,  6.82s/it]"
     ]
    },
    {
     "name": "stdout",
     "output_type": "stream",
     "text": [
      "Training until validation scores don't improve for 20 rounds\n",
      "[20]\ttraining's rmse: 10.7524\tvalid_1's rmse: 10.835\n",
      "Early stopping, best iteration is:\n",
      "[2]\ttraining's rmse: 10.9698\tvalid_1's rmse: 10.8142\n"
     ]
    },
    {
     "name": "stderr",
     "output_type": "stream",
     "text": [
      "\n",
      "num_leaves, val_score: 10.809406:  60%|######    | 12/20 [01:54<00:54,  6.82s/it]\n",
      "num_leaves, val_score: 10.809406:  65%|######5   | 13/20 [01:54<00:35,  5.03s/it][I 2020-06-28 21:57:48,487] Finished trial#19 with value: 10.814222077797075 with parameters: {'num_leaves': 4}. Best is trial#19 with value: 10.814222077797075.\n",
      "\n",
      "num_leaves, val_score: 10.809406:  65%|######5   | 13/20 [01:54<00:35,  5.03s/it]"
     ]
    },
    {
     "name": "stdout",
     "output_type": "stream",
     "text": [
      "Training until validation scores don't improve for 20 rounds\n",
      "[20]\ttraining's rmse: 8.72027\tvalid_1's rmse: 10.901\n",
      "Early stopping, best iteration is:\n",
      "[2]\ttraining's rmse: 10.7337\tvalid_1's rmse: 10.8148\n"
     ]
    },
    {
     "name": "stderr",
     "output_type": "stream",
     "text": [
      "\n",
      "num_leaves, val_score: 10.809406:  65%|######5   | 13/20 [01:59<00:35,  5.03s/it]\n",
      "num_leaves, val_score: 10.809406:  70%|#######   | 14/20 [01:59<00:29,  4.94s/it][I 2020-06-28 21:57:53,195] Finished trial#20 with value: 10.814842799473185 with parameters: {'num_leaves': 33}. Best is trial#19 with value: 10.814222077797075.\n",
      "\n",
      "num_leaves, val_score: 10.809406:  70%|#######   | 14/20 [01:59<00:29,  4.94s/it]"
     ]
    },
    {
     "name": "stdout",
     "output_type": "stream",
     "text": [
      "Training until validation scores don't improve for 20 rounds\n",
      "[20]\ttraining's rmse: 10.585\tvalid_1's rmse: 10.8351\n",
      "Early stopping, best iteration is:\n",
      "[2]\ttraining's rmse: 10.9515\tvalid_1's rmse: 10.816\n"
     ]
    },
    {
     "name": "stderr",
     "output_type": "stream",
     "text": [
      "\n",
      "num_leaves, val_score: 10.809406:  70%|#######   | 14/20 [02:00<00:29,  4.94s/it]\n",
      "num_leaves, val_score: 10.809406:  75%|#######5  | 15/20 [02:00<00:19,  3.86s/it][I 2020-06-28 21:57:54,538] Finished trial#21 with value: 10.816041056330024 with parameters: {'num_leaves': 6}. Best is trial#19 with value: 10.814222077797075.\n",
      "\n",
      "num_leaves, val_score: 10.809406:  75%|#######5  | 15/20 [02:00<00:19,  3.86s/it]"
     ]
    },
    {
     "name": "stdout",
     "output_type": "stream",
     "text": [
      "Training until validation scores don't improve for 20 rounds\n",
      "[20]\ttraining's rmse: 8.67416\tvalid_1's rmse: 10.9449\n",
      "Early stopping, best iteration is:\n",
      "[2]\ttraining's rmse: 10.7267\tvalid_1's rmse: 10.8157\n"
     ]
    },
    {
     "name": "stderr",
     "output_type": "stream",
     "text": [
      "\n",
      "num_leaves, val_score: 10.809406:  75%|#######5  | 15/20 [02:05<00:19,  3.86s/it]\n",
      "num_leaves, val_score: 10.809406:  80%|########  | 16/20 [02:05<00:16,  4.20s/it][I 2020-06-28 21:57:59,532] Finished trial#22 with value: 10.81569263700089 with parameters: {'num_leaves': 34}. Best is trial#19 with value: 10.814222077797075.\n",
      "\n",
      "num_leaves, val_score: 10.809406:  80%|########  | 16/20 [02:05<00:16,  4.20s/it]"
     ]
    },
    {
     "name": "stdout",
     "output_type": "stream",
     "text": [
      "Training until validation scores don't improve for 20 rounds\n",
      "[20]\ttraining's rmse: 5.70065\tvalid_1's rmse: 10.9595\n",
      "Early stopping, best iteration is:\n",
      "[1]\ttraining's rmse: 10.6341\tvalid_1's rmse: 10.8258\n"
     ]
    },
    {
     "name": "stderr",
     "output_type": "stream",
     "text": [
      "\n",
      "num_leaves, val_score: 10.809406:  80%|########  | 16/20 [02:18<00:16,  4.20s/it]\n",
      "num_leaves, val_score: 10.809406:  85%|########5 | 17/20 [02:18<00:20,  6.89s/it][I 2020-06-28 21:58:12,685] Finished trial#23 with value: 10.825757560555225 with parameters: {'num_leaves': 112}. Best is trial#19 with value: 10.814222077797075.\n",
      "\n",
      "num_leaves, val_score: 10.809406:  85%|########5 | 17/20 [02:18<00:20,  6.89s/it]"
     ]
    },
    {
     "name": "stdout",
     "output_type": "stream",
     "text": [
      "Training until validation scores don't improve for 20 rounds\n",
      "[20]\ttraining's rmse: 8.57547\tvalid_1's rmse: 10.9643\n",
      "Early stopping, best iteration is:\n",
      "[2]\ttraining's rmse: 10.7219\tvalid_1's rmse: 10.8158\n"
     ]
    },
    {
     "name": "stderr",
     "output_type": "stream",
     "text": [
      "\n",
      "num_leaves, val_score: 10.809406:  85%|########5 | 17/20 [02:23<00:20,  6.89s/it]\n",
      "num_leaves, val_score: 10.809406:  90%|######### | 18/20 [02:23<00:12,  6.29s/it][I 2020-06-28 21:58:17,586] Finished trial#24 with value: 10.815822921156874 with parameters: {'num_leaves': 35}. Best is trial#19 with value: 10.814222077797075.\n",
      "\n",
      "num_leaves, val_score: 10.809406:  90%|######### | 18/20 [02:23<00:12,  6.29s/it]"
     ]
    },
    {
     "name": "stdout",
     "output_type": "stream",
     "text": [
      "Training until validation scores don't improve for 20 rounds\n",
      "[20]\ttraining's rmse: 5.12003\tvalid_1's rmse: 11.0804\n",
      "Early stopping, best iteration is:\n",
      "[1]\ttraining's rmse: 10.5723\tvalid_1's rmse: 10.8356\n"
     ]
    },
    {
     "name": "stderr",
     "output_type": "stream",
     "text": [
      "\n",
      "num_leaves, val_score: 10.809406:  90%|######### | 18/20 [02:35<00:12,  6.29s/it]\n",
      "num_leaves, val_score: 10.809406:  95%|#########5| 19/20 [02:35<00:07,  7.96s/it][I 2020-06-28 21:58:29,454] Finished trial#25 with value: 10.835624624159168 with parameters: {'num_leaves': 146}. Best is trial#19 with value: 10.814222077797075.\n",
      "\n",
      "num_leaves, val_score: 10.809406:  95%|#########5| 19/20 [02:35<00:07,  7.96s/it]"
     ]
    },
    {
     "name": "stdout",
     "output_type": "stream",
     "text": [
      "Training until validation scores don't improve for 20 rounds\n",
      "[20]\ttraining's rmse: 6.08639\tvalid_1's rmse: 11.0613\n",
      "Early stopping, best iteration is:\n",
      "[2]\ttraining's rmse: 10.3591\tvalid_1's rmse: 10.8142\n"
     ]
    },
    {
     "name": "stderr",
     "output_type": "stream",
     "text": [
      "\n",
      "num_leaves, val_score: 10.809406:  95%|#########5| 19/20 [02:45<00:07,  7.96s/it]\n",
      "num_leaves, val_score: 10.809406: 100%|##########| 20/20 [02:45<00:00,  8.52s/it][I 2020-06-28 21:58:39,263] Finished trial#26 with value: 10.814169807297402 with parameters: {'num_leaves': 96}. Best is trial#26 with value: 10.814169807297402.\n",
      "num_leaves, val_score: 10.809406: 100%|##########| 20/20 [02:45<00:00,  8.27s/it]\n",
      "\n",
      "  0%|          | 0/10 [00:00<?, ?it/s]\n",
      "bagging, val_score: 10.809406:   0%|          | 0/10 [00:00<?, ?it/s]"
     ]
    },
    {
     "name": "stdout",
     "output_type": "stream",
     "text": [
      "Training until validation scores don't improve for 20 rounds\n",
      "[20]\ttraining's rmse: 8.85521\tvalid_1's rmse: 10.9012\n",
      "Early stopping, best iteration is:\n",
      "[2]\ttraining's rmse: 10.7526\tvalid_1's rmse: 10.8073\n"
     ]
    },
    {
     "name": "stderr",
     "output_type": "stream",
     "text": [
      "\n",
      "bagging, val_score: 10.807268:   0%|          | 0/10 [00:04<?, ?it/s]\n",
      "bagging, val_score: 10.807268:  10%|#         | 1/10 [00:04<00:37,  4.11s/it][I 2020-06-28 21:58:43,519] Finished trial#27 with value: 10.807268082535776 with parameters: {'bagging_fraction': 0.9692200958695348, 'bagging_freq': 6}. Best is trial#27 with value: 10.807268082535776.\n",
      "\n",
      "bagging, val_score: 10.807268:  10%|#         | 1/10 [00:04<00:37,  4.11s/it]"
     ]
    },
    {
     "name": "stdout",
     "output_type": "stream",
     "text": [
      "Training until validation scores don't improve for 20 rounds\n",
      "[20]\ttraining's rmse: 9.19664\tvalid_1's rmse: 10.9545\n",
      "Early stopping, best iteration is:\n",
      "[1]\ttraining's rmse: 10.8815\tvalid_1's rmse: 10.8048\n"
     ]
    },
    {
     "name": "stderr",
     "output_type": "stream",
     "text": [
      "\n",
      "bagging, val_score: 10.804808:  10%|#         | 1/10 [00:07<00:37,  4.11s/it]\n",
      "bagging, val_score: 10.804808:  20%|##        | 2/10 [00:07<00:31,  3.90s/it][I 2020-06-28 21:58:46,887] Finished trial#28 with value: 10.80480839141979 with parameters: {'bagging_fraction': 0.5226582235947063, 'bagging_freq': 6}. Best is trial#28 with value: 10.80480839141979.\n",
      "\n",
      "bagging, val_score: 10.804808:  20%|##        | 2/10 [00:07<00:31,  3.90s/it]"
     ]
    },
    {
     "name": "stdout",
     "output_type": "stream",
     "text": [
      "Training until validation scores don't improve for 20 rounds\n",
      "[20]\ttraining's rmse: 9.00399\tvalid_1's rmse: 10.9159\n",
      "Early stopping, best iteration is:\n",
      "[3]\ttraining's rmse: 10.6516\tvalid_1's rmse: 10.8032\n"
     ]
    },
    {
     "name": "stderr",
     "output_type": "stream",
     "text": [
      "\n",
      "bagging, val_score: 10.803154:  20%|##        | 2/10 [00:11<00:31,  3.90s/it]\n",
      "bagging, val_score: 10.803154:  30%|###       | 3/10 [00:11<00:27,  3.88s/it][I 2020-06-28 21:58:50,741] Finished trial#29 with value: 10.80315429971041 with parameters: {'bagging_fraction': 0.6348114136485239, 'bagging_freq': 6}. Best is trial#29 with value: 10.80315429971041.\n",
      "\n",
      "bagging, val_score: 10.803154:  30%|###       | 3/10 [00:11<00:27,  3.88s/it]"
     ]
    },
    {
     "name": "stdout",
     "output_type": "stream",
     "text": [
      "Training until validation scores don't improve for 20 rounds\n",
      "[20]\ttraining's rmse: 8.91713\tvalid_1's rmse: 10.953\n",
      "Early stopping, best iteration is:\n",
      "[5]\ttraining's rmse: 10.4184\tvalid_1's rmse: 10.7878\n"
     ]
    },
    {
     "name": "stderr",
     "output_type": "stream",
     "text": [
      "\n",
      "bagging, val_score: 10.787806:  30%|###       | 3/10 [00:15<00:27,  3.88s/it]\n",
      "bagging, val_score: 10.787806:  40%|####      | 4/10 [00:15<00:24,  4.03s/it][I 2020-06-28 21:58:55,124] Finished trial#30 with value: 10.787805777398914 with parameters: {'bagging_fraction': 0.729980240132174, 'bagging_freq': 1}. Best is trial#30 with value: 10.787805777398914.\n",
      "\n",
      "bagging, val_score: 10.787806:  40%|####      | 4/10 [00:15<00:24,  4.03s/it]"
     ]
    },
    {
     "name": "stdout",
     "output_type": "stream",
     "text": [
      "Training until validation scores don't improve for 20 rounds\n",
      "[20]\ttraining's rmse: 9.08583\tvalid_1's rmse: 11.1007\n",
      "Early stopping, best iteration is:\n",
      "[1]\ttraining's rmse: 10.8811\tvalid_1's rmse: 10.8232\n"
     ]
    },
    {
     "name": "stderr",
     "output_type": "stream",
     "text": [
      "\n",
      "bagging, val_score: 10.787806:  40%|####      | 4/10 [00:20<00:24,  4.03s/it]\n",
      "bagging, val_score: 10.787806:  50%|#####     | 5/10 [00:20<00:20,  4.11s/it][I 2020-06-28 21:58:59,438] Finished trial#31 with value: 10.823240021924558 with parameters: {'bagging_fraction': 0.5908363173027759, 'bagging_freq': 5}. Best is trial#30 with value: 10.787805777398914.\n",
      "\n",
      "bagging, val_score: 10.787806:  50%|#####     | 5/10 [00:20<00:20,  4.11s/it]"
     ]
    },
    {
     "name": "stdout",
     "output_type": "stream",
     "text": [
      "Training until validation scores don't improve for 20 rounds\n",
      "[20]\ttraining's rmse: 8.85312\tvalid_1's rmse: 10.9078\n",
      "Early stopping, best iteration is:\n",
      "[2]\ttraining's rmse: 10.7514\tvalid_1's rmse: 10.8139\n"
     ]
    },
    {
     "name": "stderr",
     "output_type": "stream",
     "text": [
      "\n",
      "bagging, val_score: 10.787806:  50%|#####     | 5/10 [00:24<00:20,  4.11s/it]\n",
      "bagging, val_score: 10.787806:  60%|######    | 6/10 [00:24<00:16,  4.20s/it][I 2020-06-28 21:59:03,835] Finished trial#32 with value: 10.813919443573354 with parameters: {'bagging_fraction': 0.9765978439475026, 'bagging_freq': 3}. Best is trial#30 with value: 10.787805777398914.\n",
      "\n",
      "bagging, val_score: 10.787806:  60%|######    | 6/10 [00:24<00:16,  4.20s/it]"
     ]
    },
    {
     "name": "stdout",
     "output_type": "stream",
     "text": [
      "Training until validation scores don't improve for 20 rounds\n",
      "[20]\ttraining's rmse: 8.86531\tvalid_1's rmse: 11.0005\n",
      "Early stopping, best iteration is:\n",
      "[3]\ttraining's rmse: 10.6164\tvalid_1's rmse: 10.8191\n"
     ]
    },
    {
     "name": "stderr",
     "output_type": "stream",
     "text": [
      "\n",
      "bagging, val_score: 10.787806:  60%|######    | 6/10 [00:28<00:16,  4.20s/it]\n",
      "bagging, val_score: 10.787806:  70%|#######   | 7/10 [00:28<00:12,  4.22s/it][I 2020-06-28 21:59:08,112] Finished trial#33 with value: 10.819056238692557 with parameters: {'bagging_fraction': 0.9044141233068493, 'bagging_freq': 7}. Best is trial#30 with value: 10.787805777398914.\n",
      "\n",
      "bagging, val_score: 10.787806:  70%|#######   | 7/10 [00:28<00:12,  4.22s/it]"
     ]
    },
    {
     "name": "stdout",
     "output_type": "stream",
     "text": [
      "Training until validation scores don't improve for 20 rounds\n",
      "[20]\ttraining's rmse: 8.83223\tvalid_1's rmse: 10.9509\n",
      "Early stopping, best iteration is:\n",
      "[1]\ttraining's rmse: 10.8712\tvalid_1's rmse: 10.8171\n"
     ]
    },
    {
     "name": "stderr",
     "output_type": "stream",
     "text": [
      "\n",
      "bagging, val_score: 10.787806:  70%|#######   | 7/10 [00:32<00:12,  4.22s/it]\n",
      "bagging, val_score: 10.787806:  80%|########  | 8/10 [00:32<00:08,  4.12s/it][I 2020-06-28 21:59:11,998] Finished trial#34 with value: 10.817059175930726 with parameters: {'bagging_fraction': 0.9857601346314611, 'bagging_freq': 2}. Best is trial#30 with value: 10.787805777398914.\n",
      "\n",
      "bagging, val_score: 10.787806:  80%|########  | 8/10 [00:32<00:08,  4.12s/it]"
     ]
    },
    {
     "name": "stdout",
     "output_type": "stream",
     "text": [
      "Training until validation scores don't improve for 20 rounds\n",
      "[20]\ttraining's rmse: 8.83644\tvalid_1's rmse: 10.8762\n",
      "Early stopping, best iteration is:\n",
      "[5]\ttraining's rmse: 10.3952\tvalid_1's rmse: 10.8093\n"
     ]
    },
    {
     "name": "stderr",
     "output_type": "stream",
     "text": [
      "\n",
      "bagging, val_score: 10.787806:  80%|########  | 8/10 [00:37<00:08,  4.12s/it]\n",
      "bagging, val_score: 10.787806:  90%|######### | 9/10 [00:37<00:04,  4.26s/it][I 2020-06-28 21:59:16,583] Finished trial#35 with value: 10.809332865360627 with parameters: {'bagging_fraction': 0.9599676376311213, 'bagging_freq': 7}. Best is trial#30 with value: 10.787805777398914.\n",
      "\n",
      "bagging, val_score: 10.787806:  90%|######### | 9/10 [00:37<00:04,  4.26s/it]"
     ]
    },
    {
     "name": "stdout",
     "output_type": "stream",
     "text": [
      "Training until validation scores don't improve for 20 rounds\n",
      "[20]\ttraining's rmse: 8.89724\tvalid_1's rmse: 10.8927\n",
      "Early stopping, best iteration is:\n",
      "[2]\ttraining's rmse: 10.7661\tvalid_1's rmse: 10.8128\n"
     ]
    },
    {
     "name": "stderr",
     "output_type": "stream",
     "text": [
      "\n",
      "bagging, val_score: 10.787806:  90%|######### | 9/10 [00:41<00:04,  4.26s/it]\n",
      "bagging, val_score: 10.787806: 100%|##########| 10/10 [00:41<00:00,  4.19s/it][I 2020-06-28 21:59:20,611] Finished trial#36 with value: 10.812814246704349 with parameters: {'bagging_fraction': 0.8569325379529165, 'bagging_freq': 3}. Best is trial#30 with value: 10.787805777398914.\n",
      "bagging, val_score: 10.787806: 100%|##########| 10/10 [00:41<00:00,  4.13s/it]\n",
      "\n",
      "  0%|          | 0/6 [00:00<?, ?it/s]\n",
      "feature_fraction_stage2, val_score: 10.787806:   0%|          | 0/6 [00:00<?, ?it/s]"
     ]
    },
    {
     "name": "stdout",
     "output_type": "stream",
     "text": [
      "Training until validation scores don't improve for 20 rounds\n",
      "[20]\ttraining's rmse: 8.90367\tvalid_1's rmse: 10.9898\n",
      "Early stopping, best iteration is:\n",
      "[1]\ttraining's rmse: 10.8777\tvalid_1's rmse: 10.8266\n"
     ]
    },
    {
     "name": "stderr",
     "output_type": "stream",
     "text": [
      "\n",
      "feature_fraction_stage2, val_score: 10.787806:   0%|          | 0/6 [00:03<?, ?it/s]\n",
      "feature_fraction_stage2, val_score: 10.787806:  17%|#6        | 1/6 [00:03<00:18,  3.67s/it][I 2020-06-28 21:59:24,425] Finished trial#37 with value: 10.826556348324052 with parameters: {'feature_fraction': 0.748}. Best is trial#37 with value: 10.826556348324052.\n",
      "\n",
      "feature_fraction_stage2, val_score: 10.787806:  17%|#6        | 1/6 [00:03<00:18,  3.67s/it]"
     ]
    },
    {
     "name": "stdout",
     "output_type": "stream",
     "text": [
      "Training until validation scores don't improve for 20 rounds\n",
      "[20]\ttraining's rmse: 8.92939\tvalid_1's rmse: 10.9769\n",
      "Early stopping, best iteration is:\n",
      "[4]\ttraining's rmse: 10.532\tvalid_1's rmse: 10.8152\n"
     ]
    },
    {
     "name": "stderr",
     "output_type": "stream",
     "text": [
      "\n",
      "feature_fraction_stage2, val_score: 10.787806:  17%|#6        | 1/6 [00:07<00:18,  3.67s/it]\n",
      "feature_fraction_stage2, val_score: 10.787806:  33%|###3      | 2/6 [00:07<00:14,  3.73s/it][I 2020-06-28 21:59:28,276] Finished trial#38 with value: 10.8152199875963 with parameters: {'feature_fraction': 0.652}. Best is trial#38 with value: 10.8152199875963.\n",
      "\n",
      "feature_fraction_stage2, val_score: 10.787806:  33%|###3      | 2/6 [00:07<00:14,  3.73s/it]"
     ]
    },
    {
     "name": "stdout",
     "output_type": "stream",
     "text": [
      "Training until validation scores don't improve for 20 rounds\n",
      "[20]\ttraining's rmse: 8.91203\tvalid_1's rmse: 10.8633\n",
      "Early stopping, best iteration is:\n",
      "[5]\ttraining's rmse: 10.4122\tvalid_1's rmse: 10.7867\n"
     ]
    },
    {
     "name": "stderr",
     "output_type": "stream",
     "text": [
      "\n",
      "feature_fraction_stage2, val_score: 10.786725:  33%|###3      | 2/6 [00:12<00:14,  3.73s/it]\n",
      "feature_fraction_stage2, val_score: 10.786725:  50%|#####     | 3/6 [00:12<00:11,  3.98s/it][I 2020-06-28 21:59:32,828] Finished trial#39 with value: 10.78672461385828 with parameters: {'feature_fraction': 0.6839999999999999}. Best is trial#39 with value: 10.78672461385828.\n",
      "\n",
      "feature_fraction_stage2, val_score: 10.786725:  50%|#####     | 3/6 [00:12<00:11,  3.98s/it]"
     ]
    },
    {
     "name": "stdout",
     "output_type": "stream",
     "text": [
      "Training until validation scores don't improve for 20 rounds\n",
      "[20]\ttraining's rmse: 8.90543\tvalid_1's rmse: 10.9884\n",
      "Early stopping, best iteration is:\n",
      "[4]\ttraining's rmse: 10.5229\tvalid_1's rmse: 10.8261\n"
     ]
    },
    {
     "name": "stderr",
     "output_type": "stream",
     "text": [
      "\n",
      "feature_fraction_stage2, val_score: 10.786725:  50%|#####     | 3/6 [00:16<00:11,  3.98s/it]\n",
      "feature_fraction_stage2, val_score: 10.786725:  67%|######6   | 4/6 [00:16<00:08,  4.01s/it][I 2020-06-28 21:59:36,921] Finished trial#40 with value: 10.82610764763178 with parameters: {'feature_fraction': 0.716}. Best is trial#39 with value: 10.78672461385828.\n",
      "\n",
      "feature_fraction_stage2, val_score: 10.786725:  67%|######6   | 4/6 [00:16<00:08,  4.01s/it]"
     ]
    },
    {
     "name": "stdout",
     "output_type": "stream",
     "text": [
      "Training until validation scores don't improve for 20 rounds\n",
      "[20]\ttraining's rmse: 8.91118\tvalid_1's rmse: 10.8794\n",
      "Early stopping, best iteration is:\n",
      "[1]\ttraining's rmse: 10.8834\tvalid_1's rmse: 10.8115\n"
     ]
    },
    {
     "name": "stderr",
     "output_type": "stream",
     "text": [
      "\n",
      "feature_fraction_stage2, val_score: 10.786725:  67%|######6   | 4/6 [00:19<00:08,  4.01s/it]\n",
      "feature_fraction_stage2, val_score: 10.786725:  83%|########3 | 5/6 [00:19<00:03,  3.80s/it][I 2020-06-28 21:59:40,223] Finished trial#41 with value: 10.811494734582967 with parameters: {'feature_fraction': 0.62}. Best is trial#39 with value: 10.78672461385828.\n",
      "\n",
      "feature_fraction_stage2, val_score: 10.786725:  83%|########3 | 5/6 [00:19<00:03,  3.80s/it]"
     ]
    },
    {
     "name": "stdout",
     "output_type": "stream",
     "text": [
      "Training until validation scores don't improve for 20 rounds\n",
      "[20]\ttraining's rmse: 8.89165\tvalid_1's rmse: 10.9098\n",
      "Early stopping, best iteration is:\n",
      "[5]\ttraining's rmse: 10.4188\tvalid_1's rmse: 10.8181\n"
     ]
    },
    {
     "name": "stderr",
     "output_type": "stream",
     "text": [
      "\n",
      "feature_fraction_stage2, val_score: 10.786725:  83%|########3 | 5/6 [00:24<00:03,  3.80s/it]\n",
      "feature_fraction_stage2, val_score: 10.786725: 100%|##########| 6/6 [00:24<00:00,  4.08s/it][I 2020-06-28 21:59:44,993] Finished trial#42 with value: 10.818103142625551 with parameters: {'feature_fraction': 0.7799999999999999}. Best is trial#39 with value: 10.78672461385828.\n",
      "feature_fraction_stage2, val_score: 10.786725: 100%|##########| 6/6 [00:24<00:00,  4.06s/it]\n",
      "\n",
      "  0%|          | 0/20 [00:00<?, ?it/s]\n",
      "regularization_factors, val_score: 10.786725:   0%|          | 0/20 [00:00<?, ?it/s]"
     ]
    },
    {
     "name": "stdout",
     "output_type": "stream",
     "text": [
      "Training until validation scores don't improve for 20 rounds\n",
      "[20]\ttraining's rmse: 8.90929\tvalid_1's rmse: 10.8823\n",
      "Early stopping, best iteration is:\n",
      "[4]\ttraining's rmse: 10.5163\tvalid_1's rmse: 10.7983\n"
     ]
    },
    {
     "name": "stderr",
     "output_type": "stream",
     "text": [
      "\n",
      "regularization_factors, val_score: 10.786725:   0%|          | 0/20 [00:04<?, ?it/s]\n",
      "regularization_factors, val_score: 10.786725:   5%|5         | 1/20 [00:04<01:27,  4.62s/it][I 2020-06-28 21:59:49,765] Finished trial#43 with value: 10.798298212198087 with parameters: {'lambda_l1': 3.508487004936735, 'lambda_l2': 0.0010549314324597068}. Best is trial#43 with value: 10.798298212198087.\n",
      "\n",
      "regularization_factors, val_score: 10.786725:   5%|5         | 1/20 [00:04<01:27,  4.62s/it]"
     ]
    },
    {
     "name": "stdout",
     "output_type": "stream",
     "text": [
      "Training until validation scores don't improve for 20 rounds\n",
      "[20]\ttraining's rmse: 8.91203\tvalid_1's rmse: 10.8633\n",
      "Early stopping, best iteration is:\n",
      "[5]\ttraining's rmse: 10.4122\tvalid_1's rmse: 10.7867\n"
     ]
    },
    {
     "name": "stderr",
     "output_type": "stream",
     "text": [
      "\n",
      "regularization_factors, val_score: 10.786725:   5%|5         | 1/20 [00:09<01:27,  4.62s/it]\n",
      "regularization_factors, val_score: 10.786725:  10%|#         | 2/20 [00:09<01:23,  4.66s/it][I 2020-06-28 21:59:54,524] Finished trial#44 with value: 10.786724588984429 with parameters: {'lambda_l1': 1.2931115223189753e-06, 'lambda_l2': 4.8008101312852034e-05}. Best is trial#44 with value: 10.786724588984429.\n",
      "\n",
      "regularization_factors, val_score: 10.786725:  10%|#         | 2/20 [00:09<01:23,  4.66s/it]"
     ]
    },
    {
     "name": "stdout",
     "output_type": "stream",
     "text": [
      "Training until validation scores don't improve for 20 rounds\n",
      "[20]\ttraining's rmse: 8.9203\tvalid_1's rmse: 10.8759\n",
      "Early stopping, best iteration is:\n",
      "[6]\ttraining's rmse: 10.2986\tvalid_1's rmse: 10.7906\n"
     ]
    },
    {
     "name": "stderr",
     "output_type": "stream",
     "text": [
      "\n",
      "regularization_factors, val_score: 10.786725:  10%|#         | 2/20 [00:13<01:23,  4.66s/it]\n",
      "regularization_factors, val_score: 10.786725:  15%|#5        | 3/20 [00:13<01:18,  4.63s/it][I 2020-06-28 21:59:59,080] Finished trial#45 with value: 10.790582026702483 with parameters: {'lambda_l1': 0.31347690907219455, 'lambda_l2': 3.003182210515861e-06}. Best is trial#44 with value: 10.786724588984429.\n",
      "\n",
      "regularization_factors, val_score: 10.786725:  15%|#5        | 3/20 [00:14<01:18,  4.63s/it]"
     ]
    },
    {
     "name": "stdout",
     "output_type": "stream",
     "text": [
      "Training until validation scores don't improve for 20 rounds\n",
      "[20]\ttraining's rmse: 8.91203\tvalid_1's rmse: 10.8633\n",
      "Early stopping, best iteration is:\n",
      "[5]\ttraining's rmse: 10.4122\tvalid_1's rmse: 10.7867\n"
     ]
    },
    {
     "name": "stderr",
     "output_type": "stream",
     "text": [
      "\n",
      "regularization_factors, val_score: 10.786725:  15%|#5        | 3/20 [00:19<01:18,  4.63s/it]\n",
      "regularization_factors, val_score: 10.786725:  20%|##        | 4/20 [00:19<01:18,  4.93s/it][I 2020-06-28 22:00:04,692] Finished trial#46 with value: 10.786724594210042 with parameters: {'lambda_l1': 2.096889029147155e-07, 'lambda_l2': 3.797768489189158e-05}. Best is trial#44 with value: 10.786724588984429.\n",
      "\n",
      "regularization_factors, val_score: 10.786725:  20%|##        | 4/20 [00:19<01:18,  4.93s/it]"
     ]
    },
    {
     "name": "stdout",
     "output_type": "stream",
     "text": [
      "Training until validation scores don't improve for 20 rounds\n",
      "[20]\ttraining's rmse: 9.074\tvalid_1's rmse: 10.93\n",
      "Early stopping, best iteration is:\n",
      "[1]\ttraining's rmse: 10.8906\tvalid_1's rmse: 10.8236\n"
     ]
    },
    {
     "name": "stderr",
     "output_type": "stream",
     "text": [
      "\n",
      "regularization_factors, val_score: 10.786725:  20%|##        | 4/20 [00:23<01:18,  4.93s/it]\n",
      "regularization_factors, val_score: 10.786725:  25%|##5       | 5/20 [00:23<01:10,  4.69s/it][I 2020-06-28 22:00:08,832] Finished trial#47 with value: 10.82356192899698 with parameters: {'lambda_l1': 0.6645403482370922, 'lambda_l2': 7.21476118206026}. Best is trial#44 with value: 10.786724588984429.\n",
      "\n",
      "regularization_factors, val_score: 10.786725:  25%|##5       | 5/20 [00:23<01:10,  4.69s/it]"
     ]
    },
    {
     "name": "stdout",
     "output_type": "stream",
     "text": [
      "Training until validation scores don't improve for 20 rounds\n",
      "[20]\ttraining's rmse: 8.894\tvalid_1's rmse: 10.8903\n",
      "Early stopping, best iteration is:\n",
      "[5]\ttraining's rmse: 10.4123\tvalid_1's rmse: 10.7867\n"
     ]
    },
    {
     "name": "stderr",
     "output_type": "stream",
     "text": [
      "\n",
      "regularization_factors, val_score: 10.786719:  25%|##5       | 5/20 [00:28<01:10,  4.69s/it]\n",
      "regularization_factors, val_score: 10.786719:  30%|###       | 6/20 [00:28<01:05,  4.68s/it][I 2020-06-28 22:00:13,495] Finished trial#48 with value: 10.786718551160225 with parameters: {'lambda_l1': 1.744275727470224e-08, 'lambda_l2': 0.011647330156951219}. Best is trial#48 with value: 10.786718551160225.\n",
      "\n",
      "regularization_factors, val_score: 10.786719:  30%|###       | 6/20 [00:28<01:05,  4.68s/it]"
     ]
    },
    {
     "name": "stdout",
     "output_type": "stream",
     "text": [
      "Training until validation scores don't improve for 20 rounds\n",
      "[20]\ttraining's rmse: 8.91203\tvalid_1's rmse: 10.8633\n",
      "Early stopping, best iteration is:\n",
      "[5]\ttraining's rmse: 10.4122\tvalid_1's rmse: 10.7867\n"
     ]
    },
    {
     "name": "stderr",
     "output_type": "stream",
     "text": [
      "\n",
      "regularization_factors, val_score: 10.786719:  30%|###       | 6/20 [00:33<01:05,  4.68s/it]\n",
      "regularization_factors, val_score: 10.786719:  35%|###5      | 7/20 [00:33<01:00,  4.69s/it][I 2020-06-28 22:00:18,184] Finished trial#49 with value: 10.786724551548216 with parameters: {'lambda_l1': 1.721305031109772e-07, 'lambda_l2': 0.00011998155331513942}. Best is trial#48 with value: 10.786718551160225.\n",
      "\n",
      "regularization_factors, val_score: 10.786719:  35%|###5      | 7/20 [00:33<01:00,  4.69s/it]"
     ]
    },
    {
     "name": "stdout",
     "output_type": "stream",
     "text": [
      "Training until validation scores don't improve for 20 rounds\n",
      "[20]\ttraining's rmse: 8.91188\tvalid_1's rmse: 10.9201\n",
      "Early stopping, best iteration is:\n",
      "[5]\ttraining's rmse: 10.4112\tvalid_1's rmse: 10.794\n"
     ]
    },
    {
     "name": "stderr",
     "output_type": "stream",
     "text": [
      "\n",
      "regularization_factors, val_score: 10.786719:  35%|###5      | 7/20 [00:37<01:00,  4.69s/it]\n",
      "regularization_factors, val_score: 10.786719:  40%|####      | 8/20 [00:37<00:54,  4.58s/it][I 2020-06-28 22:00:22,532] Finished trial#50 with value: 10.793987856992208 with parameters: {'lambda_l1': 3.1068998849512116e-05, 'lambda_l2': 0.022106350583818733}. Best is trial#48 with value: 10.786718551160225.\n",
      "\n",
      "regularization_factors, val_score: 10.786719:  40%|####      | 8/20 [00:37<00:54,  4.58s/it]"
     ]
    },
    {
     "name": "stdout",
     "output_type": "stream",
     "text": [
      "Training until validation scores don't improve for 20 rounds\n",
      "[20]\ttraining's rmse: 8.91203\tvalid_1's rmse: 10.8633\n",
      "Early stopping, best iteration is:\n",
      "[5]\ttraining's rmse: 10.4122\tvalid_1's rmse: 10.7867\n"
     ]
    },
    {
     "name": "stderr",
     "output_type": "stream",
     "text": [
      "\n",
      "regularization_factors, val_score: 10.786719:  40%|####      | 8/20 [00:41<00:54,  4.58s/it]\n",
      "regularization_factors, val_score: 10.786719:  45%|####5     | 9/20 [00:41<00:49,  4.50s/it][I 2020-06-28 22:00:26,842] Finished trial#51 with value: 10.786724616732206 with parameters: {'lambda_l1': 0.00019919963168070522, 'lambda_l2': 1.2265402617599433e-07}. Best is trial#48 with value: 10.786718551160225.\n",
      "\n",
      "regularization_factors, val_score: 10.786719:  45%|####5     | 9/20 [00:41<00:49,  4.50s/it]"
     ]
    },
    {
     "name": "stdout",
     "output_type": "stream",
     "text": [
      "Training until validation scores don't improve for 20 rounds\n",
      "[20]\ttraining's rmse: 8.91217\tvalid_1's rmse: 10.8633\n",
      "Early stopping, best iteration is:\n",
      "[5]\ttraining's rmse: 10.4122\tvalid_1's rmse: 10.7867\n"
     ]
    },
    {
     "name": "stderr",
     "output_type": "stream",
     "text": [
      "\n",
      "regularization_factors, val_score: 10.786719:  45%|####5     | 9/20 [00:46<00:49,  4.50s/it]\n",
      "regularization_factors, val_score: 10.786719:  50%|#####     | 10/20 [00:46<00:45,  4.55s/it][I 2020-06-28 22:00:31,514] Finished trial#52 with value: 10.786722999029184 with parameters: {'lambda_l1': 0.0006324070585887319, 'lambda_l2': 0.0031144049058496655}. Best is trial#48 with value: 10.786718551160225.\n",
      "\n",
      "regularization_factors, val_score: 10.786719:  50%|#####     | 10/20 [00:46<00:45,  4.55s/it]"
     ]
    },
    {
     "name": "stdout",
     "output_type": "stream",
     "text": [
      "Training until validation scores don't improve for 20 rounds\n",
      "[20]\ttraining's rmse: 9.01386\tvalid_1's rmse: 10.9459\n",
      "Early stopping, best iteration is:\n",
      "[4]\ttraining's rmse: 10.5558\tvalid_1's rmse: 10.8018\n"
     ]
    },
    {
     "name": "stderr",
     "output_type": "stream",
     "text": [
      "\n",
      "regularization_factors, val_score: 10.786719:  50%|#####     | 10/20 [00:51<00:45,  4.55s/it]\n",
      "regularization_factors, val_score: 10.786719:  55%|#####5    | 11/20 [00:51<00:43,  4.86s/it][I 2020-06-28 22:00:37,113] Finished trial#53 with value: 10.80184992605512 with parameters: {'lambda_l1': 1.658273667966992e-08, 'lambda_l2': 3.57665361419315}. Best is trial#48 with value: 10.786718551160225.\n",
      "\n",
      "regularization_factors, val_score: 10.786719:  55%|#####5    | 11/20 [00:52<00:43,  4.86s/it]"
     ]
    },
    {
     "name": "stdout",
     "output_type": "stream",
     "text": [
      "Training until validation scores don't improve for 20 rounds\n",
      "[20]\ttraining's rmse: 8.90618\tvalid_1's rmse: 10.9197\n",
      "Early stopping, best iteration is:\n",
      "[5]\ttraining's rmse: 10.4115\tvalid_1's rmse: 10.794\n"
     ]
    },
    {
     "name": "stderr",
     "output_type": "stream",
     "text": [
      "\n",
      "regularization_factors, val_score: 10.786719:  55%|#####5    | 11/20 [00:56<00:43,  4.86s/it]\n",
      "regularization_factors, val_score: 10.786719:  60%|######    | 12/20 [00:56<00:39,  4.88s/it][I 2020-06-28 22:00:42,025] Finished trial#54 with value: 10.793978748410664 with parameters: {'lambda_l1': 0.012725887072140485, 'lambda_l2': 0.03994510582148354}. Best is trial#48 with value: 10.786718551160225.\n",
      "\n",
      "regularization_factors, val_score: 10.786719:  60%|######    | 12/20 [00:57<00:39,  4.88s/it]"
     ]
    },
    {
     "name": "stdout",
     "output_type": "stream",
     "text": [
      "Training until validation scores don't improve for 20 rounds\n",
      "[20]\ttraining's rmse: 8.91226\tvalid_1's rmse: 10.92\n",
      "Early stopping, best iteration is:\n",
      "[5]\ttraining's rmse: 10.4113\tvalid_1's rmse: 10.794\n"
     ]
    },
    {
     "name": "stderr",
     "output_type": "stream",
     "text": [
      "\n",
      "regularization_factors, val_score: 10.786719:  60%|######    | 12/20 [01:01<00:39,  4.88s/it]\n",
      "regularization_factors, val_score: 10.786719:  65%|######5   | 13/20 [01:01<00:33,  4.76s/it][I 2020-06-28 22:00:46,498] Finished trial#55 with value: 10.793983649711445 with parameters: {'lambda_l1': 0.002723663484804671, 'lambda_l2': 0.030333093580799123}. Best is trial#48 with value: 10.786718551160225.\n",
      "\n",
      "regularization_factors, val_score: 10.786719:  65%|######5   | 13/20 [01:01<00:33,  4.76s/it]"
     ]
    },
    {
     "name": "stdout",
     "output_type": "stream",
     "text": [
      "Training until validation scores don't improve for 20 rounds\n",
      "[20]\ttraining's rmse: 8.90868\tvalid_1's rmse: 10.8927\n",
      "Early stopping, best iteration is:\n",
      "[4]\ttraining's rmse: 10.517\tvalid_1's rmse: 10.7976\n"
     ]
    },
    {
     "name": "stderr",
     "output_type": "stream",
     "text": [
      "\n",
      "regularization_factors, val_score: 10.786719:  65%|######5   | 13/20 [01:06<00:33,  4.76s/it]\n",
      "regularization_factors, val_score: 10.786719:  70%|#######   | 14/20 [01:06<00:29,  4.95s/it][I 2020-06-28 22:00:51,905] Finished trial#56 with value: 10.797603591056212 with parameters: {'lambda_l1': 1.219818665370948e-05, 'lambda_l2': 0.5157694862644971}. Best is trial#48 with value: 10.786718551160225.\n",
      "\n",
      "regularization_factors, val_score: 10.786719:  70%|#######   | 14/20 [01:06<00:29,  4.95s/it]"
     ]
    },
    {
     "name": "stdout",
     "output_type": "stream",
     "text": [
      "Training until validation scores don't improve for 20 rounds\n",
      "[20]\ttraining's rmse: 8.91215\tvalid_1's rmse: 10.8633\n",
      "Early stopping, best iteration is:\n",
      "[5]\ttraining's rmse: 10.4122\tvalid_1's rmse: 10.7867\n"
     ]
    },
    {
     "name": "stderr",
     "output_type": "stream",
     "text": [
      "\n",
      "regularization_factors, val_score: 10.786719:  70%|#######   | 14/20 [01:11<00:29,  4.95s/it]\n",
      "regularization_factors, val_score: 10.786719:  75%|#######5  | 15/20 [01:11<00:24,  4.86s/it][I 2020-06-28 22:00:56,555] Finished trial#57 with value: 10.786723967632591 with parameters: {'lambda_l1': 0.011017921228206445, 'lambda_l2': 0.0015049018049697943}. Best is trial#48 with value: 10.786718551160225.\n",
      "\n",
      "regularization_factors, val_score: 10.786719:  75%|#######5  | 15/20 [01:11<00:24,  4.86s/it]"
     ]
    },
    {
     "name": "stdout",
     "output_type": "stream",
     "text": [
      "Training until validation scores don't improve for 20 rounds\n",
      "[20]\ttraining's rmse: 8.91222\tvalid_1's rmse: 10.8633\n",
      "Early stopping, best iteration is:\n",
      "[5]\ttraining's rmse: 10.4122\tvalid_1's rmse: 10.7867\n"
     ]
    },
    {
     "name": "stderr",
     "output_type": "stream",
     "text": [
      "\n",
      "regularization_factors, val_score: 10.786719:  75%|#######5  | 15/20 [01:16<00:24,  4.86s/it]\n",
      "regularization_factors, val_score: 10.786719:  80%|########  | 16/20 [01:16<00:19,  4.84s/it][I 2020-06-28 22:01:01,354] Finished trial#58 with value: 10.78672239166947 with parameters: {'lambda_l1': 0.0006571414929554878, 'lambda_l2': 0.004281058978254771}. Best is trial#48 with value: 10.786718551160225.\n",
      "\n",
      "regularization_factors, val_score: 10.786719:  80%|########  | 16/20 [01:16<00:19,  4.84s/it]"
     ]
    },
    {
     "name": "stdout",
     "output_type": "stream",
     "text": [
      "Training until validation scores don't improve for 20 rounds\n",
      "[20]\ttraining's rmse: 8.92436\tvalid_1's rmse: 10.9283\n",
      "Early stopping, best iteration is:\n",
      "[5]\ttraining's rmse: 10.4212\tvalid_1's rmse: 10.7913\n"
     ]
    },
    {
     "name": "stderr",
     "output_type": "stream",
     "text": [
      "\n",
      "regularization_factors, val_score: 10.786719:  80%|########  | 16/20 [01:21<00:19,  4.84s/it]\n",
      "regularization_factors, val_score: 10.786719:  85%|########5 | 17/20 [01:21<00:14,  4.96s/it][I 2020-06-28 22:01:06,587] Finished trial#59 with value: 10.791338054890945 with parameters: {'lambda_l1': 1.814568198873133e-05, 'lambda_l2': 0.9915322181500861}. Best is trial#48 with value: 10.786718551160225.\n",
      "\n",
      "regularization_factors, val_score: 10.786719:  85%|########5 | 17/20 [01:21<00:14,  4.96s/it]"
     ]
    },
    {
     "name": "stdout",
     "output_type": "stream",
     "text": [
      "Training until validation scores don't improve for 20 rounds\n",
      "[20]\ttraining's rmse: 8.90759\tvalid_1's rmse: 10.9095\n",
      "Early stopping, best iteration is:\n",
      "[4]\ttraining's rmse: 10.527\tvalid_1's rmse: 10.7949\n"
     ]
    },
    {
     "name": "stderr",
     "output_type": "stream",
     "text": [
      "\n",
      "regularization_factors, val_score: 10.786719:  85%|########5 | 17/20 [01:26<00:14,  4.96s/it]\n",
      "regularization_factors, val_score: 10.786719:  90%|######### | 18/20 [01:26<00:09,  4.92s/it][I 2020-06-28 22:01:11,421] Finished trial#60 with value: 10.794912293879525 with parameters: {'lambda_l1': 1.2415183913005269e-08, 'lambda_l2': 0.14187027057294088}. Best is trial#48 with value: 10.786718551160225.\n",
      "\n",
      "regularization_factors, val_score: 10.786719:  90%|######### | 18/20 [01:26<00:09,  4.92s/it]"
     ]
    },
    {
     "name": "stdout",
     "output_type": "stream",
     "text": [
      "Training until validation scores don't improve for 20 rounds\n",
      "[20]\ttraining's rmse: 8.91182\tvalid_1's rmse: 10.9201\n",
      "Early stopping, best iteration is:\n",
      "[5]\ttraining's rmse: 10.4112\tvalid_1's rmse: 10.794\n"
     ]
    },
    {
     "name": "stderr",
     "output_type": "stream",
     "text": [
      "\n",
      "regularization_factors, val_score: 10.786719:  90%|######### | 18/20 [01:30<00:09,  4.92s/it]\n",
      "regularization_factors, val_score: 10.786719:  95%|#########5| 19/20 [01:30<00:04,  4.83s/it][I 2020-06-28 22:01:16,027] Finished trial#61 with value: 10.793994921548357 with parameters: {'lambda_l1': 0.10178576037122057, 'lambda_l2': 0.00834131842377807}. Best is trial#48 with value: 10.786718551160225.\n",
      "\n",
      "regularization_factors, val_score: 10.786719:  95%|#########5| 19/20 [01:31<00:04,  4.83s/it]"
     ]
    },
    {
     "name": "stdout",
     "output_type": "stream",
     "text": [
      "Training until validation scores don't improve for 20 rounds\n",
      "[20]\ttraining's rmse: 8.91203\tvalid_1's rmse: 10.8633\n",
      "Early stopping, best iteration is:\n",
      "[5]\ttraining's rmse: 10.4122\tvalid_1's rmse: 10.7867\n"
     ]
    },
    {
     "name": "stderr",
     "output_type": "stream",
     "text": [
      "\n",
      "regularization_factors, val_score: 10.786719:  95%|#########5| 19/20 [01:36<00:04,  4.83s/it]\n",
      "regularization_factors, val_score: 10.786719: 100%|##########| 20/20 [01:36<00:00,  4.95s/it][I 2020-06-28 22:01:21,264] Finished trial#62 with value: 10.786724611948008 with parameters: {'lambda_l1': 1.5562118854827375e-06, 'lambda_l2': 3.820930987681186e-06}. Best is trial#48 with value: 10.786718551160225.\n",
      "regularization_factors, val_score: 10.786719: 100%|##########| 20/20 [01:36<00:00,  4.81s/it]\n",
      "\n",
      "  0%|          | 0/5 [00:00<?, ?it/s]\n",
      "min_data_in_leaf, val_score: 10.786719:   0%|          | 0/5 [00:00<?, ?it/s]"
     ]
    },
    {
     "name": "stdout",
     "output_type": "stream",
     "text": [
      "Training until validation scores don't improve for 20 rounds\n",
      "[20]\ttraining's rmse: 8.86154\tvalid_1's rmse: 10.9565\n",
      "Early stopping, best iteration is:\n",
      "[1]\ttraining's rmse: 10.8729\tvalid_1's rmse: 10.8275\n"
     ]
    },
    {
     "name": "stderr",
     "output_type": "stream",
     "text": [
      "\n",
      "min_data_in_leaf, val_score: 10.786719:   0%|          | 0/5 [00:04<?, ?it/s]\n",
      "min_data_in_leaf, val_score: 10.786719:  20%|##        | 1/5 [00:04<00:19,  4.87s/it][I 2020-06-28 22:01:26,271] Finished trial#63 with value: 10.827468008225875 with parameters: {'min_child_samples': 10}. Best is trial#63 with value: 10.827468008225875.\n",
      "\n",
      "min_data_in_leaf, val_score: 10.786719:  20%|##        | 1/5 [00:05<00:19,  4.87s/it]"
     ]
    },
    {
     "name": "stdout",
     "output_type": "stream",
     "text": [
      "Training until validation scores don't improve for 20 rounds\n",
      "[20]\ttraining's rmse: 8.91188\tvalid_1's rmse: 10.957\n",
      "Early stopping, best iteration is:\n",
      "[1]\ttraining's rmse: 10.8802\tvalid_1's rmse: 10.8258\n"
     ]
    },
    {
     "name": "stderr",
     "output_type": "stream",
     "text": [
      "\n",
      "min_data_in_leaf, val_score: 10.786719:  20%|##        | 1/5 [00:08<00:19,  4.87s/it]\n",
      "min_data_in_leaf, val_score: 10.786719:  40%|####      | 2/5 [00:08<00:13,  4.54s/it][I 2020-06-28 22:01:30,065] Finished trial#64 with value: 10.825767229246994 with parameters: {'min_child_samples': 25}. Best is trial#64 with value: 10.825767229246994.\n",
      "\n",
      "min_data_in_leaf, val_score: 10.786719:  40%|####      | 2/5 [00:08<00:13,  4.54s/it]"
     ]
    },
    {
     "name": "stdout",
     "output_type": "stream",
     "text": [
      "Training until validation scores don't improve for 20 rounds\n",
      "[20]\ttraining's rmse: 9.07552\tvalid_1's rmse: 10.8762\n",
      "Early stopping, best iteration is:\n",
      "[1]\ttraining's rmse: 10.891\tvalid_1's rmse: 10.8233\n"
     ]
    },
    {
     "name": "stderr",
     "output_type": "stream",
     "text": [
      "\n",
      "min_data_in_leaf, val_score: 10.786719:  40%|####      | 2/5 [00:11<00:13,  4.54s/it]\n",
      "min_data_in_leaf, val_score: 10.786719:  60%|######    | 3/5 [00:11<00:08,  4.17s/it][I 2020-06-28 22:01:33,363] Finished trial#65 with value: 10.823340432438862 with parameters: {'min_child_samples': 50}. Best is trial#65 with value: 10.823340432438862.\n",
      "\n",
      "min_data_in_leaf, val_score: 10.786719:  60%|######    | 3/5 [00:12<00:08,  4.17s/it]"
     ]
    },
    {
     "name": "stdout",
     "output_type": "stream",
     "text": [
      "Training until validation scores don't improve for 20 rounds\n",
      "[20]\ttraining's rmse: 9.59224\tvalid_1's rmse: 10.9248\n",
      "Early stopping, best iteration is:\n",
      "[1]\ttraining's rmse: 10.9161\tvalid_1's rmse: 10.8022\n"
     ]
    },
    {
     "name": "stderr",
     "output_type": "stream",
     "text": [
      "\n",
      "min_data_in_leaf, val_score: 10.786719:  60%|######    | 3/5 [00:13<00:08,  4.17s/it]\n",
      "min_data_in_leaf, val_score: 10.786719:  80%|########  | 4/5 [00:13<00:03,  3.53s/it][I 2020-06-28 22:01:35,401] Finished trial#66 with value: 10.802249545069824 with parameters: {'min_child_samples': 100}. Best is trial#66 with value: 10.802249545069824.\n",
      "\n",
      "min_data_in_leaf, val_score: 10.786719:  80%|########  | 4/5 [00:14<00:03,  3.53s/it]"
     ]
    },
    {
     "name": "stdout",
     "output_type": "stream",
     "text": [
      "Training until validation scores don't improve for 20 rounds\n",
      "[20]\ttraining's rmse: 8.85529\tvalid_1's rmse: 10.8731\n",
      "Early stopping, best iteration is:\n",
      "[4]\ttraining's rmse: 10.5\tvalid_1's rmse: 10.8145\n"
     ]
    },
    {
     "name": "stderr",
     "output_type": "stream",
     "text": [
      "\n",
      "min_data_in_leaf, val_score: 10.786719:  80%|########  | 4/5 [00:20<00:03,  3.53s/it]\n",
      "min_data_in_leaf, val_score: 10.786719: 100%|##########| 5/5 [00:20<00:00,  4.39s/it][I 2020-06-28 22:01:41,787] Finished trial#67 with value: 10.81450953385675 with parameters: {'min_child_samples': 5}. Best is trial#66 with value: 10.802249545069824.\n",
      "min_data_in_leaf, val_score: 10.786719: 100%|##########| 5/5 [00:20<00:00,  4.10s/it]\n"
     ]
    },
    {
     "data": {
      "image/png": "[encoded data removed]",
      "text/plain": [
       "<Figure size 576x576 with 1 Axes>"
      ]
     },
     "metadata": {
      "needs_background": "light"
     },
     "output_type": "display_data"
    },
    {
     "name": "stdout",
     "output_type": "stream",
     "text": [
      "==< domain2_var2 >==\n",
      "X_train : (4407, 1460)\n"
     ]
    },
    {
     "name": "stderr",
     "output_type": "stream",
     "text": [
      "C:\\Users\\USER\\anaconda3\\envs\\tf115\\lib\\site-packages\\optuna\\_experimental.py:61: ExperimentalWarning: train is experimental (supported from v0.18.0). The interface can change in the future.\n",
      "  ExperimentalWarning,\n",
      "C:\\Users\\USER\\anaconda3\\envs\\tf115\\lib\\site-packages\\optuna\\_experimental.py:83: ExperimentalWarning: LightGBMTuner is experimental (supported from v1.5.0). The interface can change in the future.\n",
      "  ExperimentalWarning,\n",
      "\n",
      "  0%|          | 0/7 [00:00<?, ?it/s]\n",
      "feature_fraction, val_score: inf:   0%|          | 0/7 [00:00<?, ?it/s]"
     ]
    },
    {
     "name": "stdout",
     "output_type": "stream",
     "text": [
      "Training until validation scores don't improve for 20 rounds\n",
      "[20]\ttraining's rmse: 8.80682\tvalid_1's rmse: 11.0229\n",
      "[40]\ttraining's rmse: 7.17956\tvalid_1's rmse: 11.0605\n",
      "Early stopping, best iteration is:\n",
      "[26]\ttraining's rmse: 8.27032\tvalid_1's rmse: 10.9931\n"
     ]
    },
    {
     "name": "stderr",
     "output_type": "stream",
     "text": [
      "\n",
      "feature_fraction, val_score: 10.993057:   0%|          | 0/7 [00:07<?, ?it/s]\n",
      "feature_fraction, val_score: 10.993057:  14%|#4        | 1/7 [00:07<00:47,  7.93s/it][I 2020-06-28 22:01:50,882] Finished trial#0 with value: 10.993056591626342 with parameters: {'feature_fraction': 0.5}. Best is trial#0 with value: 10.993056591626342.\n",
      "\n",
      "feature_fraction, val_score: 10.993057:  14%|#4        | 1/7 [00:08<00:47,  7.93s/it]"
     ]
    },
    {
     "name": "stdout",
     "output_type": "stream",
     "text": [
      "Training until validation scores don't improve for 20 rounds\n",
      "[20]\ttraining's rmse: 8.69647\tvalid_1's rmse: 11.1474\n",
      "Early stopping, best iteration is:\n",
      "[5]\ttraining's rmse: 10.3307\tvalid_1's rmse: 11.0683\n"
     ]
    },
    {
     "name": "stderr",
     "output_type": "stream",
     "text": [
      "\n",
      "feature_fraction, val_score: 10.993057:  14%|#4        | 1/7 [00:14<00:47,  7.93s/it]\n",
      "feature_fraction, val_score: 10.993057:  29%|##8       | 2/7 [00:14<00:37,  7.45s/it][I 2020-06-28 22:01:57,195] Finished trial#1 with value: 11.068250741790754 with parameters: {'feature_fraction': 0.8}. Best is trial#0 with value: 10.993056591626342.\n",
      "\n",
      "feature_fraction, val_score: 10.993057:  29%|##8       | 2/7 [00:14<00:37,  7.45s/it]"
     ]
    },
    {
     "name": "stdout",
     "output_type": "stream",
     "text": [
      "Training until validation scores don't improve for 20 rounds\n",
      "[20]\ttraining's rmse: 8.65015\tvalid_1's rmse: 11.1156\n",
      "Early stopping, best iteration is:\n",
      "[4]\ttraining's rmse: 10.4464\tvalid_1's rmse: 11.0314\n"
     ]
    },
    {
     "name": "stderr",
     "output_type": "stream",
     "text": [
      "\n",
      "feature_fraction, val_score: 10.993057:  29%|##8       | 2/7 [00:20<00:37,  7.45s/it]\n",
      "feature_fraction, val_score: 10.993057:  43%|####2     | 3/7 [00:20<00:28,  7.11s/it][I 2020-06-28 22:02:03,515] Finished trial#2 with value: 11.03140634670622 with parameters: {'feature_fraction': 1.0}. Best is trial#0 with value: 10.993056591626342.\n",
      "\n",
      "feature_fraction, val_score: 10.993057:  43%|####2     | 3/7 [00:20<00:28,  7.11s/it]"
     ]
    },
    {
     "name": "stdout",
     "output_type": "stream",
     "text": [
      "Training until validation scores don't improve for 20 rounds\n",
      "[20]\ttraining's rmse: 8.67911\tvalid_1's rmse: 11.0435\n",
      "Early stopping, best iteration is:\n",
      "[5]\ttraining's rmse: 10.3196\tvalid_1's rmse: 11.0303\n"
     ]
    },
    {
     "name": "stderr",
     "output_type": "stream",
     "text": [
      "\n",
      "feature_fraction, val_score: 10.993057:  43%|####2     | 3/7 [00:26<00:28,  7.11s/it]\n",
      "feature_fraction, val_score: 10.993057:  57%|#####7    | 4/7 [00:26<00:20,  6.88s/it][I 2020-06-28 22:02:09,883] Finished trial#3 with value: 11.03027486012283 with parameters: {'feature_fraction': 0.8999999999999999}. Best is trial#0 with value: 10.993056591626342.\n",
      "\n",
      "feature_fraction, val_score: 10.993057:  57%|#####7    | 4/7 [00:27<00:20,  6.88s/it]"
     ]
    },
    {
     "name": "stdout",
     "output_type": "stream",
     "text": [
      "Training until validation scores don't improve for 20 rounds\n",
      "[20]\ttraining's rmse: 8.71956\tvalid_1's rmse: 11.0342\n",
      "Early stopping, best iteration is:\n",
      "[8]\ttraining's rmse: 9.97786\tvalid_1's rmse: 10.9785\n"
     ]
    },
    {
     "name": "stderr",
     "output_type": "stream",
     "text": [
      "\n",
      "feature_fraction, val_score: 10.978517:  57%|#####7    | 4/7 [00:32<00:20,  6.88s/it]\n",
      "feature_fraction, val_score: 10.978517:  71%|#######1  | 5/7 [00:32<00:13,  6.59s/it][I 2020-06-28 22:02:15,782] Finished trial#4 with value: 10.97851741253964 with parameters: {'feature_fraction': 0.7}. Best is trial#4 with value: 10.97851741253964.\n",
      "\n",
      "feature_fraction, val_score: 10.978517:  71%|#######1  | 5/7 [00:32<00:13,  6.59s/it]"
     ]
    },
    {
     "name": "stdout",
     "output_type": "stream",
     "text": [
      "Training until validation scores don't improve for 20 rounds\n",
      "[20]\ttraining's rmse: 8.74502\tvalid_1's rmse: 11.0308\n",
      "Early stopping, best iteration is:\n",
      "[8]\ttraining's rmse: 10.0068\tvalid_1's rmse: 11.0056\n"
     ]
    },
    {
     "name": "stderr",
     "output_type": "stream",
     "text": [
      "\n",
      "feature_fraction, val_score: 10.978517:  71%|#######1  | 5/7 [00:37<00:13,  6.59s/it]\n",
      "feature_fraction, val_score: 10.978517:  86%|########5 | 6/7 [00:37<00:06,  6.11s/it][I 2020-06-28 22:02:20,783] Finished trial#5 with value: 11.005592636208803 with parameters: {'feature_fraction': 0.6}. Best is trial#4 with value: 10.97851741253964.\n",
      "\n",
      "feature_fraction, val_score: 10.978517:  86%|########5 | 6/7 [00:37<00:06,  6.11s/it]"
     ]
    },
    {
     "name": "stdout",
     "output_type": "stream",
     "text": [
      "Training until validation scores don't improve for 20 rounds\n",
      "[20]\ttraining's rmse: 8.82718\tvalid_1's rmse: 11.02\n",
      "Early stopping, best iteration is:\n",
      "[13]\ttraining's rmse: 9.51301\tvalid_1's rmse: 10.9859\n"
     ]
    },
    {
     "name": "stderr",
     "output_type": "stream",
     "text": [
      "\n",
      "feature_fraction, val_score: 10.978517:  86%|########5 | 6/7 [00:42<00:06,  6.11s/it]\n",
      "feature_fraction, val_score: 10.978517: 100%|##########| 7/7 [00:42<00:00,  5.60s/it][I 2020-06-28 22:02:25,189] Finished trial#6 with value: 10.985880460044992 with parameters: {'feature_fraction': 0.4}. Best is trial#4 with value: 10.97851741253964.\n",
      "feature_fraction, val_score: 10.978517: 100%|##########| 7/7 [00:42<00:00,  6.05s/it]\n",
      "\n",
      "  0%|          | 0/20 [00:00<?, ?it/s]\n",
      "num_leaves, val_score: 10.978517:   0%|          | 0/20 [00:00<?, ?it/s]"
     ]
    },
    {
     "name": "stdout",
     "output_type": "stream",
     "text": [
      "Training until validation scores don't improve for 20 rounds\n",
      "[20]\ttraining's rmse: 4.79063\tvalid_1's rmse: 11.2559\n",
      "Early stopping, best iteration is:\n",
      "[1]\ttraining's rmse: 10.5861\tvalid_1's rmse: 11.1031\n"
     ]
    },
    {
     "name": "stderr",
     "output_type": "stream",
     "text": [
      "\n",
      "num_leaves, val_score: 10.978517:   0%|          | 0/20 [00:13<?, ?it/s]\n",
      "num_leaves, val_score: 10.978517:   5%|5         | 1/20 [00:13<04:07, 13.01s/it][I 2020-06-28 22:02:38,349] Finished trial#7 with value: 11.103097546504806 with parameters: {'num_leaves': 230}. Best is trial#7 with value: 11.103097546504806.\n",
      "\n",
      "num_leaves, val_score: 10.978517:   5%|5         | 1/20 [00:13<04:07, 13.01s/it]"
     ]
    },
    {
     "name": "stdout",
     "output_type": "stream",
     "text": [
      "Training until validation scores don't improve for 20 rounds\n",
      "[20]\ttraining's rmse: 5.0682\tvalid_1's rmse: 11.2267\n",
      "Early stopping, best iteration is:\n",
      "[1]\ttraining's rmse: 10.624\tvalid_1's rmse: 11.1043\n"
     ]
    },
    {
     "name": "stderr",
     "output_type": "stream",
     "text": [
      "\n",
      "num_leaves, val_score: 10.978517:   5%|5         | 1/20 [00:26<04:07, 13.01s/it]\n",
      "num_leaves, val_score: 10.978517:  10%|#         | 2/20 [00:26<03:55, 13.06s/it][I 2020-06-28 22:02:51,524] Finished trial#8 with value: 11.104311747013545 with parameters: {'num_leaves': 140}. Best is trial#7 with value: 11.103097546504806.\n",
      "\n",
      "num_leaves, val_score: 10.978517:  10%|#         | 2/20 [00:26<03:55, 13.06s/it]"
     ]
    },
    {
     "name": "stdout",
     "output_type": "stream",
     "text": [
      "Training until validation scores don't improve for 20 rounds\n",
      "[20]\ttraining's rmse: 9.91205\tvalid_1's rmse: 11.0645\n",
      "Early stopping, best iteration is:\n",
      "[11]\ttraining's rmse: 10.3457\tvalid_1's rmse: 11.0227\n"
     ]
    },
    {
     "name": "stderr",
     "output_type": "stream",
     "text": [
      "\n",
      "num_leaves, val_score: 10.978517:  10%|#         | 2/20 [00:29<03:55, 13.06s/it]\n",
      "num_leaves, val_score: 10.978517:  15%|#5        | 3/20 [00:29<02:50, 10.05s/it][I 2020-06-28 22:02:54,568] Finished trial#9 with value: 11.022720931725885 with parameters: {'num_leaves': 13}. Best is trial#9 with value: 11.022720931725885.\n",
      "\n",
      "num_leaves, val_score: 10.978517:  15%|#5        | 3/20 [00:29<02:50, 10.05s/it]"
     ]
    },
    {
     "name": "stdout",
     "output_type": "stream",
     "text": [
      "Training until validation scores don't improve for 20 rounds\n",
      "[20]\ttraining's rmse: 8.90337\tvalid_1's rmse: 11.0146\n",
      "Early stopping, best iteration is:\n",
      "[15]\ttraining's rmse: 9.35893\tvalid_1's rmse: 11.0001\n"
     ]
    },
    {
     "name": "stderr",
     "output_type": "stream",
     "text": [
      "\n",
      "num_leaves, val_score: 10.978517:  15%|#5        | 3/20 [00:36<02:50, 10.05s/it]\n",
      "num_leaves, val_score: 10.978517:  20%|##        | 4/20 [00:36<02:27,  9.20s/it][I 2020-06-28 22:03:01,771] Finished trial#10 with value: 11.000051537095224 with parameters: {'num_leaves': 28}. Best is trial#10 with value: 11.000051537095224.\n",
      "\n",
      "num_leaves, val_score: 10.978517:  20%|##        | 4/20 [00:36<02:27,  9.20s/it]"
     ]
    },
    {
     "name": "stdout",
     "output_type": "stream",
     "text": [
      "Training until validation scores don't improve for 20 rounds\n",
      "[20]\ttraining's rmse: 4.79063\tvalid_1's rmse: 11.2559\n",
      "Early stopping, best iteration is:\n",
      "[1]\ttraining's rmse: 10.5861\tvalid_1's rmse: 11.1031\n"
     ]
    },
    {
     "name": "stderr",
     "output_type": "stream",
     "text": [
      "\n",
      "num_leaves, val_score: 10.978517:  20%|##        | 4/20 [00:49<02:27,  9.20s/it]\n",
      "num_leaves, val_score: 10.978517:  25%|##5       | 5/20 [00:49<02:35, 10.37s/it][I 2020-06-28 22:03:14,891] Finished trial#11 with value: 11.103097546504806 with parameters: {'num_leaves': 209}. Best is trial#10 with value: 11.000051537095224.\n",
      "\n",
      "num_leaves, val_score: 10.978517:  25%|##5       | 5/20 [00:49<02:35, 10.37s/it]"
     ]
    },
    {
     "name": "stdout",
     "output_type": "stream",
     "text": [
      "Training until validation scores don't improve for 20 rounds\n",
      "[20]\ttraining's rmse: 4.79063\tvalid_1's rmse: 11.2559\n",
      "Early stopping, best iteration is:\n",
      "[1]\ttraining's rmse: 10.5861\tvalid_1's rmse: 11.1031\n"
     ]
    },
    {
     "name": "stderr",
     "output_type": "stream",
     "text": [
      "\n",
      "num_leaves, val_score: 10.978517:  25%|##5       | 5/20 [01:02<02:35, 10.37s/it]\n",
      "num_leaves, val_score: 10.978517:  30%|###       | 6/20 [01:02<02:37, 11.24s/it][I 2020-06-28 22:03:28,152] Finished trial#12 with value: 11.103097546504806 with parameters: {'num_leaves': 202}. Best is trial#10 with value: 11.000051537095224.\n",
      "\n",
      "num_leaves, val_score: 10.978517:  30%|###       | 6/20 [01:02<02:37, 11.24s/it]"
     ]
    },
    {
     "name": "stdout",
     "output_type": "stream",
     "text": [
      "Training until validation scores don't improve for 20 rounds\n",
      "[20]\ttraining's rmse: 4.79063\tvalid_1's rmse: 11.2559\n",
      "Early stopping, best iteration is:\n",
      "[1]\ttraining's rmse: 10.5861\tvalid_1's rmse: 11.1031\n"
     ]
    },
    {
     "name": "stderr",
     "output_type": "stream",
     "text": [
      "\n",
      "num_leaves, val_score: 10.978517:  30%|###       | 6/20 [01:16<02:37, 11.24s/it]\n",
      "num_leaves, val_score: 10.978517:  35%|###5      | 7/20 [01:16<02:36, 12.02s/it][I 2020-06-28 22:03:41,997] Finished trial#13 with value: 11.103097546504806 with parameters: {'num_leaves': 252}. Best is trial#10 with value: 11.000051537095224.\n",
      "\n",
      "num_leaves, val_score: 10.978517:  35%|###5      | 7/20 [01:16<02:36, 12.02s/it]"
     ]
    },
    {
     "name": "stdout",
     "output_type": "stream",
     "text": [
      "Training until validation scores don't improve for 20 rounds\n",
      "[20]\ttraining's rmse: 4.79063\tvalid_1's rmse: 11.2559\n",
      "Early stopping, best iteration is:\n",
      "[1]\ttraining's rmse: 10.5861\tvalid_1's rmse: 11.1031\n"
     ]
    },
    {
     "name": "stderr",
     "output_type": "stream",
     "text": [
      "\n",
      "num_leaves, val_score: 10.978517:  35%|###5      | 7/20 [01:30<02:36, 12.02s/it]\n",
      "num_leaves, val_score: 10.978517:  40%|####      | 8/20 [01:30<02:32, 12.68s/it][I 2020-06-28 22:03:56,228] Finished trial#14 with value: 11.103097546504806 with parameters: {'num_leaves': 220}. Best is trial#10 with value: 11.000051537095224.\n",
      "\n",
      "num_leaves, val_score: 10.978517:  40%|####      | 8/20 [01:31<02:32, 12.68s/it]"
     ]
    },
    {
     "name": "stdout",
     "output_type": "stream",
     "text": [
      "Training until validation scores don't improve for 20 rounds\n",
      "[20]\ttraining's rmse: 7.06363\tvalid_1's rmse: 11.2207\n",
      "Early stopping, best iteration is:\n",
      "[5]\ttraining's rmse: 9.81054\tvalid_1's rmse: 11.0801\n"
     ]
    },
    {
     "name": "stderr",
     "output_type": "stream",
     "text": [
      "\n",
      "num_leaves, val_score: 10.978517:  40%|####      | 8/20 [01:41<02:32, 12.68s/it]\n",
      "num_leaves, val_score: 10.978517:  45%|####5     | 9/20 [01:41<02:12, 12.04s/it][I 2020-06-28 22:04:06,770] Finished trial#15 with value: 11.080112677413908 with parameters: {'num_leaves': 65}. Best is trial#10 with value: 11.000051537095224.\n",
      "\n",
      "num_leaves, val_score: 10.978517:  45%|####5     | 9/20 [01:41<02:12, 12.04s/it]"
     ]
    },
    {
     "name": "stdout",
     "output_type": "stream",
     "text": [
      "Training until validation scores don't improve for 20 rounds\n",
      "[20]\ttraining's rmse: 5.51537\tvalid_1's rmse: 11.2494\n",
      "Early stopping, best iteration is:\n",
      "[1]\ttraining's rmse: 10.6689\tvalid_1's rmse: 11.0965\n"
     ]
    },
    {
     "name": "stderr",
     "output_type": "stream",
     "text": [
      "\n",
      "num_leaves, val_score: 10.978517:  45%|####5     | 9/20 [01:53<02:12, 12.04s/it]\n",
      "num_leaves, val_score: 10.978517:  50%|#####     | 10/20 [01:53<01:59, 11.94s/it][I 2020-06-28 22:04:18,492] Finished trial#16 with value: 11.096510941983736 with parameters: {'num_leaves': 116}. Best is trial#10 with value: 11.000051537095224.\n",
      "\n",
      "num_leaves, val_score: 10.978517:  50%|#####     | 10/20 [01:53<01:59, 11.94s/it]"
     ]
    },
    {
     "name": "stdout",
     "output_type": "stream",
     "text": [
      "Training until validation scores don't improve for 20 rounds\n",
      "[20]\ttraining's rmse: 10.8134\tvalid_1's rmse: 10.981\n",
      "[40]\ttraining's rmse: 10.7361\tvalid_1's rmse: 10.973\n",
      "[60]\ttraining's rmse: 10.6718\tvalid_1's rmse: 10.9757\n",
      "Early stopping, best iteration is:\n",
      "[46]\ttraining's rmse: 10.7158\tvalid_1's rmse: 10.9709\n"
     ]
    },
    {
     "name": "stderr",
     "output_type": "stream",
     "text": [
      "\n",
      "num_leaves, val_score: 10.970901:  50%|#####     | 10/20 [01:54<01:59, 11.94s/it]\n",
      "num_leaves, val_score: 10.970901:  55%|#####5    | 11/20 [01:54<01:17,  8.64s/it][I 2020-06-28 22:04:19,430] Finished trial#17 with value: 10.97090111874693 with parameters: {'num_leaves': 2}. Best is trial#17 with value: 10.97090111874693.\n",
      "\n",
      "num_leaves, val_score: 10.970901:  55%|#####5    | 11/20 [01:54<01:17,  8.64s/it]"
     ]
    },
    {
     "name": "stdout",
     "output_type": "stream",
     "text": [
      "Training until validation scores don't improve for 20 rounds\n",
      "[20]\ttraining's rmse: 10.3763\tvalid_1's rmse: 11.0177\n",
      "[40]\ttraining's rmse: 9.93209\tvalid_1's rmse: 11.0018\n",
      "Early stopping, best iteration is:\n",
      "[27]\ttraining's rmse: 10.2149\tvalid_1's rmse: 10.9893\n"
     ]
    },
    {
     "name": "stderr",
     "output_type": "stream",
     "text": [
      "\n",
      "num_leaves, val_score: 10.970901:  55%|#####5    | 11/20 [01:56<01:17,  8.64s/it]\n",
      "num_leaves, val_score: 10.970901:  60%|######    | 12/20 [01:56<00:54,  6.78s/it][I 2020-06-28 22:04:21,853] Finished trial#18 with value: 10.989307591781795 with parameters: {'num_leaves': 7}. Best is trial#17 with value: 10.97090111874693.\n",
      "\n",
      "num_leaves, val_score: 10.970901:  60%|######    | 12/20 [01:56<00:54,  6.78s/it]"
     ]
    },
    {
     "name": "stdout",
     "output_type": "stream",
     "text": [
      "Training until validation scores don't improve for 20 rounds\n",
      "[20]\ttraining's rmse: 10.8134\tvalid_1's rmse: 10.981\n",
      "[40]\ttraining's rmse: 10.7361\tvalid_1's rmse: 10.973\n",
      "[60]\ttraining's rmse: 10.6718\tvalid_1's rmse: 10.9757\n",
      "Early stopping, best iteration is:\n",
      "[46]\ttraining's rmse: 10.7158\tvalid_1's rmse: 10.9709\n"
     ]
    },
    {
     "name": "stderr",
     "output_type": "stream",
     "text": [
      "\n",
      "num_leaves, val_score: 10.970901:  60%|######    | 12/20 [01:57<00:54,  6.78s/it]\n",
      "num_leaves, val_score: 10.970901:  65%|######5   | 13/20 [01:57<00:34,  4.97s/it][I 2020-06-28 22:04:22,595] Finished trial#19 with value: 10.97090111874693 with parameters: {'num_leaves': 2}. Best is trial#17 with value: 10.97090111874693.\n",
      "\n",
      "num_leaves, val_score: 10.970901:  65%|######5   | 13/20 [01:57<00:34,  4.97s/it]"
     ]
    },
    {
     "name": "stdout",
     "output_type": "stream",
     "text": [
      "Training until validation scores don't improve for 20 rounds\n",
      "[20]\ttraining's rmse: 7.06363\tvalid_1's rmse: 11.2207\n",
      "Early stopping, best iteration is:\n",
      "[5]\ttraining's rmse: 9.81054\tvalid_1's rmse: 11.0801\n"
     ]
    },
    {
     "name": "stderr",
     "output_type": "stream",
     "text": [
      "\n",
      "num_leaves, val_score: 10.970901:  65%|######5   | 13/20 [02:06<00:34,  4.97s/it]\n",
      "num_leaves, val_score: 10.970901:  70%|#######   | 14/20 [02:06<00:38,  6.35s/it][I 2020-06-28 22:04:32,176] Finished trial#20 with value: 11.080112677413908 with parameters: {'num_leaves': 65}. Best is trial#17 with value: 10.97090111874693.\n",
      "\n",
      "num_leaves, val_score: 10.970901:  70%|#######   | 14/20 [02:06<00:38,  6.35s/it]"
     ]
    },
    {
     "name": "stdout",
     "output_type": "stream",
     "text": [
      "Training until validation scores don't improve for 20 rounds\n",
      "[20]\ttraining's rmse: 7.61386\tvalid_1's rmse: 11.1136\n",
      "Early stopping, best iteration is:\n",
      "[7]\ttraining's rmse: 9.62443\tvalid_1's rmse: 11.0541\n"
     ]
    },
    {
     "name": "stderr",
     "output_type": "stream",
     "text": [
      "\n",
      "num_leaves, val_score: 10.970901:  70%|#######   | 14/20 [02:16<00:38,  6.35s/it]\n",
      "num_leaves, val_score: 10.970901:  75%|#######5  | 15/20 [02:16<00:36,  7.27s/it][I 2020-06-28 22:04:41,596] Finished trial#21 with value: 11.054072796576035 with parameters: {'num_leaves': 52}. Best is trial#17 with value: 10.97090111874693.\n",
      "\n",
      "num_leaves, val_score: 10.970901:  75%|#######5  | 15/20 [02:16<00:36,  7.27s/it]"
     ]
    },
    {
     "name": "stdout",
     "output_type": "stream",
     "text": [
      "Training until validation scores don't improve for 20 rounds\n",
      "[20]\ttraining's rmse: 5.68306\tvalid_1's rmse: 11.1727\n",
      "Early stopping, best iteration is:\n",
      "[1]\ttraining's rmse: 10.6838\tvalid_1's rmse: 11.0959\n"
     ]
    },
    {
     "name": "stderr",
     "output_type": "stream",
     "text": [
      "\n",
      "num_leaves, val_score: 10.970901:  75%|#######5  | 15/20 [02:28<00:36,  7.27s/it]\n",
      "num_leaves, val_score: 10.970901:  80%|########  | 16/20 [02:28<00:34,  8.69s/it][I 2020-06-28 22:04:53,598] Finished trial#22 with value: 11.095899341054 with parameters: {'num_leaves': 109}. Best is trial#17 with value: 10.97090111874693.\n",
      "\n",
      "num_leaves, val_score: 10.970901:  80%|########  | 16/20 [02:28<00:34,  8.69s/it]"
     ]
    },
    {
     "name": "stdout",
     "output_type": "stream",
     "text": [
      "Training until validation scores don't improve for 20 rounds\n",
      "[20]\ttraining's rmse: 4.83548\tvalid_1's rmse: 11.3235\n",
      "Early stopping, best iteration is:\n",
      "[1]\ttraining's rmse: 10.5958\tvalid_1's rmse: 11.1057\n"
     ]
    },
    {
     "name": "stderr",
     "output_type": "stream",
     "text": [
      "\n",
      "num_leaves, val_score: 10.970901:  80%|########  | 16/20 [02:41<00:34,  8.69s/it]\n",
      "num_leaves, val_score: 10.970901:  85%|########5 | 17/20 [02:41<00:30, 10.07s/it][I 2020-06-28 22:05:06,890] Finished trial#23 with value: 11.105741332508428 with parameters: {'num_leaves': 161}. Best is trial#17 with value: 10.97090111874693.\n",
      "\n",
      "num_leaves, val_score: 10.970901:  85%|########5 | 17/20 [02:41<00:30, 10.07s/it]"
     ]
    },
    {
     "name": "stdout",
     "output_type": "stream",
     "text": [
      "Training until validation scores don't improve for 20 rounds\n",
      "[20]\ttraining's rmse: 8.55817\tvalid_1's rmse: 11.0322\n",
      "Early stopping, best iteration is:\n",
      "[15]\ttraining's rmse: 9.06612\tvalid_1's rmse: 10.991\n"
     ]
    },
    {
     "name": "stderr",
     "output_type": "stream",
     "text": [
      "\n",
      "num_leaves, val_score: 10.970901:  85%|########5 | 17/20 [02:50<00:30, 10.07s/it]\n",
      "num_leaves, val_score: 10.970901:  90%|######### | 18/20 [02:50<00:19,  9.71s/it][I 2020-06-28 22:05:15,740] Finished trial#24 with value: 10.990964061433399 with parameters: {'num_leaves': 34}. Best is trial#17 with value: 10.97090111874693.\n",
      "\n",
      "num_leaves, val_score: 10.970901:  90%|######### | 18/20 [02:50<00:19,  9.71s/it]"
     ]
    },
    {
     "name": "stdout",
     "output_type": "stream",
     "text": [
      "Training until validation scores don't improve for 20 rounds\n",
      "[20]\ttraining's rmse: 10.6397\tvalid_1's rmse: 10.998\n",
      "[40]\ttraining's rmse: 10.4064\tvalid_1's rmse: 11.0157\n",
      "Early stopping, best iteration is:\n",
      "[23]\ttraining's rmse: 10.6003\tvalid_1's rmse: 10.9899\n"
     ]
    },
    {
     "name": "stderr",
     "output_type": "stream",
     "text": [
      "\n",
      "num_leaves, val_score: 10.970901:  90%|######### | 18/20 [02:51<00:19,  9.71s/it]\n",
      "num_leaves, val_score: 10.970901:  95%|#########5| 19/20 [02:51<00:07,  7.21s/it][I 2020-06-28 22:05:17,155] Finished trial#25 with value: 10.989879940916781 with parameters: {'num_leaves': 4}. Best is trial#17 with value: 10.97090111874693.\n",
      "\n",
      "num_leaves, val_score: 10.970901:  95%|#########5| 19/20 [02:51<00:07,  7.21s/it]"
     ]
    },
    {
     "name": "stdout",
     "output_type": "stream",
     "text": [
      "Training until validation scores don't improve for 20 rounds\n",
      "[20]\ttraining's rmse: 6.327\tvalid_1's rmse: 11.2136\n",
      "Early stopping, best iteration is:\n",
      "[1]\ttraining's rmse: 10.7384\tvalid_1's rmse: 11.1057\n"
     ]
    },
    {
     "name": "stderr",
     "output_type": "stream",
     "text": [
      "\n",
      "num_leaves, val_score: 10.970901:  95%|#########5| 19/20 [03:02<00:07,  7.21s/it]\n",
      "num_leaves, val_score: 10.970901: 100%|##########| 20/20 [03:02<00:00,  8.12s/it][I 2020-06-28 22:05:27,380] Finished trial#26 with value: 11.105730280823845 with parameters: {'num_leaves': 85}. Best is trial#17 with value: 10.97090111874693.\n",
      "num_leaves, val_score: 10.970901: 100%|##########| 20/20 [03:02<00:00,  9.11s/it]\n",
      "\n",
      "  0%|          | 0/10 [00:00<?, ?it/s]\n",
      "bagging, val_score: 10.970901:   0%|          | 0/10 [00:00<?, ?it/s]"
     ]
    },
    {
     "name": "stdout",
     "output_type": "stream",
     "text": [
      "Training until validation scores don't improve for 20 rounds\n",
      "[20]\ttraining's rmse: 10.8104\tvalid_1's rmse: 11.0121\n",
      "[40]\ttraining's rmse: 10.7211\tvalid_1's rmse: 11.0016\n",
      "[60]\ttraining's rmse: 10.6343\tvalid_1's rmse: 11.0015\n",
      "Early stopping, best iteration is:\n",
      "[45]\ttraining's rmse: 10.6945\tvalid_1's rmse: 10.9915\n"
     ]
    },
    {
     "name": "stderr",
     "output_type": "stream",
     "text": [
      "\n",
      "bagging, val_score: 10.970901:   0%|          | 0/10 [00:00<?, ?it/s]\n",
      "bagging, val_score: 10.970901:  10%|#         | 1/10 [00:00<00:05,  1.72it/s][I 2020-06-28 22:05:28,116] Finished trial#27 with value: 10.99151923521412 with parameters: {'bagging_fraction': 0.4483296318730792, 'bagging_freq': 3}. Best is trial#27 with value: 10.99151923521412.\n",
      "\n",
      "bagging, val_score: 10.970901:  10%|#         | 1/10 [00:00<00:05,  1.72it/s]"
     ]
    },
    {
     "name": "stdout",
     "output_type": "stream",
     "text": [
      "Training until validation scores don't improve for 20 rounds\n",
      "[20]\ttraining's rmse: 10.8104\tvalid_1's rmse: 10.9948\n",
      "[40]\ttraining's rmse: 10.7222\tvalid_1's rmse: 10.9827\n",
      "[60]\ttraining's rmse: 10.6499\tvalid_1's rmse: 10.9713\n",
      "Early stopping, best iteration is:\n",
      "[56]\ttraining's rmse: 10.6627\tvalid_1's rmse: 10.9692\n"
     ]
    },
    {
     "name": "stderr",
     "output_type": "stream",
     "text": [
      "\n",
      "bagging, val_score: 10.969195:  10%|#         | 1/10 [00:01<00:05,  1.72it/s]\n",
      "bagging, val_score: 10.969195:  20%|##        | 2/10 [00:01<00:05,  1.53it/s][I 2020-06-28 22:05:28,934] Finished trial#28 with value: 10.969195490554958 with parameters: {'bagging_fraction': 0.8267366096140731, 'bagging_freq': 5}. Best is trial#28 with value: 10.969195490554958.\n",
      "\n",
      "bagging, val_score: 10.969195:  20%|##        | 2/10 [00:01<00:05,  1.53it/s]"
     ]
    },
    {
     "name": "stdout",
     "output_type": "stream",
     "text": [
      "Training until validation scores don't improve for 20 rounds\n",
      "[20]\ttraining's rmse: 10.8243\tvalid_1's rmse: 11.015\n",
      "[40]\ttraining's rmse: 10.736\tvalid_1's rmse: 10.98\n",
      "[60]\ttraining's rmse: 10.6561\tvalid_1's rmse: 10.9708\n",
      "Early stopping, best iteration is:\n",
      "[47]\ttraining's rmse: 10.7049\tvalid_1's rmse: 10.9621\n"
     ]
    },
    {
     "name": "stderr",
     "output_type": "stream",
     "text": [
      "\n",
      "bagging, val_score: 10.962104:  20%|##        | 2/10 [00:02<00:05,  1.53it/s]\n",
      "bagging, val_score: 10.962104:  30%|###       | 3/10 [00:02<00:04,  1.47it/s][I 2020-06-28 22:05:29,677] Finished trial#29 with value: 10.962104109248553 with parameters: {'bagging_fraction': 0.4686773093219266, 'bagging_freq': 6}. Best is trial#29 with value: 10.962104109248553.\n",
      "\n",
      "bagging, val_score: 10.962104:  30%|###       | 3/10 [00:02<00:04,  1.47it/s]"
     ]
    },
    {
     "name": "stdout",
     "output_type": "stream",
     "text": [
      "Training until validation scores don't improve for 20 rounds\n",
      "[20]\ttraining's rmse: 10.817\tvalid_1's rmse: 11.0101\n",
      "[40]\ttraining's rmse: 10.7293\tvalid_1's rmse: 10.9864\n",
      "[60]\ttraining's rmse: 10.6576\tvalid_1's rmse: 10.9838\n",
      "Early stopping, best iteration is:\n",
      "[58]\ttraining's rmse: 10.6616\tvalid_1's rmse: 10.9784\n"
     ]
    },
    {
     "name": "stderr",
     "output_type": "stream",
     "text": [
      "\n",
      "bagging, val_score: 10.962104:  30%|###       | 3/10 [00:02<00:04,  1.47it/s]\n",
      "bagging, val_score: 10.962104:  40%|####      | 4/10 [00:02<00:04,  1.38it/s][I 2020-06-28 22:05:30,515] Finished trial#30 with value: 10.978424289617381 with parameters: {'bagging_fraction': 0.5710885743401202, 'bagging_freq': 3}. Best is trial#29 with value: 10.962104109248553.\n",
      "\n",
      "bagging, val_score: 10.962104:  40%|####      | 4/10 [00:03<00:04,  1.38it/s]"
     ]
    },
    {
     "name": "stdout",
     "output_type": "stream",
     "text": [
      "Training until validation scores don't improve for 20 rounds\n",
      "[20]\ttraining's rmse: 10.8111\tvalid_1's rmse: 10.9841\n",
      "[40]\ttraining's rmse: 10.726\tvalid_1's rmse: 10.974\n",
      "Early stopping, best iteration is:\n",
      "[37]\ttraining's rmse: 10.7379\tvalid_1's rmse: 10.9709\n"
     ]
    },
    {
     "name": "stderr",
     "output_type": "stream",
     "text": [
      "\n",
      "bagging, val_score: 10.962104:  40%|####      | 4/10 [00:03<00:04,  1.38it/s]\n",
      "bagging, val_score: 10.962104:  50%|#####     | 5/10 [00:03<00:03,  1.35it/s][I 2020-06-28 22:05:31,293] Finished trial#31 with value: 10.97091070639731 with parameters: {'bagging_fraction': 0.8352825607871093, 'bagging_freq': 6}. Best is trial#29 with value: 10.962104109248553.\n",
      "\n",
      "bagging, val_score: 10.962104:  50%|#####     | 5/10 [00:03<00:03,  1.35it/s]"
     ]
    },
    {
     "name": "stdout",
     "output_type": "stream",
     "text": [
      "Training until validation scores don't improve for 20 rounds\n",
      "[20]\ttraining's rmse: 10.8086\tvalid_1's rmse: 10.9986\n",
      "[40]\ttraining's rmse: 10.7189\tvalid_1's rmse: 10.9803\n",
      "[60]\ttraining's rmse: 10.6456\tvalid_1's rmse: 10.9854\n",
      "Early stopping, best iteration is:\n",
      "[41]\ttraining's rmse: 10.7145\tvalid_1's rmse: 10.9784\n"
     ]
    },
    {
     "name": "stderr",
     "output_type": "stream",
     "text": [
      "\n",
      "bagging, val_score: 10.962104:  50%|#####     | 5/10 [00:04<00:03,  1.35it/s]\n",
      "bagging, val_score: 10.962104:  60%|######    | 6/10 [00:04<00:02,  1.40it/s][I 2020-06-28 22:05:31,959] Finished trial#32 with value: 10.978404810747653 with parameters: {'bagging_fraction': 0.6495032612499398, 'bagging_freq': 7}. Best is trial#29 with value: 10.962104109248553.\n",
      "\n",
      "bagging, val_score: 10.962104:  60%|######    | 6/10 [00:04<00:02,  1.40it/s]"
     ]
    },
    {
     "name": "stdout",
     "output_type": "stream",
     "text": [
      "Training until validation scores don't improve for 20 rounds\n",
      "[20]\ttraining's rmse: 10.8133\tvalid_1's rmse: 10.9886\n",
      "[40]\ttraining's rmse: 10.7344\tvalid_1's rmse: 10.9732\n",
      "[60]\ttraining's rmse: 10.6651\tvalid_1's rmse: 10.9755\n",
      "Early stopping, best iteration is:\n",
      "[45]\ttraining's rmse: 10.7154\tvalid_1's rmse: 10.971\n"
     ]
    },
    {
     "name": "stderr",
     "output_type": "stream",
     "text": [
      "\n",
      "bagging, val_score: 10.962104:  60%|######    | 6/10 [00:05<00:02,  1.40it/s]\n",
      "bagging, val_score: 10.962104:  70%|#######   | 7/10 [00:05<00:02,  1.34it/s][I 2020-06-28 22:05:32,766] Finished trial#33 with value: 10.97101660281053 with parameters: {'bagging_fraction': 0.9607428870950243, 'bagging_freq': 7}. Best is trial#29 with value: 10.962104109248553.\n",
      "\n",
      "bagging, val_score: 10.962104:  70%|#######   | 7/10 [00:05<00:02,  1.34it/s]"
     ]
    },
    {
     "name": "stdout",
     "output_type": "stream",
     "text": [
      "Training until validation scores don't improve for 20 rounds\n",
      "[20]\ttraining's rmse: 10.8144\tvalid_1's rmse: 10.986\n",
      "[40]\ttraining's rmse: 10.7297\tvalid_1's rmse: 10.975\n",
      "[60]\ttraining's rmse: 10.6636\tvalid_1's rmse: 10.981\n",
      "Early stopping, best iteration is:\n",
      "[42]\ttraining's rmse: 10.7229\tvalid_1's rmse: 10.9718\n"
     ]
    },
    {
     "name": "stderr",
     "output_type": "stream",
     "text": [
      "\n",
      "bagging, val_score: 10.962104:  70%|#######   | 7/10 [00:06<00:02,  1.34it/s]\n",
      "bagging, val_score: 10.962104:  80%|########  | 8/10 [00:06<00:01,  1.30it/s][I 2020-06-28 22:05:33,590] Finished trial#34 with value: 10.97177168550973 with parameters: {'bagging_fraction': 0.9005927027575567, 'bagging_freq': 4}. Best is trial#29 with value: 10.962104109248553.\n",
      "\n",
      "bagging, val_score: 10.962104:  80%|########  | 8/10 [00:06<00:01,  1.30it/s]"
     ]
    },
    {
     "name": "stdout",
     "output_type": "stream",
     "text": [
      "Training until validation scores don't improve for 20 rounds\n",
      "[20]\ttraining's rmse: 10.8151\tvalid_1's rmse: 10.9858\n",
      "[40]\ttraining's rmse: 10.7319\tvalid_1's rmse: 10.9714\n",
      "[60]\ttraining's rmse: 10.6511\tvalid_1's rmse: 10.9858\n",
      "Early stopping, best iteration is:\n",
      "[42]\ttraining's rmse: 10.7259\tvalid_1's rmse: 10.9701\n"
     ]
    },
    {
     "name": "stderr",
     "output_type": "stream",
     "text": [
      "\n",
      "bagging, val_score: 10.962104:  80%|########  | 8/10 [00:06<00:01,  1.30it/s]\n",
      "bagging, val_score: 10.962104:  90%|######### | 9/10 [00:06<00:00,  1.36it/s][I 2020-06-28 22:05:34,232] Finished trial#35 with value: 10.97006185202314 with parameters: {'bagging_fraction': 0.648503209936603, 'bagging_freq': 4}. Best is trial#29 with value: 10.962104109248553.\n",
      "\n",
      "bagging, val_score: 10.962104:  90%|######### | 9/10 [00:06<00:00,  1.36it/s]"
     ]
    },
    {
     "name": "stdout",
     "output_type": "stream",
     "text": [
      "Training until validation scores don't improve for 20 rounds\n",
      "[20]\ttraining's rmse: 10.8127\tvalid_1's rmse: 10.9875\n",
      "[40]\ttraining's rmse: 10.7306\tvalid_1's rmse: 10.9638\n",
      "[60]\ttraining's rmse: 10.6559\tvalid_1's rmse: 10.984\n",
      "Early stopping, best iteration is:\n",
      "[40]\ttraining's rmse: 10.7306\tvalid_1's rmse: 10.9638\n"
     ]
    },
    {
     "name": "stderr",
     "output_type": "stream",
     "text": [
      "\n",
      "bagging, val_score: 10.962104:  90%|######### | 9/10 [00:07<00:00,  1.36it/s]\n",
      "bagging, val_score: 10.962104: 100%|##########| 10/10 [00:07<00:00,  1.38it/s][I 2020-06-28 22:05:34,931] Finished trial#36 with value: 10.9638089998254 with parameters: {'bagging_fraction': 0.5678097511764201, 'bagging_freq': 4}. Best is trial#29 with value: 10.962104109248553.\n",
      "bagging, val_score: 10.962104: 100%|##########| 10/10 [00:07<00:00,  1.33it/s]\n",
      "\n",
      "  0%|          | 0/6 [00:00<?, ?it/s]\n",
      "feature_fraction_stage2, val_score: 10.962104:   0%|          | 0/6 [00:00<?, ?it/s]"
     ]
    },
    {
     "name": "stdout",
     "output_type": "stream",
     "text": [
      "Training until validation scores don't improve for 20 rounds\n",
      "[20]\ttraining's rmse: 10.8243\tvalid_1's rmse: 11.015\n",
      "[40]\ttraining's rmse: 10.736\tvalid_1's rmse: 10.98\n",
      "[60]\ttraining's rmse: 10.657\tvalid_1's rmse: 10.9714\n",
      "Early stopping, best iteration is:\n",
      "[47]\ttraining's rmse: 10.7049\tvalid_1's rmse: 10.9621\n"
     ]
    },
    {
     "name": "stderr",
     "output_type": "stream",
     "text": [
      "\n",
      "feature_fraction_stage2, val_score: 10.962104:   0%|          | 0/6 [00:00<?, ?it/s]\n",
      "feature_fraction_stage2, val_score: 10.962104:  17%|#6        | 1/6 [00:00<00:02,  1.89it/s][I 2020-06-28 22:05:35,605] Finished trial#37 with value: 10.962128700146138 with parameters: {'feature_fraction': 0.716}. Best is trial#37 with value: 10.962128700146138.\n",
      "\n",
      "feature_fraction_stage2, val_score: 10.962104:  17%|#6        | 1/6 [00:00<00:02,  1.89it/s]"
     ]
    },
    {
     "name": "stdout",
     "output_type": "stream",
     "text": [
      "Training until validation scores don't improve for 20 rounds\n",
      "[20]\ttraining's rmse: 10.8277\tvalid_1's rmse: 11.0204\n",
      "[40]\ttraining's rmse: 10.7389\tvalid_1's rmse: 10.9931\n",
      "[60]\ttraining's rmse: 10.6603\tvalid_1's rmse: 10.9828\n",
      "Early stopping, best iteration is:\n",
      "[49]\ttraining's rmse: 10.7026\tvalid_1's rmse: 10.9685\n"
     ]
    },
    {
     "name": "stderr",
     "output_type": "stream",
     "text": [
      "\n",
      "feature_fraction_stage2, val_score: 10.962104:  17%|#6        | 1/6 [00:01<00:02,  1.89it/s]\n",
      "feature_fraction_stage2, val_score: 10.962104:  33%|###3      | 2/6 [00:01<00:02,  1.65it/s][I 2020-06-28 22:05:36,401] Finished trial#38 with value: 10.968458051097077 with parameters: {'feature_fraction': 0.6839999999999999}. Best is trial#37 with value: 10.962128700146138.\n",
      "\n",
      "feature_fraction_stage2, val_score: 10.962104:  33%|###3      | 2/6 [00:01<00:02,  1.65it/s]"
     ]
    },
    {
     "name": "stdout",
     "output_type": "stream",
     "text": [
      "Training until validation scores don't improve for 20 rounds\n",
      "[20]\ttraining's rmse: 10.823\tvalid_1's rmse: 11.0139\n",
      "[40]\ttraining's rmse: 10.7424\tvalid_1's rmse: 10.9876\n",
      "[60]\ttraining's rmse: 10.6676\tvalid_1's rmse: 10.9651\n",
      "[80]\ttraining's rmse: 10.5921\tvalid_1's rmse: 10.9532\n",
      "[100]\ttraining's rmse: 10.5296\tvalid_1's rmse: 10.9524\n",
      "[120]\ttraining's rmse: 10.4803\tvalid_1's rmse: 10.9373\n",
      "[140]\ttraining's rmse: 10.4144\tvalid_1's rmse: 10.9557\n",
      "Early stopping, best iteration is:\n",
      "[122]\ttraining's rmse: 10.4743\tvalid_1's rmse: 10.9368\n"
     ]
    },
    {
     "name": "stderr",
     "output_type": "stream",
     "text": [
      "\n",
      "feature_fraction_stage2, val_score: 10.936806:  33%|###3      | 2/6 [00:02<00:02,  1.65it/s]\n",
      "feature_fraction_stage2, val_score: 10.936806:  50%|#####     | 3/6 [00:02<00:02,  1.21it/s][I 2020-06-28 22:05:37,745] Finished trial#39 with value: 10.936806109855652 with parameters: {'feature_fraction': 0.62}. Best is trial#39 with value: 10.936806109855652.\n",
      "\n",
      "feature_fraction_stage2, val_score: 10.936806:  50%|#####     | 3/6 [00:02<00:02,  1.21it/s]"
     ]
    },
    {
     "name": "stdout",
     "output_type": "stream",
     "text": [
      "Training until validation scores don't improve for 20 rounds\n",
      "[20]\ttraining's rmse: 10.8151\tvalid_1's rmse: 11.0116\n",
      "[40]\ttraining's rmse: 10.733\tvalid_1's rmse: 10.9817\n",
      "[60]\ttraining's rmse: 10.6552\tvalid_1's rmse: 10.9777\n",
      "Early stopping, best iteration is:\n",
      "[47]\ttraining's rmse: 10.7018\tvalid_1's rmse: 10.9672\n"
     ]
    },
    {
     "name": "stderr",
     "output_type": "stream",
     "text": [
      "\n",
      "feature_fraction_stage2, val_score: 10.936806:  50%|#####     | 3/6 [00:03<00:02,  1.21it/s]\n",
      "feature_fraction_stage2, val_score: 10.936806:  67%|######6   | 4/6 [00:03<00:01,  1.17it/s][I 2020-06-28 22:05:38,639] Finished trial#40 with value: 10.967165595824703 with parameters: {'feature_fraction': 0.7799999999999999}. Best is trial#39 with value: 10.936806109855652.\n",
      "\n",
      "feature_fraction_stage2, val_score: 10.936806:  67%|######6   | 4/6 [00:03<00:01,  1.17it/s]"
     ]
    },
    {
     "name": "stdout",
     "output_type": "stream",
     "text": [
      "Training until validation scores don't improve for 20 rounds\n",
      "[20]\ttraining's rmse: 10.823\tvalid_1's rmse: 11.0139\n",
      "[40]\ttraining's rmse: 10.7424\tvalid_1's rmse: 10.9877\n",
      "[60]\ttraining's rmse: 10.6656\tvalid_1's rmse: 10.9651\n",
      "[80]\ttraining's rmse: 10.5938\tvalid_1's rmse: 10.9588\n",
      "[100]\ttraining's rmse: 10.5266\tvalid_1's rmse: 10.9621\n",
      "Early stopping, best iteration is:\n",
      "[81]\ttraining's rmse: 10.5916\tvalid_1's rmse: 10.9555\n"
     ]
    },
    {
     "name": "stderr",
     "output_type": "stream",
     "text": [
      "\n",
      "feature_fraction_stage2, val_score: 10.936806:  67%|######6   | 4/6 [00:04<00:01,  1.17it/s]\n",
      "feature_fraction_stage2, val_score: 10.936806:  83%|########3 | 5/6 [00:04<00:00,  1.11it/s][I 2020-06-28 22:05:39,651] Finished trial#41 with value: 10.955469639856261 with parameters: {'feature_fraction': 0.652}. Best is trial#39 with value: 10.936806109855652.\n",
      "\n",
      "feature_fraction_stage2, val_score: 10.936806:  83%|########3 | 5/6 [00:04<00:00,  1.11it/s]"
     ]
    },
    {
     "name": "stdout",
     "output_type": "stream",
     "text": [
      "Training until validation scores don't improve for 20 rounds\n",
      "[20]\ttraining's rmse: 10.8243\tvalid_1's rmse: 11.015\n",
      "[40]\ttraining's rmse: 10.738\tvalid_1's rmse: 10.9781\n",
      "[60]\ttraining's rmse: 10.6614\tvalid_1's rmse: 10.9692\n",
      "Early stopping, best iteration is:\n",
      "[47]\ttraining's rmse: 10.7092\tvalid_1's rmse: 10.9594\n"
     ]
    },
    {
     "name": "stderr",
     "output_type": "stream",
     "text": [
      "\n",
      "feature_fraction_stage2, val_score: 10.936806:  83%|########3 | 5/6 [00:05<00:00,  1.11it/s]\n",
      "feature_fraction_stage2, val_score: 10.936806: 100%|##########| 6/6 [00:05<00:00,  1.19it/s][I 2020-06-28 22:05:40,345] Finished trial#42 with value: 10.959354009093305 with parameters: {'feature_fraction': 0.748}. Best is trial#39 with value: 10.936806109855652.\n",
      "feature_fraction_stage2, val_score: 10.936806: 100%|##########| 6/6 [00:05<00:00,  1.11it/s]\n",
      "\n",
      "  0%|          | 0/20 [00:00<?, ?it/s]\n",
      "regularization_factors, val_score: 10.936806:   0%|          | 0/20 [00:00<?, ?it/s]"
     ]
    },
    {
     "name": "stdout",
     "output_type": "stream",
     "text": [
      "Training until validation scores don't improve for 20 rounds\n",
      "[20]\ttraining's rmse: 10.823\tvalid_1's rmse: 11.0139\n",
      "[40]\ttraining's rmse: 10.7425\tvalid_1's rmse: 10.9876\n",
      "[60]\ttraining's rmse: 10.6678\tvalid_1's rmse: 10.9651\n",
      "[80]\ttraining's rmse: 10.5925\tvalid_1's rmse: 10.9533\n",
      "[100]\ttraining's rmse: 10.5293\tvalid_1's rmse: 10.9528\n",
      "Early stopping, best iteration is:\n",
      "[95]\ttraining's rmse: 10.5451\tvalid_1's rmse: 10.9464\n"
     ]
    },
    {
     "name": "stderr",
     "output_type": "stream",
     "text": [
      "\n",
      "regularization_factors, val_score: 10.936806:   0%|          | 0/20 [00:00<?, ?it/s]\n",
      "regularization_factors, val_score: 10.936806:   5%|5         | 1/20 [00:00<00:16,  1.18it/s][I 2020-06-28 22:05:41,347] Finished trial#43 with value: 10.946381847588706 with parameters: {'lambda_l1': 0.6346446902314663, 'lambda_l2': 7.035350979447331e-07}. Best is trial#43 with value: 10.946381847588706.\n",
      "\n",
      "regularization_factors, val_score: 10.936806:   5%|5         | 1/20 [00:00<00:16,  1.18it/s]"
     ]
    },
    {
     "name": "stdout",
     "output_type": "stream",
     "text": [
      "Training until validation scores don't improve for 20 rounds\n",
      "[20]\ttraining's rmse: 10.823\tvalid_1's rmse: 11.0139\n",
      "[40]\ttraining's rmse: 10.7424\tvalid_1's rmse: 10.9876\n",
      "[60]\ttraining's rmse: 10.6676\tvalid_1's rmse: 10.9651\n",
      "[80]\ttraining's rmse: 10.5921\tvalid_1's rmse: 10.9532\n",
      "[100]\ttraining's rmse: 10.5296\tvalid_1's rmse: 10.9524\n",
      "[120]\ttraining's rmse: 10.4803\tvalid_1's rmse: 10.9373\n",
      "[140]\ttraining's rmse: 10.4144\tvalid_1's rmse: 10.9557\n",
      "Early stopping, best iteration is:\n",
      "[122]\ttraining's rmse: 10.4743\tvalid_1's rmse: 10.9368\n"
     ]
    },
    {
     "name": "stderr",
     "output_type": "stream",
     "text": [
      "\n",
      "regularization_factors, val_score: 10.936806:   5%|5         | 1/20 [00:01<00:16,  1.18it/s]\n",
      "regularization_factors, val_score: 10.936806:  10%|#         | 2/20 [00:01<00:16,  1.08it/s][I 2020-06-28 22:05:42,440] Finished trial#44 with value: 10.936806102460146 with parameters: {'lambda_l1': 0.00012312457133631917, 'lambda_l2': 8.976275527221049e-06}. Best is trial#44 with value: 10.936806102460146.\n",
      "\n",
      "regularization_factors, val_score: 10.936806:  10%|#         | 2/20 [00:02<00:16,  1.08it/s]"
     ]
    },
    {
     "name": "stdout",
     "output_type": "stream",
     "text": [
      "Training until validation scores don't improve for 20 rounds\n",
      "[20]\ttraining's rmse: 10.823\tvalid_1's rmse: 11.0139\n",
      "[40]\ttraining's rmse: 10.7424\tvalid_1's rmse: 10.9876\n",
      "[60]\ttraining's rmse: 10.6676\tvalid_1's rmse: 10.9651\n",
      "[80]\ttraining's rmse: 10.5921\tvalid_1's rmse: 10.9532\n",
      "[100]\ttraining's rmse: 10.5296\tvalid_1's rmse: 10.9524\n",
      "[120]\ttraining's rmse: 10.4803\tvalid_1's rmse: 10.9373\n",
      "[140]\ttraining's rmse: 10.4144\tvalid_1's rmse: 10.9557\n",
      "Early stopping, best iteration is:\n",
      "[122]\ttraining's rmse: 10.4743\tvalid_1's rmse: 10.9368\n"
     ]
    },
    {
     "name": "stderr",
     "output_type": "stream",
     "text": [
      "\n",
      "regularization_factors, val_score: 10.936806:  10%|#         | 2/20 [00:03<00:16,  1.08it/s]\n",
      "regularization_factors, val_score: 10.936806:  15%|#5        | 3/20 [00:03<00:16,  1.02it/s][I 2020-06-28 22:05:43,559] Finished trial#45 with value: 10.936806107481026 with parameters: {'lambda_l1': 6.174913891619945e-06, 'lambda_l2': 2.3531678567729657e-05}. Best is trial#44 with value: 10.936806102460146.\n",
      "\n",
      "regularization_factors, val_score: 10.936806:  15%|#5        | 3/20 [00:03<00:16,  1.02it/s]"
     ]
    },
    {
     "name": "stdout",
     "output_type": "stream",
     "text": [
      "Training until validation scores don't improve for 20 rounds\n",
      "[20]\ttraining's rmse: 10.823\tvalid_1's rmse: 11.0139\n",
      "[40]\ttraining's rmse: 10.7425\tvalid_1's rmse: 10.9877\n",
      "[60]\ttraining's rmse: 10.6679\tvalid_1's rmse: 10.9651\n",
      "[80]\ttraining's rmse: 10.5927\tvalid_1's rmse: 10.9533\n",
      "[100]\ttraining's rmse: 10.5296\tvalid_1's rmse: 10.9528\n",
      "Early stopping, best iteration is:\n",
      "[95]\ttraining's rmse: 10.5453\tvalid_1's rmse: 10.9464\n"
     ]
    },
    {
     "name": "stderr",
     "output_type": "stream",
     "text": [
      "\n",
      "regularization_factors, val_score: 10.936806:  15%|#5        | 3/20 [00:04<00:16,  1.02it/s]\n",
      "regularization_factors, val_score: 10.936806:  20%|##        | 4/20 [00:04<00:15,  1.02it/s][I 2020-06-28 22:05:44,553] Finished trial#46 with value: 10.946411309581372 with parameters: {'lambda_l1': 2.3599361691632366e-08, 'lambda_l2': 0.3418515126051989}. Best is trial#44 with value: 10.936806102460146.\n",
      "\n",
      "regularization_factors, val_score: 10.936806:  20%|##        | 4/20 [00:04<00:15,  1.02it/s]"
     ]
    },
    {
     "name": "stdout",
     "output_type": "stream",
     "text": [
      "Training until validation scores don't improve for 20 rounds\n",
      "[20]\ttraining's rmse: 10.823\tvalid_1's rmse: 11.0139\n",
      "[40]\ttraining's rmse: 10.7424\tvalid_1's rmse: 10.9876\n",
      "[60]\ttraining's rmse: 10.6676\tvalid_1's rmse: 10.9651\n",
      "[80]\ttraining's rmse: 10.5921\tvalid_1's rmse: 10.9532\n",
      "[100]\ttraining's rmse: 10.5296\tvalid_1's rmse: 10.9524\n",
      "[120]\ttraining's rmse: 10.4803\tvalid_1's rmse: 10.9373\n",
      "[140]\ttraining's rmse: 10.4144\tvalid_1's rmse: 10.9557\n",
      "Early stopping, best iteration is:\n",
      "[122]\ttraining's rmse: 10.4743\tvalid_1's rmse: 10.9368\n"
     ]
    },
    {
     "name": "stderr",
     "output_type": "stream",
     "text": [
      "\n",
      "regularization_factors, val_score: 10.936806:  20%|##        | 4/20 [00:05<00:15,  1.02it/s]\n",
      "regularization_factors, val_score: 10.936806:  25%|##5       | 5/20 [00:05<00:15,  1.06s/it][I 2020-06-28 22:05:45,775] Finished trial#47 with value: 10.936806052764016 with parameters: {'lambda_l1': 0.0010883779507435871, 'lambda_l2': 5.2330330941243585e-06}. Best is trial#47 with value: 10.936806052764016.\n",
      "\n",
      "regularization_factors, val_score: 10.936806:  25%|##5       | 5/20 [00:05<00:15,  1.06s/it]"
     ]
    },
    {
     "name": "stdout",
     "output_type": "stream",
     "text": [
      "Training until validation scores don't improve for 20 rounds\n",
      "[20]\ttraining's rmse: 10.8233\tvalid_1's rmse: 11.0139\n",
      "[40]\ttraining's rmse: 10.7414\tvalid_1's rmse: 10.9894\n",
      "[60]\ttraining's rmse: 10.6657\tvalid_1's rmse: 10.964\n",
      "[80]\ttraining's rmse: 10.5901\tvalid_1's rmse: 10.9556\n",
      "[100]\ttraining's rmse: 10.529\tvalid_1's rmse: 10.9527\n",
      "[120]\ttraining's rmse: 10.4725\tvalid_1's rmse: 10.9457\n",
      "[140]\ttraining's rmse: 10.4075\tvalid_1's rmse: 10.9591\n",
      "Early stopping, best iteration is:\n",
      "[122]\ttraining's rmse: 10.4676\tvalid_1's rmse: 10.9424\n"
     ]
    },
    {
     "name": "stderr",
     "output_type": "stream",
     "text": [
      "\n",
      "regularization_factors, val_score: 10.936806:  25%|##5       | 5/20 [00:06<00:15,  1.06s/it]\n",
      "regularization_factors, val_score: 10.936806:  30%|###       | 6/20 [00:06<00:15,  1.09s/it][I 2020-06-28 22:05:46,955] Finished trial#48 with value: 10.942404748569155 with parameters: {'lambda_l1': 2.855865962910678, 'lambda_l2': 0.0014452324349208906}. Best is trial#47 with value: 10.936806052764016.\n",
      "\n",
      "regularization_factors, val_score: 10.936806:  30%|###       | 6/20 [00:06<00:15,  1.09s/it]"
     ]
    },
    {
     "name": "stdout",
     "output_type": "stream",
     "text": [
      "Training until validation scores don't improve for 20 rounds\n",
      "[20]\ttraining's rmse: 10.823\tvalid_1's rmse: 11.0139\n",
      "[40]\ttraining's rmse: 10.7424\tvalid_1's rmse: 10.9876\n",
      "[60]\ttraining's rmse: 10.6677\tvalid_1's rmse: 10.9651\n",
      "[80]\ttraining's rmse: 10.5921\tvalid_1's rmse: 10.9532\n",
      "[100]\ttraining's rmse: 10.5296\tvalid_1's rmse: 10.9524\n",
      "[120]\ttraining's rmse: 10.4803\tvalid_1's rmse: 10.9373\n",
      "[140]\ttraining's rmse: 10.4144\tvalid_1's rmse: 10.9557\n",
      "Early stopping, best iteration is:\n",
      "[122]\ttraining's rmse: 10.4743\tvalid_1's rmse: 10.9368\n"
     ]
    },
    {
     "name": "stderr",
     "output_type": "stream",
     "text": [
      "\n",
      "regularization_factors, val_score: 10.936804:  30%|###       | 6/20 [00:07<00:15,  1.09s/it]\n",
      "regularization_factors, val_score: 10.936804:  35%|###5      | 7/20 [00:07<00:14,  1.10s/it][I 2020-06-28 22:05:48,081] Finished trial#49 with value: 10.936803589105713 with parameters: {'lambda_l1': 0.0489639271584395, 'lambda_l2': 1.9391934289038527e-05}. Best is trial#49 with value: 10.936803589105713.\n",
      "\n",
      "regularization_factors, val_score: 10.936804:  35%|###5      | 7/20 [00:07<00:14,  1.10s/it]"
     ]
    },
    {
     "name": "stdout",
     "output_type": "stream",
     "text": [
      "Training until validation scores don't improve for 20 rounds\n",
      "[20]\ttraining's rmse: 10.823\tvalid_1's rmse: 11.0139\n",
      "[40]\ttraining's rmse: 10.7425\tvalid_1's rmse: 10.9876\n",
      "[60]\ttraining's rmse: 10.6678\tvalid_1's rmse: 10.9651\n",
      "[80]\ttraining's rmse: 10.5925\tvalid_1's rmse: 10.9533\n",
      "[100]\ttraining's rmse: 10.5293\tvalid_1's rmse: 10.9528\n",
      "Early stopping, best iteration is:\n",
      "[95]\ttraining's rmse: 10.5451\tvalid_1's rmse: 10.9464\n"
     ]
    },
    {
     "name": "stderr",
     "output_type": "stream",
     "text": [
      "\n",
      "regularization_factors, val_score: 10.936804:  35%|###5      | 7/20 [00:08<00:14,  1.10s/it]\n",
      "regularization_factors, val_score: 10.936804:  40%|####      | 8/20 [00:08<00:12,  1.05s/it][I 2020-06-28 22:05:48,990] Finished trial#50 with value: 10.946381711858962 with parameters: {'lambda_l1': 0.6983404122011231, 'lambda_l2': 0.003871652944519566}. Best is trial#49 with value: 10.936803589105713.\n",
      "\n",
      "regularization_factors, val_score: 10.936804:  40%|####      | 8/20 [00:08<00:12,  1.05s/it]"
     ]
    },
    {
     "name": "stdout",
     "output_type": "stream",
     "text": [
      "Training until validation scores don't improve for 20 rounds\n",
      "[20]\ttraining's rmse: 10.823\tvalid_1's rmse: 11.0139\n",
      "[40]\ttraining's rmse: 10.7424\tvalid_1's rmse: 10.9876\n",
      "[60]\ttraining's rmse: 10.6676\tvalid_1's rmse: 10.9651\n",
      "[80]\ttraining's rmse: 10.5921\tvalid_1's rmse: 10.9532\n",
      "[100]\ttraining's rmse: 10.5296\tvalid_1's rmse: 10.9524\n",
      "[120]\ttraining's rmse: 10.4803\tvalid_1's rmse: 10.9373\n",
      "[140]\ttraining's rmse: 10.4144\tvalid_1's rmse: 10.9557\n",
      "Early stopping, best iteration is:\n",
      "[122]\ttraining's rmse: 10.4743\tvalid_1's rmse: 10.9368\n"
     ]
    },
    {
     "name": "stderr",
     "output_type": "stream",
     "text": [
      "\n",
      "regularization_factors, val_score: 10.936804:  40%|####      | 8/20 [00:09<00:12,  1.05s/it]\n",
      "regularization_factors, val_score: 10.936804:  45%|####5     | 9/20 [00:09<00:11,  1.05s/it][I 2020-06-28 22:05:50,067] Finished trial#51 with value: 10.936805999948161 with parameters: {'lambda_l1': 0.0002849304020242349, 'lambda_l2': 0.0010479283654498577}. Best is trial#49 with value: 10.936803589105713.\n",
      "\n",
      "regularization_factors, val_score: 10.936804:  45%|####5     | 9/20 [00:09<00:11,  1.05s/it]"
     ]
    },
    {
     "name": "stdout",
     "output_type": "stream",
     "text": [
      "Training until validation scores don't improve for 20 rounds\n",
      "[20]\ttraining's rmse: 10.823\tvalid_1's rmse: 11.0139\n",
      "[40]\ttraining's rmse: 10.7424\tvalid_1's rmse: 10.9876\n",
      "[60]\ttraining's rmse: 10.6676\tvalid_1's rmse: 10.9651\n",
      "[80]\ttraining's rmse: 10.5921\tvalid_1's rmse: 10.9532\n",
      "[100]\ttraining's rmse: 10.5296\tvalid_1's rmse: 10.9524\n",
      "[120]\ttraining's rmse: 10.4803\tvalid_1's rmse: 10.9373\n",
      "[140]\ttraining's rmse: 10.4144\tvalid_1's rmse: 10.9557\n",
      "Early stopping, best iteration is:\n",
      "[122]\ttraining's rmse: 10.4743\tvalid_1's rmse: 10.9368\n"
     ]
    },
    {
     "name": "stderr",
     "output_type": "stream",
     "text": [
      "\n",
      "regularization_factors, val_score: 10.936804:  45%|####5     | 9/20 [00:10<00:11,  1.05s/it]\n",
      "regularization_factors, val_score: 10.936804:  50%|#####     | 10/20 [00:10<00:11,  1.10s/it][I 2020-06-28 22:05:51,287] Finished trial#52 with value: 10.936806109856313 with parameters: {'lambda_l1': 4.18506776855501e-08, 'lambda_l2': 1.755140722792257e-07}. Best is trial#49 with value: 10.936803589105713.\n",
      "\n",
      "regularization_factors, val_score: 10.936804:  50%|#####     | 10/20 [00:10<00:11,  1.10s/it]"
     ]
    },
    {
     "name": "stdout",
     "output_type": "stream",
     "text": [
      "Training until validation scores don't improve for 20 rounds\n",
      "[20]\ttraining's rmse: 10.823\tvalid_1's rmse: 11.0139\n",
      "[40]\ttraining's rmse: 10.7424\tvalid_1's rmse: 10.9876\n",
      "[60]\ttraining's rmse: 10.6677\tvalid_1's rmse: 10.9651\n",
      "[80]\ttraining's rmse: 10.5921\tvalid_1's rmse: 10.9532\n",
      "[100]\ttraining's rmse: 10.5296\tvalid_1's rmse: 10.9524\n",
      "[120]\ttraining's rmse: 10.4803\tvalid_1's rmse: 10.9373\n",
      "[140]\ttraining's rmse: 10.4144\tvalid_1's rmse: 10.9557\n",
      "Early stopping, best iteration is:\n",
      "[122]\ttraining's rmse: 10.4743\tvalid_1's rmse: 10.9368\n"
     ]
    },
    {
     "name": "stderr",
     "output_type": "stream",
     "text": [
      "\n",
      "regularization_factors, val_score: 10.936804:  50%|#####     | 10/20 [00:11<00:11,  1.10s/it]\n",
      "regularization_factors, val_score: 10.936804:  55%|#####5    | 11/20 [00:11<00:10,  1.13s/it][I 2020-06-28 22:05:52,476] Finished trial#53 with value: 10.936804610866258 with parameters: {'lambda_l1': 0.02911872689161367, 'lambda_l2': 2.111375616680878e-08}. Best is trial#49 with value: 10.936803589105713.\n",
      "\n",
      "regularization_factors, val_score: 10.936804:  55%|#####5    | 11/20 [00:12<00:10,  1.13s/it]"
     ]
    },
    {
     "name": "stdout",
     "output_type": "stream",
     "text": [
      "Training until validation scores don't improve for 20 rounds\n",
      "[20]\ttraining's rmse: 10.823\tvalid_1's rmse: 11.0139\n",
      "[40]\ttraining's rmse: 10.7424\tvalid_1's rmse: 10.9876\n",
      "[60]\ttraining's rmse: 10.6677\tvalid_1's rmse: 10.9651\n",
      "[80]\ttraining's rmse: 10.5921\tvalid_1's rmse: 10.9532\n",
      "[100]\ttraining's rmse: 10.5296\tvalid_1's rmse: 10.9524\n",
      "[120]\ttraining's rmse: 10.4803\tvalid_1's rmse: 10.9373\n",
      "[140]\ttraining's rmse: 10.4144\tvalid_1's rmse: 10.9557\n",
      "Early stopping, best iteration is:\n",
      "[122]\ttraining's rmse: 10.4743\tvalid_1's rmse: 10.9368\n"
     ]
    },
    {
     "name": "stderr",
     "output_type": "stream",
     "text": [
      "\n",
      "regularization_factors, val_score: 10.936804:  55%|#####5    | 11/20 [00:13<00:10,  1.13s/it]\n",
      "regularization_factors, val_score: 10.936804:  60%|######    | 12/20 [00:13<00:09,  1.21s/it][I 2020-06-28 22:05:53,881] Finished trial#54 with value: 10.936804657995243 with parameters: {'lambda_l1': 0.02820898948277288, 'lambda_l2': 2.159994322080942e-08}. Best is trial#49 with value: 10.936803589105713.\n",
      "\n",
      "regularization_factors, val_score: 10.936804:  60%|######    | 12/20 [00:13<00:09,  1.21s/it]"
     ]
    },
    {
     "name": "stdout",
     "output_type": "stream",
     "text": [
      "Training until validation scores don't improve for 20 rounds\n",
      "[20]\ttraining's rmse: 10.823\tvalid_1's rmse: 11.0139\n",
      "[40]\ttraining's rmse: 10.7424\tvalid_1's rmse: 10.9876\n",
      "[60]\ttraining's rmse: 10.6677\tvalid_1's rmse: 10.9651\n",
      "[80]\ttraining's rmse: 10.5921\tvalid_1's rmse: 10.9532\n",
      "[100]\ttraining's rmse: 10.5296\tvalid_1's rmse: 10.9524\n",
      "[120]\ttraining's rmse: 10.4803\tvalid_1's rmse: 10.9373\n",
      "[140]\ttraining's rmse: 10.4144\tvalid_1's rmse: 10.9557\n",
      "Early stopping, best iteration is:\n",
      "[122]\ttraining's rmse: 10.4743\tvalid_1's rmse: 10.9368\n"
     ]
    },
    {
     "name": "stderr",
     "output_type": "stream",
     "text": [
      "\n",
      "regularization_factors, val_score: 10.936804:  60%|######    | 12/20 [00:14<00:09,  1.21s/it]\n",
      "regularization_factors, val_score: 10.936804:  65%|######5   | 13/20 [00:14<00:08,  1.25s/it][I 2020-06-28 22:05:55,225] Finished trial#55 with value: 10.936805055128442 with parameters: {'lambda_l1': 0.020487831915108983, 'lambda_l2': 1.3403528442810455e-08}. Best is trial#49 with value: 10.936803589105713.\n",
      "\n",
      "regularization_factors, val_score: 10.936804:  65%|######5   | 13/20 [00:14<00:08,  1.25s/it]"
     ]
    },
    {
     "name": "stdout",
     "output_type": "stream",
     "text": [
      "Training until validation scores don't improve for 20 rounds\n",
      "[20]\ttraining's rmse: 10.823\tvalid_1's rmse: 11.0139\n",
      "[40]\ttraining's rmse: 10.7425\tvalid_1's rmse: 10.9877\n",
      "[60]\ttraining's rmse: 10.6678\tvalid_1's rmse: 10.9651\n",
      "[80]\ttraining's rmse: 10.5926\tvalid_1's rmse: 10.9533\n",
      "[100]\ttraining's rmse: 10.5294\tvalid_1's rmse: 10.9528\n",
      "Early stopping, best iteration is:\n",
      "[95]\ttraining's rmse: 10.5452\tvalid_1's rmse: 10.9464\n"
     ]
    },
    {
     "name": "stderr",
     "output_type": "stream",
     "text": [
      "\n",
      "regularization_factors, val_score: 10.936804:  65%|######5   | 13/20 [00:15<00:08,  1.25s/it]\n",
      "regularization_factors, val_score: 10.936804:  70%|#######   | 14/20 [00:15<00:07,  1.17s/it][I 2020-06-28 22:05:56,217] Finished trial#56 with value: 10.946401279553076 with parameters: {'lambda_l1': 0.032451515838221624, 'lambda_l2': 0.20908974465082525}. Best is trial#49 with value: 10.936803589105713.\n",
      "\n",
      "regularization_factors, val_score: 10.936804:  70%|#######   | 14/20 [00:15<00:07,  1.17s/it]"
     ]
    },
    {
     "name": "stdout",
     "output_type": "stream",
     "text": [
      "Training until validation scores don't improve for 20 rounds\n",
      "[20]\ttraining's rmse: 10.8246\tvalid_1's rmse: 11.012\n",
      "[40]\ttraining's rmse: 10.7386\tvalid_1's rmse: 10.9944\n",
      "[60]\ttraining's rmse: 10.6701\tvalid_1's rmse: 10.9741\n",
      "[80]\ttraining's rmse: 10.6028\tvalid_1's rmse: 10.9636\n",
      "[100]\ttraining's rmse: 10.54\tvalid_1's rmse: 10.9502\n",
      "[120]\ttraining's rmse: 10.4986\tvalid_1's rmse: 10.9416\n",
      "[140]\ttraining's rmse: 10.4382\tvalid_1's rmse: 10.9719\n",
      "Early stopping, best iteration is:\n",
      "[120]\ttraining's rmse: 10.4986\tvalid_1's rmse: 10.9416\n"
     ]
    },
    {
     "name": "stderr",
     "output_type": "stream",
     "text": [
      "\n",
      "regularization_factors, val_score: 10.936804:  70%|#######   | 14/20 [00:16<00:07,  1.17s/it]\n",
      "regularization_factors, val_score: 10.936804:  75%|#######5  | 15/20 [00:16<00:05,  1.17s/it][I 2020-06-28 22:05:57,385] Finished trial#57 with value: 10.94163321911295 with parameters: {'lambda_l1': 9.372527828350472, 'lambda_l2': 9.38904605605753}. Best is trial#49 with value: 10.936803589105713.\n",
      "\n",
      "regularization_factors, val_score: 10.936804:  75%|#######5  | 15/20 [00:17<00:05,  1.17s/it]"
     ]
    },
    {
     "name": "stdout",
     "output_type": "stream",
     "text": [
      "Training until validation scores don't improve for 20 rounds\n",
      "[20]\ttraining's rmse: 10.823\tvalid_1's rmse: 11.0139\n",
      "[40]\ttraining's rmse: 10.7424\tvalid_1's rmse: 10.9876\n",
      "[60]\ttraining's rmse: 10.6676\tvalid_1's rmse: 10.9651\n",
      "[80]\ttraining's rmse: 10.5921\tvalid_1's rmse: 10.9532\n",
      "[100]\ttraining's rmse: 10.5296\tvalid_1's rmse: 10.9524\n",
      "[120]\ttraining's rmse: 10.4803\tvalid_1's rmse: 10.9373\n",
      "[140]\ttraining's rmse: 10.4144\tvalid_1's rmse: 10.9557\n",
      "Early stopping, best iteration is:\n",
      "[122]\ttraining's rmse: 10.4743\tvalid_1's rmse: 10.9368\n"
     ]
    },
    {
     "name": "stderr",
     "output_type": "stream",
     "text": [
      "\n",
      "regularization_factors, val_score: 10.936804:  75%|#######5  | 15/20 [00:18<00:05,  1.17s/it]\n",
      "regularization_factors, val_score: 10.936804:  80%|########  | 16/20 [00:18<00:04,  1.17s/it][I 2020-06-28 22:05:58,542] Finished trial#58 with value: 10.936805869225728 with parameters: {'lambda_l1': 0.004555631955648998, 'lambda_l2': 6.74463233237367e-05}. Best is trial#49 with value: 10.936803589105713.\n",
      "\n",
      "regularization_factors, val_score: 10.936804:  80%|########  | 16/20 [00:18<00:04,  1.17s/it]"
     ]
    },
    {
     "name": "stdout",
     "output_type": "stream",
     "text": [
      "Training until validation scores don't improve for 20 rounds\n",
      "[20]\ttraining's rmse: 10.823\tvalid_1's rmse: 11.0139\n",
      "[40]\ttraining's rmse: 10.7424\tvalid_1's rmse: 10.9876\n",
      "[60]\ttraining's rmse: 10.6676\tvalid_1's rmse: 10.9651\n",
      "[80]\ttraining's rmse: 10.5921\tvalid_1's rmse: 10.9532\n",
      "[100]\ttraining's rmse: 10.5296\tvalid_1's rmse: 10.9524\n",
      "[120]\ttraining's rmse: 10.4803\tvalid_1's rmse: 10.9373\n",
      "[140]\ttraining's rmse: 10.4144\tvalid_1's rmse: 10.9557\n",
      "Early stopping, best iteration is:\n",
      "[122]\ttraining's rmse: 10.4743\tvalid_1's rmse: 10.9368\n"
     ]
    },
    {
     "name": "stderr",
     "output_type": "stream",
     "text": [
      "\n",
      "regularization_factors, val_score: 10.936804:  80%|########  | 16/20 [00:19<00:04,  1.17s/it]\n",
      "regularization_factors, val_score: 10.936804:  85%|########5 | 17/20 [00:19<00:03,  1.18s/it][I 2020-06-28 22:05:59,746] Finished trial#59 with value: 10.93680610888413 with parameters: {'lambda_l1': 1.9732410441246962e-05, 'lambda_l2': 2.8932118130639267e-07}. Best is trial#49 with value: 10.936803589105713.\n",
      "\n",
      "regularization_factors, val_score: 10.936804:  85%|########5 | 17/20 [00:19<00:03,  1.18s/it]"
     ]
    },
    {
     "name": "stdout",
     "output_type": "stream",
     "text": [
      "Training until validation scores don't improve for 20 rounds\n",
      "[20]\ttraining's rmse: 10.823\tvalid_1's rmse: 11.0139\n",
      "[40]\ttraining's rmse: 10.7424\tvalid_1's rmse: 10.9876\n",
      "[60]\ttraining's rmse: 10.6677\tvalid_1's rmse: 10.9651\n",
      "[80]\ttraining's rmse: 10.5921\tvalid_1's rmse: 10.9532\n",
      "[100]\ttraining's rmse: 10.5297\tvalid_1's rmse: 10.9524\n",
      "[120]\ttraining's rmse: 10.4804\tvalid_1's rmse: 10.9373\n",
      "[140]\ttraining's rmse: 10.4145\tvalid_1's rmse: 10.9557\n",
      "Early stopping, best iteration is:\n",
      "[122]\ttraining's rmse: 10.4743\tvalid_1's rmse: 10.9368\n"
     ]
    },
    {
     "name": "stderr",
     "output_type": "stream",
     "text": [
      "\n",
      "regularization_factors, val_score: 10.936798:  85%|########5 | 17/20 [00:20<00:03,  1.18s/it]\n",
      "regularization_factors, val_score: 10.936798:  90%|######### | 18/20 [00:20<00:02,  1.21s/it][I 2020-06-28 22:06:01,012] Finished trial#60 with value: 10.936797690889021 with parameters: {'lambda_l1': 0.1637633860174076, 'lambda_l2': 1.0000892589543149e-08}. Best is trial#60 with value: 10.936797690889021.\n",
      "\n",
      "regularization_factors, val_score: 10.936798:  90%|######### | 18/20 [00:20<00:02,  1.21s/it]"
     ]
    },
    {
     "name": "stdout",
     "output_type": "stream",
     "text": [
      "Training until validation scores don't improve for 20 rounds\n",
      "[20]\ttraining's rmse: 10.823\tvalid_1's rmse: 11.0139\n",
      "[40]\ttraining's rmse: 10.7424\tvalid_1's rmse: 10.9876\n",
      "[60]\ttraining's rmse: 10.6677\tvalid_1's rmse: 10.9651\n",
      "[80]\ttraining's rmse: 10.5922\tvalid_1's rmse: 10.9532\n",
      "[100]\ttraining's rmse: 10.5297\tvalid_1's rmse: 10.9524\n",
      "[120]\ttraining's rmse: 10.4805\tvalid_1's rmse: 10.9373\n",
      "[140]\ttraining's rmse: 10.4146\tvalid_1's rmse: 10.9557\n",
      "Early stopping, best iteration is:\n",
      "[122]\ttraining's rmse: 10.4744\tvalid_1's rmse: 10.9368\n"
     ]
    },
    {
     "name": "stderr",
     "output_type": "stream",
     "text": [
      "\n",
      "regularization_factors, val_score: 10.936794:  90%|######### | 18/20 [00:21<00:02,  1.21s/it]\n",
      "regularization_factors, val_score: 10.936794:  95%|#########5| 19/20 [00:21<00:01,  1.18s/it][I 2020-06-28 22:06:02,141] Finished trial#61 with value: 10.9367942125036 with parameters: {'lambda_l1': 0.1914570780007196, 'lambda_l2': 0.022986147685588054}. Best is trial#61 with value: 10.9367942125036.\n",
      "\n",
      "regularization_factors, val_score: 10.936794:  95%|#########5| 19/20 [00:21<00:01,  1.18s/it]"
     ]
    },
    {
     "name": "stdout",
     "output_type": "stream",
     "text": [
      "Training until validation scores don't improve for 20 rounds\n",
      "[20]\ttraining's rmse: 10.8231\tvalid_1's rmse: 11.0139\n",
      "[40]\ttraining's rmse: 10.7425\tvalid_1's rmse: 10.9876\n",
      "[60]\ttraining's rmse: 10.6679\tvalid_1's rmse: 10.9651\n",
      "[80]\ttraining's rmse: 10.5926\tvalid_1's rmse: 10.9533\n",
      "[100]\ttraining's rmse: 10.5294\tvalid_1's rmse: 10.9528\n",
      "Early stopping, best iteration is:\n",
      "[95]\ttraining's rmse: 10.5452\tvalid_1's rmse: 10.9464\n"
     ]
    },
    {
     "name": "stderr",
     "output_type": "stream",
     "text": [
      "\n",
      "regularization_factors, val_score: 10.936794:  95%|#########5| 19/20 [00:22<00:01,  1.18s/it]\n",
      "regularization_factors, val_score: 10.936794: 100%|##########| 20/20 [00:22<00:00,  1.10s/it][I 2020-06-28 22:06:03,054] Finished trial#62 with value: 10.946382785298418 with parameters: {'lambda_l1': 0.7527740043113688, 'lambda_l2': 0.02319126136708516}. Best is trial#61 with value: 10.9367942125036.\n",
      "regularization_factors, val_score: 10.936794: 100%|##########| 20/20 [00:22<00:00,  1.13s/it]\n",
      "\n",
      "  0%|          | 0/5 [00:00<?, ?it/s]\n",
      "min_data_in_leaf, val_score: 10.936794:   0%|          | 0/5 [00:00<?, ?it/s]"
     ]
    },
    {
     "name": "stdout",
     "output_type": "stream",
     "text": [
      "Training until validation scores don't improve for 20 rounds\n",
      "[20]\ttraining's rmse: 10.823\tvalid_1's rmse: 11.0139\n",
      "[40]\ttraining's rmse: 10.7362\tvalid_1's rmse: 10.9927\n",
      "[60]\ttraining's rmse: 10.66\tvalid_1's rmse: 10.9658\n",
      "[80]\ttraining's rmse: 10.5889\tvalid_1's rmse: 10.9602\n",
      "[100]\ttraining's rmse: 10.5279\tvalid_1's rmse: 10.9541\n",
      "[120]\ttraining's rmse: 10.4764\tvalid_1's rmse: 10.9386\n",
      "[140]\ttraining's rmse: 10.4125\tvalid_1's rmse: 10.9672\n",
      "Early stopping, best iteration is:\n",
      "[120]\ttraining's rmse: 10.4764\tvalid_1's rmse: 10.9386\n"
     ]
    },
    {
     "name": "stderr",
     "output_type": "stream",
     "text": [
      "\n",
      "min_data_in_leaf, val_score: 10.936794:   0%|          | 0/5 [00:01<?, ?it/s]\n",
      "min_data_in_leaf, val_score: 10.936794:  20%|##        | 1/5 [00:01<00:04,  1.02s/it][I 2020-06-28 22:06:04,216] Finished trial#63 with value: 10.938589889104781 with parameters: {'min_child_samples': 50}. Best is trial#63 with value: 10.938589889104781.\n",
      "\n",
      "min_data_in_leaf, val_score: 10.936794:  20%|##        | 1/5 [00:01<00:04,  1.02s/it]"
     ]
    },
    {
     "name": "stdout",
     "output_type": "stream",
     "text": [
      "Training until validation scores don't improve for 20 rounds\n",
      "[20]\ttraining's rmse: 10.8207\tvalid_1's rmse: 11.0242\n",
      "[40]\ttraining's rmse: 10.7379\tvalid_1's rmse: 11.0042\n",
      "[60]\ttraining's rmse: 10.6603\tvalid_1's rmse: 10.99\n",
      "[80]\ttraining's rmse: 10.5891\tvalid_1's rmse: 10.9828\n",
      "[100]\ttraining's rmse: 10.5276\tvalid_1's rmse: 10.99\n",
      "Early stopping, best iteration is:\n",
      "[88]\ttraining's rmse: 10.5668\tvalid_1's rmse: 10.9781\n"
     ]
    },
    {
     "name": "stderr",
     "output_type": "stream",
     "text": [
      "\n",
      "min_data_in_leaf, val_score: 10.936794:  20%|##        | 1/5 [00:02<00:04,  1.02s/it]\n",
      "min_data_in_leaf, val_score: 10.936794:  40%|####      | 2/5 [00:02<00:03,  1.01s/it][I 2020-06-28 22:06:05,218] Finished trial#64 with value: 10.978111679409032 with parameters: {'min_child_samples': 5}. Best is trial#63 with value: 10.938589889104781.\n",
      "\n",
      "min_data_in_leaf, val_score: 10.936794:  40%|####      | 2/5 [00:02<00:03,  1.01s/it]"
     ]
    },
    {
     "name": "stdout",
     "output_type": "stream",
     "text": [
      "Training until validation scores don't improve for 20 rounds\n",
      "[20]\ttraining's rmse: 10.823\tvalid_1's rmse: 11.0139\n",
      "[40]\ttraining's rmse: 10.7362\tvalid_1's rmse: 10.994\n",
      "[60]\ttraining's rmse: 10.6634\tvalid_1's rmse: 10.976\n",
      "[80]\ttraining's rmse: 10.5951\tvalid_1's rmse: 10.9709\n",
      "[100]\ttraining's rmse: 10.5369\tvalid_1's rmse: 10.9646\n",
      "Early stopping, best iteration is:\n",
      "[95]\ttraining's rmse: 10.5502\tvalid_1's rmse: 10.9602\n"
     ]
    },
    {
     "name": "stderr",
     "output_type": "stream",
     "text": [
      "\n",
      "min_data_in_leaf, val_score: 10.936794:  40%|####      | 2/5 [00:02<00:03,  1.01s/it]\n",
      "min_data_in_leaf, val_score: 10.936794:  60%|######    | 3/5 [00:02<00:01,  1.00it/s][I 2020-06-28 22:06:06,180] Finished trial#65 with value: 10.960246478532307 with parameters: {'min_child_samples': 100}. Best is trial#63 with value: 10.938589889104781.\n",
      "\n",
      "min_data_in_leaf, val_score: 10.936794:  60%|######    | 3/5 [00:03<00:01,  1.00it/s]"
     ]
    },
    {
     "name": "stdout",
     "output_type": "stream",
     "text": [
      "Training until validation scores don't improve for 20 rounds\n",
      "[20]\ttraining's rmse: 10.8207\tvalid_1's rmse: 11.0242\n",
      "[40]\ttraining's rmse: 10.7364\tvalid_1's rmse: 11.0042\n",
      "[60]\ttraining's rmse: 10.659\tvalid_1's rmse: 10.9936\n",
      "Early stopping, best iteration is:\n",
      "[49]\ttraining's rmse: 10.7023\tvalid_1's rmse: 10.9856\n"
     ]
    },
    {
     "name": "stderr",
     "output_type": "stream",
     "text": [
      "\n",
      "min_data_in_leaf, val_score: 10.936794:  60%|######    | 3/5 [00:03<00:01,  1.00it/s]\n",
      "min_data_in_leaf, val_score: 10.936794:  80%|########  | 4/5 [00:03<00:00,  1.11it/s][I 2020-06-28 22:06:06,869] Finished trial#66 with value: 10.985551694283185 with parameters: {'min_child_samples': 10}. Best is trial#63 with value: 10.938589889104781.\n",
      "\n",
      "min_data_in_leaf, val_score: 10.936794:  80%|########  | 4/5 [00:03<00:00,  1.11it/s]"
     ]
    },
    {
     "name": "stdout",
     "output_type": "stream",
     "text": [
      "Training until validation scores don't improve for 20 rounds\n",
      "[20]\ttraining's rmse: 10.823\tvalid_1's rmse: 11.0139\n",
      "[40]\ttraining's rmse: 10.7424\tvalid_1's rmse: 10.9876\n",
      "[60]\ttraining's rmse: 10.6677\tvalid_1's rmse: 10.9651\n",
      "[80]\ttraining's rmse: 10.5926\tvalid_1's rmse: 10.9534\n",
      "[100]\ttraining's rmse: 10.5324\tvalid_1's rmse: 10.9504\n",
      "[120]\ttraining's rmse: 10.4787\tvalid_1's rmse: 10.9443\n",
      "Early stopping, best iteration is:\n",
      "[119]\ttraining's rmse: 10.4793\tvalid_1's rmse: 10.9432\n"
     ]
    },
    {
     "name": "stderr",
     "output_type": "stream",
     "text": [
      "\n",
      "min_data_in_leaf, val_score: 10.936794:  80%|########  | 4/5 [00:04<00:00,  1.11it/s]\n",
      "min_data_in_leaf, val_score: 10.936794: 100%|##########| 5/5 [00:04<00:00,  1.03it/s][I 2020-06-28 22:06:08,012] Finished trial#67 with value: 10.943155001439509 with parameters: {'min_child_samples': 25}. Best is trial#63 with value: 10.938589889104781.\n",
      "min_data_in_leaf, val_score: 10.936794: 100%|##########| 5/5 [00:04<00:00,  1.01it/s]\n"
     ]
    },
    {
     "data": {
      "image/png": "[encoded data removed]",
      "text/plain": [
       "<Figure size 576x576 with 1 Axes>"
      ]
     },
     "metadata": {
      "needs_background": "light"
     },
     "output_type": "display_data"
    },
    {
     "name": "stdout",
     "output_type": "stream",
     "text": [
      "==< domain2_var1 >==\n",
      "X_train : (4407, 1461)\n"
     ]
    },
    {
     "name": "stderr",
     "output_type": "stream",
     "text": [
      "C:\\Users\\USER\\anaconda3\\envs\\tf115\\lib\\site-packages\\optuna\\_experimental.py:61: ExperimentalWarning: train is experimental (supported from v0.18.0). The interface can change in the future.\n",
      "  ExperimentalWarning,\n",
      "C:\\Users\\USER\\anaconda3\\envs\\tf115\\lib\\site-packages\\optuna\\_experimental.py:83: ExperimentalWarning: LightGBMTuner is experimental (supported from v1.5.0). The interface can change in the future.\n",
      "  ExperimentalWarning,\n",
      "\n",
      "  0%|          | 0/7 [00:00<?, ?it/s]\n",
      "feature_fraction, val_score: inf:   0%|          | 0/7 [00:00<?, ?it/s]"
     ]
    },
    {
     "name": "stdout",
     "output_type": "stream",
     "text": [
      "Training until validation scores don't improve for 20 rounds\n",
      "[20]\ttraining's rmse: 9.30541\tvalid_1's rmse: 11.7799\n",
      "Early stopping, best iteration is:\n",
      "[3]\ttraining's rmse: 11.3736\tvalid_1's rmse: 11.6985\n"
     ]
    },
    {
     "name": "stderr",
     "output_type": "stream",
     "text": [
      "\n",
      "feature_fraction, val_score: 11.698509:   0%|          | 0/7 [00:07<?, ?it/s]\n",
      "feature_fraction, val_score: 11.698509:  14%|#4        | 1/7 [00:07<00:47,  7.88s/it][I 2020-06-28 22:06:17,085] Finished trial#0 with value: 11.69850850605455 with parameters: {'feature_fraction': 1.0}. Best is trial#0 with value: 11.69850850605455.\n",
      "\n",
      "feature_fraction, val_score: 11.698509:  14%|#4        | 1/7 [00:08<00:47,  7.88s/it]"
     ]
    },
    {
     "name": "stdout",
     "output_type": "stream",
     "text": [
      "Training until validation scores don't improve for 20 rounds\n",
      "[20]\ttraining's rmse: 9.35722\tvalid_1's rmse: 11.8195\n",
      "Early stopping, best iteration is:\n",
      "[2]\ttraining's rmse: 11.5243\tvalid_1's rmse: 11.7076\n"
     ]
    },
    {
     "name": "stderr",
     "output_type": "stream",
     "text": [
      "\n",
      "feature_fraction, val_score: 11.698509:  14%|#4        | 1/7 [00:12<00:47,  7.88s/it]\n",
      "feature_fraction, val_score: 11.698509:  29%|##8       | 2/7 [00:12<00:35,  7.03s/it][I 2020-06-28 22:06:22,146] Finished trial#1 with value: 11.707577899337062 with parameters: {'feature_fraction': 0.8}. Best is trial#0 with value: 11.69850850605455.\n",
      "\n",
      "feature_fraction, val_score: 11.698509:  29%|##8       | 2/7 [00:13<00:35,  7.03s/it]"
     ]
    },
    {
     "name": "stdout",
     "output_type": "stream",
     "text": [
      "Training until validation scores don't improve for 20 rounds\n",
      "[20]\ttraining's rmse: 9.42096\tvalid_1's rmse: 11.7493\n",
      "Early stopping, best iteration is:\n",
      "[1]\ttraining's rmse: 11.6692\tvalid_1's rmse: 11.7115\n"
     ]
    },
    {
     "name": "stderr",
     "output_type": "stream",
     "text": [
      "\n",
      "feature_fraction, val_score: 11.698509:  29%|##8       | 2/7 [00:17<00:35,  7.03s/it]\n",
      "feature_fraction, val_score: 11.698509:  43%|####2     | 3/7 [00:17<00:24,  6.22s/it][I 2020-06-28 22:06:26,497] Finished trial#2 with value: 11.711522651871034 with parameters: {'feature_fraction': 0.6}. Best is trial#0 with value: 11.69850850605455.\n",
      "\n",
      "feature_fraction, val_score: 11.698509:  43%|####2     | 3/7 [00:17<00:24,  6.22s/it]"
     ]
    },
    {
     "name": "stdout",
     "output_type": "stream",
     "text": [
      "Training until validation scores don't improve for 20 rounds\n",
      "[20]\ttraining's rmse: 9.4427\tvalid_1's rmse: 11.7192\n",
      "Early stopping, best iteration is:\n",
      "[6]\ttraining's rmse: 11.0136\tvalid_1's rmse: 11.6812\n"
     ]
    },
    {
     "name": "stderr",
     "output_type": "stream",
     "text": [
      "\n",
      "feature_fraction, val_score: 11.681228:  43%|####2     | 3/7 [00:21<00:24,  6.22s/it]\n",
      "feature_fraction, val_score: 11.681228:  57%|#####7    | 4/7 [00:21<00:17,  5.75s/it][I 2020-06-28 22:06:31,137] Finished trial#3 with value: 11.681228403996931 with parameters: {'feature_fraction': 0.5}. Best is trial#3 with value: 11.681228403996931.\n",
      "\n",
      "feature_fraction, val_score: 11.681228:  57%|#####7    | 4/7 [00:22<00:17,  5.75s/it]"
     ]
    },
    {
     "name": "stdout",
     "output_type": "stream",
     "text": [
      "Training until validation scores don't improve for 20 rounds\n",
      "[20]\ttraining's rmse: 9.32979\tvalid_1's rmse: 11.7679\n",
      "Early stopping, best iteration is:\n",
      "[1]\ttraining's rmse: 11.6699\tvalid_1's rmse: 11.7075\n"
     ]
    },
    {
     "name": "stderr",
     "output_type": "stream",
     "text": [
      "\n",
      "feature_fraction, val_score: 11.681228:  57%|#####7    | 4/7 [00:27<00:17,  5.75s/it]\n",
      "feature_fraction, val_score: 11.681228:  71%|#######1  | 5/7 [00:27<00:11,  5.59s/it][I 2020-06-28 22:06:36,361] Finished trial#4 with value: 11.707488226197071 with parameters: {'feature_fraction': 0.8999999999999999}. Best is trial#3 with value: 11.681228403996931.\n",
      "\n",
      "feature_fraction, val_score: 11.681228:  71%|#######1  | 5/7 [00:27<00:11,  5.59s/it]"
     ]
    },
    {
     "name": "stdout",
     "output_type": "stream",
     "text": [
      "Training until validation scores don't improve for 20 rounds\n",
      "[20]\ttraining's rmse: 9.37204\tvalid_1's rmse: 11.6964\n",
      "Early stopping, best iteration is:\n",
      "[8]\ttraining's rmse: 10.7419\tvalid_1's rmse: 11.6636\n"
     ]
    },
    {
     "name": "stderr",
     "output_type": "stream",
     "text": [
      "\n",
      "feature_fraction, val_score: 11.663631:  71%|#######1  | 5/7 [00:33<00:11,  5.59s/it]\n",
      "feature_fraction, val_score: 11.663631:  86%|########5 | 6/7 [00:33<00:05,  5.75s/it][I 2020-06-28 22:06:42,471] Finished trial#5 with value: 11.66363091248006 with parameters: {'feature_fraction': 0.7}. Best is trial#5 with value: 11.66363091248006.\n",
      "\n",
      "feature_fraction, val_score: 11.663631:  86%|########5 | 6/7 [00:33<00:05,  5.75s/it]"
     ]
    },
    {
     "name": "stdout",
     "output_type": "stream",
     "text": [
      "Training until validation scores don't improve for 20 rounds\n",
      "[20]\ttraining's rmse: 9.51654\tvalid_1's rmse: 11.7683\n",
      "Early stopping, best iteration is:\n",
      "[5]\ttraining's rmse: 11.1683\tvalid_1's rmse: 11.691\n"
     ]
    },
    {
     "name": "stderr",
     "output_type": "stream",
     "text": [
      "\n",
      "feature_fraction, val_score: 11.663631:  86%|########5 | 6/7 [00:36<00:05,  5.75s/it]\n",
      "feature_fraction, val_score: 11.663631: 100%|##########| 7/7 [00:36<00:00,  5.10s/it][I 2020-06-28 22:06:46,054] Finished trial#6 with value: 11.690986275673266 with parameters: {'feature_fraction': 0.4}. Best is trial#5 with value: 11.66363091248006.\n",
      "feature_fraction, val_score: 11.663631: 100%|##########| 7/7 [00:36<00:00,  5.28s/it]\n",
      "\n",
      "  0%|          | 0/20 [00:00<?, ?it/s]\n",
      "num_leaves, val_score: 11.663631:   0%|          | 0/20 [00:00<?, ?it/s]"
     ]
    },
    {
     "name": "stdout",
     "output_type": "stream",
     "text": [
      "Training until validation scores don't improve for 20 rounds\n",
      "[20]\ttraining's rmse: 6.27527\tvalid_1's rmse: 11.9224\n",
      "Early stopping, best iteration is:\n",
      "[2]\ttraining's rmse: 11.065\tvalid_1's rmse: 11.7179\n"
     ]
    },
    {
     "name": "stderr",
     "output_type": "stream",
     "text": [
      "\n",
      "num_leaves, val_score: 11.663631:   0%|          | 0/20 [00:10<?, ?it/s]\n",
      "num_leaves, val_score: 11.663631:   5%|5         | 1/20 [00:10<03:27, 10.89s/it][I 2020-06-28 22:06:57,090] Finished trial#7 with value: 11.717943962136777 with parameters: {'num_leaves': 102}. Best is trial#7 with value: 11.717943962136777.\n",
      "\n",
      "num_leaves, val_score: 11.663631:   5%|5         | 1/20 [00:11<03:27, 10.89s/it]"
     ]
    },
    {
     "name": "stdout",
     "output_type": "stream",
     "text": [
      "Training until validation scores don't improve for 20 rounds\n",
      "[20]\ttraining's rmse: 6.82192\tvalid_1's rmse: 11.944\n",
      "Early stopping, best iteration is:\n",
      "[1]\ttraining's rmse: 11.4827\tvalid_1's rmse: 11.713\n"
     ]
    },
    {
     "name": "stderr",
     "output_type": "stream",
     "text": [
      "\n",
      "num_leaves, val_score: 11.663631:   5%|5         | 1/20 [00:21<03:27, 10.89s/it]\n",
      "num_leaves, val_score: 11.663631:  10%|#         | 2/20 [00:21<03:13, 10.76s/it][I 2020-06-28 22:07:07,537] Finished trial#8 with value: 11.713007714912822 with parameters: {'num_leaves': 84}. Best is trial#8 with value: 11.713007714912822.\n",
      "\n",
      "num_leaves, val_score: 11.663631:  10%|#         | 2/20 [00:21<03:13, 10.76s/it]"
     ]
    },
    {
     "name": "stdout",
     "output_type": "stream",
     "text": [
      "Training until validation scores don't improve for 20 rounds\n",
      "[20]\ttraining's rmse: 5.09676\tvalid_1's rmse: 11.8777\n",
      "Early stopping, best iteration is:\n",
      "[1]\ttraining's rmse: 11.3083\tvalid_1's rmse: 11.7279\n"
     ]
    },
    {
     "name": "stderr",
     "output_type": "stream",
     "text": [
      "\n",
      "num_leaves, val_score: 11.663631:  10%|#         | 2/20 [00:34<03:13, 10.76s/it]\n",
      "num_leaves, val_score: 11.663631:  15%|#5        | 3/20 [00:34<03:16, 11.55s/it][I 2020-06-28 22:07:20,950] Finished trial#9 with value: 11.727939190453867 with parameters: {'num_leaves': 190}. Best is trial#8 with value: 11.713007714912822.\n",
      "\n",
      "num_leaves, val_score: 11.663631:  15%|#5        | 3/20 [00:34<03:16, 11.55s/it]"
     ]
    },
    {
     "name": "stdout",
     "output_type": "stream",
     "text": [
      "Training until validation scores don't improve for 20 rounds\n",
      "[20]\ttraining's rmse: 8.40659\tvalid_1's rmse: 11.8129\n",
      "Early stopping, best iteration is:\n",
      "[6]\ttraining's rmse: 10.6333\tvalid_1's rmse: 11.7021\n"
     ]
    },
    {
     "name": "stderr",
     "output_type": "stream",
     "text": [
      "\n",
      "num_leaves, val_score: 11.663631:  15%|#5        | 3/20 [00:42<03:16, 11.55s/it]\n",
      "num_leaves, val_score: 11.663631:  20%|##        | 4/20 [00:42<02:47, 10.48s/it][I 2020-06-28 22:07:28,932] Finished trial#10 with value: 11.702113657881211 with parameters: {'num_leaves': 48}. Best is trial#10 with value: 11.702113657881211.\n",
      "\n",
      "num_leaves, val_score: 11.663631:  20%|##        | 4/20 [00:42<02:47, 10.48s/it]"
     ]
    },
    {
     "name": "stdout",
     "output_type": "stream",
     "text": [
      "Training until validation scores don't improve for 20 rounds\n",
      "[20]\ttraining's rmse: 6.76395\tvalid_1's rmse: 11.9277\n",
      "Early stopping, best iteration is:\n",
      "[1]\ttraining's rmse: 11.477\tvalid_1's rmse: 11.7152\n"
     ]
    },
    {
     "name": "stderr",
     "output_type": "stream",
     "text": [
      "\n",
      "num_leaves, val_score: 11.663631:  20%|##        | 4/20 [00:52<02:47, 10.48s/it]\n",
      "num_leaves, val_score: 11.663631:  25%|##5       | 5/20 [00:52<02:35, 10.39s/it][I 2020-06-28 22:07:39,126] Finished trial#11 with value: 11.715176784858121 with parameters: {'num_leaves': 86}. Best is trial#10 with value: 11.702113657881211.\n",
      "\n",
      "num_leaves, val_score: 11.663631:  25%|##5       | 5/20 [00:53<02:35, 10.39s/it]"
     ]
    },
    {
     "name": "stdout",
     "output_type": "stream",
     "text": [
      "Training until validation scores don't improve for 20 rounds\n",
      "[20]\ttraining's rmse: 5.09676\tvalid_1's rmse: 11.8777\n",
      "Early stopping, best iteration is:\n",
      "[1]\ttraining's rmse: 11.3083\tvalid_1's rmse: 11.7279\n"
     ]
    },
    {
     "name": "stderr",
     "output_type": "stream",
     "text": [
      "\n",
      "num_leaves, val_score: 11.663631:  25%|##5       | 5/20 [01:06<02:35, 10.39s/it]\n",
      "num_leaves, val_score: 11.663631:  30%|###       | 6/20 [01:06<02:40, 11.46s/it][I 2020-06-28 22:07:53,063] Finished trial#12 with value: 11.727939190453867 with parameters: {'num_leaves': 232}. Best is trial#10 with value: 11.702113657881211.\n",
      "\n",
      "num_leaves, val_score: 11.663631:  30%|###       | 6/20 [01:06<02:40, 11.46s/it]"
     ]
    },
    {
     "name": "stdout",
     "output_type": "stream",
     "text": [
      "Training until validation scores don't improve for 20 rounds\n",
      "[20]\ttraining's rmse: 6.41019\tvalid_1's rmse: 11.9026\n",
      "Early stopping, best iteration is:\n",
      "[1]\ttraining's rmse: 11.4464\tvalid_1's rmse: 11.7172\n"
     ]
    },
    {
     "name": "stderr",
     "output_type": "stream",
     "text": [
      "\n",
      "num_leaves, val_score: 11.663631:  30%|###       | 6/20 [01:18<02:40, 11.46s/it]\n",
      "num_leaves, val_score: 11.663631:  35%|###5      | 7/20 [01:18<02:29, 11.49s/it][I 2020-06-28 22:08:04,618] Finished trial#13 with value: 11.717232346877834 with parameters: {'num_leaves': 97}. Best is trial#10 with value: 11.702113657881211.\n",
      "\n",
      "num_leaves, val_score: 11.663631:  35%|###5      | 7/20 [01:18<02:29, 11.49s/it]"
     ]
    },
    {
     "name": "stdout",
     "output_type": "stream",
     "text": [
      "Training until validation scores don't improve for 20 rounds\n",
      "[20]\ttraining's rmse: 6.31995\tvalid_1's rmse: 11.8891\n",
      "Early stopping, best iteration is:\n",
      "[1]\ttraining's rmse: 11.4358\tvalid_1's rmse: 11.7168\n"
     ]
    },
    {
     "name": "stderr",
     "output_type": "stream",
     "text": [
      "\n",
      "num_leaves, val_score: 11.663631:  35%|###5      | 7/20 [01:28<02:29, 11.49s/it]\n",
      "num_leaves, val_score: 11.663631:  40%|####      | 8/20 [01:28<02:14, 11.17s/it][I 2020-06-28 22:08:15,051] Finished trial#14 with value: 11.716805364783358 with parameters: {'num_leaves': 101}. Best is trial#10 with value: 11.702113657881211.\n",
      "\n",
      "num_leaves, val_score: 11.663631:  40%|####      | 8/20 [01:28<02:14, 11.17s/it]"
     ]
    },
    {
     "name": "stdout",
     "output_type": "stream",
     "text": [
      "Training until validation scores don't improve for 20 rounds\n",
      "[20]\ttraining's rmse: 7.29027\tvalid_1's rmse: 11.8245\n",
      "Early stopping, best iteration is:\n",
      "[2]\ttraining's rmse: 11.2369\tvalid_1's rmse: 11.6954\n"
     ]
    },
    {
     "name": "stderr",
     "output_type": "stream",
     "text": [
      "\n",
      "num_leaves, val_score: 11.663631:  40%|####      | 8/20 [01:38<02:14, 11.17s/it]\n",
      "num_leaves, val_score: 11.663631:  45%|####5     | 9/20 [01:38<01:58, 10.74s/it][I 2020-06-28 22:08:24,769] Finished trial#15 with value: 11.695449834016333 with parameters: {'num_leaves': 72}. Best is trial#15 with value: 11.695449834016333.\n",
      "\n",
      "num_leaves, val_score: 11.663631:  45%|####5     | 9/20 [01:38<01:58, 10.74s/it]"
     ]
    },
    {
     "name": "stdout",
     "output_type": "stream",
     "text": [
      "Training until validation scores don't improve for 20 rounds\n",
      "[20]\ttraining's rmse: 5.09676\tvalid_1's rmse: 11.8777\n",
      "Early stopping, best iteration is:\n",
      "[1]\ttraining's rmse: 11.3083\tvalid_1's rmse: 11.7279\n"
     ]
    },
    {
     "name": "stderr",
     "output_type": "stream",
     "text": [
      "\n",
      "num_leaves, val_score: 11.663631:  45%|####5     | 9/20 [01:53<01:58, 10.74s/it]\n",
      "num_leaves, val_score: 11.663631:  50%|#####     | 10/20 [01:53<01:59, 11.91s/it][I 2020-06-28 22:08:39,418] Finished trial#16 with value: 11.727939190453867 with parameters: {'num_leaves': 206}. Best is trial#15 with value: 11.695449834016333.\n",
      "\n",
      "num_leaves, val_score: 11.663631:  50%|#####     | 10/20 [01:53<01:59, 11.91s/it]"
     ]
    },
    {
     "name": "stdout",
     "output_type": "stream",
     "text": [
      "Training until validation scores don't improve for 20 rounds\n",
      "[20]\ttraining's rmse: 10.8465\tvalid_1's rmse: 11.7228\n",
      "Early stopping, best iteration is:\n",
      "[10]\ttraining's rmse: 11.2982\tvalid_1's rmse: 11.6851\n"
     ]
    },
    {
     "name": "stderr",
     "output_type": "stream",
     "text": [
      "\n",
      "num_leaves, val_score: 11.663631:  50%|#####     | 10/20 [01:55<01:59, 11.91s/it]\n",
      "num_leaves, val_score: 11.663631:  55%|#####5    | 11/20 [01:55<01:22,  9.13s/it][I 2020-06-28 22:08:42,067] Finished trial#17 with value: 11.685124650614476 with parameters: {'num_leaves': 11}. Best is trial#17 with value: 11.685124650614476.\n",
      "\n",
      "num_leaves, val_score: 11.663631:  55%|#####5    | 11/20 [01:56<01:22,  9.13s/it]"
     ]
    },
    {
     "name": "stdout",
     "output_type": "stream",
     "text": [
      "Training until validation scores don't improve for 20 rounds\n",
      "[20]\ttraining's rmse: 10.3615\tvalid_1's rmse: 11.6913\n",
      "Early stopping, best iteration is:\n",
      "[11]\ttraining's rmse: 10.9658\tvalid_1's rmse: 11.6778\n"
     ]
    },
    {
     "name": "stderr",
     "output_type": "stream",
     "text": [
      "\n",
      "num_leaves, val_score: 11.663631:  55%|#####5    | 11/20 [01:59<01:22,  9.13s/it]\n",
      "num_leaves, val_score: 11.663631:  60%|######    | 12/20 [01:59<00:59,  7.46s/it][I 2020-06-28 22:08:45,642] Finished trial#18 with value: 11.677752956525753 with parameters: {'num_leaves': 17}. Best is trial#18 with value: 11.677752956525753.\n",
      "\n",
      "num_leaves, val_score: 11.663631:  60%|######    | 12/20 [01:59<00:59,  7.46s/it]"
     ]
    },
    {
     "name": "stdout",
     "output_type": "stream",
     "text": [
      "Training until validation scores don't improve for 20 rounds\n",
      "[20]\ttraining's rmse: 11.1215\tvalid_1's rmse: 11.7243\n",
      "Early stopping, best iteration is:\n",
      "[14]\ttraining's rmse: 11.3084\tvalid_1's rmse: 11.6964\n"
     ]
    },
    {
     "name": "stderr",
     "output_type": "stream",
     "text": [
      "\n",
      "num_leaves, val_score: 11.663631:  60%|######    | 12/20 [02:01<00:59,  7.46s/it]\n",
      "num_leaves, val_score: 11.663631:  65%|######5   | 13/20 [02:01<00:40,  5.82s/it][I 2020-06-28 22:08:47,605] Finished trial#19 with value: 11.696396838211825 with parameters: {'num_leaves': 8}. Best is trial#18 with value: 11.677752956525753.\n",
      "\n",
      "num_leaves, val_score: 11.663631:  65%|######5   | 13/20 [02:01<00:40,  5.82s/it]"
     ]
    },
    {
     "name": "stdout",
     "output_type": "stream",
     "text": [
      "Training until validation scores don't improve for 20 rounds\n",
      "[20]\ttraining's rmse: 11.5863\tvalid_1's rmse: 11.6942\n",
      "Early stopping, best iteration is:\n",
      "[19]\ttraining's rmse: 11.5954\tvalid_1's rmse: 11.6922\n"
     ]
    },
    {
     "name": "stderr",
     "output_type": "stream",
     "text": [
      "\n",
      "num_leaves, val_score: 11.663631:  65%|######5   | 13/20 [02:02<00:40,  5.82s/it]\n",
      "num_leaves, val_score: 11.663631:  70%|#######   | 14/20 [02:02<00:26,  4.35s/it][I 2020-06-28 22:08:48,539] Finished trial#20 with value: 11.692174975819988 with parameters: {'num_leaves': 3}. Best is trial#18 with value: 11.677752956525753.\n",
      "\n",
      "num_leaves, val_score: 11.663631:  70%|#######   | 14/20 [02:02<00:26,  4.35s/it]"
     ]
    },
    {
     "name": "stdout",
     "output_type": "stream",
     "text": [
      "Training until validation scores don't improve for 20 rounds\n",
      "[20]\ttraining's rmse: 9.37204\tvalid_1's rmse: 11.6964\n",
      "Early stopping, best iteration is:\n",
      "[8]\ttraining's rmse: 10.7419\tvalid_1's rmse: 11.6636\n"
     ]
    },
    {
     "name": "stderr",
     "output_type": "stream",
     "text": [
      "\n",
      "num_leaves, val_score: 11.663631:  70%|#######   | 14/20 [02:08<00:26,  4.35s/it]\n",
      "num_leaves, val_score: 11.663631:  75%|#######5  | 15/20 [02:08<00:25,  5.04s/it][I 2020-06-28 22:08:55,177] Finished trial#21 with value: 11.66363091248006 with parameters: {'num_leaves': 31}. Best is trial#21 with value: 11.66363091248006.\n",
      "\n",
      "num_leaves, val_score: 11.663631:  75%|#######5  | 15/20 [02:09<00:25,  5.04s/it]"
     ]
    },
    {
     "name": "stdout",
     "output_type": "stream",
     "text": [
      "Training until validation scores don't improve for 20 rounds\n",
      "[20]\ttraining's rmse: 5.19404\tvalid_1's rmse: 11.8777\n",
      "Early stopping, best iteration is:\n",
      "[1]\ttraining's rmse: 11.3213\tvalid_1's rmse: 11.7234\n"
     ]
    },
    {
     "name": "stderr",
     "output_type": "stream",
     "text": [
      "\n",
      "num_leaves, val_score: 11.663631:  75%|#######5  | 15/20 [02:22<00:25,  5.04s/it]\n",
      "num_leaves, val_score: 11.663631:  80%|########  | 16/20 [02:22<00:30,  7.62s/it][I 2020-06-28 22:09:08,832] Finished trial#22 with value: 11.72340236472852 with parameters: {'num_leaves': 155}. Best is trial#21 with value: 11.66363091248006.\n",
      "\n",
      "num_leaves, val_score: 11.663631:  80%|########  | 16/20 [02:22<00:30,  7.62s/it]"
     ]
    },
    {
     "name": "stdout",
     "output_type": "stream",
     "text": [
      "Training until validation scores don't improve for 20 rounds\n",
      "[20]\ttraining's rmse: 8.5131\tvalid_1's rmse: 11.8033\n",
      "Early stopping, best iteration is:\n",
      "[2]\ttraining's rmse: 11.4122\tvalid_1's rmse: 11.7039\n"
     ]
    },
    {
     "name": "stderr",
     "output_type": "stream",
     "text": [
      "\n",
      "num_leaves, val_score: 11.663631:  80%|########  | 16/20 [02:29<00:30,  7.62s/it]\n",
      "num_leaves, val_score: 11.663631:  85%|########5 | 17/20 [02:29<00:21,  7.31s/it][I 2020-06-28 22:09:15,401] Finished trial#23 with value: 11.703858494513328 with parameters: {'num_leaves': 46}. Best is trial#21 with value: 11.66363091248006.\n",
      "\n",
      "num_leaves, val_score: 11.663631:  85%|########5 | 17/20 [02:29<00:21,  7.31s/it]"
     ]
    },
    {
     "name": "stdout",
     "output_type": "stream",
     "text": [
      "Training until validation scores don't improve for 20 rounds\n",
      "[20]\ttraining's rmse: 9.15123\tvalid_1's rmse: 11.6955\n",
      "Early stopping, best iteration is:\n",
      "[11]\ttraining's rmse: 10.2365\tvalid_1's rmse: 11.679\n"
     ]
    },
    {
     "name": "stderr",
     "output_type": "stream",
     "text": [
      "\n",
      "num_leaves, val_score: 11.663631:  85%|########5 | 17/20 [02:36<00:21,  7.31s/it]\n",
      "num_leaves, val_score: 11.663631:  90%|######### | 18/20 [02:36<00:14,  7.37s/it][I 2020-06-28 22:09:22,932] Finished trial#24 with value: 11.679016512417816 with parameters: {'num_leaves': 35}. Best is trial#21 with value: 11.66363091248006.\n",
      "\n",
      "num_leaves, val_score: 11.663631:  90%|######### | 18/20 [02:36<00:14,  7.37s/it]"
     ]
    },
    {
     "name": "stdout",
     "output_type": "stream",
     "text": [
      "Training until validation scores don't improve for 20 rounds\n",
      "[20]\ttraining's rmse: 5.46346\tvalid_1's rmse: 11.8971\n",
      "Early stopping, best iteration is:\n",
      "[1]\ttraining's rmse: 11.3517\tvalid_1's rmse: 11.7198\n"
     ]
    },
    {
     "name": "stderr",
     "output_type": "stream",
     "text": [
      "\n",
      "num_leaves, val_score: 11.663631:  90%|######### | 18/20 [02:49<00:14,  7.37s/it]\n",
      "num_leaves, val_score: 11.663631:  95%|#########5| 19/20 [02:49<00:08,  8.84s/it][I 2020-06-28 22:09:35,216] Finished trial#25 with value: 11.719831910113482 with parameters: {'num_leaves': 137}. Best is trial#21 with value: 11.66363091248006.\n",
      "\n",
      "num_leaves, val_score: 11.663631:  95%|#########5| 19/20 [02:49<00:08,  8.84s/it]"
     ]
    },
    {
     "name": "stdout",
     "output_type": "stream",
     "text": [
      "Training until validation scores don't improve for 20 rounds\n",
      "[20]\ttraining's rmse: 10.2109\tvalid_1's rmse: 11.7331\n",
      "Early stopping, best iteration is:\n",
      "[11]\ttraining's rmse: 10.8802\tvalid_1's rmse: 11.6875\n"
     ]
    },
    {
     "name": "stderr",
     "output_type": "stream",
     "text": [
      "\n",
      "num_leaves, val_score: 11.663631:  95%|#########5| 19/20 [02:53<00:08,  8.84s/it]\n",
      "num_leaves, val_score: 11.663631: 100%|##########| 20/20 [02:53<00:00,  7.69s/it][I 2020-06-28 22:09:40,197] Finished trial#26 with value: 11.687493175243098 with parameters: {'num_leaves': 19}. Best is trial#21 with value: 11.66363091248006.\n",
      "num_leaves, val_score: 11.663631: 100%|##########| 20/20 [02:54<00:00,  8.71s/it]\n",
      "\n",
      "  0%|          | 0/10 [00:00<?, ?it/s]\n",
      "bagging, val_score: 11.663631:   0%|          | 0/10 [00:00<?, ?it/s]"
     ]
    },
    {
     "name": "stdout",
     "output_type": "stream",
     "text": [
      "Training until validation scores don't improve for 20 rounds\n",
      "[20]\ttraining's rmse: 9.4371\tvalid_1's rmse: 11.7609\n",
      "Early stopping, best iteration is:\n",
      "[10]\ttraining's rmse: 10.5056\tvalid_1's rmse: 11.6795\n"
     ]
    },
    {
     "name": "stderr",
     "output_type": "stream",
     "text": [
      "\n",
      "bagging, val_score: 11.663631:   0%|          | 0/10 [00:05<?, ?it/s]\n",
      "bagging, val_score: 11.663631:  10%|#         | 1/10 [00:05<00:50,  5.65s/it][I 2020-06-28 22:09:45,996] Finished trial#27 with value: 11.67952650912193 with parameters: {'bagging_fraction': 0.8747767802580343, 'bagging_freq': 4}. Best is trial#27 with value: 11.67952650912193.\n",
      "\n",
      "bagging, val_score: 11.663631:  10%|#         | 1/10 [00:05<00:50,  5.65s/it]"
     ]
    },
    {
     "name": "stdout",
     "output_type": "stream",
     "text": [
      "Training until validation scores don't improve for 20 rounds\n",
      "[20]\ttraining's rmse: 9.41662\tvalid_1's rmse: 11.7688\n",
      "Early stopping, best iteration is:\n",
      "[4]\ttraining's rmse: 11.2704\tvalid_1's rmse: 11.718\n"
     ]
    },
    {
     "name": "stderr",
     "output_type": "stream",
     "text": [
      "\n",
      "bagging, val_score: 11.663631:  10%|#         | 1/10 [00:10<00:50,  5.65s/it]\n",
      "bagging, val_score: 11.663631:  20%|##        | 2/10 [00:10<00:43,  5.43s/it][I 2020-06-28 22:09:50,915] Finished trial#28 with value: 11.717973971897703 with parameters: {'bagging_fraction': 0.9129226620370091, 'bagging_freq': 5}. Best is trial#27 with value: 11.67952650912193.\n",
      "\n",
      "bagging, val_score: 11.663631:  20%|##        | 2/10 [00:10<00:43,  5.43s/it]"
     ]
    },
    {
     "name": "stdout",
     "output_type": "stream",
     "text": [
      "Training until validation scores don't improve for 20 rounds\n",
      "[20]\ttraining's rmse: 9.63572\tvalid_1's rmse: 11.7875\n",
      "Early stopping, best iteration is:\n",
      "[1]\ttraining's rmse: 11.6936\tvalid_1's rmse: 11.7207\n"
     ]
    },
    {
     "name": "stderr",
     "output_type": "stream",
     "text": [
      "\n",
      "bagging, val_score: 11.663631:  20%|##        | 2/10 [00:15<00:43,  5.43s/it]\n",
      "bagging, val_score: 11.663631:  30%|###       | 3/10 [00:15<00:36,  5.19s/it][I 2020-06-28 22:09:55,558] Finished trial#29 with value: 11.720664576614595 with parameters: {'bagging_fraction': 0.5815650360968502, 'bagging_freq': 4}. Best is trial#27 with value: 11.67952650912193.\n",
      "\n",
      "bagging, val_score: 11.663631:  30%|###       | 3/10 [00:15<00:36,  5.19s/it]"
     ]
    },
    {
     "name": "stdout",
     "output_type": "stream",
     "text": [
      "Training until validation scores don't improve for 20 rounds\n",
      "[20]\ttraining's rmse: 9.77013\tvalid_1's rmse: 11.8334\n",
      "Early stopping, best iteration is:\n",
      "[1]\ttraining's rmse: 11.6813\tvalid_1's rmse: 11.7418\n"
     ]
    },
    {
     "name": "stderr",
     "output_type": "stream",
     "text": [
      "\n",
      "bagging, val_score: 11.663631:  30%|###       | 3/10 [00:19<00:36,  5.19s/it]\n",
      "bagging, val_score: 11.663631:  40%|####      | 4/10 [00:19<00:28,  4.81s/it][I 2020-06-28 22:09:59,472] Finished trial#30 with value: 11.74184229716028 with parameters: {'bagging_fraction': 0.5105584627184206, 'bagging_freq': 6}. Best is trial#27 with value: 11.67952650912193.\n",
      "\n",
      "bagging, val_score: 11.663631:  40%|####      | 4/10 [00:19<00:28,  4.81s/it]"
     ]
    },
    {
     "name": "stdout",
     "output_type": "stream",
     "text": [
      "Training until validation scores don't improve for 20 rounds\n",
      "[20]\ttraining's rmse: 9.78709\tvalid_1's rmse: 11.9421\n",
      "Early stopping, best iteration is:\n",
      "[2]\ttraining's rmse: 11.5775\tvalid_1's rmse: 11.7352\n"
     ]
    },
    {
     "name": "stderr",
     "output_type": "stream",
     "text": [
      "\n",
      "bagging, val_score: 11.663631:  40%|####      | 4/10 [00:22<00:28,  4.81s/it]\n",
      "bagging, val_score: 11.663631:  50%|#####     | 5/10 [00:22<00:22,  4.52s/it][I 2020-06-28 22:10:03,328] Finished trial#31 with value: 11.735191158124298 with parameters: {'bagging_fraction': 0.4163658349486873, 'bagging_freq': 1}. Best is trial#27 with value: 11.67952650912193.\n",
      "\n",
      "bagging, val_score: 11.663631:  50%|#####     | 5/10 [00:23<00:22,  4.52s/it]"
     ]
    },
    {
     "name": "stdout",
     "output_type": "stream",
     "text": [
      "Training until validation scores don't improve for 20 rounds\n",
      "[20]\ttraining's rmse: 9.87871\tvalid_1's rmse: 11.849\n",
      "Early stopping, best iteration is:\n",
      "[5]\ttraining's rmse: 11.2608\tvalid_1's rmse: 11.7077\n"
     ]
    },
    {
     "name": "stderr",
     "output_type": "stream",
     "text": [
      "\n",
      "bagging, val_score: 11.663631:  50%|#####     | 5/10 [00:27<00:22,  4.52s/it]\n",
      "bagging, val_score: 11.663631:  60%|######    | 6/10 [00:27<00:17,  4.44s/it][I 2020-06-28 22:10:07,558] Finished trial#32 with value: 11.70772169232355 with parameters: {'bagging_fraction': 0.45608044326036995, 'bagging_freq': 5}. Best is trial#27 with value: 11.67952650912193.\n",
      "\n",
      "bagging, val_score: 11.663631:  60%|######    | 6/10 [00:27<00:17,  4.44s/it]"
     ]
    },
    {
     "name": "stdout",
     "output_type": "stream",
     "text": [
      "Training until validation scores don't improve for 20 rounds\n",
      "[20]\ttraining's rmse: 9.4589\tvalid_1's rmse: 11.8128\n",
      "Early stopping, best iteration is:\n",
      "[6]\ttraining's rmse: 11.0024\tvalid_1's rmse: 11.7027\n"
     ]
    },
    {
     "name": "stderr",
     "output_type": "stream",
     "text": [
      "\n",
      "bagging, val_score: 11.663631:  60%|######    | 6/10 [00:33<00:17,  4.44s/it]\n",
      "bagging, val_score: 11.663631:  70%|#######   | 7/10 [00:33<00:14,  4.86s/it][I 2020-06-28 22:10:13,420] Finished trial#33 with value: 11.702684630896513 with parameters: {'bagging_fraction': 0.8356720879775288, 'bagging_freq': 3}. Best is trial#27 with value: 11.67952650912193.\n",
      "\n",
      "bagging, val_score: 11.663631:  70%|#######   | 7/10 [00:33<00:14,  4.86s/it]"
     ]
    },
    {
     "name": "stdout",
     "output_type": "stream",
     "text": [
      "Training until validation scores don't improve for 20 rounds\n",
      "[20]\ttraining's rmse: 9.49942\tvalid_1's rmse: 11.8454\n",
      "Early stopping, best iteration is:\n",
      "[5]\ttraining's rmse: 11.1479\tvalid_1's rmse: 11.6937\n"
     ]
    },
    {
     "name": "stderr",
     "output_type": "stream",
     "text": [
      "\n",
      "bagging, val_score: 11.663631:  70%|#######   | 7/10 [00:37<00:14,  4.86s/it]\n",
      "bagging, val_score: 11.663631:  80%|########  | 8/10 [00:37<00:09,  4.87s/it][I 2020-06-28 22:10:18,299] Finished trial#34 with value: 11.693743583800812 with parameters: {'bagging_fraction': 0.7985869142767636, 'bagging_freq': 7}. Best is trial#27 with value: 11.67952650912193.\n",
      "\n",
      "bagging, val_score: 11.663631:  80%|########  | 8/10 [00:38<00:09,  4.87s/it]"
     ]
    },
    {
     "name": "stdout",
     "output_type": "stream",
     "text": [
      "Training until validation scores don't improve for 20 rounds\n",
      "[20]\ttraining's rmse: 9.7167\tvalid_1's rmse: 11.8386\n",
      "Early stopping, best iteration is:\n",
      "[7]\ttraining's rmse: 11.0109\tvalid_1's rmse: 11.6919\n"
     ]
    },
    {
     "name": "stderr",
     "output_type": "stream",
     "text": [
      "\n",
      "bagging, val_score: 11.663631:  80%|########  | 8/10 [00:42<00:09,  4.87s/it]\n",
      "bagging, val_score: 11.663631:  90%|######### | 9/10 [00:42<00:04,  4.79s/it][I 2020-06-28 22:10:22,902] Finished trial#35 with value: 11.691929207276063 with parameters: {'bagging_fraction': 0.4513967088631352, 'bagging_freq': 2}. Best is trial#27 with value: 11.67952650912193.\n",
      "\n",
      "bagging, val_score: 11.663631:  90%|######### | 9/10 [00:42<00:04,  4.79s/it]"
     ]
    },
    {
     "name": "stdout",
     "output_type": "stream",
     "text": [
      "Training until validation scores don't improve for 20 rounds\n",
      "[20]\ttraining's rmse: 9.64359\tvalid_1's rmse: 11.8346\n",
      "Early stopping, best iteration is:\n",
      "[1]\ttraining's rmse: 11.6839\tvalid_1's rmse: 11.7353\n"
     ]
    },
    {
     "name": "stderr",
     "output_type": "stream",
     "text": [
      "\n",
      "bagging, val_score: 11.663631:  90%|######### | 9/10 [00:47<00:04,  4.79s/it]\n",
      "bagging, val_score: 11.663631: 100%|##########| 10/10 [00:47<00:00,  4.70s/it][I 2020-06-28 22:10:27,404] Finished trial#36 with value: 11.73533220175294 with parameters: {'bagging_fraction': 0.6125921514096886, 'bagging_freq': 3}. Best is trial#27 with value: 11.67952650912193.\n",
      "bagging, val_score: 11.663631: 100%|##########| 10/10 [00:47<00:00,  4.72s/it]\n",
      "\n",
      "  0%|          | 0/6 [00:00<?, ?it/s]\n",
      "feature_fraction_stage2, val_score: 11.663631:   0%|          | 0/6 [00:00<?, ?it/s]"
     ]
    },
    {
     "name": "stdout",
     "output_type": "stream",
     "text": [
      "Training until validation scores don't improve for 20 rounds\n",
      "[20]\ttraining's rmse: 9.3701\tvalid_1's rmse: 11.7869\n",
      "Early stopping, best iteration is:\n",
      "[5]\ttraining's rmse: 11.1131\tvalid_1's rmse: 11.6838\n"
     ]
    },
    {
     "name": "stderr",
     "output_type": "stream",
     "text": [
      "\n",
      "feature_fraction_stage2, val_score: 11.663631:   0%|          | 0/6 [00:05<?, ?it/s]\n",
      "feature_fraction_stage2, val_score: 11.663631:  17%|#6        | 1/6 [00:05<00:28,  5.68s/it][I 2020-06-28 22:10:33,235] Finished trial#37 with value: 11.683765468129465 with parameters: {'feature_fraction': 0.748}. Best is trial#37 with value: 11.683765468129465.\n",
      "\n",
      "feature_fraction_stage2, val_score: 11.663631:  17%|#6        | 1/6 [00:05<00:28,  5.68s/it]"
     ]
    },
    {
     "name": "stdout",
     "output_type": "stream",
     "text": [
      "Training until validation scores don't improve for 20 rounds\n",
      "[20]\ttraining's rmse: 9.40345\tvalid_1's rmse: 11.796\n",
      "Early stopping, best iteration is:\n",
      "[1]\ttraining's rmse: 11.6692\tvalid_1's rmse: 11.7115\n"
     ]
    },
    {
     "name": "stderr",
     "output_type": "stream",
     "text": [
      "\n",
      "feature_fraction_stage2, val_score: 11.663631:  17%|#6        | 1/6 [00:09<00:28,  5.68s/it]\n",
      "feature_fraction_stage2, val_score: 11.663631:  33%|###3      | 2/6 [00:09<00:20,  5.16s/it][I 2020-06-28 22:10:37,184] Finished trial#38 with value: 11.711522651871034 with parameters: {'feature_fraction': 0.62}. Best is trial#37 with value: 11.683765468129465.\n",
      "\n",
      "feature_fraction_stage2, val_score: 11.663631:  33%|###3      | 2/6 [00:09<00:20,  5.16s/it]"
     ]
    },
    {
     "name": "stdout",
     "output_type": "stream",
     "text": [
      "Training until validation scores don't improve for 20 rounds\n",
      "[20]\ttraining's rmse: 9.37037\tvalid_1's rmse: 11.7922\n",
      "Early stopping, best iteration is:\n",
      "[9]\ttraining's rmse: 10.6144\tvalid_1's rmse: 11.691\n"
     ]
    },
    {
     "name": "stderr",
     "output_type": "stream",
     "text": [
      "\n",
      "feature_fraction_stage2, val_score: 11.663631:  33%|###3      | 2/6 [00:16<00:20,  5.16s/it]\n",
      "feature_fraction_stage2, val_score: 11.663631:  50%|#####     | 3/6 [00:16<00:16,  5.54s/it][I 2020-06-28 22:10:43,603] Finished trial#39 with value: 11.690999597397857 with parameters: {'feature_fraction': 0.6839999999999999}. Best is trial#37 with value: 11.683765468129465.\n",
      "\n",
      "feature_fraction_stage2, val_score: 11.663631:  50%|#####     | 3/6 [00:16<00:16,  5.54s/it]"
     ]
    },
    {
     "name": "stdout",
     "output_type": "stream",
     "text": [
      "Training until validation scores don't improve for 20 rounds\n",
      "[20]\ttraining's rmse: 9.35231\tvalid_1's rmse: 11.7445\n",
      "Early stopping, best iteration is:\n",
      "[6]\ttraining's rmse: 10.9733\tvalid_1's rmse: 11.6663\n"
     ]
    },
    {
     "name": "stderr",
     "output_type": "stream",
     "text": [
      "\n",
      "feature_fraction_stage2, val_score: 11.663631:  50%|#####     | 3/6 [00:21<00:16,  5.54s/it]\n",
      "feature_fraction_stage2, val_score: 11.663631:  67%|######6   | 4/6 [00:21<00:11,  5.61s/it][I 2020-06-28 22:10:49,364] Finished trial#40 with value: 11.666328564859109 with parameters: {'feature_fraction': 0.7799999999999999}. Best is trial#40 with value: 11.666328564859109.\n",
      "\n",
      "feature_fraction_stage2, val_score: 11.663631:  67%|######6   | 4/6 [00:21<00:11,  5.61s/it]"
     ]
    },
    {
     "name": "stdout",
     "output_type": "stream",
     "text": [
      "Training until validation scores don't improve for 20 rounds\n",
      "[20]\ttraining's rmse: 9.38377\tvalid_1's rmse: 11.7756\n",
      "Early stopping, best iteration is:\n",
      "[1]\ttraining's rmse: 11.6692\tvalid_1's rmse: 11.7115\n"
     ]
    },
    {
     "name": "stderr",
     "output_type": "stream",
     "text": [
      "\n",
      "feature_fraction_stage2, val_score: 11.663631:  67%|######6   | 4/6 [00:25<00:11,  5.61s/it]\n",
      "feature_fraction_stage2, val_score: 11.663631:  83%|########3 | 5/6 [00:25<00:05,  5.14s/it][I 2020-06-28 22:10:53,421] Finished trial#41 with value: 11.711522651871034 with parameters: {'feature_fraction': 0.652}. Best is trial#40 with value: 11.666328564859109.\n",
      "\n",
      "feature_fraction_stage2, val_score: 11.663631:  83%|########3 | 5/6 [00:26<00:05,  5.14s/it]"
     ]
    },
    {
     "name": "stdout",
     "output_type": "stream",
     "text": [
      "Training until validation scores don't improve for 20 rounds\n",
      "[20]\ttraining's rmse: 9.38503\tvalid_1's rmse: 11.7384\n",
      "Early stopping, best iteration is:\n",
      "[11]\ttraining's rmse: 10.3822\tvalid_1's rmse: 11.6883\n"
     ]
    },
    {
     "name": "stderr",
     "output_type": "stream",
     "text": [
      "\n",
      "feature_fraction_stage2, val_score: 11.663631:  83%|########3 | 5/6 [00:32<00:05,  5.14s/it]\n",
      "feature_fraction_stage2, val_score: 11.663631: 100%|##########| 6/6 [00:33<00:00,  5.74s/it][I 2020-06-28 22:11:00,546] Finished trial#42 with value: 11.688312923902291 with parameters: {'feature_fraction': 0.716}. Best is trial#40 with value: 11.666328564859109.\n",
      "feature_fraction_stage2, val_score: 11.663631: 100%|##########| 6/6 [00:33<00:00,  5.52s/it]\n",
      "\n",
      "  0%|          | 0/20 [00:00<?, ?it/s]\n",
      "regularization_factors, val_score: 11.663631:   0%|          | 0/20 [00:00<?, ?it/s]"
     ]
    },
    {
     "name": "stdout",
     "output_type": "stream",
     "text": [
      "Training until validation scores don't improve for 20 rounds\n",
      "[20]\ttraining's rmse: 9.40508\tvalid_1's rmse: 11.7647\n",
      "Early stopping, best iteration is:\n",
      "[5]\ttraining's rmse: 11.1322\tvalid_1's rmse: 11.6917\n"
     ]
    },
    {
     "name": "stderr",
     "output_type": "stream",
     "text": [
      "\n",
      "regularization_factors, val_score: 11.663631:   0%|          | 0/20 [00:04<?, ?it/s]\n",
      "regularization_factors, val_score: 11.663631:   5%|5         | 1/20 [00:04<01:32,  4.89s/it][I 2020-06-28 22:11:05,587] Finished trial#43 with value: 11.69168564309942 with parameters: {'lambda_l1': 2.281279859269352e-06, 'lambda_l2': 0.41451934328401013}. Best is trial#43 with value: 11.69168564309942.\n",
      "\n",
      "regularization_factors, val_score: 11.663631:   5%|5         | 1/20 [00:05<01:32,  4.89s/it]"
     ]
    },
    {
     "name": "stdout",
     "output_type": "stream",
     "text": [
      "Training until validation scores don't improve for 20 rounds\n",
      "[20]\ttraining's rmse: 9.42277\tvalid_1's rmse: 11.8359\n",
      "Early stopping, best iteration is:\n",
      "[3]\ttraining's rmse: 11.4056\tvalid_1's rmse: 11.7148\n"
     ]
    },
    {
     "name": "stderr",
     "output_type": "stream",
     "text": [
      "\n",
      "regularization_factors, val_score: 11.663631:   5%|5         | 1/20 [00:09<01:32,  4.89s/it]\n",
      "regularization_factors, val_score: 11.663631:  10%|#         | 2/20 [00:09<01:27,  4.87s/it][I 2020-06-28 22:11:10,398] Finished trial#44 with value: 11.714834446801339 with parameters: {'lambda_l1': 3.4669630419442914, 'lambda_l2': 1.14351066878509}. Best is trial#43 with value: 11.69168564309942.\n",
      "\n",
      "regularization_factors, val_score: 11.663631:  10%|#         | 2/20 [00:09<01:27,  4.87s/it]"
     ]
    },
    {
     "name": "stdout",
     "output_type": "stream",
     "text": [
      "Training until validation scores don't improve for 20 rounds\n",
      "[20]\ttraining's rmse: 9.40462\tvalid_1's rmse: 11.7648\n",
      "Early stopping, best iteration is:\n",
      "[5]\ttraining's rmse: 11.1321\tvalid_1's rmse: 11.6917\n"
     ]
    },
    {
     "name": "stderr",
     "output_type": "stream",
     "text": [
      "\n",
      "regularization_factors, val_score: 11.663631:  10%|#         | 2/20 [00:15<01:27,  4.87s/it]\n",
      "regularization_factors, val_score: 11.663631:  15%|#5        | 3/20 [00:15<01:28,  5.19s/it][I 2020-06-28 22:11:16,334] Finished trial#45 with value: 11.691693253367067 with parameters: {'lambda_l1': 0.007783624055323565, 'lambda_l2': 0.40161482283006633}. Best is trial#43 with value: 11.69168564309942.\n",
      "\n",
      "regularization_factors, val_score: 11.663631:  15%|#5        | 3/20 [00:15<01:28,  5.19s/it]"
     ]
    },
    {
     "name": "stdout",
     "output_type": "stream",
     "text": [
      "Training until validation scores don't improve for 20 rounds\n",
      "[20]\ttraining's rmse: 9.3757\tvalid_1's rmse: 11.7415\n",
      "Early stopping, best iteration is:\n",
      "[8]\ttraining's rmse: 10.74\tvalid_1's rmse: 11.6601\n"
     ]
    },
    {
     "name": "stderr",
     "output_type": "stream",
     "text": [
      "\n",
      "regularization_factors, val_score: 11.660062:  15%|#5        | 3/20 [00:21<01:28,  5.19s/it]\n",
      "regularization_factors, val_score: 11.660062:  20%|##        | 4/20 [00:21<01:25,  5.32s/it][I 2020-06-28 22:11:21,967] Finished trial#46 with value: 11.660062308545749 with parameters: {'lambda_l1': 3.4529624495311806e-06, 'lambda_l2': 0.11100973491181507}. Best is trial#46 with value: 11.660062308545749.\n",
      "\n",
      "regularization_factors, val_score: 11.660062:  20%|##        | 4/20 [00:21<01:25,  5.32s/it]"
     ]
    },
    {
     "name": "stdout",
     "output_type": "stream",
     "text": [
      "Training until validation scores don't improve for 20 rounds\n",
      "[20]\ttraining's rmse: 9.37293\tvalid_1's rmse: 11.7084\n",
      "Early stopping, best iteration is:\n",
      "[8]\ttraining's rmse: 10.7416\tvalid_1's rmse: 11.6635\n"
     ]
    },
    {
     "name": "stderr",
     "output_type": "stream",
     "text": [
      "\n",
      "regularization_factors, val_score: 11.660062:  20%|##        | 4/20 [00:26<01:25,  5.32s/it]\n",
      "regularization_factors, val_score: 11.660062:  25%|##5       | 5/20 [00:26<01:21,  5.41s/it][I 2020-06-28 22:11:27,567] Finished trial#47 with value: 11.663486069445534 with parameters: {'lambda_l1': 0.40367656163330273, 'lambda_l2': 2.5523832045193026e-08}. Best is trial#46 with value: 11.660062308545749.\n",
      "\n",
      "regularization_factors, val_score: 11.660062:  25%|##5       | 5/20 [00:27<01:21,  5.41s/it]"
     ]
    },
    {
     "name": "stdout",
     "output_type": "stream",
     "text": [
      "Training until validation scores don't improve for 20 rounds\n",
      "[20]\ttraining's rmse: 9.37204\tvalid_1's rmse: 11.6964\n",
      "Early stopping, best iteration is:\n",
      "[8]\ttraining's rmse: 10.7419\tvalid_1's rmse: 11.6636\n"
     ]
    },
    {
     "name": "stderr",
     "output_type": "stream",
     "text": [
      "\n",
      "regularization_factors, val_score: 11.660062:  25%|##5       | 5/20 [00:33<01:21,  5.41s/it]\n",
      "regularization_factors, val_score: 11.660062:  30%|###       | 6/20 [00:33<01:20,  5.76s/it][I 2020-06-28 22:11:34,146] Finished trial#48 with value: 11.66363091233768 with parameters: {'lambda_l1': 2.8513213643153437e-06, 'lambda_l2': 1.9821985442194512e-08}. Best is trial#46 with value: 11.660062308545749.\n",
      "\n",
      "regularization_factors, val_score: 11.660062:  30%|###       | 6/20 [00:33<01:20,  5.76s/it]"
     ]
    },
    {
     "name": "stdout",
     "output_type": "stream",
     "text": [
      "Training until validation scores don't improve for 20 rounds\n",
      "[20]\ttraining's rmse: 9.36436\tvalid_1's rmse: 11.6952\n",
      "Early stopping, best iteration is:\n",
      "[8]\ttraining's rmse: 10.7409\tvalid_1's rmse: 11.6626\n"
     ]
    },
    {
     "name": "stderr",
     "output_type": "stream",
     "text": [
      "\n",
      "regularization_factors, val_score: 11.660062:  30%|###       | 6/20 [00:39<01:20,  5.76s/it]\n",
      "regularization_factors, val_score: 11.660062:  35%|###5      | 7/20 [00:39<01:14,  5.75s/it][I 2020-06-28 22:11:39,868] Finished trial#49 with value: 11.66258789599665 with parameters: {'lambda_l1': 0.00010604780772504208, 'lambda_l2': 0.016469135754823606}. Best is trial#46 with value: 11.660062308545749.\n",
      "\n",
      "regularization_factors, val_score: 11.660062:  35%|###5      | 7/20 [00:39<01:14,  5.75s/it]"
     ]
    },
    {
     "name": "stdout",
     "output_type": "stream",
     "text": [
      "Training until validation scores don't improve for 20 rounds\n",
      "[20]\ttraining's rmse: 9.37018\tvalid_1's rmse: 11.7901\n",
      "Early stopping, best iteration is:\n",
      "[8]\ttraining's rmse: 10.7416\tvalid_1's rmse: 11.6901\n"
     ]
    },
    {
     "name": "stderr",
     "output_type": "stream",
     "text": [
      "\n",
      "regularization_factors, val_score: 11.660062:  35%|###5      | 7/20 [00:45<01:14,  5.75s/it]\n",
      "regularization_factors, val_score: 11.660062:  40%|####      | 8/20 [00:45<01:09,  5.82s/it][I 2020-06-28 22:11:45,848] Finished trial#50 with value: 11.690111754382137 with parameters: {'lambda_l1': 5.144225754531523e-06, 'lambda_l2': 0.1620912789827142}. Best is trial#46 with value: 11.660062308545749.\n",
      "\n",
      "regularization_factors, val_score: 11.660062:  40%|####      | 8/20 [00:45<01:09,  5.82s/it]"
     ]
    },
    {
     "name": "stdout",
     "output_type": "stream",
     "text": [
      "Training until validation scores don't improve for 20 rounds\n",
      "[20]\ttraining's rmse: 9.46457\tvalid_1's rmse: 11.7576\n",
      "Early stopping, best iteration is:\n",
      "[9]\ttraining's rmse: 10.6732\tvalid_1's rmse: 11.6958\n"
     ]
    },
    {
     "name": "stderr",
     "output_type": "stream",
     "text": [
      "\n",
      "regularization_factors, val_score: 11.660062:  40%|####      | 8/20 [00:51<01:09,  5.82s/it]\n",
      "regularization_factors, val_score: 11.660062:  45%|####5     | 9/20 [00:51<01:07,  6.10s/it][I 2020-06-28 22:11:52,600] Finished trial#51 with value: 11.69580042944649 with parameters: {'lambda_l1': 0.9592972947912869, 'lambda_l2': 3.011118007328256}. Best is trial#46 with value: 11.660062308545749.\n",
      "\n",
      "regularization_factors, val_score: 11.660062:  45%|####5     | 9/20 [00:52<01:07,  6.10s/it]"
     ]
    },
    {
     "name": "stdout",
     "output_type": "stream",
     "text": [
      "Training until validation scores don't improve for 20 rounds\n",
      "[20]\ttraining's rmse: 9.39953\tvalid_1's rmse: 11.8087\n",
      "Early stopping, best iteration is:\n",
      "[3]\ttraining's rmse: 11.3967\tvalid_1's rmse: 11.6939\n"
     ]
    },
    {
     "name": "stderr",
     "output_type": "stream",
     "text": [
      "\n",
      "regularization_factors, val_score: 11.660062:  45%|####5     | 9/20 [00:56<01:07,  6.10s/it]\n",
      "regularization_factors, val_score: 11.660062:  50%|#####     | 10/20 [00:56<00:56,  5.68s/it][I 2020-06-28 22:11:57,316] Finished trial#52 with value: 11.693940454134369 with parameters: {'lambda_l1': 0.6755725287348306, 'lambda_l2': 0.17457676920936807}. Best is trial#46 with value: 11.660062308545749.\n",
      "\n",
      "regularization_factors, val_score: 11.660062:  50%|#####     | 10/20 [00:56<00:56,  5.68s/it]"
     ]
    },
    {
     "name": "stdout",
     "output_type": "stream",
     "text": [
      "Training until validation scores don't improve for 20 rounds\n",
      "[20]\ttraining's rmse: 9.37205\tvalid_1's rmse: 11.6964\n",
      "Early stopping, best iteration is:\n",
      "[8]\ttraining's rmse: 10.7419\tvalid_1's rmse: 11.6636\n"
     ]
    },
    {
     "name": "stderr",
     "output_type": "stream",
     "text": [
      "\n",
      "regularization_factors, val_score: 11.660062:  50%|#####     | 10/20 [01:03<00:56,  5.68s/it]\n",
      "regularization_factors, val_score: 11.660062:  55%|#####5    | 11/20 [01:03<00:53,  5.91s/it][I 2020-06-28 22:12:03,760] Finished trial#53 with value: 11.663630858087242 with parameters: {'lambda_l1': 2.451218343776217e-08, 'lambda_l2': 0.0001328041112812246}. Best is trial#46 with value: 11.660062308545749.\n",
      "\n",
      "regularization_factors, val_score: 11.660062:  55%|#####5    | 11/20 [01:03<00:53,  5.91s/it]"
     ]
    },
    {
     "name": "stdout",
     "output_type": "stream",
     "text": [
      "Training until validation scores don't improve for 20 rounds\n",
      "[20]\ttraining's rmse: 9.3721\tvalid_1's rmse: 11.6964\n",
      "Early stopping, best iteration is:\n",
      "[8]\ttraining's rmse: 10.7419\tvalid_1's rmse: 11.6636\n"
     ]
    },
    {
     "name": "stderr",
     "output_type": "stream",
     "text": [
      "\n",
      "regularization_factors, val_score: 11.660062:  55%|#####5    | 11/20 [01:08<00:53,  5.91s/it]\n",
      "regularization_factors, val_score: 11.660062:  60%|######    | 12/20 [01:08<00:47,  5.89s/it][I 2020-06-28 22:12:09,591] Finished trial#54 with value: 11.663630349177932 with parameters: {'lambda_l1': 0.00016834493708250134, 'lambda_l2': 0.0013619272625722731}. Best is trial#46 with value: 11.660062308545749.\n",
      "\n",
      "regularization_factors, val_score: 11.660062:  60%|######    | 12/20 [01:09<00:47,  5.89s/it]"
     ]
    },
    {
     "name": "stdout",
     "output_type": "stream",
     "text": [
      "Training until validation scores don't improve for 20 rounds\n",
      "[20]\ttraining's rmse: 9.37213\tvalid_1's rmse: 11.6964\n",
      "Early stopping, best iteration is:\n",
      "[8]\ttraining's rmse: 10.742\tvalid_1's rmse: 11.6636\n"
     ]
    },
    {
     "name": "stderr",
     "output_type": "stream",
     "text": [
      "\n",
      "regularization_factors, val_score: 11.660062:  60%|######    | 12/20 [01:14<00:47,  5.89s/it]\n",
      "regularization_factors, val_score: 11.660062:  65%|######5   | 13/20 [01:14<00:40,  5.81s/it][I 2020-06-28 22:12:15,201] Finished trial#55 with value: 11.663630078607998 with parameters: {'lambda_l1': 0.00033726134862741193, 'lambda_l2': 0.0020077796423945576}. Best is trial#46 with value: 11.660062308545749.\n",
      "\n",
      "regularization_factors, val_score: 11.660062:  65%|######5   | 13/20 [01:14<00:40,  5.81s/it]"
     ]
    },
    {
     "name": "stdout",
     "output_type": "stream",
     "text": [
      "Training until validation scores don't improve for 20 rounds\n",
      "[20]\ttraining's rmse: 9.37204\tvalid_1's rmse: 11.6964\n",
      "Early stopping, best iteration is:\n",
      "[8]\ttraining's rmse: 10.7419\tvalid_1's rmse: 11.6636\n"
     ]
    },
    {
     "name": "stderr",
     "output_type": "stream",
     "text": [
      "\n",
      "regularization_factors, val_score: 11.660062:  65%|######5   | 13/20 [01:21<00:40,  5.81s/it]\n",
      "regularization_factors, val_score: 11.660062:  70%|#######   | 14/20 [01:21<00:36,  6.02s/it][I 2020-06-28 22:12:21,729] Finished trial#56 with value: 11.663630908618822 with parameters: {'lambda_l1': 1.377654415322969e-08, 'lambda_l2': 9.040481713623477e-06}. Best is trial#46 with value: 11.660062308545749.\n",
      "\n",
      "regularization_factors, val_score: 11.660062:  70%|#######   | 14/20 [01:21<00:36,  6.02s/it]"
     ]
    },
    {
     "name": "stdout",
     "output_type": "stream",
     "text": [
      "Training until validation scores don't improve for 20 rounds\n",
      "[20]\ttraining's rmse: 9.37236\tvalid_1's rmse: 11.6964\n",
      "Early stopping, best iteration is:\n",
      "[8]\ttraining's rmse: 10.7421\tvalid_1's rmse: 11.6636\n"
     ]
    },
    {
     "name": "stderr",
     "output_type": "stream",
     "text": [
      "\n",
      "regularization_factors, val_score: 11.660062:  70%|#######   | 14/20 [01:26<00:36,  6.02s/it]\n",
      "regularization_factors, val_score: 11.660062:  75%|#######5  | 15/20 [01:26<00:29,  5.93s/it][I 2020-06-28 22:12:27,436] Finished trial#57 with value: 11.66362783857033 with parameters: {'lambda_l1': 0.00010229283860917576, 'lambda_l2': 0.00752970358369947}. Best is trial#46 with value: 11.660062308545749.\n",
      "\n",
      "regularization_factors, val_score: 11.660062:  75%|#######5  | 15/20 [01:26<00:29,  5.93s/it]"
     ]
    },
    {
     "name": "stdout",
     "output_type": "stream",
     "text": [
      "Training until validation scores don't improve for 20 rounds\n",
      "[20]\ttraining's rmse: 9.36466\tvalid_1's rmse: 11.6953\n",
      "Early stopping, best iteration is:\n",
      "[8]\ttraining's rmse: 10.7411\tvalid_1's rmse: 11.6626\n"
     ]
    },
    {
     "name": "stderr",
     "output_type": "stream",
     "text": [
      "\n",
      "regularization_factors, val_score: 11.660062:  75%|#######5  | 15/20 [01:33<00:29,  5.93s/it]\n",
      "regularization_factors, val_score: 11.660062:  80%|########  | 16/20 [01:33<00:24,  6.07s/it][I 2020-06-28 22:12:33,861] Finished trial#58 with value: 11.66258524470431 with parameters: {'lambda_l1': 1.8867609496145954e-07, 'lambda_l2': 0.023310326346182506}. Best is trial#46 with value: 11.660062308545749.\n",
      "\n",
      "regularization_factors, val_score: 11.660062:  80%|########  | 16/20 [01:33<00:24,  6.07s/it]"
     ]
    },
    {
     "name": "stdout",
     "output_type": "stream",
     "text": [
      "Training until validation scores don't improve for 20 rounds\n",
      "[20]\ttraining's rmse: 9.37204\tvalid_1's rmse: 11.6964\n",
      "Early stopping, best iteration is:\n",
      "[8]\ttraining's rmse: 10.7419\tvalid_1's rmse: 11.6636\n"
     ]
    },
    {
     "name": "stderr",
     "output_type": "stream",
     "text": [
      "\n",
      "regularization_factors, val_score: 11.660062:  80%|########  | 16/20 [01:39<00:24,  6.07s/it]\n",
      "regularization_factors, val_score: 11.660062:  85%|########5 | 17/20 [01:39<00:18,  6.17s/it][I 2020-06-28 22:12:40,235] Finished trial#59 with value: 11.66363090255446 with parameters: {'lambda_l1': 1.5599374779418944e-07, 'lambda_l2': 2.4494528628857193e-05}. Best is trial#46 with value: 11.660062308545749.\n",
      "\n",
      "regularization_factors, val_score: 11.660062:  85%|########5 | 17/20 [01:39<00:18,  6.17s/it]"
     ]
    },
    {
     "name": "stdout",
     "output_type": "stream",
     "text": [
      "Training until validation scores don't improve for 20 rounds\n",
      "[20]\ttraining's rmse: 9.36483\tvalid_1's rmse: 11.6953\n",
      "Early stopping, best iteration is:\n",
      "[8]\ttraining's rmse: 10.7412\tvalid_1's rmse: 11.6626\n"
     ]
    },
    {
     "name": "stderr",
     "output_type": "stream",
     "text": [
      "\n",
      "regularization_factors, val_score: 11.660062:  85%|########5 | 17/20 [01:45<00:18,  6.17s/it]\n",
      "regularization_factors, val_score: 11.660062:  90%|######### | 18/20 [01:45<00:11,  6.00s/it][I 2020-06-28 22:12:45,840] Finished trial#60 with value: 11.662583715002402 with parameters: {'lambda_l1': 3.959535735890477e-07, 'lambda_l2': 0.027255876461360524}. Best is trial#46 with value: 11.660062308545749.\n",
      "\n",
      "regularization_factors, val_score: 11.660062:  90%|######### | 18/20 [01:45<00:11,  6.00s/it]"
     ]
    },
    {
     "name": "stdout",
     "output_type": "stream",
     "text": [
      "Training until validation scores don't improve for 20 rounds\n",
      "[20]\ttraining's rmse: 9.59475\tvalid_1's rmse: 11.7835\n",
      "Early stopping, best iteration is:\n",
      "[5]\ttraining's rmse: 11.1894\tvalid_1's rmse: 11.6969\n"
     ]
    },
    {
     "name": "stderr",
     "output_type": "stream",
     "text": [
      "\n",
      "regularization_factors, val_score: 11.660062:  90%|######### | 18/20 [01:51<00:11,  6.00s/it]\n",
      "regularization_factors, val_score: 11.660062:  95%|#########5| 19/20 [01:51<00:06,  6.05s/it][I 2020-06-28 22:12:51,987] Finished trial#61 with value: 11.696886028154669 with parameters: {'lambda_l1': 2.353532524392911e-07, 'lambda_l2': 9.8269667918719}. Best is trial#46 with value: 11.660062308545749.\n",
      "\n",
      "regularization_factors, val_score: 11.660062:  95%|#########5| 19/20 [01:51<00:06,  6.05s/it]"
     ]
    },
    {
     "name": "stdout",
     "output_type": "stream",
     "text": [
      "Training until validation scores don't improve for 20 rounds\n",
      "[20]\ttraining's rmse: 9.37204\tvalid_1's rmse: 11.6964\n",
      "Early stopping, best iteration is:\n",
      "[8]\ttraining's rmse: 10.7419\tvalid_1's rmse: 11.6636\n"
     ]
    },
    {
     "name": "stderr",
     "output_type": "stream",
     "text": [
      "\n",
      "regularization_factors, val_score: 11.660062:  95%|#########5| 19/20 [01:56<00:06,  6.05s/it]\n",
      "regularization_factors, val_score: 11.660062: 100%|##########| 20/20 [01:56<00:00,  5.91s/it][I 2020-06-28 22:12:57,579] Finished trial#62 with value: 11.663630911435945 with parameters: {'lambda_l1': 1.6148983535518218e-05, 'lambda_l2': 5.262177911731486e-07}. Best is trial#46 with value: 11.660062308545749.\n",
      "regularization_factors, val_score: 11.660062: 100%|##########| 20/20 [01:57<00:00,  5.85s/it]\n",
      "\n",
      "  0%|          | 0/5 [00:00<?, ?it/s]\n",
      "min_data_in_leaf, val_score: 11.660062:   0%|          | 0/5 [00:00<?, ?it/s]"
     ]
    },
    {
     "name": "stdout",
     "output_type": "stream",
     "text": [
      "Training until validation scores don't improve for 20 rounds\n",
      "[20]\ttraining's rmse: 9.40684\tvalid_1's rmse: 11.7531\n",
      "Early stopping, best iteration is:\n",
      "[5]\ttraining's rmse: 11.1269\tvalid_1's rmse: 11.6934\n"
     ]
    },
    {
     "name": "stderr",
     "output_type": "stream",
     "text": [
      "\n",
      "min_data_in_leaf, val_score: 11.660062:   0%|          | 0/5 [00:05<?, ?it/s]\n",
      "min_data_in_leaf, val_score: 11.660062:  20%|##        | 1/5 [00:05<00:20,  5.03s/it][I 2020-06-28 22:13:02,750] Finished trial#63 with value: 11.693356383641312 with parameters: {'min_child_samples': 25}. Best is trial#63 with value: 11.693356383641312.\n",
      "\n",
      "min_data_in_leaf, val_score: 11.660062:  20%|##        | 1/5 [00:05<00:20,  5.03s/it]"
     ]
    },
    {
     "name": "stdout",
     "output_type": "stream",
     "text": [
      "Training until validation scores don't improve for 20 rounds\n",
      "[20]\ttraining's rmse: 9.33692\tvalid_1's rmse: 11.7574\n",
      "Early stopping, best iteration is:\n",
      "[9]\ttraining's rmse: 10.606\tvalid_1's rmse: 11.7107\n"
     ]
    },
    {
     "name": "stderr",
     "output_type": "stream",
     "text": [
      "\n",
      "min_data_in_leaf, val_score: 11.660062:  20%|##        | 1/5 [00:12<00:20,  5.03s/it]\n",
      "min_data_in_leaf, val_score: 11.660062:  40%|####      | 2/5 [00:12<00:17,  5.82s/it][I 2020-06-28 22:13:10,425] Finished trial#64 with value: 11.710685006775428 with parameters: {'min_child_samples': 10}. Best is trial#63 with value: 11.693356383641312.\n",
      "\n",
      "min_data_in_leaf, val_score: 11.660062:  40%|####      | 2/5 [00:12<00:17,  5.82s/it]"
     ]
    },
    {
     "name": "stdout",
     "output_type": "stream",
     "text": [
      "Training until validation scores don't improve for 20 rounds\n",
      "[20]\ttraining's rmse: 9.6606\tvalid_1's rmse: 11.7167\n",
      "Early stopping, best iteration is:\n",
      "[7]\ttraining's rmse: 10.9728\tvalid_1's rmse: 11.6652\n"
     ]
    },
    {
     "name": "stderr",
     "output_type": "stream",
     "text": [
      "\n",
      "min_data_in_leaf, val_score: 11.660062:  40%|####      | 2/5 [00:16<00:17,  5.82s/it]\n",
      "min_data_in_leaf, val_score: 11.660062:  60%|######    | 3/5 [00:16<00:10,  5.11s/it][I 2020-06-28 22:13:13,872] Finished trial#65 with value: 11.66515641654417 with parameters: {'min_child_samples': 100}. Best is trial#65 with value: 11.66515641654417.\n",
      "\n",
      "min_data_in_leaf, val_score: 11.660062:  60%|######    | 3/5 [00:16<00:10,  5.11s/it]"
     ]
    },
    {
     "name": "stdout",
     "output_type": "stream",
     "text": [
      "Training until validation scores don't improve for 20 rounds\n",
      "[20]\ttraining's rmse: 9.4754\tvalid_1's rmse: 11.7409\n",
      "Early stopping, best iteration is:\n",
      "[7]\ttraining's rmse: 10.912\tvalid_1's rmse: 11.6926\n"
     ]
    },
    {
     "name": "stderr",
     "output_type": "stream",
     "text": [
      "\n",
      "min_data_in_leaf, val_score: 11.660062:  60%|######    | 3/5 [00:20<00:10,  5.11s/it]\n",
      "min_data_in_leaf, val_score: 11.660062:  80%|########  | 4/5 [00:20<00:04,  4.96s/it][I 2020-06-28 22:13:18,492] Finished trial#66 with value: 11.692606908810738 with parameters: {'min_child_samples': 50}. Best is trial#65 with value: 11.66515641654417.\n",
      "\n",
      "min_data_in_leaf, val_score: 11.660062:  80%|########  | 4/5 [00:20<00:04,  4.96s/it]"
     ]
    },
    {
     "name": "stdout",
     "output_type": "stream",
     "text": [
      "Training until validation scores don't improve for 20 rounds\n",
      "[20]\ttraining's rmse: 9.32874\tvalid_1's rmse: 11.7737\n",
      "Early stopping, best iteration is:\n",
      "[4]\ttraining's rmse: 11.2306\tvalid_1's rmse: 11.7109\n"
     ]
    },
    {
     "name": "stderr",
     "output_type": "stream",
     "text": [
      "\n",
      "min_data_in_leaf, val_score: 11.660062:  80%|########  | 4/5 [00:27<00:04,  4.96s/it]\n",
      "min_data_in_leaf, val_score: 11.660062: 100%|##########| 5/5 [00:27<00:00,  5.52s/it][I 2020-06-28 22:13:25,326] Finished trial#67 with value: 11.710863202197835 with parameters: {'min_child_samples': 5}. Best is trial#65 with value: 11.66515641654417.\n",
      "min_data_in_leaf, val_score: 11.660062: 100%|##########| 5/5 [00:27<00:00,  5.55s/it]\n"
     ]
    },
    {
     "data": {
      "image/png": "[encoded data removed]",
      "text/plain": [
       "<Figure size 576x576 with 1 Axes>"
      ]
     },
     "metadata": {
      "needs_background": "light"
     },
     "output_type": "display_data"
    },
    {
     "data": {
      "text/plain": [
       "array([0.15011453, 0.14525839, 0.13918568, 0.1813179 , 0.17655867])"
      ]
     },
     "execution_count": 7,
     "metadata": {},
     "output_type": "execute_result"
    }
   ],
   "source": [
    "# lightGBM(optuna)\n",
    "\n",
    "X = df_7.iloc[:, 6:].values\n",
    "y = df_7.iloc[:, 1:6].values\n",
    "X_train, X_val, y_train, y_val = train_test_split(\n",
    "    X, y, random_state=1, train_size=0.75)\n",
    "\n",
    "targets = ['domain1_var2', 'domain1_var1', 'age', 'domain2_var2', 'domain2_var1']\n",
    "preds = np.empty_like(y_val)\n",
    "opts_7 = []\n",
    "\n",
    "for i, target in enumerate(targets):\n",
    "    print('==< {} >=='.format(target))\n",
    "    print('X_train :', X_train.shape)\n",
    "    y_tr = y_train[:, i]\n",
    "    y_vl = y_val[:, i]\n",
    "    \n",
    "    lgb_train = lgb.Dataset(X_train, y_tr)\n",
    "    lgb_eval = lgb.Dataset(X_val, y_vl)\n",
    "    params = {'task': 'train', \n",
    "              'boosting_type': 'gbdt', \n",
    "              'objective': 'regression', \n",
    "              'metric': 'rmse'}\n",
    "\n",
    "    model = lgb.train(params, lgb_train, num_boost_round=250,\n",
    "                      early_stopping_rounds=20,\n",
    "                      valid_sets=[lgb_train, lgb_eval],\n",
    "                      verbose_eval=20)\n",
    "\n",
    "    opts_7.append(model)\n",
    "    \n",
    "    ad_train = model.predict(X_train)\n",
    "    X_train = np.hstack([X_train, ad_train[:,None]])\n",
    "    ad_val = model.predict(X_val)\n",
    "    X_val = np.hstack([X_val, ad_val[:,None]])\n",
    "    preds[:, i] = ad_val\n",
    "    \n",
    "    lgb.plot_importance(model, max_num_features=25, height=0.3, figsize=(8,8))\n",
    "    plt.show()\n",
    "\n",
    "scores = np.sum(np.abs(y_val - preds), axis=0) / np.sum(preds, axis=0)\n",
    "scores"
   ]
  },
  {
   "cell_type": "markdown",
   "metadata": {},
   "source": [
    "作成したモデルを別に使用できるよう、保存する"
   ]
  },
  {
   "cell_type": "code",
   "execution_count": null,
   "metadata": {},
   "outputs": [],
   "source": [
    "import pickle\n",
    "filename = 'opts_7.sav'\n",
    "pickle.dump(models, open(filename, 'wb'))"
   ]
  }
 ],
 "metadata": {
  "kernelspec": {
   "display_name": "Python 3",
   "language": "python",
   "name": "python3"
  },
  "language_info": {
   "codemirror_mode": {
    "name": "ipython",
    "version": 3
   },
   "file_extension": ".py",
   "mimetype": "text/x-python",
   "name": "python",
   "nbconvert_exporter": "python",
   "pygments_lexer": "ipython3",
   "version": "3.7.7"
  }
 },
 "nbformat": 4,
 "nbformat_minor": 4
}
