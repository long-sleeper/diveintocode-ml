{
 "cells": [
  {
   "cell_type": "markdown",
   "metadata": {},
   "source": [
    "# SVR, LR, RFのモデル作成"
   ]
  },
  {
   "cell_type": "code",
   "execution_count": 1,
   "metadata": {},
   "outputs": [],
   "source": [
    "import numpy as np\n",
    "import pandas as pd\n",
    "import matplotlib.pyplot as plt\n",
    "from matplotlib import cm\n",
    "import seaborn as sns\n",
    "%matplotlib inline\n",
    "from sklearn.model_selection import train_test_split\n",
    "from sklearn.preprocessing import StandardScaler\n",
    "from sklearn.svm import SVR\n",
    "import GPy"
   ]
  },
  {
   "cell_type": "markdown",
   "metadata": {},
   "source": [
    "EDAで作成したデータファイル（``data_7.csv``）から特徴量を読み込む"
   ]
  },
  {
   "cell_type": "code",
   "execution_count": 2,
   "metadata": {},
   "outputs": [
    {
     "data": {
      "text/html": [
       "<div>\n",
       "<style scoped>\n",
       "    .dataframe tbody tr th:only-of-type {\n",
       "        vertical-align: middle;\n",
       "    }\n",
       "\n",
       "    .dataframe tbody tr th {\n",
       "        vertical-align: top;\n",
       "    }\n",
       "\n",
       "    .dataframe thead th {\n",
       "        text-align: right;\n",
       "    }\n",
       "</style>\n",
       "<table border=\"1\" class=\"dataframe\">\n",
       "  <thead>\n",
       "    <tr style=\"text-align: right;\">\n",
       "      <th></th>\n",
       "      <th>Id</th>\n",
       "      <th>age</th>\n",
       "      <th>domain1_var1</th>\n",
       "      <th>domain1_var2</th>\n",
       "      <th>domain2_var1</th>\n",
       "      <th>domain2_var2</th>\n",
       "      <th>IC_01</th>\n",
       "      <th>IC_07</th>\n",
       "      <th>IC_05</th>\n",
       "      <th>IC_16</th>\n",
       "      <th>...</th>\n",
       "      <th>CBN(13)_vs_DMN(94)</th>\n",
       "      <th>CBN(18)_vs_DMN(94)</th>\n",
       "      <th>CBN(4)_vs_DMN(94)</th>\n",
       "      <th>CBN(7)_vs_DMN(94)</th>\n",
       "      <th>CBN(18)_vs_CBN(13)</th>\n",
       "      <th>CBN(4)_vs_CBN(13)</th>\n",
       "      <th>CBN(7)_vs_CBN(13)</th>\n",
       "      <th>CBN(4)_vs_CBN(18)</th>\n",
       "      <th>CBN(7)_vs_CBN(18)</th>\n",
       "      <th>CBN(7)_vs_CBN(4)</th>\n",
       "    </tr>\n",
       "  </thead>\n",
       "  <tbody>\n",
       "    <tr>\n",
       "      <th>count</th>\n",
       "      <td>5877.000000</td>\n",
       "      <td>5877.000000</td>\n",
       "      <td>5877.000000</td>\n",
       "      <td>5877.000000</td>\n",
       "      <td>5877.000000</td>\n",
       "      <td>5877.000000</td>\n",
       "      <td>5877.000000</td>\n",
       "      <td>5877.000000</td>\n",
       "      <td>5877.000000</td>\n",
       "      <td>5877.000000</td>\n",
       "      <td>...</td>\n",
       "      <td>5877.000000</td>\n",
       "      <td>5877.000000</td>\n",
       "      <td>5877.000000</td>\n",
       "      <td>5877.000000</td>\n",
       "      <td>5877.000000</td>\n",
       "      <td>5877.000000</td>\n",
       "      <td>5877.000000</td>\n",
       "      <td>5877.000000</td>\n",
       "      <td>5877.000000</td>\n",
       "      <td>5877.000000</td>\n",
       "    </tr>\n",
       "    <tr>\n",
       "      <th>mean</th>\n",
       "      <td>15909.667007</td>\n",
       "      <td>50.034068</td>\n",
       "      <td>51.502462</td>\n",
       "      <td>59.304380</td>\n",
       "      <td>47.328355</td>\n",
       "      <td>51.910080</td>\n",
       "      <td>0.005368</td>\n",
       "      <td>0.009237</td>\n",
       "      <td>0.010620</td>\n",
       "      <td>0.000895</td>\n",
       "      <td>...</td>\n",
       "      <td>-0.126329</td>\n",
       "      <td>0.340097</td>\n",
       "      <td>0.126801</td>\n",
       "      <td>0.299151</td>\n",
       "      <td>0.495320</td>\n",
       "      <td>0.578637</td>\n",
       "      <td>0.461299</td>\n",
       "      <td>0.197640</td>\n",
       "      <td>0.768528</td>\n",
       "      <td>0.354929</td>\n",
       "    </tr>\n",
       "    <tr>\n",
       "      <th>std</th>\n",
       "      <td>3411.775315</td>\n",
       "      <td>13.539881</td>\n",
       "      <td>9.801768</td>\n",
       "      <td>10.957016</td>\n",
       "      <td>11.087953</td>\n",
       "      <td>11.799972</td>\n",
       "      <td>0.004585</td>\n",
       "      <td>0.004162</td>\n",
       "      <td>0.003571</td>\n",
       "      <td>0.003587</td>\n",
       "      <td>...</td>\n",
       "      <td>0.254345</td>\n",
       "      <td>0.180884</td>\n",
       "      <td>0.238343</td>\n",
       "      <td>0.201886</td>\n",
       "      <td>0.197955</td>\n",
       "      <td>0.268321</td>\n",
       "      <td>0.254933</td>\n",
       "      <td>0.299296</td>\n",
       "      <td>0.193878</td>\n",
       "      <td>0.182111</td>\n",
       "    </tr>\n",
       "    <tr>\n",
       "      <th>min</th>\n",
       "      <td>10001.000000</td>\n",
       "      <td>14.257265</td>\n",
       "      <td>15.769168</td>\n",
       "      <td>1.021874</td>\n",
       "      <td>0.991172</td>\n",
       "      <td>0.815285</td>\n",
       "      <td>-0.015894</td>\n",
       "      <td>-0.007958</td>\n",
       "      <td>-0.002240</td>\n",
       "      <td>-0.013459</td>\n",
       "      <td>...</td>\n",
       "      <td>-0.932657</td>\n",
       "      <td>-0.584421</td>\n",
       "      <td>-0.709769</td>\n",
       "      <td>-0.559527</td>\n",
       "      <td>-0.686442</td>\n",
       "      <td>-0.467751</td>\n",
       "      <td>-0.639171</td>\n",
       "      <td>-1.142909</td>\n",
       "      <td>-0.471138</td>\n",
       "      <td>-0.323693</td>\n",
       "    </tr>\n",
       "    <tr>\n",
       "      <th>25%</th>\n",
       "      <td>12961.000000</td>\n",
       "      <td>40.129361</td>\n",
       "      <td>45.397852</td>\n",
       "      <td>53.133474</td>\n",
       "      <td>40.225097</td>\n",
       "      <td>44.586221</td>\n",
       "      <td>0.002445</td>\n",
       "      <td>0.006437</td>\n",
       "      <td>0.008172</td>\n",
       "      <td>-0.001451</td>\n",
       "      <td>...</td>\n",
       "      <td>-0.302299</td>\n",
       "      <td>0.230182</td>\n",
       "      <td>-0.026810</td>\n",
       "      <td>0.173736</td>\n",
       "      <td>0.374122</td>\n",
       "      <td>0.424559</td>\n",
       "      <td>0.307198</td>\n",
       "      <td>0.022054</td>\n",
       "      <td>0.637085</td>\n",
       "      <td>0.243677</td>\n",
       "    </tr>\n",
       "    <tr>\n",
       "      <th>50%</th>\n",
       "      <td>15925.000000</td>\n",
       "      <td>50.427747</td>\n",
       "      <td>51.847306</td>\n",
       "      <td>60.052535</td>\n",
       "      <td>47.811205</td>\n",
       "      <td>52.572032</td>\n",
       "      <td>0.005512</td>\n",
       "      <td>0.009205</td>\n",
       "      <td>0.010567</td>\n",
       "      <td>0.000786</td>\n",
       "      <td>...</td>\n",
       "      <td>-0.111208</td>\n",
       "      <td>0.357885</td>\n",
       "      <td>0.146985</td>\n",
       "      <td>0.316375</td>\n",
       "      <td>0.497220</td>\n",
       "      <td>0.579708</td>\n",
       "      <td>0.476942</td>\n",
       "      <td>0.247063</td>\n",
       "      <td>0.755655</td>\n",
       "      <td>0.362175</td>\n",
       "    </tr>\n",
       "    <tr>\n",
       "      <th>75%</th>\n",
       "      <td>18886.000000</td>\n",
       "      <td>59.580851</td>\n",
       "      <td>57.892677</td>\n",
       "      <td>66.521451</td>\n",
       "      <td>55.024768</td>\n",
       "      <td>59.843566</td>\n",
       "      <td>0.008443</td>\n",
       "      <td>0.012035</td>\n",
       "      <td>0.012972</td>\n",
       "      <td>0.003207</td>\n",
       "      <td>...</td>\n",
       "      <td>0.061984</td>\n",
       "      <td>0.469599</td>\n",
       "      <td>0.300593</td>\n",
       "      <td>0.443144</td>\n",
       "      <td>0.615462</td>\n",
       "      <td>0.738983</td>\n",
       "      <td>0.624984</td>\n",
       "      <td>0.413300</td>\n",
       "      <td>0.881732</td>\n",
       "      <td>0.471903</td>\n",
       "    </tr>\n",
       "    <tr>\n",
       "      <th>max</th>\n",
       "      <td>21754.000000</td>\n",
       "      <td>84.491113</td>\n",
       "      <td>81.325580</td>\n",
       "      <td>94.702874</td>\n",
       "      <td>82.164478</td>\n",
       "      <td>94.509903</td>\n",
       "      <td>0.022888</td>\n",
       "      <td>0.027168</td>\n",
       "      <td>0.024085</td>\n",
       "      <td>0.022613</td>\n",
       "      <td>...</td>\n",
       "      <td>0.650448</td>\n",
       "      <td>0.852686</td>\n",
       "      <td>0.780373</td>\n",
       "      <td>0.912523</td>\n",
       "      <td>1.513935</td>\n",
       "      <td>2.123638</td>\n",
       "      <td>1.562309</td>\n",
       "      <td>1.102878</td>\n",
       "      <td>1.857374</td>\n",
       "      <td>1.282488</td>\n",
       "    </tr>\n",
       "  </tbody>\n",
       "</table>\n",
       "<p>8 rows × 1463 columns</p>\n",
       "</div>"
      ],
      "text/plain": [
       "                 Id          age  domain1_var1  domain1_var2  domain2_var1  \\\n",
       "count   5877.000000  5877.000000   5877.000000   5877.000000   5877.000000   \n",
       "mean   15909.667007    50.034068     51.502462     59.304380     47.328355   \n",
       "std     3411.775315    13.539881      9.801768     10.957016     11.087953   \n",
       "min    10001.000000    14.257265     15.769168      1.021874      0.991172   \n",
       "25%    12961.000000    40.129361     45.397852     53.133474     40.225097   \n",
       "50%    15925.000000    50.427747     51.847306     60.052535     47.811205   \n",
       "75%    18886.000000    59.580851     57.892677     66.521451     55.024768   \n",
       "max    21754.000000    84.491113     81.325580     94.702874     82.164478   \n",
       "\n",
       "       domain2_var2        IC_01        IC_07        IC_05        IC_16  ...  \\\n",
       "count   5877.000000  5877.000000  5877.000000  5877.000000  5877.000000  ...   \n",
       "mean      51.910080     0.005368     0.009237     0.010620     0.000895  ...   \n",
       "std       11.799972     0.004585     0.004162     0.003571     0.003587  ...   \n",
       "min        0.815285    -0.015894    -0.007958    -0.002240    -0.013459  ...   \n",
       "25%       44.586221     0.002445     0.006437     0.008172    -0.001451  ...   \n",
       "50%       52.572032     0.005512     0.009205     0.010567     0.000786  ...   \n",
       "75%       59.843566     0.008443     0.012035     0.012972     0.003207  ...   \n",
       "max       94.509903     0.022888     0.027168     0.024085     0.022613  ...   \n",
       "\n",
       "       CBN(13)_vs_DMN(94)  CBN(18)_vs_DMN(94)  CBN(4)_vs_DMN(94)  \\\n",
       "count         5877.000000         5877.000000        5877.000000   \n",
       "mean            -0.126329            0.340097           0.126801   \n",
       "std              0.254345            0.180884           0.238343   \n",
       "min             -0.932657           -0.584421          -0.709769   \n",
       "25%             -0.302299            0.230182          -0.026810   \n",
       "50%             -0.111208            0.357885           0.146985   \n",
       "75%              0.061984            0.469599           0.300593   \n",
       "max              0.650448            0.852686           0.780373   \n",
       "\n",
       "       CBN(7)_vs_DMN(94)  CBN(18)_vs_CBN(13)  CBN(4)_vs_CBN(13)  \\\n",
       "count        5877.000000         5877.000000        5877.000000   \n",
       "mean            0.299151            0.495320           0.578637   \n",
       "std             0.201886            0.197955           0.268321   \n",
       "min            -0.559527           -0.686442          -0.467751   \n",
       "25%             0.173736            0.374122           0.424559   \n",
       "50%             0.316375            0.497220           0.579708   \n",
       "75%             0.443144            0.615462           0.738983   \n",
       "max             0.912523            1.513935           2.123638   \n",
       "\n",
       "       CBN(7)_vs_CBN(13)  CBN(4)_vs_CBN(18)  CBN(7)_vs_CBN(18)  \\\n",
       "count        5877.000000        5877.000000        5877.000000   \n",
       "mean            0.461299           0.197640           0.768528   \n",
       "std             0.254933           0.299296           0.193878   \n",
       "min            -0.639171          -1.142909          -0.471138   \n",
       "25%             0.307198           0.022054           0.637085   \n",
       "50%             0.476942           0.247063           0.755655   \n",
       "75%             0.624984           0.413300           0.881732   \n",
       "max             1.562309           1.102878           1.857374   \n",
       "\n",
       "       CBN(7)_vs_CBN(4)  \n",
       "count       5877.000000  \n",
       "mean           0.354929  \n",
       "std            0.182111  \n",
       "min           -0.323693  \n",
       "25%            0.243677  \n",
       "50%            0.362175  \n",
       "75%            0.471903  \n",
       "max            1.282488  \n",
       "\n",
       "[8 rows x 1463 columns]"
      ]
     },
     "execution_count": 2,
     "metadata": {},
     "output_type": "execute_result"
    }
   ],
   "source": [
    "df_7 = pd.read_csv('data_7.csv')\n",
    "df_7.describe()"
   ]
  },
  {
   "cell_type": "markdown",
   "metadata": {},
   "source": [
    "SVRや線形回帰を使用するので、特徴量および予測値お両者を標準化する。  \n",
    "またfMRIデータ（相関係数）は数が多く、これに対する過学習を避けるため標準化したうえでさらに500で割り、特徴量の影響を軽減する。"
   ]
  },
  {
   "cell_type": "code",
   "execution_count": 36,
   "metadata": {},
   "outputs": [],
   "source": [
    "X = df_7.iloc[:, 6:].values\n",
    "y = df_7.iloc[:, 1:6].values\n",
    "\n",
    "# train/validationに分割\n",
    "X_train, X_val, y_train, y_val = train_test_split(\n",
    "    X, y, random_state=1, train_size=0.75)\n",
    "\n",
    "# 標準化\n",
    "sc_x = StandardScaler()\n",
    "sc_y = StandardScaler()\n",
    "sc_x.fit(X_train)\n",
    "sc_y.fit(y_train)\n",
    "X_train_std = sc_x.transform(X_train)\n",
    "X_val_std = sc_x.transform(X_val)\n",
    "y_train_std = sc_y.transform(y_train)\n",
    "y_val_std = sc_y.transform(y_val)\n",
    "\n",
    "# fMRIデータ（86列目以降）は500で除す\n",
    "X_train_tsf = X_train_std.copy()\n",
    "X_train_tsf[:, 86:] = X_train_std[:, 86:]/500\n",
    "X_val_tsf = X_val_std.copy()\n",
    "X_val_tsf[:, 86:] = X_val_std[:, 86:]/500"
   ]
  },
  {
   "cell_type": "markdown",
   "metadata": {},
   "source": [
    "まずsklearnのライブラリを使用し、各モデルについてGridSearchでハイパーパラメーターチューニングを行う。\n",
    "\n",
    "### 1. SVR"
   ]
  },
  {
   "cell_type": "code",
   "execution_count": 61,
   "metadata": {},
   "outputs": [
    {
     "name": "stderr",
     "output_type": "stream",
     "text": [
      " C:\\Users\\USER\\anaconda3\\envs\\tf115\\lib\\site-packages\\sklearn\\model_selection\\_search.py:823: FutureWarning:The parameter 'iid' is deprecated in 0.22 and will be removed in 0.24.\n",
      " C:\\Users\\USER\\anaconda3\\envs\\tf115\\lib\\site-packages\\sklearn\\model_selection\\_search.py:823: FutureWarning:The parameter 'iid' is deprecated in 0.22 and will be removed in 0.24.\n",
      " C:\\Users\\USER\\anaconda3\\envs\\tf115\\lib\\site-packages\\sklearn\\model_selection\\_search.py:823: FutureWarning:The parameter 'iid' is deprecated in 0.22 and will be removed in 0.24.\n",
      " C:\\Users\\USER\\anaconda3\\envs\\tf115\\lib\\site-packages\\sklearn\\model_selection\\_search.py:823: FutureWarning:The parameter 'iid' is deprecated in 0.22 and will be removed in 0.24.\n",
      " C:\\Users\\USER\\anaconda3\\envs\\tf115\\lib\\site-packages\\sklearn\\model_selection\\_search.py:823: FutureWarning:The parameter 'iid' is deprecated in 0.22 and will be removed in 0.24.\n"
     ]
    },
    {
     "name": "stdout",
     "output_type": "stream",
     "text": [
      "C: SVR(C=0.1, cache_size=200, coef0=0.0, degree=3, epsilon=0.1, gamma='scale',\n",
      "    kernel='rbf', max_iter=-1, shrinking=True, tol=0.001, verbose=False)\n"
     ]
    },
    {
     "data": {
      "text/plain": [
       "array([0.1555542 , 0.14754962, 0.14174629, 0.18465802, 0.17839163])"
      ]
     },
     "execution_count": 61,
     "metadata": {},
     "output_type": "execute_result"
    }
   ],
   "source": [
    "from sklearn.model_selection import GridSearchCV\n",
    "from sklearn.svm import SVR\n",
    "\n",
    "# SVM\n",
    "targets = df_7.columns[1:6]\n",
    "svms = []\n",
    "preds = np.empty_like(y_val)\n",
    "for i, target in enumerate(targets):\n",
    "    y_tr = y_train_std[:, i]\n",
    "    \n",
    "    parameters = {'C': [0.1, 1, 10]}\n",
    "    model = GridSearchCV(SVR(), parameters, cv=5, return_train_score=False, iid=False)\n",
    "    model.fit(X_train_tsf, y_tr)\n",
    "    \n",
    "    svms.append(model)\n",
    "    preds[:, i] = model.predict(X_val_tsf)\n",
    "\n",
    "preds = sc_y.inverse_transform(preds)\n",
    "scores_svm = np.sum(np.abs(y_val - preds), axis=0) / np.sum(preds, axis=0)\n",
    "print('C:', model.best_estimator_)\n",
    "scores"
   ]
  },
  {
   "cell_type": "code",
   "execution_count": 63,
   "metadata": {},
   "outputs": [
    {
     "name": "stdout",
     "output_type": "stream",
     "text": [
      "age\n",
      "SVR(C=1, cache_size=200, coef0=0.0, degree=3, epsilon=0.1, gamma='scale',\n",
      "    kernel='rbf', max_iter=-1, shrinking=True, tol=0.001, verbose=False)\n",
      "d1v1\n",
      "SVR(C=0.1, cache_size=200, coef0=0.0, degree=3, epsilon=0.1, gamma='scale',\n",
      "    kernel='rbf', max_iter=-1, shrinking=True, tol=0.001, verbose=False)\n",
      "d1v2\n",
      "SVR(C=0.1, cache_size=200, coef0=0.0, degree=3, epsilon=0.1, gamma='scale',\n",
      "    kernel='rbf', max_iter=-1, shrinking=True, tol=0.001, verbose=False)\n",
      "d2v1\n",
      "SVR(C=0.1, cache_size=200, coef0=0.0, degree=3, epsilon=0.1, gamma='scale',\n",
      "    kernel='rbf', max_iter=-1, shrinking=True, tol=0.001, verbose=False)\n",
      "d2v2\n",
      "SVR(C=0.1, cache_size=200, coef0=0.0, degree=3, epsilon=0.1, gamma='scale',\n",
      "    kernel='rbf', max_iter=-1, shrinking=True, tol=0.001, verbose=False)\n"
     ]
    }
   ],
   "source": [
    "print('age')\n",
    "print(svms[0].best_estimator_)\n",
    "print('d1v1')\n",
    "print(svms[1].best_estimator_)\n",
    "print('d1v2')\n",
    "print(svms[2].best_estimator_)\n",
    "print('d2v1')\n",
    "print(svms[3].best_estimator_)\n",
    "print('d2v2')\n",
    "print(svms[4].best_estimator_)"
   ]
  },
  {
   "cell_type": "markdown",
   "metadata": {},
   "source": [
    "### 2.LR（Lasso, Ridge, ElasticNet）"
   ]
  },
  {
   "cell_type": "code",
   "execution_count": 58,
   "metadata": {},
   "outputs": [
    {
     "name": "stdout",
     "output_type": "stream",
     "text": [
      "LassoCV(alphas=array([1.00000000e-03, 1.25892541e-03, 1.58489319e-03, 1.99526231e-03,\n",
      "       2.51188643e-03, 3.16227766e-03, 3.98107171e-03, 5.01187234e-03,\n",
      "       6.30957344e-03, 7.94328235e-03, 1.00000000e-02, 1.25892541e-02,\n",
      "       1.58489319e-02, 1.99526231e-02, 2.51188643e-02, 3.16227766e-02,\n",
      "       3.98107171e-02, 5.01187234e-02, 6.30957344e-02, 7.94328235e-02,\n",
      "       1.00000000e-01, 1.25892541e-0...\n",
      "       6.30957344e-01, 7.94328235e-01, 1.00000000e+00, 1.25892541e+00,\n",
      "       1.58489319e+00, 1.99526231e+00, 2.51188643e+00, 3.16227766e+00,\n",
      "       3.98107171e+00, 5.01187234e+00, 6.30957344e+00, 7.94328235e+00]),\n",
      "        copy_X=True, cv=5, eps=0.001, fit_intercept=True, max_iter=1000,\n",
      "        n_alphas=100, n_jobs=None, normalize=False, positive=False,\n",
      "        precompute='auto', random_state=None, selection='cyclic', tol=0.0001,\n",
      "        verbose=False)\n",
      "α: 0.025118864315095874\n"
     ]
    },
    {
     "data": {
      "text/plain": [
       "array([0.15323069, 0.14579978, 0.13930254, 0.18202776, 0.17675102])"
      ]
     },
     "execution_count": 58,
     "metadata": {},
     "output_type": "execute_result"
    }
   ],
   "source": [
    "from sklearn.linear_model import LassoCV\n",
    "\n",
    "# Lasso\n",
    "targets = df_7.columns[1:6]\n",
    "lassos = []\n",
    "preds = np.empty_like(y_val)\n",
    "\n",
    "for i, target in enumerate(targets):\n",
    "    y_tr = y_train_std[:, i]\n",
    "    \n",
    "    model = LassoCV(alphas=10 ** np.arange(-3, 1, 0.1), cv=5)\n",
    "    model.fit(X_train_tsf, y_tr)\n",
    "    \n",
    "    lassos.append(model)\n",
    "    preds[:, i] = model.predict(X_val_tsf)\n",
    "\n",
    "preds = sc_y.inverse_transform(preds)\n",
    "scores_l1 = np.sum(np.abs(y_val - preds), axis=0) / np.sum(preds, axis=0)\n",
    "print(model)\n",
    "print('α:', model.alpha_)\n",
    "scores_l1"
   ]
  },
  {
   "cell_type": "code",
   "execution_count": 64,
   "metadata": {},
   "outputs": [
    {
     "name": "stdout",
     "output_type": "stream",
     "text": [
      "age\n",
      "0.0031622776601683824\n",
      "d1v1\n",
      "0.015848931924611172\n",
      "d1v2\n",
      "0.03162277660168389\n",
      "d2v1\n",
      "0.012589254117941701\n",
      "d2v2\n",
      "0.025118864315095874\n"
     ]
    }
   ],
   "source": [
    "print('age')\n",
    "print(lassos[0].alpha_)\n",
    "print('d1v1')\n",
    "print(lassos[1].alpha_)\n",
    "print('d1v2')\n",
    "print(lassos[2].alpha_)\n",
    "print('d2v1')\n",
    "print(lassos[3].alpha_)\n",
    "print('d2v2')\n",
    "print(lassos[4].alpha_)"
   ]
  },
  {
   "cell_type": "code",
   "execution_count": 59,
   "metadata": {},
   "outputs": [
    {
     "name": "stdout",
     "output_type": "stream",
     "text": [
      "RidgeCV(alphas=array([1.00000000e-03, 1.25892541e-03, 1.58489319e-03, 1.99526231e-03,\n",
      "       2.51188643e-03, 3.16227766e-03, 3.98107171e-03, 5.01187234e-03,\n",
      "       6.30957344e-03, 7.94328235e-03, 1.00000000e-02, 1.25892541e-02,\n",
      "       1.58489319e-02, 1.99526231e-02, 2.51188643e-02, 3.16227766e-02,\n",
      "       3.98107171e-02, 5.01187234e-02, 6.30957344e-02, 7.94328235e-02,\n",
      "       1.00000000e-01, 1.25892541e-0...-01, 1.99526231e-01,\n",
      "       2.51188643e-01, 3.16227766e-01, 3.98107171e-01, 5.01187234e-01,\n",
      "       6.30957344e-01, 7.94328235e-01, 1.00000000e+00, 1.25892541e+00,\n",
      "       1.58489319e+00, 1.99526231e+00, 2.51188643e+00, 3.16227766e+00,\n",
      "       3.98107171e+00, 5.01187234e+00, 6.30957344e+00, 7.94328235e+00]),\n",
      "        cv=5, fit_intercept=True, gcv_mode=None, normalize=False, scoring=None,\n",
      "        store_cv_values=False)\n",
      "α: 0.10000000000000041\n"
     ]
    },
    {
     "data": {
      "text/plain": [
       "array([0.14296141, 0.14535155, 0.14057875, 0.18248216, 0.17639298])"
      ]
     },
     "execution_count": 59,
     "metadata": {},
     "output_type": "execute_result"
    }
   ],
   "source": [
    "from sklearn.linear_model import RidgeCV\n",
    "\n",
    "# Ridge\n",
    "targets = df_7.columns[1:6]\n",
    "ridges = []\n",
    "preds = np.empty_like(y_val)\n",
    "\n",
    "for i, target in enumerate(targets):\n",
    "    y_tr = y_train_std[:, i]\n",
    "    \n",
    "    model = RidgeCV(alphas=10 ** np.arange(-3, 1, 0.1), cv=5)\n",
    "    model.fit(X_train_tsf, y_tr)\n",
    "    \n",
    "    ridges.append(model)\n",
    "    preds[:, i] = model.predict(X_val_tsf)\n",
    "\n",
    "preds = sc_y.inverse_transform(preds)\n",
    "scores_l2 = np.sum(np.abs(y_val - preds), axis=0) / np.sum(preds, axis=0)\n",
    "print(model)\n",
    "print('α:', model.alpha_)\n",
    "scores_l2"
   ]
  },
  {
   "cell_type": "code",
   "execution_count": 65,
   "metadata": {},
   "outputs": [
    {
     "name": "stdout",
     "output_type": "stream",
     "text": [
      "age\n",
      "0.01995262314968885\n",
      "d1v1\n",
      "0.1995262314968889\n",
      "d1v2\n",
      "0.31622776601683955\n",
      "d2v1\n",
      "0.07943282347242846\n",
      "d2v2\n",
      "0.10000000000000041\n"
     ]
    }
   ],
   "source": [
    "print('age')\n",
    "print(ridges[0].alpha_)\n",
    "print('d1v1')\n",
    "print(ridges[1].alpha_)\n",
    "print('d1v2')\n",
    "print(ridges[2].alpha_)\n",
    "print('d2v1')\n",
    "print(ridges[3].alpha_)\n",
    "print('d2v2')\n",
    "print(ridges[4].alpha_)"
   ]
  },
  {
   "cell_type": "code",
   "execution_count": 60,
   "metadata": {},
   "outputs": [
    {
     "name": "stdout",
     "output_type": "stream",
     "text": [
      "ElasticNetCV(alphas=None, copy_X=True, cv=5, eps=0.001, fit_intercept=True,\n",
      "             l1_ratio=[0.1, 0.3, 0.5, 0.7, 0.9], max_iter=1000, n_alphas=100,\n",
      "             n_jobs=None, normalize=False, positive=False, precompute='auto',\n",
      "             random_state=None, selection='cyclic', tol=0.0001, verbose=0)\n",
      "l1/l2: 0.9\n"
     ]
    },
    {
     "data": {
      "text/plain": [
       "array([0.1532256 , 0.14580117, 0.13930923, 0.18191698, 0.17677925])"
      ]
     },
     "execution_count": 60,
     "metadata": {},
     "output_type": "execute_result"
    }
   ],
   "source": [
    "from sklearn.linear_model import ElasticNetCV\n",
    "\n",
    "# ElasticNet\n",
    "targets = df_7.columns[1:6]\n",
    "e_nets = []\n",
    "preds = np.empty_like(y_val)\n",
    "\n",
    "for i, target in enumerate(targets):\n",
    "    y_tr = y_train_std[:, i]\n",
    "    \n",
    "    model = ElasticNetCV(l1_ratio=[0.1, 0.3, 0.5, 0.7, 0.9], cv=5)\n",
    "    model.fit(X_train_tsf, y_tr)\n",
    "    \n",
    "    e_nets.append(model)\n",
    "    preds[:, i] = model.predict(X_val_tsf)\n",
    "\n",
    "preds = sc_y.inverse_transform(preds)\n",
    "scores_l12 = np.sum(np.abs(y_val - preds), axis=0) / np.sum(preds, axis=0)\n",
    "print(model)\n",
    "print('l1/l2:', model.l1_ratio_)\n",
    "scores_l12"
   ]
  },
  {
   "cell_type": "code",
   "execution_count": 67,
   "metadata": {},
   "outputs": [
    {
     "name": "stdout",
     "output_type": "stream",
     "text": [
      "age\n",
      "0.9\n",
      "d1v1\n",
      "0.9\n",
      "d1v2\n",
      "0.3\n",
      "d2v1\n",
      "0.1\n",
      "d2v2\n",
      "0.9\n"
     ]
    }
   ],
   "source": [
    "print('age')\n",
    "print(e_nets[0].l1_ratio_)\n",
    "print('d1v1')\n",
    "print(e_nets[1].l1_ratio_)\n",
    "print('d1v2')\n",
    "print(e_nets[2].l1_ratio_)\n",
    "print('d2v1')\n",
    "print(e_nets[3].l1_ratio_)\n",
    "print('d2v2')\n",
    "print(e_nets[4].l1_ratio_)"
   ]
  },
  {
   "cell_type": "markdown",
   "metadata": {},
   "source": [
    "次に、上記で求めたハイパーパラメーター設定下でクロスバリデーション学習を行う。  \n",
    "K-foldライブラリを使用し、3通りのtrain/validationの分割で実施する。\n",
    "\n",
    "### 1.SVR"
   ]
  },
  {
   "cell_type": "code",
   "execution_count": 7,
   "metadata": {},
   "outputs": [
    {
     "data": {
      "text/plain": [
       "array([0.09102709, 0.13642401, 0.13121689, 0.17008383, 0.16343184])"
      ]
     },
     "execution_count": 7,
     "metadata": {},
     "output_type": "execute_result"
    }
   ],
   "source": [
    "from sklearn.model_selection import KFold\n",
    "\n",
    "# SVR\n",
    "targets = df_7.columns[1:6]\n",
    "svms_7cv = []\n",
    "preds = np.empty_like(y)\n",
    "\n",
    "model_1 = SVR(C=1)\n",
    "model_2 = SVR(C=0.1)\n",
    "model_3 = SVR(C=0.1)\n",
    "model_4 = SVR(C=0.1)\n",
    "model_5 = SVR(C=0.1)\n",
    "models = [model_1, model_2, model_3, model_4, model_5]\n",
    "\n",
    "for i, target in enumerate(targets):\n",
    "    y_cv = y_std[:, i]\n",
    "    model = models[i]\n",
    "    kfold = KFold(n_splits=3).split(X_std, y_cv)\n",
    "    \n",
    "    for train_index, test_index in kfold:\n",
    "        X_train, X_val = X_std[train_index], X_std[test_index]\n",
    "        y_train, y_val = y_cv[train_index], y_cv[test_index]\n",
    "        model.fit(X_train, y_train)\n",
    "    \n",
    "    svms_7cv.append(model)\n",
    "    preds[:, i] = model.predict(X_std)\n",
    "\n",
    "preds = sc_y.inverse_transform(preds)\n",
    "scores = np.sum(np.abs(y - preds), axis=0) / np.sum(preds, axis=0)\n",
    "scores"
   ]
  },
  {
   "cell_type": "markdown",
   "metadata": {},
   "source": [
    "### 2. LR（Lasso, Ridge, ElasticNet）"
   ]
  },
  {
   "cell_type": "code",
   "execution_count": 8,
   "metadata": {},
   "outputs": [
    {
     "data": {
      "text/plain": [
       "array([0.13219879, 0.14051894, 0.14044081, 0.17523369, 0.17329544])"
      ]
     },
     "execution_count": 8,
     "metadata": {},
     "output_type": "execute_result"
    }
   ],
   "source": [
    "from sklearn.linear_model import Lasso\n",
    "\n",
    "# Lasso\n",
    "targets = df_7.columns[1:6]\n",
    "lassos_7cv = []\n",
    "preds = np.empty_like(y)\n",
    "\n",
    "model_1 = Lasso(alpha=0.0031622776601683824)\n",
    "model_2 = Lasso(alpha=0.015848931924611172)\n",
    "model_3 = Lasso(alpha=0.03162277660168389)\n",
    "model_4 = Lasso(alpha=0.012589254117941701)\n",
    "model_5 = Lasso(alpha=0.025118864315095874)\n",
    "models = [model_1, model_2, model_3, model_4, model_5]\n",
    "\n",
    "for i, target in enumerate(targets):\n",
    "    y_cv = y_std[:, i]\n",
    "    model = models[i]\n",
    "    kfold = KFold(n_splits=3).split(X_std, y_cv)\n",
    "    \n",
    "    for train_index, test_index in kfold:\n",
    "        X_train, X_val = X_std[train_index], X_std[test_index]\n",
    "        y_train, y_val = y_cv[train_index], y_cv[test_index]\n",
    "        model.fit(X_train, y_train)\n",
    "    \n",
    "    lassos_7cv.append(model)\n",
    "    preds[:, i] = model.predict(X_std)\n",
    "\n",
    "preds = sc_y.inverse_transform(preds)\n",
    "scores = np.sum(np.abs(y - preds), axis=0) / np.sum(preds, axis=0)\n",
    "scores"
   ]
  },
  {
   "cell_type": "code",
   "execution_count": 10,
   "metadata": {},
   "outputs": [
    {
     "data": {
      "text/plain": [
       "array([0.13087478, 0.13639687, 0.1365768 , 0.17050615, 0.16568905])"
      ]
     },
     "execution_count": 10,
     "metadata": {},
     "output_type": "execute_result"
    }
   ],
   "source": [
    "from sklearn.linear_model import Ridge\n",
    "\n",
    "# Ridge\n",
    "targets = df_7.columns[1:6]\n",
    "ridges_7cv = []\n",
    "preds = np.empty_like(y)\n",
    "\n",
    "model_1 = Ridge(alpha=0.01995262314968885)\n",
    "model_2 = Ridge(alpha=0.1995262314968889)\n",
    "model_3 = Ridge(alpha=0.31622776601683955)\n",
    "model_4 = Ridge(alpha=0.07943282347242846)\n",
    "model_5 = Ridge(alpha=0.10000000000000041)\n",
    "models = [model_1, model_2, model_3, model_4, model_5]\n",
    "\n",
    "for i, target in enumerate(targets):\n",
    "    y_cv = y_std[:, i]\n",
    "    model = models[i]\n",
    "    kfold = KFold(n_splits=3).split(X_std, y_cv)\n",
    "    \n",
    "    for train_index, test_index in kfold:\n",
    "        X_train, X_val = X_std[train_index], X_std[test_index]\n",
    "        y_train, y_val = y_cv[train_index], y_cv[test_index]\n",
    "        model.fit(X_train, y_train)\n",
    "    \n",
    "    ridges_7cv.append(model)\n",
    "    preds[:, i] = model.predict(X_std)\n",
    "\n",
    "preds = sc_y.inverse_transform(preds)\n",
    "scores = np.sum(np.abs(y - preds), axis=0) / np.sum(preds, axis=0)\n",
    "scores"
   ]
  },
  {
   "cell_type": "code",
   "execution_count": 72,
   "metadata": {},
   "outputs": [
    {
     "name": "stdout",
     "output_type": "stream",
     "text": [
      "ElasticNetCV(alphas=None, copy_X=True, cv=5, eps=0.001, fit_intercept=True,\n",
      "             l1_ratio=[0.1, 0.3, 0.5, 0.7, 0.9], max_iter=1000, n_alphas=100,\n",
      "             n_jobs=None, normalize=False, positive=False, precompute='auto',\n",
      "             random_state=None, selection='cyclic', tol=0.0001, verbose=0)\n",
      "l1/l2: 0.1\n"
     ]
    },
    {
     "data": {
      "text/plain": [
       "array([0.15503568, 0.14625516, 0.13932186, 0.18215367, 0.17656677])"
      ]
     },
     "execution_count": 72,
     "metadata": {},
     "output_type": "execute_result"
    }
   ],
   "source": [
    "# ElasticNet\n",
    "targets = df_1.columns[1:6]\n",
    "e_nets_1 = []\n",
    "preds = np.empty_like(y_val)\n",
    "\n",
    "for i, target in enumerate(targets):\n",
    "    y_tr = y_train_std[:, i]\n",
    "    \n",
    "    model = ElasticNetCV(l1_ratio=[0.1, 0.3, 0.5, 0.7, 0.9], cv=5)\n",
    "    model.fit(X_train_std, y_tr)\n",
    "    \n",
    "    e_nets_1.append(model)\n",
    "    preds[:, i] = model.predict(X_val_std)\n",
    "\n",
    "preds = sc_y.inverse_transform(preds)\n",
    "scores_l12_1 = np.sum(np.abs(y_val - preds), axis=0) / np.sum(preds, axis=0)\n",
    "print(model)\n",
    "print('l1/l2:', model.l1_ratio_)\n",
    "scores_l12_1"
   ]
  },
  {
   "cell_type": "markdown",
   "metadata": {},
   "source": [
    "＜スコア一覧＞    \n",
    "(data):      (age),    (d1_v1),    (d1_v2),    (d2_v1),    (d2_v2)   \n",
    "svm   : 0.15555420, 0.14754962, 0.14174629, 0.18465802, 0.17839163  \n",
    "lasso : 0.15323069, 0.14579978, 0.13930254, 0.18202776, 0.17675102  \n",
    "ridge : 0.14296141, 0.14535155, 0.14057875, 0.18248216, 0.17639298  \n",
    "e_net : 0.15322560, 0.14580117, 0.13930923, 0.18191698, 0.17677925  "
   ]
  },
  {
   "cell_type": "markdown",
   "metadata": {},
   "source": [
    "SVR, LR（Lasso, Ridge）の保存  \n",
    "ElasticNetはLassoとRidgeのブレンドであり、スコアも良いくないため使用しない"
   ]
  },
  {
   "cell_type": "code",
   "execution_count": 11,
   "metadata": {},
   "outputs": [],
   "source": [
    "import pickle\n",
    "\n",
    "# モデルを保存する\n",
    "filename = 'svms_7cv.sav'\n",
    "pickle.dump(svms_7cv, open(filename, 'wb'))\n",
    "\n",
    "filename = 'lassos_7cv.sav'\n",
    "pickle.dump(lassos_7cv, open(filename, 'wb'))\n",
    "\n",
    "filename = 'ridges_7cv.sav'\n",
    "pickle.dump(ridges_7cv, open(filename, 'wb'))"
   ]
  },
  {
   "cell_type": "markdown",
   "metadata": {},
   "source": [
    "### 3. RandomForest\n",
    "更にアンサンブル学習のバリエーションを増すため、Random Forestモデルも作成する。"
   ]
  },
  {
   "cell_type": "code",
   "execution_count": 8,
   "metadata": {},
   "outputs": [
    {
     "name": "stdout",
     "output_type": "stream",
     "text": [
      "[0.16986683 0.13985699 0.13905636 0.18202676 0.17174111]\n"
     ]
    }
   ],
   "source": [
    "from sklearn.ensemble import RandomForestRegressor\n",
    "\n",
    "# ランダムフォレスト（深さは3に剪定）\n",
    "forest = RandomForestRegressor(max_depth=3)\n",
    "forests_7 = []\n",
    "targets = df_7.columns[1:6]\n",
    "preds = np.empty_like(y_val)\n",
    "\n",
    "# 学習\n",
    "for i, target in enumerate(targets):\n",
    "    y_tr = y_train_std[:, i]\n",
    "    forest.fit(X_train_std, y_tr)\n",
    "    forests_7.append(forest)\n",
    "    preds[:, i] = forest.predict(X_val_std)\n",
    "\n",
    "＃\n",
    "preds = sc_y.inverse_transform(preds)\n",
    "score = np.sum(np.abs(y_val - preds), axis=0) / np.sum(preds, axis=0)\n",
    "print(score)\n",
    "\n",
    "# モデルの保存\n",
    "import pickle\n",
    "filename = 'forests_7.sav'\n",
    "pickle.dump(forests_7, open(filename, 'wb'))"
   ]
  }
 ],
 "metadata": {
  "kernelspec": {
   "display_name": "Python 3",
   "language": "python",
   "name": "python3"
  },
  "language_info": {
   "codemirror_mode": {
    "name": "ipython",
    "version": 3
   },
   "file_extension": ".py",
   "mimetype": "text/x-python",
   "name": "python",
   "nbconvert_exporter": "python",
   "pygments_lexer": "ipython3",
   "version": "3.7.7"
  }
 },
 "nbformat": 4,
 "nbformat_minor": 4
}
