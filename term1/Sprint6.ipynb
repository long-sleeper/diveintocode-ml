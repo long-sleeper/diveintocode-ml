{
 "cells": [
  {
   "cell_type": "markdown",
   "metadata": {},
   "source": [
    "# Sprint　機械学習スクラッチ　決定木  \n",
    "＜目的＞  \n",
    "- スクラッチを通して決定木を理解する\n",
    "- 複雑なアルゴリズムの実装に慣れる\n",
    "\n",
    "分類のための決定木のクラスをスクラッチで作成していきます。NumPyなど最低限のライブラリのみを使いアルゴリズムを実装していきます。  \n",
    "決定木の学習には何回まで条件分岐を繰り返すかを表す （最大の）深さ というハイパーパラメータが登場しますが、深さ1の実装を必須課題とします。深さが2以上のものはアドバンス課題とします。  \n",
    "学習の仕方には様々な方法がありますが、ここではscikit-learnでも使用されている CART法 をベースとした実装を行います。この方法では学習の複雑さを減らすために、 分岐は2つに分かれるのみ になります。  \n",
    "以下に雛形を用意してあります。このScratchDecesionTreeClassifierDepth1クラスにコードを書き加えていってください。"
   ]
  },
  {
   "cell_type": "markdown",
   "metadata": {},
   "source": [
    "### 【問題1】不純度を求める関数  \n",
    "ノード の ジニ不純度 を計算する関数を作成してください。ノード $t$ に対するジニ不純度 $I(t)$ は以下の数式で求まります。クラスが混じり合っているほどジニ不純度は高くなります。\n",
    "\n",
    "$$\n",
    "I(t)=1-\\sum_{i=1}^{K}P^2(C_i|t)=1-\\sum_{i=1}^{K}(\\frac{N_{t,i}}{N_{t,al}})^2=\\sum_{i=1}^{K}P(C_i|t)(1-P(C_i|t))\n",
    "$$\n",
    "\n",
    "$t$ : ノードのインデックス  \n",
    "$i$ : クラスのインデックス  \n",
    "$K$ : クラスの数  \n",
    "$C_i$ : i番目のクラス  \n",
    "$P(C_i|t)$ :　t番目のノードにおける$C_i$の割合  \n",
    "$N_{t,i}$ : t番目のノードのi番目のクラスに属するサンプル数  \n",
    "$N_{t,all}$ : t番目のノードのサンプルの総数  \n",
    "\n",
    "まずは簡単な例を作り、手計算と関数の結果を比較してください。\n",
    "\n",
    "《例》\n",
    "- クラス1:サンプル数15, クラス2:サンプル数15 → ジニ不純度0.500\n",
    "- クラス1:サンプル数15, クラス2:サンプル数15, クラス3:サンプル数15 → ジニ不純度0.667\n",
    "- クラス1:サンプル数18, クラス2:サンプル数12 → ジニ不純度0.480\n",
    "- クラス1:サンプル数30, クラス2:サンプル数0 → ジニ不純度0.000"
   ]
  },
  {
   "cell_type": "code",
   "execution_count": 1,
   "metadata": {},
   "outputs": [],
   "source": [
    "import numpy as np\n",
    "import pandas as pd\n",
    "from sklearn.model_selection import train_test_split\n",
    "from sklearn.tree import DecisionTreeClassifier\n",
    "import matplotlib.pyplot as plt\n",
    "from matplotlib.colors import ListedColormap\n",
    "import matplotlib.patches as mpatches\n",
    "%matplotlib inline\n",
    "from sklearn import metrics "
   ]
  },
  {
   "cell_type": "code",
   "execution_count": 2,
   "metadata": {},
   "outputs": [],
   "source": [
    "def _gini(y):\n",
    "    element, count = np.unique(y, return_counts=True)\n",
    "    g = 0\n",
    "    for i in range(len(element)):\n",
    "        g += (count[i]/len(y))**2\n",
    "    return 1 - g"
   ]
  },
  {
   "cell_type": "code",
   "execution_count": 3,
   "metadata": {},
   "outputs": [
    {
     "name": "stdout",
     "output_type": "stream",
     "text": [
      "0.5\n",
      "0.6666666666666667\n",
      "0.48\n",
      "0.0\n"
     ]
    }
   ],
   "source": [
    "# 例の確認\n",
    "y_1 = np.array([0,0,0,0,0,0,0,0,0,0,0,0,0,0,0,\n",
    "                1,1,1,1,1,1,1,1,1,1,1,1,1,1,1])\n",
    "print(_gini(y_1))\n",
    "\n",
    "y_2 = np.array([0,0,0,0,0,0,0,0,0,0,0,0,0,0,0,\n",
    "                1,1,1,1,1,1,1,1,1,1,1,1,1,1,1,\n",
    "                2,2,2,2,2,2,2,2,2,2,2,2,2,2,2])\n",
    "print(_gini(y_2))\n",
    "\n",
    "y_3 = np.array([0,0,0,0,0,0,0,0,0,0,0,0,0,0,0,0,0,0,\n",
    "                1,1,1,1,1,1,1,1,1,1,1,1])\n",
    "print(_gini(y_3))\n",
    "\n",
    "y_4 = np.array([0,0,0,0,0,0,0,0,0,0,0,0,0,0,0,\n",
    "                0,0,0,0,0,0,0,0,0,0,0,0,0,0,0])\n",
    "print(_gini(y_4))"
   ]
  },
  {
   "cell_type": "markdown",
   "metadata": {},
   "source": [
    "### 【問題2】情報利得を求める関数  \n",
    "次に、ノード間の 情報利得 を計算する関数を作成してください。問題1で作成したジニ不純度 $I(t)$ を計算する関数を呼び出して使います。情報利得$IG$は以下の数式で求まります。うまく分けられている時ほど情報利得は大きくなります。  \n",
    "ここで分岐は2つのみであるため、分岐先を「左側のノード・右側のノード」と呼びます。\n",
    "\n",
    "$$\n",
    "IG(p)=I(p)-\\frac{N_{left,all}}{N_{p,all}}I(left)-\\frac{N_{right,all}}{N_{p,all}}I(right)\n",
    "$$\n",
    "\n",
    "$p$ : 親ノードを示すインデックス  \n",
    "$left$ : 左側のノードを示すインデックス  \n",
    "$right$ : 右側のノードを示すインデックス  \n",
    "\n",
    "まずは簡単な例を作り、手計算と関数の結果を比較してください。\n",
    "\n",
    "《例》  \n",
    "左ノードクラス1:サンプル数10, 左ノードクラス2:サンプル数30, 右ノードクラス1:サンプル数20, 右ノードクラス2:サンプル数5 → 情報利得0.143"
   ]
  },
  {
   "cell_type": "code",
   "execution_count": 4,
   "metadata": {},
   "outputs": [],
   "source": [
    "def _info_gain(y, y_1, y_2):\n",
    "    gini_p = _gini(y)\n",
    "    gini_1 = _gini(y_1)*len(y_1)/len(y)\n",
    "    gini_2 = _gini(y_2)*len(y_2)/len(y)\n",
    "    return gini_p - gini_1 - gini_2"
   ]
  },
  {
   "cell_type": "code",
   "execution_count": 5,
   "metadata": {},
   "outputs": [
    {
     "data": {
      "text/plain": [
       "0.14319526627218937"
      ]
     },
     "execution_count": 5,
     "metadata": {},
     "output_type": "execute_result"
    }
   ],
   "source": [
    "# 例の確認\n",
    "y_1 = np.array([0,0,0,0,0,0,0,0,0,0,\n",
    "                1,1,1,1,1,1,1,1,1,1,\n",
    "                1,1,1,1,1,1,1,1,1,1,\n",
    "                1,1,1,1,1,1,1,1,1,1])\n",
    "y_2 = np.array([0,0,0,0,0,0,0,0,0,0,\n",
    "                0,0,0,0,0,0,0,0,0,0,\n",
    "                1,1,1,1,1])\n",
    "y_p = np.array([0,0,0,0,0,0,0,0,0,0,\n",
    "                0,0,0,0,0,0,0,0,0,0,\n",
    "                0,0,0,0,0,0,0,0,0,0,\n",
    "                1,1,1,1,1,1,1,1,1,1,\n",
    "                1,1,1,1,1,1,1,1,1,1,\n",
    "                1,1,1,1,1,1,1,1,1,1,\n",
    "                1,1,1,1,1])\n",
    "_info_gain(y_p, y_1, y_2)"
   ]
  },
  {
   "cell_type": "markdown",
   "metadata": {},
   "source": [
    "### 【問題3】学習    \n",
    "空間の分割を行い、決定木のグラフを生成するコードを作成してください。今は深さ1の決定木なので、分割を1回だけ行います。ここでグラフを生成するとは、1回の分割の際の条件としてどの特徴量がいくつ以上の時とするかを求めるということです。  \n",
    "訓練データに対して全ての組み合わせの分割を行い、その中でノード間の情報利得が最大となる分割をそのノードの分割基準として記録します。  \n",
    "クラスが混ざらない不純度が0のノード、または指定された深さのノードが **葉ノード** となります。葉ノードにはクラスを記録しておき、これを推定時に分類するクラスとします。クラスが混ざらない場合はそのままのクラスを記録し、混ざっている場合は多数決により決めます。\n",
    "\n",
    "**《組み合わせの取り方》**  \n",
    "全ての組み合わせの取り方は、最も単純には各特徴量の値自体をしきい値にして分割を行う方法があります。片側の端は今回のスクラッチはこの方法で行なってください。  \n",
    "他には中間の値をしきい値にする方法もあり、scikit-learnではこの方法が用いられています。\n",
    "\n",
    "**《補足》**  \n",
    "問題2の情報利得を計算する関数はこの問題3で利用する上では、親ノードの不純度 $I(p)$ は固定されるため、左右のノードの不純度の合計を計算するだけでも同じ結果が得られることになります。しかし、ここでは親ノードを考慮した情報利得を計算する実装を行なってください。"
   ]
  },
  {
   "cell_type": "markdown",
   "metadata": {},
   "source": [
    "### 【問題4】推定  \n",
    "推定する仕組みを実装してください。ScratchDecesionTreeClassifierDepth1クラスの雛形に含まれるpredictメソッドに書き加えてください。  \n",
    "入力されたデータの値を学習した条件で判定していき、どの葉ノードに到達するかを見ます。葉ノードにはクラスが記録されているので、これが推定値となります。"
   ]
  },
  {
   "cell_type": "code",
   "execution_count": 6,
   "metadata": {},
   "outputs": [],
   "source": [
    "class ScratchDecesionTreeClassifierDepth1():\n",
    "    \"\"\"\n",
    "    深さ1の決定木分類器のスクラッチ実装\n",
    "\n",
    "    Parameters\n",
    "    ----------\n",
    "    verbose : bool\n",
    "      学習過程を出力する場合はTrue\n",
    "    min_samples_split=2\n",
    "      分割されるサンプル数の最小値\n",
    "      \n",
    "    Attributes\n",
    "    ----------\n",
    "    self.feature : int\n",
    "      決定木を適用する特徴量のインデックス\n",
    "    self.threshold : float\n",
    "      上記の特徴量の閾値\n",
    "    self.label_1 : float\n",
    "    　決定木による分割のラベル\n",
    "    self.label_2 : float\n",
    "    　決定木による分割のラベル\n",
    "    \"\"\"\n",
    "    \n",
    "    def __init__(self, min_samples_split=2, verbose=False):\n",
    "        # ハイパーパラメータを属性として記録\n",
    "        self.verbose = verbose\n",
    "        self.min_samples_split = min_samples_split\n",
    "        \n",
    "    def _gini(self, y):\n",
    "        element, count = np.unique(y, return_counts=True)\n",
    "        g = 0\n",
    "        for i in range(len(element)):\n",
    "            g += (count[i]/len(y))**2\n",
    "        return 1 - g\n",
    "    \n",
    "    def _info_gain(self, y, y_1, y_2):\n",
    "        gini_p = self._gini(y)\n",
    "        gini_1 = self._gini(y_1)*len(y_1)/len(y)\n",
    "        gini_2 = self._gini(y_2)*len(y_2)/len(y)\n",
    "        return gini_p - gini_1 - gini_2\n",
    "    \n",
    "    def _make_tree(self, X, y):\n",
    "        self.IGs = [0]\n",
    "        IG = 0\n",
    "        feature = None\n",
    "        threshold = None\n",
    "        # 特徴量のループ\n",
    "        for i in range(X.shape[1]):\n",
    "            # 値の重複を避けるためnp.uniqueに通す\n",
    "            values = np.unique(X[:, i])\n",
    "            # サンプルのループ\n",
    "            for j in range(len(values)):\n",
    "                indices_1 = list(np.where(X[:, i] >= values[j])[0])\n",
    "                indices_2 = list(np.where(X[:, i] < values[j])[0])\n",
    "                # 片方のノードは、最低2つのサンプルを保持する\n",
    "                # sklearnのdefault設定に合わせて\n",
    "                if len(indices_1) <= self.min_samples_split - 1 or len(indices_2) <= self.min_samples_split - 1:\n",
    "                    pass\n",
    "                else:\n",
    "                    IG = self._info_gain(y, y[indices_1], y[indices_2])\n",
    "                    # IGが最大なら、特徴量と閾値を更新\n",
    "                    if IG >= max(self.IGs):\n",
    "                        feature, threshold = i, values[j]\n",
    "                # IGの推移を格納\n",
    "                self.IGs.append(IG)\n",
    "        return feature, threshold\n",
    "    \n",
    "    def fit(self, X, y):\n",
    "        \"\"\"\n",
    "        決定木分類器を学習する\n",
    "        Parameters\n",
    "        ----------\n",
    "        X : 次の形のndarray, shape (n_samples, n_features)\n",
    "            訓練データの特徴量\n",
    "        y : 次の形のndarray, shape (n_samples, )\n",
    "            訓練データの正解値\n",
    "        \"\"\"\n",
    "        self.feature, self.threshold = self._make_tree(X, y)\n",
    "        # 分割されたラベルの多数決でラベルを出力\n",
    "        y_1 = y[X[:, self.feature] >= self.threshold].astype(int)\n",
    "        y_2 = y[X[:, self.feature] < self.threshold].astype(int)\n",
    "        self.label_1 = np.argmax(np.bincount(y_1))\n",
    "        self.label_2 = np.argmax(np.bincount(y_2))\n",
    "        if self.verbose:\n",
    "            #verboseをTrueにした際は学習過程を出力\n",
    "            print('infomation gain : {}'.format(self.IGs))\n",
    "\n",
    "    def predict(self, X):\n",
    "        \"\"\"\n",
    "        決定木分類器を使いラベルを推定する\n",
    "        \"\"\"\n",
    "        return np.where(X[:, self.feature] >= self.threshold, self.label_1, self.label_2)"
   ]
  },
  {
   "cell_type": "markdown",
   "metadata": {},
   "source": [
    "### 【問題5】学習と推定  \n",
    "機械学習スクラッチ入門のSprintで用意したシンプルデータセット2の2値分類に対してスクラッチ実装の学習と推定を行なってください。  \n",
    "scikit-learnによる実装と比べ、正しく動いているかを確認してください。  \n",
    "AccuracyやPrecision、Recallなどの指標値はscikit-learnを使用してください。"
   ]
  },
  {
   "cell_type": "markdown",
   "metadata": {},
   "source": [
    "### 【問題6】決定領域の可視化\n",
    "決定領域を可視化してください。"
   ]
  },
  {
   "cell_type": "code",
   "execution_count": 7,
   "metadata": {},
   "outputs": [
    {
     "name": "stdout",
     "output_type": "stream",
     "text": [
      "< Sample 2 >\n"
     ]
    },
    {
     "data": {
      "text/html": [
       "<div>\n",
       "<style scoped>\n",
       "    .dataframe tbody tr th:only-of-type {\n",
       "        vertical-align: middle;\n",
       "    }\n",
       "\n",
       "    .dataframe tbody tr th {\n",
       "        vertical-align: top;\n",
       "    }\n",
       "\n",
       "    .dataframe thead th {\n",
       "        text-align: right;\n",
       "    }\n",
       "</style>\n",
       "<table border=\"1\" class=\"dataframe\">\n",
       "  <thead>\n",
       "    <tr style=\"text-align: right;\">\n",
       "      <th></th>\n",
       "      <th>f0</th>\n",
       "      <th>f1</th>\n",
       "      <th>class</th>\n",
       "    </tr>\n",
       "  </thead>\n",
       "  <tbody>\n",
       "    <tr>\n",
       "      <th>0</th>\n",
       "      <td>-0.44699</td>\n",
       "      <td>-2.8073</td>\n",
       "      <td>0.0</td>\n",
       "    </tr>\n",
       "    <tr>\n",
       "      <th>1</th>\n",
       "      <td>-1.46210</td>\n",
       "      <td>-2.4586</td>\n",
       "      <td>0.0</td>\n",
       "    </tr>\n",
       "    <tr>\n",
       "      <th>2</th>\n",
       "      <td>0.10645</td>\n",
       "      <td>1.9242</td>\n",
       "      <td>0.0</td>\n",
       "    </tr>\n",
       "    <tr>\n",
       "      <th>3</th>\n",
       "      <td>-3.59440</td>\n",
       "      <td>-4.0112</td>\n",
       "      <td>0.0</td>\n",
       "    </tr>\n",
       "    <tr>\n",
       "      <th>4</th>\n",
       "      <td>-0.98880</td>\n",
       "      <td>4.5718</td>\n",
       "      <td>0.0</td>\n",
       "    </tr>\n",
       "  </tbody>\n",
       "</table>\n",
       "</div>"
      ],
      "text/plain": [
       "        f0      f1  class\n",
       "0 -0.44699 -2.8073    0.0\n",
       "1 -1.46210 -2.4586    0.0\n",
       "2  0.10645  1.9242    0.0\n",
       "3 -3.59440 -4.0112    0.0\n",
       "4 -0.98880  4.5718    0.0"
      ]
     },
     "metadata": {},
     "output_type": "display_data"
    },
    {
     "data": {
      "text/plain": [
       "(40, 3)"
      ]
     },
     "metadata": {},
     "output_type": "display_data"
    },
    {
     "data": {
      "text/html": [
       "<div>\n",
       "<style scoped>\n",
       "    .dataframe tbody tr th:only-of-type {\n",
       "        vertical-align: middle;\n",
       "    }\n",
       "\n",
       "    .dataframe tbody tr th {\n",
       "        vertical-align: top;\n",
       "    }\n",
       "\n",
       "    .dataframe thead th {\n",
       "        text-align: right;\n",
       "    }\n",
       "</style>\n",
       "<table border=\"1\" class=\"dataframe\">\n",
       "  <thead>\n",
       "    <tr style=\"text-align: right;\">\n",
       "      <th></th>\n",
       "      <th>f0</th>\n",
       "      <th>f1</th>\n",
       "      <th>class</th>\n",
       "    </tr>\n",
       "  </thead>\n",
       "  <tbody>\n",
       "    <tr>\n",
       "      <th>count</th>\n",
       "      <td>40.000000</td>\n",
       "      <td>40.000000</td>\n",
       "      <td>40.00000</td>\n",
       "    </tr>\n",
       "    <tr>\n",
       "      <th>mean</th>\n",
       "      <td>-0.957180</td>\n",
       "      <td>2.175311</td>\n",
       "      <td>0.50000</td>\n",
       "    </tr>\n",
       "    <tr>\n",
       "      <th>std</th>\n",
       "      <td>1.806803</td>\n",
       "      <td>5.020648</td>\n",
       "      <td>0.50637</td>\n",
       "    </tr>\n",
       "    <tr>\n",
       "      <th>min</th>\n",
       "      <td>-6.679700</td>\n",
       "      <td>-4.353000</td>\n",
       "      <td>0.00000</td>\n",
       "    </tr>\n",
       "    <tr>\n",
       "      <th>25%</th>\n",
       "      <td>-2.263750</td>\n",
       "      <td>-1.919800</td>\n",
       "      <td>0.00000</td>\n",
       "    </tr>\n",
       "    <tr>\n",
       "      <th>50%</th>\n",
       "      <td>-0.607335</td>\n",
       "      <td>0.702745</td>\n",
       "      <td>0.50000</td>\n",
       "    </tr>\n",
       "    <tr>\n",
       "      <th>75%</th>\n",
       "      <td>0.550628</td>\n",
       "      <td>5.381325</td>\n",
       "      <td>1.00000</td>\n",
       "    </tr>\n",
       "    <tr>\n",
       "      <th>max</th>\n",
       "      <td>1.477100</td>\n",
       "      <td>15.682400</td>\n",
       "      <td>1.00000</td>\n",
       "    </tr>\n",
       "  </tbody>\n",
       "</table>\n",
       "</div>"
      ],
      "text/plain": [
       "              f0         f1     class\n",
       "count  40.000000  40.000000  40.00000\n",
       "mean   -0.957180   2.175311   0.50000\n",
       "std     1.806803   5.020648   0.50637\n",
       "min    -6.679700  -4.353000   0.00000\n",
       "25%    -2.263750  -1.919800   0.00000\n",
       "50%    -0.607335   0.702745   0.50000\n",
       "75%     0.550628   5.381325   1.00000\n",
       "max     1.477100  15.682400   1.00000"
      ]
     },
     "metadata": {},
     "output_type": "display_data"
    }
   ],
   "source": [
    "# シンプルデータセット2\n",
    "X = np.array([[-0.44699 , -2.8073  ],[-1.4621  , -2.4586  ],\n",
    "       [ 0.10645 ,  1.9242  ],[-3.5944  , -4.0112  ],\n",
    "       [-0.9888  ,  4.5718  ],[-3.1625  , -3.9606  ],\n",
    "       [ 0.56421 ,  0.72888 ],[-0.60216 ,  8.4636  ],\n",
    "       [-0.61251 , -0.75345 ],[-0.73535 , -2.2718  ],\n",
    "       [-0.80647 , -2.2135  ],[ 0.86291 ,  2.3946  ],\n",
    "       [-3.1108  ,  0.15394 ],[-2.9362  ,  2.5462  ],\n",
    "       [-0.57242 , -2.9915  ],[ 1.4771  ,  3.4896  ],\n",
    "       [ 0.58619 ,  0.37158 ],[ 0.6017  ,  4.3439  ],\n",
    "       [-2.1086  ,  8.3428  ],[-4.1013  , -4.353   ],\n",
    "       [-1.9948  , -1.3927  ],[ 0.35084 , -0.031994],\n",
    "       [ 0.96765 ,  7.8929  ],[-1.281   , 15.6824  ],\n",
    "       [ 0.96765 , 10.083   ],[ 1.3763  ,  1.3347  ],\n",
    "       [-2.234   , -2.5323  ],[-2.9452  , -1.8219  ],\n",
    "       [ 0.14654 , -0.28733 ],[ 0.5461  ,  5.8245  ],\n",
    "       [-0.65259 ,  9.3444  ],[ 0.59912 ,  5.3524  ],\n",
    "       [ 0.50214 , -0.31818 ],[-3.0603  , -3.6461  ],\n",
    "       [-6.6797  ,  0.67661 ],[-2.353   , -0.72261 ],\n",
    "       [ 1.1319  ,  2.4023  ],[-0.12243 ,  9.0162  ],\n",
    "       [-2.5677  , 13.1779  ],[ 0.057313,  5.4681  ]])\n",
    "y = np.array([0, 0, 0, 0, 0, 0, 0, 0, 0, 0, 0, 0, 0, 0, 0, 0, 0, 0, 0, 0, 1, 1,\n",
    "       1, 1, 1, 1, 1, 1, 1, 1, 1, 1, 1, 1, 1, 1, 1, 1, 1, 1])\n",
    "\n",
    "y = y[:, np.newaxis]\n",
    "data = np.hstack([X, y])\n",
    "df_2 = pd.DataFrame(data, columns=['f0', 'f1', 'class'])\n",
    "print('< Sample 2 >')\n",
    "display(df_2.head())\n",
    "display(np.shape(df_2))\n",
    "display(df_2.describe())"
   ]
  },
  {
   "cell_type": "code",
   "execution_count": 8,
   "metadata": {},
   "outputs": [
    {
     "name": "stdout",
     "output_type": "stream",
     "text": [
      "(30, 2)\n",
      "(10, 2)\n",
      "(30,)\n",
      "(10,)\n"
     ]
    }
   ],
   "source": [
    "# 前処理\n",
    "X = df_2.iloc[:, :-1].values\n",
    "y = df_2.iloc[:, -1].values\n",
    "\n",
    "# 訓練/検証データに3:1で分割\n",
    "X_train, X_test, y_train, y_test = train_test_split(\n",
    "    X, y, test_size=0.25, stratify=y, random_state=1)\n",
    "\n",
    "print(np.shape(X_train))\n",
    "print(np.shape(X_test))\n",
    "print(np.shape(y_train))\n",
    "print(np.shape(y_test))"
   ]
  },
  {
   "cell_type": "code",
   "execution_count": 9,
   "metadata": {},
   "outputs": [],
   "source": [
    "# 決定境界描画関数\n",
    "def decision_region(X, y, model, step=0.01, title='decision region', xlabel='xlabel', ylabel='ylabel', target_names=['0', '1']):\n",
    "    \"\"\"\n",
    "    2値分類を2次元の特徴量で学習したモデルの決定領域を描く。\n",
    "    背景の色が学習したモデルによる推定値から描画される。\n",
    "    散布図の点は訓練データまたは検証データである。\n",
    "\n",
    "    Parameters\n",
    "    ----------------\n",
    "    X : ndarray, shape(n_samples, n_features)\n",
    "        特徴量\n",
    "    y : ndarray, shape(n_samples,)\n",
    "        ラベル\n",
    "    model : object\n",
    "        学習したモデルのインスンタスを入れる\n",
    "    step : float, (default : 0.1)\n",
    "        推定値を計算する間隔を設定する\n",
    "    title : str\n",
    "        グラフのタイトルの文章を与える\n",
    "    xlabel, ylabel : str\n",
    "        軸ラベルの文章を与える\n",
    "    target_names= : list of str\n",
    "        凡例の一覧を与える\n",
    "    \"\"\"\n",
    "    # setting\n",
    "    scatter_color = ['red', 'blue']\n",
    "    contourf_color = ['pink', 'skyblue']\n",
    "    n_class = 2\n",
    "    # pred\n",
    "    mesh_f0, mesh_f1  = np.meshgrid(np.arange(np.min(X[:,0])-0.5, np.max(X[:,0])+0.5, step), np.arange(np.min(X[:,1])-0.5, np.max(X[:,1])+0.5, step))\n",
    "    mesh = np.c_[np.ravel(mesh_f0),np.ravel(mesh_f1)]\n",
    "    y_pred = model.predict(mesh).reshape(mesh_f0.shape)\n",
    "    # plot\n",
    "    plt.title(title)\n",
    "    plt.xlabel(xlabel)\n",
    "    plt.ylabel(ylabel)\n",
    "    plt.contourf(mesh_f0, mesh_f1, y_pred, n_class-1, cmap=ListedColormap(contourf_color))\n",
    "    plt.contour(mesh_f0, mesh_f1, y_pred, n_class-1, colors='y', linewidths=3, alpha=0.5)\n",
    "    for i, target in enumerate(set(y)):\n",
    "        plt.scatter(X[y==target][:, 0], X[y==target][:, 1], s=80, color=scatter_color[i], label=target_names[i], marker='o')\n",
    "    patches = [mpatches.Patch(color=scatter_color[i], label=target_names[i]) for i in range(n_class)]\n",
    "    plt.legend(handles=patches)\n",
    "    plt.legend()\n",
    "    plt.show()"
   ]
  },
  {
   "cell_type": "code",
   "execution_count": 10,
   "metadata": {},
   "outputs": [],
   "source": [
    "# 評価関数\n",
    "def evaluate(y_true, y_pred):\n",
    "    \"\"\"\n",
    "    2値分類の評価指標を計算する\n",
    "    \"\"\"\n",
    "    acc = metrics.accuracy_score(y_test, y_pred)\n",
    "    precision = metrics.precision_score(y_test, y_pred)\n",
    "    recall = metrics.recall_score(y_test, y_pred)\n",
    "    f1 = metrics.f1_score(y_test, y_pred)\n",
    "    confusion = metrics.confusion_matrix(y_test, y_pred)\n",
    "    return acc, precision, recall, f1, confusion"
   ]
  },
  {
   "cell_type": "code",
   "execution_count": 11,
   "metadata": {},
   "outputs": [
    {
     "name": "stdout",
     "output_type": "stream",
     "text": [
      "=== Decision Tree Classifier (scikit-learn) ===\n",
      "\n",
      "< max_depth : 1, min_samples_split : 2 >\n",
      "\n",
      "Decision Region(train/validation)\n"
     ]
    },
    {
     "data": {
      "image/png": "[encoded data removed]",
      "text/plain": [
       "<Figure size 432x288 with 1 Axes>"
      ]
     },
     "metadata": {
      "needs_background": "light"
     },
     "output_type": "display_data"
    },
    {
     "data": {
      "image/png": "[encoded data removed]",
      "text/plain": [
       "<Figure size 432x288 with 1 Axes>"
      ]
     },
     "metadata": {
      "needs_background": "light"
     },
     "output_type": "display_data"
    },
    {
     "name": "stdout",
     "output_type": "stream",
     "text": [
      "Accuracy : 0.600\n",
      "Precision : 0.556\n",
      "Recall : 1.000\n",
      "F1 : 0.714\n",
      "confusion matrix \n",
      " [[1 4]\n",
      " [0 5]]\n",
      "\n"
     ]
    }
   ],
   "source": [
    "# sklearn\n",
    "print(\"=== Decision Tree Classifier (scikit-learn) ===\\n\")\n",
    "print(\"< max_depth : 1, min_samples_split : 2 >\\n\")\n",
    "\n",
    "# 学習・推論\n",
    "tree_1 = DecisionTreeClassifier(max_depth=1, min_samples_split=2)\n",
    "tree_1.fit(X_train, y_train)\n",
    "y_pred = tree_1.predict(X_test)\n",
    "        \n",
    "# 可視化\n",
    "print('Decision Region(train/validation)')\n",
    "decision_region(X_train, y_train.flatten(), tree_1, \n",
    "                title=\"decision region of Decision Tree (train)\",\n",
    "                xlabel='f0', ylabel='f1', target_names=['1', '0'])\n",
    "decision_region(X_test, y_test.flatten(), tree_1, \n",
    "                title=\"decision region of Decision Tree (validation)\",\n",
    "                xlabel='f0', ylabel='f1', target_names=['1', '0'])\n",
    "\n",
    "# 評価\n",
    "print(\"Accuracy : {:.3f}\\nPrecision : {:.3f}\\nRecall : {:.3f}\\nF1 : {:.3f}\\nconfusion matrix \\n {}\\n\"\n",
    "          .format(*evaluate(y_test, y_pred)))"
   ]
  },
  {
   "cell_type": "code",
   "execution_count": 12,
   "metadata": {},
   "outputs": [
    {
     "name": "stdout",
     "output_type": "stream",
     "text": [
      "=== Decision Tree Classifier (Scratch) ===\n",
      "\n",
      "< max_depth : 1, min_samples_split : 2 >\n",
      "\n",
      "Decision Resion(train/validation)\n"
     ]
    },
    {
     "data": {
      "image/png": "[encoded data removed]",
      "text/plain": [
       "<Figure size 432x288 with 1 Axes>"
      ]
     },
     "metadata": {
      "needs_background": "light"
     },
     "output_type": "display_data"
    },
    {
     "data": {
      "image/png": "[encoded data removed]",
      "text/plain": [
       "<Figure size 432x288 with 1 Axes>"
      ]
     },
     "metadata": {
      "needs_background": "light"
     },
     "output_type": "display_data"
    },
    {
     "name": "stdout",
     "output_type": "stream",
     "text": [
      "Accuracy : 0.600\n",
      "Precision : 0.556\n",
      "Recall : 1.000\n",
      "F1 : 0.714\n",
      "confusion matrix \n",
      " [[1 4]\n",
      " [0 5]]\n",
      "\n"
     ]
    }
   ],
   "source": [
    "# Scratch\n",
    "print(\"=== Decision Tree Classifier (Scratch) ===\\n\")\n",
    "print(\"< max_depth : 1, min_samples_split : 2 >\\n\")\n",
    "\n",
    "# 学習・推論 \n",
    "stree_1 = ScratchDecesionTreeClassifierDepth1(verbose=False)\n",
    "stree_1.fit(X_train, y_train)\n",
    "y_pred = stree_1.predict(X_test)\n",
    "        \n",
    "# 可視化\n",
    "print('Decision Resion(train/validation)')\n",
    "decision_region(X_train, y_train.flatten(), stree_1, \n",
    "                title=\"decision region of Decision Tree (train)\",\n",
    "                xlabel='f0', ylabel='f1', target_names=['1', '0'])\n",
    "decision_region(X_test, y_test.flatten(), stree_1, \n",
    "                title=\"decision region of Decision Tree (validation)\",\n",
    "                xlabel='f0', ylabel='f1', target_names=['1', '0'])\n",
    "\n",
    "# 評価\n",
    "print(\"Accuracy : {:.3f}\\nPrecision : {:.3f}\\nRecall : {:.3f}\\nF1 : {:.3f}\\nconfusion matrix \\n {}\\n\"\n",
    "          .format(*evaluate(y_test, y_pred)))"
   ]
  },
  {
   "cell_type": "markdown",
   "metadata": {},
   "source": [
    "- sklearnと比較し、ほぼ同じような挙動のようだ"
   ]
  },
  {
   "cell_type": "code",
   "execution_count": 13,
   "metadata": {},
   "outputs": [],
   "source": [
    "# 情報利得のプロット\n",
    "def plot_IGs(n_iter, IGs):\n",
    "    plt.plot(np.arange(n_iter), IGs, label='IG')\n",
    "    plt.title('information gain')\n",
    "    plt.xlabel('iter')\n",
    "    plt.ylabel('IG')\n",
    "    plt.legend()\n",
    "    plt.show()"
   ]
  },
  {
   "cell_type": "code",
   "execution_count": 14,
   "metadata": {},
   "outputs": [
    {
     "data": {
      "image/png": "[encoded data removed]",
      "text/plain": [
       "<Figure size 432x288 with 1 Axes>"
      ]
     },
     "metadata": {
      "needs_background": "light"
     },
     "output_type": "display_data"
    }
   ],
   "source": [
    " plot_IGs(len(stree_1.IGs), stree_1.IGs)"
   ]
  },
  {
   "cell_type": "markdown",
   "metadata": {},
   "source": [
    "### 【問題7】深さ2の決定木分類器クラスの作成  \n",
    "深さが2の決定木分類器のクラスScratchDecesionTreeClassifierDepth2を作成してください。  \n",
    "深さ2とは空間の分割を2回行うことを指します。 \n",
    "\n",
    "《ヒント》  \n",
    "各ノードをインスタンスとして扱うと、任意の深さへの拡張が行いやすくなります。"
   ]
  },
  {
   "cell_type": "markdown",
   "metadata": {},
   "source": [
    "### 【問題8】深さに制限のない決定木分類器クラスの作成  \n",
    "深さに制限のない決定木分類器のクラスScratchDecesionTreeClassifierDepthInfを作成してください。  \n",
    "任意の深さを指定できるようにするとともに、指定しない場合は全ての葉ノードがジニ不純度0となるまで続けられるようにもしてください。"
   ]
  },
  {
   "cell_type": "markdown",
   "metadata": {},
   "source": [
    "### ＜方針＞  \n",
    "- 深さに制限のない決定木クラスを作成し、深さ2を含めmax_depthで調節できるようにする\n",
    "- 決定木クラスの他にNodeクラスを作成し、再帰的に使用できるようにする方針"
   ]
  },
  {
   "cell_type": "code",
   "execution_count": 15,
   "metadata": {},
   "outputs": [],
   "source": [
    "class ScratchDecesionTreeClassifierDepthInf():\n",
    "    \"\"\"\n",
    "    深さの制限のない決定木分類器のスクラッチ実装\n",
    "\n",
    "    Parameters\n",
    "    ----------\n",
    "    verbose : bool\n",
    "      学習過程を出力する場合はTrue\n",
    "    max_depth : int\n",
    "      決定木の深さの最大値\n",
    "    min_samples_split=2\n",
    "      分割時のサンプル数の最小値\n",
    "      \n",
    "    Attributes\n",
    "    ----------\n",
    "    self.tree : object\n",
    "      決定木の学習器\n",
    "    \n",
    "    \"\"\"\n",
    "    \n",
    "    def __init__(self, max_depth=-1, min_samples_split=2, verbose=False):\n",
    "        # ハイパーパラメータを属性として記録\n",
    "        self.verbose = verbose\n",
    "        self.max_depth = max_depth\n",
    "        self.min_samples_split = min_samples_split\n",
    "        self.tree = None\n",
    "\n",
    "    def fit(self, X, y):\n",
    "        \"\"\"\n",
    "        決定木分類器を学習する\n",
    "        Parameters\n",
    "        ----------\n",
    "        X : 次の形のndarray, shape (n_samples, n_features)\n",
    "             訓練データの特徴量\n",
    "        y : 次の形のndarray, shape (n_samples, )\n",
    "            訓練データの正解値\n",
    "        \"\"\"\n",
    "        # 最大指定の場合、max_depthはサンプル数とする\n",
    "        if self.max_depth == -1:\n",
    "            self.max_depth = X.shape[0]\n",
    "        \n",
    "        self.tree = Node(self.max_depth, self.verbose)\n",
    "        # 深さ1からノードを分岐していく\n",
    "        self.tree._split(X, y, depth=1)\n",
    "        \n",
    "    def predict(self, X):\n",
    "        \"\"\"\n",
    "        決定木分類器を使いラベルを推定する\n",
    "        \"\"\"\n",
    "        pred = []\n",
    "        # ノードによって入力のサイズが違うため、1サンプルずつ推定\n",
    "        for i in range(X.shape[0]):\n",
    "            x = X[i, :]\n",
    "            pred.append(self.tree._predict(x))\n",
    "        return np.array(pred)"
   ]
  },
  {
   "cell_type": "code",
   "execution_count": 16,
   "metadata": {},
   "outputs": [],
   "source": [
    "class Node():\n",
    "    \"\"\"\n",
    "    決定木分類器内のノード実装\n",
    "    \n",
    "    Parameters\n",
    "    ----------\n",
    "    max_depth : int\n",
    "      木の深さの最大値\n",
    "　　min_samples_split : int\n",
    "      分割されるサンプル数の最小値\n",
    "    verbose : bool\n",
    "     学習過程を出力する場合はTrue\n",
    "  \n",
    "    Attributes\n",
    "    ----------\n",
    "    self.feature : int\n",
    "      分割を適用する特徴量のインデックス\n",
    "    self.threshold : float\n",
    "      上記の特徴量の閾値\n",
    "    self.depth : int\n",
    "      ノードが位置する深さ\n",
    "    self.right_leaf : bool\n",
    "      ノードの右が葉かどうかのフラグ\n",
    "    self.left_leaf = False\n",
    "    　ノードの左が葉かどうかのフラグ\n",
    "    self.label_1 : float\n",
    "      ノードの右が葉の場合の出力ラベル\n",
    "    self.label_2 : float\n",
    "      ノードの左が葉の場合の出力ラベル\n",
    "    \"\"\"\n",
    "    \n",
    "    def __init__(self, max_depth, min_samples_split=2, verbose=False):\n",
    "        self.max_depth = max_depth\n",
    "        self.min_samples_split=min_samples_split\n",
    "        self.depth = None\n",
    "        self.feature = None\n",
    "        self.threshold = None\n",
    "        self.right_leaf = False\n",
    "        self.left_leaf = False\n",
    "        self.verbose = verbose\n",
    "    \n",
    "    def _gini(self, y):\n",
    "        element, count = np.unique(y, return_counts=True)\n",
    "        g = 0\n",
    "        for i in range(len(element)):\n",
    "            g += (count[i]/len(y))**2\n",
    "        return 1 - g\n",
    "\n",
    "    def _info_gain(self, y, y_1, y_2):\n",
    "        gini_p = self._gini(y)\n",
    "        gini_1 = self._gini(y_1)*len(y_1)/len(y)\n",
    "        gini_2 = self._gini(y_2)*len(y_2)/len(y)\n",
    "        return gini_p - gini_1 - gini_2\n",
    " \n",
    "    def _make_tree(self, X, y):\n",
    "        self.IGs = [0]\n",
    "        IG = 0\n",
    "        for i in range(X.shape[1]):\n",
    "            values = np.unique(X[:, i])\n",
    "            for j in range(len(values)):\n",
    "                indices_1 = list(np.where(X[:, i] >= values[j])[0])\n",
    "                indices_2 = list(np.where(X[:, i] < values[j])[0])\n",
    "                if len(indices_1) <= self.min_samples_split - 1 or len(indices_2) <= self.min_samples_split - 1:\n",
    "                    IG = 0\n",
    "                else:\n",
    "                    IG = self._info_gain(y, y[indices_1], y[indices_2])\n",
    "                    if IG >= max(self.IGs):\n",
    "                        feature, threshold = i, values[j]\n",
    "                self.IGs.append(IG)\n",
    "        if self.verbose:\n",
    "            #verboseをTrueにした際は学習過程を出力\n",
    "            print('depth : {}'.format(self.depth))\n",
    "            print('infomation gain : {}'.format(self.IGs))\n",
    "        return feature, threshold\n",
    "\n",
    "    def _split(self, X, y, depth):\n",
    "        \"\"\"\n",
    "        決定木を学習し伸ばす\n",
    "        Parameters\n",
    "        ----------\n",
    "        X : 次の形のndarray, shape (n_samples, n_features)\n",
    "            訓練データの特徴量\n",
    "        y : 次の形のndarray, shape (n_samples, )\n",
    "            訓練データの正解値\n",
    "        depth : int\n",
    "            ノードが位置する深さ\n",
    "        \"\"\"\n",
    "        self.depth = depth\n",
    "        self.feature, self.threshold = self._make_tree(X, y)\n",
    "        # 受け取ったデータを条件で分割\n",
    "        X_1 = X[X[:, self.feature] >= self.threshold]\n",
    "        y_1 = y[X[:, self.feature] >= self.threshold].astype(int)\n",
    "        X_2 = X[X[:, self.feature] < self.threshold]\n",
    "        y_2 = y[X[:, self.feature] < self.threshold].astype(int)\n",
    "        # 左右のラベルを多数決で決定\n",
    "        self.label_1 = np.argmax(np.bincount(y_1))\n",
    "        self.label_2 = np.argmax(np.bincount(y_2))\n",
    "        \n",
    "        # 最底層に達している場合は、左右を葉にする\n",
    "        if self.depth == self.max_depth:\n",
    "            self.right_leaf = True\n",
    "            self.left_leaf = True\n",
    "        else:\n",
    "            # 不純度が0の場合は葉に、でなければ1つ下の深さにノードを生成\n",
    "            if len(np.unique(y_1)) == 1:\n",
    "                self.right_leaf = True\n",
    "            else:\n",
    "                self.right_leaf = Node(self.max_depth, self.verbose)\n",
    "                self.right_leaf._split(X_1, y_1, self.depth + 1)\n",
    "            if len(np.unique(y_2)) == 1:\n",
    "                self.left_leaf = True\n",
    "            else:\n",
    "                self.left_leaf = Node(self.max_depth, self.verbose)\n",
    "                self.left_leaf._split(X_2, y_2, self.depth + 1)\n",
    "        \n",
    "    def _predict(self, x):\n",
    "        \"\"\"\n",
    "        葉を使いラベルを推定する。葉でない場合は次のノードへ渡す。\n",
    "        \"\"\"\n",
    "        # 受け取るのは1サンプル\n",
    "        # 特徴量条件により左右の出力に割り当てる\n",
    "        # 葉ならば該当ラベルを出力、でなければ次のノードに予測を依頼\n",
    "        if x[self.feature] >= self.threshold:\n",
    "            if self.right_leaf == True:\n",
    "                output = self.label_1\n",
    "            else:\n",
    "                output = self.right_leaf._predict(x)\n",
    "        else:\n",
    "            if self.left_leaf == True:\n",
    "                output= self.label_2\n",
    "            else:\n",
    "                output = self.left_leaf._predict(x)\n",
    "        return output"
   ]
  },
  {
   "cell_type": "markdown",
   "metadata": {},
   "source": [
    "### 1. 深さ2の決定木"
   ]
  },
  {
   "cell_type": "code",
   "execution_count": 17,
   "metadata": {},
   "outputs": [
    {
     "name": "stdout",
     "output_type": "stream",
     "text": [
      "=== Decision Tree Classifier (scikit-learn) ===\n",
      "\n",
      "< max_depth : 2, min_samples_split : 2 >\n",
      "\n",
      "Decision Region(train/validation)\n"
     ]
    },
    {
     "data": {
      "image/png": "[encoded data removed]",
      "text/plain": [
       "<Figure size 432x288 with 1 Axes>"
      ]
     },
     "metadata": {
      "needs_background": "light"
     },
     "output_type": "display_data"
    },
    {
     "data": {
      "image/png": "[encoded data removed]",
      "text/plain": [
       "<Figure size 432x288 with 1 Axes>"
      ]
     },
     "metadata": {
      "needs_background": "light"
     },
     "output_type": "display_data"
    },
    {
     "name": "stdout",
     "output_type": "stream",
     "text": [
      "Accuracy : 0.300\n",
      "Precision : 0.000\n",
      "Recall : 0.000\n",
      "F1 : 0.000\n",
      "confusion matrix \n",
      " [[3 2]\n",
      " [5 0]]\n",
      "\n"
     ]
    }
   ],
   "source": [
    "# sklearn\n",
    "print(\"=== Decision Tree Classifier (scikit-learn) ===\\n\")\n",
    "print(\"< max_depth : 2, min_samples_split : 2 >\\n\")\n",
    "\n",
    "# 学習・推論\n",
    "tree_2 = DecisionTreeClassifier(max_depth=2, min_samples_split=2)\n",
    "tree_2.fit(X_train, y_train)\n",
    "y_pred = tree_2.predict(X_test)\n",
    "        \n",
    "# 可視化\n",
    "print('Decision Region(train/validation)')\n",
    "decision_region(X_train, y_train.flatten(), tree_2, \n",
    "                title=\"decision region of Decision Tree (train)\",\n",
    "                xlabel='f0', ylabel='f1', target_names=['1', '0'])\n",
    "decision_region(X_test, y_test.flatten(), tree_2, \n",
    "                title=\"decision region of Decision Tree (validation)\",\n",
    "                xlabel='f0', ylabel='f1', target_names=['1', '0'])\n",
    "\n",
    "# 評価\n",
    "print(\"Accuracy : {:.3f}\\nPrecision : {:.3f}\\nRecall : {:.3f}\\nF1 : {:.3f}\\nconfusion matrix \\n {}\\n\"\n",
    "          .format(*evaluate(y_test, y_pred)))"
   ]
  },
  {
   "cell_type": "code",
   "execution_count": 18,
   "metadata": {},
   "outputs": [
    {
     "name": "stdout",
     "output_type": "stream",
     "text": [
      "=== Decision Tree Classifier (Scratch) ===\n",
      "\n",
      "< max_depth : 2, min_samples_split : 2 >\n",
      "\n",
      "Decision Resion(train/validation)\n"
     ]
    },
    {
     "data": {
      "image/png": "[encoded data removed]",
      "text/plain": [
       "<Figure size 432x288 with 1 Axes>"
      ]
     },
     "metadata": {
      "needs_background": "light"
     },
     "output_type": "display_data"
    },
    {
     "data": {
      "image/png": "[encoded data removed]",
      "text/plain": [
       "<Figure size 432x288 with 1 Axes>"
      ]
     },
     "metadata": {
      "needs_background": "light"
     },
     "output_type": "display_data"
    },
    {
     "name": "stdout",
     "output_type": "stream",
     "text": [
      "Accuracy : 0.300\n",
      "Precision : 0.000\n",
      "Recall : 0.000\n",
      "F1 : 0.000\n",
      "confusion matrix \n",
      " [[3 2]\n",
      " [5 0]]\n",
      "\n"
     ]
    }
   ],
   "source": [
    "# Scratch\n",
    "print(\"=== Decision Tree Classifier (Scratch) ===\\n\")\n",
    "print(\"< max_depth : 2, min_samples_split : 2 >\\n\")\n",
    "\n",
    "# 学習・推論 \n",
    "stree_2 = ScratchDecesionTreeClassifierDepthInf(max_depth=2, min_samples_split=2)\n",
    "stree_2.fit(X_train, y_train)\n",
    "y_pred = stree_2.predict(X_test)\n",
    "        \n",
    "# 可視化\n",
    "print('Decision Resion(train/validation)')\n",
    "decision_region(X_train, y_train.flatten(), stree_2, \n",
    "                title=\"decision region of Decision Tree (train)\",\n",
    "                xlabel='f0', ylabel='f1', target_names=['1', '0'])\n",
    "decision_region(X_test, y_test.flatten(), stree_2, \n",
    "                title=\"decision region of Decision Tree (validation)\",\n",
    "                xlabel='f0', ylabel='f1', target_names=['1', '0'])\n",
    "\n",
    "# 評価\n",
    "print(\"Accuracy : {:.3f}\\nPrecision : {:.3f}\\nRecall : {:.3f}\\nF1 : {:.3f}\\nconfusion matrix \\n {}\\n\"\n",
    "          .format(*evaluate(y_test, y_pred)))"
   ]
  },
  {
   "cell_type": "markdown",
   "metadata": {},
   "source": [
    "### 2. 深さ3の決定木"
   ]
  },
  {
   "cell_type": "code",
   "execution_count": 19,
   "metadata": {},
   "outputs": [
    {
     "name": "stdout",
     "output_type": "stream",
     "text": [
      "=== Decision Tree Classifier (scikit-learn) ===\n",
      "\n",
      "< max_depth : 3, min_samples_split : 2 >\n",
      "\n",
      "Decision Region(train/validation)\n"
     ]
    },
    {
     "data": {
      "image/png": "[encoded data removed]",
      "text/plain": [
       "<Figure size 432x288 with 1 Axes>"
      ]
     },
     "metadata": {
      "needs_background": "light"
     },
     "output_type": "display_data"
    },
    {
     "data": {
      "image/png": "[encoded data removed]",
      "text/plain": [
       "<Figure size 432x288 with 1 Axes>"
      ]
     },
     "metadata": {
      "needs_background": "light"
     },
     "output_type": "display_data"
    },
    {
     "name": "stdout",
     "output_type": "stream",
     "text": [
      "Accuracy : 0.400\n",
      "Precision : 0.400\n",
      "Recall : 0.400\n",
      "F1 : 0.400\n",
      "confusion matrix \n",
      " [[2 3]\n",
      " [3 2]]\n",
      "\n"
     ]
    }
   ],
   "source": [
    "# sklearn\n",
    "print(\"=== Decision Tree Classifier (scikit-learn) ===\\n\")\n",
    "print(\"< max_depth : 3, min_samples_split : 2 >\\n\")\n",
    "\n",
    "# 学習・推論\n",
    "tree_3 = DecisionTreeClassifier(max_depth=3, min_samples_split=2)\n",
    "tree_3.fit(X_train, y_train)\n",
    "y_pred = tree_3.predict(X_test)\n",
    "        \n",
    "# 可視化\n",
    "print('Decision Region(train/validation)')\n",
    "decision_region(X_train, y_train.flatten(), tree_3, \n",
    "                title=\"decision region of Decision Tree (train)\",\n",
    "                xlabel='f0', ylabel='f1', target_names=['1', '0'])\n",
    "decision_region(X_test, y_test.flatten(), tree_3, \n",
    "                title=\"decision region of Decision Tree (validation)\",\n",
    "                xlabel='f0', ylabel='f1', target_names=['1', '0'])\n",
    "\n",
    "# 評価\n",
    "print(\"Accuracy : {:.3f}\\nPrecision : {:.3f}\\nRecall : {:.3f}\\nF1 : {:.3f}\\nconfusion matrix \\n {}\\n\"\n",
    "          .format(*evaluate(y_test, y_pred)))"
   ]
  },
  {
   "cell_type": "code",
   "execution_count": 20,
   "metadata": {},
   "outputs": [
    {
     "name": "stdout",
     "output_type": "stream",
     "text": [
      "=== Decision Tree Classifier (Scratch) ===\n",
      "\n",
      "< max_depth : 3, min_samples_split : 2 >\n",
      "\n",
      "Decision Resion(train/validation)\n"
     ]
    },
    {
     "data": {
      "image/png": "[encoded data removed]",
      "text/plain": [
       "<Figure size 432x288 with 1 Axes>"
      ]
     },
     "metadata": {
      "needs_background": "light"
     },
     "output_type": "display_data"
    },
    {
     "data": {
      "image/png": "[encoded data removed]",
      "text/plain": [
       "<Figure size 432x288 with 1 Axes>"
      ]
     },
     "metadata": {
      "needs_background": "light"
     },
     "output_type": "display_data"
    },
    {
     "name": "stdout",
     "output_type": "stream",
     "text": [
      "Accuracy : 0.500\n",
      "Precision : 0.500\n",
      "Recall : 0.400\n",
      "F1 : 0.444\n",
      "confusion matrix \n",
      " [[3 2]\n",
      " [3 2]]\n",
      "\n"
     ]
    }
   ],
   "source": [
    "# Scratch\n",
    "print(\"=== Decision Tree Classifier (Scratch) ===\\n\")\n",
    "print(\"< max_depth : 3, min_samples_split : 2 >\\n\")\n",
    "\n",
    "# 学習・推論 \n",
    "stree_3 = ScratchDecesionTreeClassifierDepthInf(max_depth=3, min_samples_split=2,)\n",
    "stree_3.fit(X_train, y_train)\n",
    "y_pred = stree_3.predict(X_test)\n",
    "        \n",
    "# 可視化\n",
    "print('Decision Resion(train/validation)')\n",
    "decision_region(X_train, y_train.flatten(), stree_3, \n",
    "                title=\"decision region of Decision Tree (train)\",\n",
    "                xlabel='f0', ylabel='f1', target_names=['1', '0'])\n",
    "decision_region(X_test, y_test.flatten(), stree_3, \n",
    "                title=\"decision region of Decision Tree (validation)\",\n",
    "                xlabel='f0', ylabel='f1', target_names=['1', '0'])\n",
    "\n",
    "# 評価\n",
    "print(\"Accuracy : {:.3f}\\nPrecision : {:.3f}\\nRecall : {:.3f}\\nF1 : {:.3f}\\nconfusion matrix \\n {}\\n\"\n",
    "          .format(*evaluate(y_test, y_pred)))"
   ]
  },
  {
   "cell_type": "markdown",
   "metadata": {},
   "source": [
    "### 3. 深さ無限の決定木"
   ]
  },
  {
   "cell_type": "code",
   "execution_count": 21,
   "metadata": {},
   "outputs": [
    {
     "name": "stdout",
     "output_type": "stream",
     "text": [
      "=== Decision Tree Classifier (scikit-learn) ===\n",
      "\n",
      "< max_depth : ∞, min_samples_split : 2 >\n",
      "\n",
      "Decision Region(train/validation)\n"
     ]
    },
    {
     "data": {
      "image/png": "[encoded data removed]",
      "text/plain": [
       "<Figure size 432x288 with 1 Axes>"
      ]
     },
     "metadata": {
      "needs_background": "light"
     },
     "output_type": "display_data"
    },
    {
     "data": {
      "image/png": "[encoded data removed]",
      "text/plain": [
       "<Figure size 432x288 with 1 Axes>"
      ]
     },
     "metadata": {
      "needs_background": "light"
     },
     "output_type": "display_data"
    },
    {
     "name": "stdout",
     "output_type": "stream",
     "text": [
      "Accuracy : 0.600\n",
      "Precision : 0.571\n",
      "Recall : 0.800\n",
      "F1 : 0.667\n",
      "confusion matrix \n",
      " [[2 3]\n",
      " [1 4]]\n",
      "\n"
     ]
    }
   ],
   "source": [
    "# sklearn\n",
    "print(\"=== Decision Tree Classifier (scikit-learn) ===\\n\")\n",
    "print(\"< max_depth : ∞, min_samples_split : 2 >\\n\")\n",
    "\n",
    "# 学習・推論\n",
    "tree_inf = DecisionTreeClassifier(min_samples_split=2)\n",
    "tree_inf.fit(X_train, y_train)\n",
    "y_pred = tree_inf.predict(X_test)\n",
    "        \n",
    "# 可視化\n",
    "print('Decision Region(train/validation)')\n",
    "decision_region(X_train, y_train.flatten(), tree_inf, \n",
    "                title=\"decision region of Decision Tree (train)\",\n",
    "                xlabel='f0', ylabel='f1', target_names=['1', '0'])\n",
    "decision_region(X_test, y_test.flatten(), tree_inf, \n",
    "                title=\"decision region of Decision Tree (validation)\",\n",
    "                xlabel='f0', ylabel='f1', target_names=['1', '0'])\n",
    "\n",
    "# 評価\n",
    "print(\"Accuracy : {:.3f}\\nPrecision : {:.3f}\\nRecall : {:.3f}\\nF1 : {:.3f}\\nconfusion matrix \\n {}\\n\"\n",
    "          .format(*evaluate(y_test, y_pred)))"
   ]
  },
  {
   "cell_type": "code",
   "execution_count": 22,
   "metadata": {},
   "outputs": [
    {
     "name": "stdout",
     "output_type": "stream",
     "text": [
      "=== Decision Tree Classifier (Scratch) ===\n",
      "\n",
      "< max_depth : ∞, min_samples_split : 2 >\n",
      "\n",
      "Decision Resion(train/validation)\n"
     ]
    },
    {
     "data": {
      "image/png": "[encoded data removed]",
      "text/plain": [
       "<Figure size 432x288 with 1 Axes>"
      ]
     },
     "metadata": {
      "needs_background": "light"
     },
     "output_type": "display_data"
    },
    {
     "data": {
      "image/png": "[encoded data removed]",
      "text/plain": [
       "<Figure size 432x288 with 1 Axes>"
      ]
     },
     "metadata": {
      "needs_background": "light"
     },
     "output_type": "display_data"
    },
    {
     "name": "stdout",
     "output_type": "stream",
     "text": [
      "Accuracy : 0.500\n",
      "Precision : 0.500\n",
      "Recall : 0.600\n",
      "F1 : 0.545\n",
      "confusion matrix \n",
      " [[2 3]\n",
      " [2 3]]\n",
      "\n"
     ]
    }
   ],
   "source": [
    "# Scratch\n",
    "print(\"=== Decision Tree Classifier (Scratch) ===\\n\")\n",
    "print(\"< max_depth : ∞, min_samples_split : 2 >\\n\")\n",
    "\n",
    "# 学習・推論 \n",
    "stree_inf = ScratchDecesionTreeClassifierDepthInf(max_depth=-1, min_samples_split=2,)\n",
    "stree_inf.fit(X_train, y_train)\n",
    "y_pred = stree_inf.predict(X_test)\n",
    "        \n",
    "# 可視化\n",
    "print('Decision Resion(train/validation)')\n",
    "decision_region(X_train, y_train.flatten(), stree_inf, \n",
    "                title=\"decision region of Decision Tree (train)\",\n",
    "                xlabel='f0', ylabel='f1', target_names=['1', '0'])\n",
    "decision_region(X_test, y_test.flatten(), stree_inf, \n",
    "                title=\"decision region of Decision Tree (validation)\",\n",
    "                xlabel='f0', ylabel='f1', target_names=['1', '0'])\n",
    "\n",
    "# 評価\n",
    "print(\"Accuracy : {:.3f}\\nPrecision : {:.3f}\\nRecall : {:.3f}\\nF1 : {:.3f}\\nconfusion matrix \\n {}\\n\"\n",
    "          .format(*evaluate(y_test, y_pred)))"
   ]
  },
  {
   "cell_type": "markdown",
   "metadata": {},
   "source": [
    "- sklearnとは決定境界が微妙に異なるが、大筋は一致しているようだ\n",
    "- 深さ無限大でtrainデータを完全に分離できており、意図した挙動はしているようだ"
   ]
  }
 ],
 "metadata": {
  "kernelspec": {
   "display_name": "Python 3",
   "language": "python",
   "name": "python3"
  },
  "language_info": {
   "codemirror_mode": {
    "name": "ipython",
    "version": 3
   },
   "file_extension": ".py",
   "mimetype": "text/x-python",
   "name": "python",
   "nbconvert_exporter": "python",
   "pygments_lexer": "ipython3",
   "version": "3.7.7"
  }
 },
 "nbformat": 4,
 "nbformat_minor": 4
}
