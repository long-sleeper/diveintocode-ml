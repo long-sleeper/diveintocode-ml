{
 "cells": [
  {
   "cell_type": "markdown",
   "metadata": {},
   "source": [
    "# Sprint　深層学習スクラッチ　ニューラルネットワーク  \n",
    "  \n",
    "＜目的＞  \n",
    "- スクラッチを通してニューラルネットワークの基礎を理解する\n",
    "- 画像データの扱い方を知る  \n",
    "\n",
    "＜MNISTデータセット＞  \n",
    "ニューラルネットワークスクラッチの検証にはMNISTデータセットを使用します。各種ライブラリやサイトからダウンロードできますが、ここでは深層学習フレームワークのKerasを用います。以下のコードを実行すればデータセットをダウンロードし、展開まで行えます。  \n",
    "\n",
    "《MNISTとは？》  \n",
    "画像分類のための定番データセットで、手書き数字認識を行います。このデータセットには訓練用6万枚、テスト用1万枚の28×28ピクセルの白黒画像、およびそれらが0〜9のどの数字であるかというラベルが含まれています。  \n",
    " \n",
    "\n",
    "《画像データとは？》  \n",
    "デジタル画像は点の集合で、これをピクセルと呼びます。一般的に白黒画像であればピクセルには0〜255の値が含まれます。一方、カラー画像であればR（赤）、G（緑）、B（青）それぞれに対応する0〜255の値が含まれます。機械学習をする上では、この0〜255の値一つひとつが特徴量として扱われます。0〜255は符号なしの8ビット整数で表せる範囲になるため、NumPyであれば「uint8」型の変数として保持できます。"
   ]
  },
  {
   "cell_type": "code",
   "execution_count": 49,
   "metadata": {},
   "outputs": [],
   "source": [
    "import numpy as np\n",
    "from keras.datasets import mnist\n",
    "import matplotlib.pyplot as plt\n",
    "%matplotlib inline\n",
    "from sklearn.preprocessing import OneHotEncoder\n",
    "from sklearn.model_selection import train_test_split\n",
    "import copy\n",
    "from sklearn import metrics \n",
    "from scipy.special import expit"
   ]
  },
  {
   "cell_type": "code",
   "execution_count": 28,
   "metadata": {},
   "outputs": [
    {
     "name": "stdout",
     "output_type": "stream",
     "text": [
      "(60000, 28, 28)\n",
      "(10000, 28, 28)\n",
      "uint8\n",
      "[[  0   0   0   0   0   0   0   0   0   0   0   0   0   0   0   0   0   0\n",
      "    0   0   0   0   0   0   0   0   0   0]\n",
      " [  0   0   0   0   0   0   0   0   0   0   0   0   0   0   0   0   0   0\n",
      "    0   0   0   0   0   0   0   0   0   0]\n",
      " [  0   0   0   0   0   0   0   0   0   0   0   0   0   0   0   0   0   0\n",
      "    0   0   0   0   0   0   0   0   0   0]\n",
      " [  0   0   0   0   0   0   0   0   0   0   0   0   0   0   0   0   0   0\n",
      "    0   0   0   0   0   0   0   0   0   0]\n",
      " [  0   0   0   0   0   0   0   0   0   0   0   0   0   0   0   0   0   0\n",
      "    0   0   0   0   0   0   0   0   0   0]\n",
      " [  0   0   0   0   0   0   0   0   0   0   0   0   3  18  18  18 126 136\n",
      "  175  26 166 255 247 127   0   0   0   0]\n",
      " [  0   0   0   0   0   0   0   0  30  36  94 154 170 253 253 253 253 253\n",
      "  225 172 253 242 195  64   0   0   0   0]\n",
      " [  0   0   0   0   0   0   0  49 238 253 253 253 253 253 253 253 253 251\n",
      "   93  82  82  56  39   0   0   0   0   0]\n",
      " [  0   0   0   0   0   0   0  18 219 253 253 253 253 253 198 182 247 241\n",
      "    0   0   0   0   0   0   0   0   0   0]\n",
      " [  0   0   0   0   0   0   0   0  80 156 107 253 253 205  11   0  43 154\n",
      "    0   0   0   0   0   0   0   0   0   0]\n",
      " [  0   0   0   0   0   0   0   0   0  14   1 154 253  90   0   0   0   0\n",
      "    0   0   0   0   0   0   0   0   0   0]\n",
      " [  0   0   0   0   0   0   0   0   0   0   0 139 253 190   2   0   0   0\n",
      "    0   0   0   0   0   0   0   0   0   0]\n",
      " [  0   0   0   0   0   0   0   0   0   0   0  11 190 253  70   0   0   0\n",
      "    0   0   0   0   0   0   0   0   0   0]\n",
      " [  0   0   0   0   0   0   0   0   0   0   0   0  35 241 225 160 108   1\n",
      "    0   0   0   0   0   0   0   0   0   0]\n",
      " [  0   0   0   0   0   0   0   0   0   0   0   0   0  81 240 253 253 119\n",
      "   25   0   0   0   0   0   0   0   0   0]\n",
      " [  0   0   0   0   0   0   0   0   0   0   0   0   0   0  45 186 253 253\n",
      "  150  27   0   0   0   0   0   0   0   0]\n",
      " [  0   0   0   0   0   0   0   0   0   0   0   0   0   0   0  16  93 252\n",
      "  253 187   0   0   0   0   0   0   0   0]\n",
      " [  0   0   0   0   0   0   0   0   0   0   0   0   0   0   0   0   0 249\n",
      "  253 249  64   0   0   0   0   0   0   0]\n",
      " [  0   0   0   0   0   0   0   0   0   0   0   0   0   0  46 130 183 253\n",
      "  253 207   2   0   0   0   0   0   0   0]\n",
      " [  0   0   0   0   0   0   0   0   0   0   0   0  39 148 229 253 253 253\n",
      "  250 182   0   0   0   0   0   0   0   0]\n",
      " [  0   0   0   0   0   0   0   0   0   0  24 114 221 253 253 253 253 201\n",
      "   78   0   0   0   0   0   0   0   0   0]\n",
      " [  0   0   0   0   0   0   0   0  23  66 213 253 253 253 253 198  81   2\n",
      "    0   0   0   0   0   0   0   0   0   0]\n",
      " [  0   0   0   0   0   0  18 171 219 253 253 253 253 195  80   9   0   0\n",
      "    0   0   0   0   0   0   0   0   0   0]\n",
      " [  0   0   0   0  55 172 226 253 253 253 253 244 133  11   0   0   0   0\n",
      "    0   0   0   0   0   0   0   0   0   0]\n",
      " [  0   0   0   0 136 253 253 253 212 135 132  16   0   0   0   0   0   0\n",
      "    0   0   0   0   0   0   0   0   0   0]\n",
      " [  0   0   0   0   0   0   0   0   0   0   0   0   0   0   0   0   0   0\n",
      "    0   0   0   0   0   0   0   0   0   0]\n",
      " [  0   0   0   0   0   0   0   0   0   0   0   0   0   0   0   0   0   0\n",
      "    0   0   0   0   0   0   0   0   0   0]\n",
      " [  0   0   0   0   0   0   0   0   0   0   0   0   0   0   0   0   0   0\n",
      "    0   0   0   0   0   0   0   0   0   0]]\n"
     ]
    }
   ],
   "source": [
    "# データセットのロード、確認\n",
    "(X_train, y_train), (X_test, y_test) = mnist.load_data()\n",
    "\n",
    "print(X_train.shape) # (60000, 28, 28)\n",
    "print(X_test.shape) # (10000, 28, 28)\n",
    "print(X_train[0].dtype) # uint8\n",
    "print(X_train[0])"
   ]
  },
  {
   "cell_type": "markdown",
   "metadata": {},
   "source": [
    "＜平滑化＞  \n",
    "(1, 28, 28)の各画像を、(1, 784)に変換します。これまで学んできた機械学習手法や、今回扱う全結合層のみのニューラルネットワークではこの形で扱います。全てのピクセルが一列になっていることを、 **平滑化（flatten）** してあるという風に表現します。"
   ]
  },
  {
   "cell_type": "code",
   "execution_count": 29,
   "metadata": {},
   "outputs": [],
   "source": [
    "# 平滑化\n",
    "X_train = X_train.reshape(-1, 784)\n",
    "X_test = X_test.reshape(-1, 784)"
   ]
  },
  {
   "cell_type": "markdown",
   "metadata": {},
   "source": [
    "＜画像データの可視化＞  \n",
    "画像データを可視化します。``plt.imshow``に渡します。"
   ]
  },
  {
   "cell_type": "code",
   "execution_count": 30,
   "metadata": {},
   "outputs": [
    {
     "data": {
      "image/png": "[encoded data removed]",
      "text/plain": [
       "<Figure size 432x288 with 1 Axes>"
      ]
     },
     "metadata": {
      "needs_background": "light"
     },
     "output_type": "display_data"
    }
   ],
   "source": [
    "# 可視化\n",
    "index = 0\n",
    "image = X_train[index].reshape(28,28)\n",
    "# X_train[index]: (784,)\n",
    "# image: (28, 28)\n",
    "plt.imshow(image, 'gray')\n",
    "plt.title('label : {}'.format(y_train[index]))\n",
    "plt.show()"
   ]
  },
  {
   "cell_type": "markdown",
   "metadata": {},
   "source": [
    "《発展的話題》  \n",
    "画像データは符号なし8ビット整数のuint8型で保持されることが一般的ですが、``plt.imshow``はより自由な配列を画像として表示することが可能です。例えば、以下のようにマイナスの値を持ったfloat64型の浮動小数点であってもエラーにはならないし、先ほどと全く同じ風に表示されます。"
   ]
  },
  {
   "cell_type": "code",
   "execution_count": 31,
   "metadata": {},
   "outputs": [
    {
     "data": {
      "image/png": "[encoded data removed]",
      "text/plain": [
       "<Figure size 432x288 with 1 Axes>"
      ]
     },
     "metadata": {
      "needs_background": "light"
     },
     "output_type": "display_data"
    },
    {
     "name": "stdout",
     "output_type": "stream",
     "text": [
      "[-105.35 -105.35 -105.35 -105.35 -105.35 -105.35 -105.35 -105.35 -105.35\n",
      " -105.35 -105.35 -105.35 -105.35 -105.35 -105.35 -105.35 -105.35 -105.35\n",
      " -105.35 -105.35 -105.35 -105.35 -105.35 -105.35 -105.35 -105.35 -105.35\n",
      " -105.35]\n"
     ]
    }
   ],
   "source": [
    "index = 0\n",
    "image = X_train[index].reshape(28,28)\n",
    "image = image.astype(np.float) # float型に変換\n",
    "image -= 105.35 # 意図的に負の小数値を作り出してみる\n",
    "plt.imshow(image, 'gray')\n",
    "plt.title('label : {}'.format(y_train[index]))\n",
    "plt.show()\n",
    "print(image[0]) # 値を確認"
   ]
  },
  {
   "cell_type": "markdown",
   "metadata": {},
   "source": [
    "＜前処理＞  \n",
    "画像は0から255のuint8型で表されますが、機械学習をする上では0から1のfloat型で扱うことになります。以下のコードで変換可能です。"
   ]
  },
  {
   "cell_type": "code",
   "execution_count": 32,
   "metadata": {},
   "outputs": [
    {
     "name": "stdout",
     "output_type": "stream",
     "text": [
      "1.0\n",
      "0.0\n"
     ]
    }
   ],
   "source": [
    "# 前処理\n",
    "X_train = X_train.astype(np.float)\n",
    "X_test = X_test.astype(np.float)\n",
    "X_train /= 255\n",
    "X_test /= 255\n",
    "print(X_train.max()) # 1.0\n",
    "print(X_train.min()) # 0.0"
   ]
  },
  {
   "cell_type": "markdown",
   "metadata": {},
   "source": [
    "＜one hot incoding＞  \n",
    "正解ラベルは0から9の整数ですが、ニューラルネットワークで多クラス分類を行う際には **one-hot表現** に変換します。scikit-learnの``OneHotEncoder``を使用したコードが以下です。このone-hot表現による値はそのラベルである確率を示していることになるため、float型で扱います。"
   ]
  },
  {
   "cell_type": "code",
   "execution_count": 33,
   "metadata": {},
   "outputs": [
    {
     "name": "stdout",
     "output_type": "stream",
     "text": [
      "(60000,)\n",
      "(60000, 10)\n",
      "float64\n"
     ]
    }
   ],
   "source": [
    "# one-hot encode\n",
    "enc = OneHotEncoder(handle_unknown='ignore', sparse=False)\n",
    "y_train_one_hot = enc.fit_transform(y_train[:, np.newaxis])\n",
    "y_test_one_hot = enc.transform(y_test[:, np.newaxis])\n",
    "print(y_train.shape) # (60000,)\n",
    "print(y_train_one_hot.shape) # (60000, 10)\n",
    "print(y_train_one_hot.dtype) # float64"
   ]
  },
  {
   "cell_type": "markdown",
   "metadata": {},
   "source": [
    "＜分割＞  \n",
    "訓練データ6万枚の内2割を検証データとして分割してください。訓練データが48000枚、検証データが12000枚となります。"
   ]
  },
  {
   "cell_type": "code",
   "execution_count": 34,
   "metadata": {},
   "outputs": [
    {
     "name": "stdout",
     "output_type": "stream",
     "text": [
      "(48000, 784)\n",
      "(12000, 784)\n"
     ]
    }
   ],
   "source": [
    "# 分割\n",
    "X_train, X_val, y_train, y_val = train_test_split(X_train, y_train, test_size=0.2)\n",
    "print(X_train.shape) # (48000, 784)\n",
    "print(X_val.shape) # (12000, 784)"
   ]
  },
  {
   "cell_type": "markdown",
   "metadata": {},
   "source": [
    "### ＜ニューラルネットワークスクラッチ＞  \n",
    "\n",
    "ニューラルネットワークのクラスをスクラッチで作成していきます。NumPyなど最低限のライブラリのみを使いアルゴリズムを実装していきます。\n",
    "\n",
    "今回は多クラス分類を行う3層のニューラルネットワークを作成します。層の数などは固定した上でニューラルネットワークの基本を学びます。次のSprintで層を自由に変えられる設計にしていきます。"
   ]
  },
  {
   "cell_type": "markdown",
   "metadata": {},
   "source": [
    "**＜ミニバッチ処理＞**  \n",
    "これまでの機械学習スクラッチでは、全てのサンプルを一度に計算していました。しかし、ニューラルネットワークではデータを分割して入力する **確率的勾配降下法** が一般的です。分割した際のひとかたまりを **ミニバッチ** 、そのサンプル数を **バッチサイズ** と呼びます。\n",
    "\n",
    "今回はバッチサイズを20とします。今回使う訓練データは48000枚ですから、48000÷20で2400回の更新を繰り返すことになります。ニューラルネットワークではこれを2400回 **イテレーション（iteration）** すると呼びます。訓練データを一度全て見ると1回の **エポック（epoch）** が終わったことになります。このエポックを複数回繰り返し、学習が完了します。\n",
    "\n",
    "これを実現するための簡素なイテレータを用意しました。for文で呼び出すと、ミニバッチを取得できます。"
   ]
  },
  {
   "cell_type": "code",
   "execution_count": 35,
   "metadata": {},
   "outputs": [],
   "source": [
    "class GetMiniBatch:\n",
    "    \"\"\"\n",
    "    ミニバッチを取得するイテレータ\n",
    "\n",
    "    Parameters\n",
    "    ----------\n",
    "    X : 次の形のndarray, shape (n_samples, n_features)\n",
    "      訓練データ\n",
    "    y : 次の形のndarray, shape (n_samples, 1)\n",
    "      正解値\n",
    "    batch_size : int\n",
    "      バッチサイズ\n",
    "    seed : int\n",
    "      NumPyの乱数のシード\n",
    "    \"\"\"\n",
    "    def __init__(self, X, y, batch_size = 20, seed=0):\n",
    "        self.batch_size = batch_size\n",
    "        np.random.seed(seed)\n",
    "        shuffle_index = np.random.permutation(np.arange(X.shape[0]))\n",
    "        self._X = X[shuffle_index]\n",
    "        self._y = y[shuffle_index]\n",
    "        self._stop = np.ceil(X.shape[0]/self.batch_size).astype(np.int)\n",
    "    def __len__(self):\n",
    "        return self._stop\n",
    "    def __getitem__(self,item):\n",
    "        p0 = item*self.batch_size\n",
    "        p1 = item*self.batch_size + self.batch_size\n",
    "        return self._X[p0:p1], self._y[p0:p1]        \n",
    "    def __iter__(self):\n",
    "        self._counter = 0\n",
    "        return self\n",
    "    def __next__(self):\n",
    "        if self._counter >= self._stop:\n",
    "            raise StopIteration()\n",
    "        p0 = self._counter*self.batch_size\n",
    "        p1 = self._counter*self.batch_size + self.batch_size\n",
    "        self._counter += 1\n",
    "        return self._X[p0:p1], self._y[p0:p1]"
   ]
  },
  {
   "cell_type": "markdown",
   "metadata": {},
   "source": [
    "### 【問題1】重みの初期値を決めるコードの作成  \n",
    "ニューラルネットワークの各層の重みの初期値を決めるコードを作成してください。  \n",
    "重みの初期値は様々な方法が提案されていますが、今回はガウス分布による単純な初期化を行います。バイアスに関しても同様です。  \n",
    "以下のコードを参考にしてください。標準偏差の値sigmaはハイパーパラメータです。発展的な重みの初期化方法については次のSprintで扱います。"
   ]
  },
  {
   "cell_type": "markdown",
   "metadata": {},
   "source": [
    "### 【問題2】フォワードプロパゲーションの実装  \n",
    "三層のニューラルネットワークの **フォワードプロパゲーション** を作成してください。以下の説明ではノード数は1層目は400、2層目は200としますが、変更しても構いません。  \n",
    "各層の数式を以下に示します。今回はそれぞれの記号が表す配列が、実装上どのようなndarrayのshapeになるかを併記してあります。\n",
    "\n",
    "「1層目」\n",
    "$$\n",
    "A_1 = X \\cdot W_1 + B_1\n",
    "$$\n",
    "\n",
    "$X$ : 特徴量ベクトル (batch_size, n_features)  \n",
    "$W_1$ : 1層目の重み (n_features, n_nodes1)  \n",
    "$B_1$ : 1層目のバイアス (n_nodes1,)  \n",
    "$A_1$ : 出力 (batch_size, n_nodes1)  \n",
    "\n",
    "「1層目の活性化関数」\n",
    "$$\n",
    "Z_1 = f(A_1)\n",
    "$$\n",
    "\n",
    "$f()$ : 活性化関数  \n",
    "$Z_1$ 出力 (batch_size, n_nodes1)  \n",
    "\n",
    "\n",
    "「2層目」\n",
    "$$\n",
    "A_2 = Z_1 \\cdot W_2 + B_2\n",
    "$$\n",
    "\n",
    "$W_2$ : 2層目の重み (n_nodes1, n_nodes2)  \n",
    "$B_2$ : 2層目のバイアス (n_nodes2,)  \n",
    "$A_2$ : 出力 (batch_size, n_nodes2)  \n",
    "\n",
    "「2層目の活性化関数」\n",
    "$$\n",
    "Z_2 = f(A_2)\n",
    "$$\n",
    "\n",
    "$f()$ : 活性化関数  \n",
    "$Z_2$ 出力 (batch_size, n_nodes2)  \n",
    "\n",
    "\n",
    "「3層目（出力層）」\n",
    "$$\n",
    "A_3 = Z_2 \\cdot W_3 + B_3\n",
    "$$\n",
    "\n",
    "$W_3$ : 3層目の重み (n_nodes2, n_output)  \n",
    "$B_3$ : 3層目のバイアス (n_output,)  \n",
    "$A_3$ : 出力 (batch_size, n_output)  \n",
    "\n",
    "\n",
    "「3層目の活性化関数」\n",
    "$$\n",
    "Z_3 = softmax(A_3)\n",
    "$$\n",
    "\n",
    "$softmax()$ : ソフトマックス関数  \n",
    "$Z_3$ : 出力 (batch_size, n_output)  \n",
    "\n",
    "$Z_3$ は各ラベル（0〜9）に対する確率の配列である。\n",
    "\n",
    "\n",
    "**＜活性化関数（フォワードプロバゲーション）＞**  \n",
    "活性化関数を作成し、フォワードプロパゲーションの中で使用します。切り替えられるように実装することを推奨しますが、片方でも構いません。\n",
    "\n",
    "「シグモイド関数」\n",
    "$$\n",
    "f(Z) = sigmoid(A) = \\frac{1}{1+exp(-A)}\n",
    "$$\n",
    "指数関数 exp(-A) の計算はnp.expを使用してください。\n",
    "\n",
    "\n",
    "「ハイパボリックタンジェント関数」  \n",
    "次の数式で表されますが、``np.tanh``ひとつで実現できます。\n",
    "$$\n",
    "f(Z) = tanh(A) = \\frac{exp(A) - exp(-A)}{exp(A) + exp(-A)}\n",
    "$$\n",
    "\n",
    "＊現在ではこれらの代わりにReLUと呼ばれる活性化関数が一般的です。次のSprintで扱います。\n",
    "\n",
    "「ソフトマックス関数」  \n",
    "ソフトマックス関数を作成し、フォワードプロパゲーションの中で使用します。これも活性化関数の一種ですが、多クラス分類の出力層で使われる特性上、区別して扱われることが多いです。  \n",
    "$$\n",
    "Z_{3\\_k} = \\frac{exp(A_{3\\_k})}{\\sum_{i=1}^{n_c}exp(A_{3\\_i})}\n",
    "$$\n",
    "\n",
    "$Z_{3_k}$ : $k$ 番目のクラスの確率ベクトル (batch_size,)  \n",
    "$A_{3_k}$ : $k$ 番目のクラスにあたる前の層からのベクトル (batch_size,)  \n",
    "$n_c$ : クラスの数、n_output。今回のMNISTでは10。  \n",
    "\n",
    "分母は全てのクラスに相当する値を指数関数に通した上で足し合わせたものです。その中で、分子に $k$ 番目のクラスを持ってくることで、 $k$ 番目のクラスである確率が求まります。\n",
    "\n",
    "これを10クラス分計算し、合わせたものが $Z_3$ です。"
   ]
  },
  {
   "cell_type": "markdown",
   "metadata": {},
   "source": [
    "### 【問題3】交差エントロピー誤差の実装  \n",
    "関数（損失関数）を作成します。  \n",
    "多クラス分類の目的関数である交差エントロピー誤差 L は次の数式です。\n",
    "\n",
    "$$\n",
    "L = - \\frac{1}{n_b}\\sum_{j}^{n_b}\\sum_{k}^{n_c}y_{jk} log(z_{3\\_jk})\n",
    "$$\n",
    "\n",
    "$y_{ij}$ : $j$ 番目のサンプルの $k$ 番目のクラスの正解ラベル（one-hot表現で0か1のスカラー）  \n",
    "$z_{3_ij}$ : $j$ 番目のサンプルの $k$ 番目のクラスの確率（スカラー）  \n",
    "$n_{b}$ : バッチサイズ、batch_size  \n",
    "$n_{c}$ : クラスの数、n_output（今回のMNISTでは10）\n",
    "\n",
    "サンプル1つあたりの誤差が求まります。"
   ]
  },
  {
   "cell_type": "markdown",
   "metadata": {},
   "source": [
    "### 【問題4】バックプロパゲーションの実装  \n",
    "三層のニューラルネットワークのバックプロパゲーションを作成してください。確率的勾配降下法を行う部分です。\n",
    "\n",
    "数式を以下に示します。\n",
    "\n",
    "まず、$i$層目の重みとバイアスの更新式です。 $W_i$ と $B_i$ に対し、更新後の $W_i^{\\prime}$ と $B_i^{\\prime}$ は次の数式で求められます。\n",
    "\n",
    "$$\n",
    "W_i^{\\prime} = W_i - \\alpha \\frac{\\partial L}{\\partial W_i} \\\\\n",
    "B_i^{\\prime} = B_i - \\alpha \\frac{\\partial L}{\\partial B_i}\n",
    "$$\n",
    "\n",
    "$\\alpha$ : 学習率（層ごとに変えることも可能だが、基本的には全て同じとする）  \n",
    "$\\frac{\\partial L}{\\partial W_i}$ : $W_i$ に関する損失 $L$ の勾配  \n",
    "$\\frac{\\partial L}{\\partial B_i}$ : $B_i$ に関する損失 $L$ の勾配  \n",
    "\n",
    "＊この勾配はミニバッチのサンプル数分の合計または平均を考えます。ここでは合計を計算します。\n",
    "\n",
    "この更新方法はSprint3線形回帰やsprint4ロジスティック回帰における最急降下法と同様です。より効果的な更新方法が知られており、それは次のSprintで扱います。\n",
    "\n",
    "勾配 $\\frac{\\partial L}{\\partial W_i}$ や $\\frac{\\partial L}{\\partial B_i}$ を求めるために、バックプロパゲーションを行います。以下の数式です。ハイパボリックタンジェント関数を使用した例を載せました。シグモイド関数の場合の数式はその後ろにあります。\n",
    "\n",
    "「3層目」\n",
    "$$\n",
    "\\frac{\\partial L}{\\partial A_3} = Z_{3} - Y\\\\\n",
    "\\frac{\\partial L}{\\partial B_3} = \\sum_{j}^{n_b}\\frac{\\partial L}{\\partial A_{3\\_j}}\\\\\n",
    "\\frac{\\partial L}{\\partial W_3} = Z_{2}^{T}\\cdot \\frac{\\partial L}{\\partial A_3}\\\\\n",
    "\\frac{\\partial L}{\\partial Z_2} = \\frac{\\partial L}{\\partial A_3} \\cdot W_3^T\n",
    "$$\n",
    "\n",
    "$\\frac{\\partial L}{\\partial A_3}$ : $A_3$ に関する損失 $L$ の勾配 (batch_size, n_output)  \n",
    "$\\frac{\\partial L}{\\partial A_{3_j}}$ : $j$番目のサンプルの$A_3$ に関する損失 $L$ の勾配 (n_nodes2,)  \n",
    "$\\frac{\\partial L}{\\partial B_3}$ : $B_3$ に関する損失 $L$ の勾配 (n_output,)  \n",
    "$\\frac{\\partial L}{\\partial W_3}$ : $W_3$ に関する損失 $L$ の勾配 (n_nodes2, n_output)  \n",
    "$\\frac{\\partial L}{\\partial Z_2}$ : $Z_2$ に関する損失 $L$ の勾配 (batch_size, n_nodes2)\n",
    "$Z_{3}$ : ソフトマックス関数の出力 (batch_size, n_nodes2)  \n",
    "$Y$ : 正解ラベル (batch_size, n_output)  \n",
    "$Z_{2}$ : 2層目の活性化関数の出力 (batch_size, n_nodes2)  \n",
    "$W_3$ : 3層目の重み (n_nodes2, n_output)  \n",
    "\n",
    "\n",
    "「2層目」\n",
    "$$\n",
    "\\frac{\\partial L}{\\partial A_2} = \\frac{\\partial L}{\\partial Z_2} \\odot \\{1-tanh^2(A_{2})\\}\\\\\n",
    "\\frac{\\partial L}{\\partial B_2} = \\sum_{j}^{n_b}\\frac{\\partial L}{\\partial A_{2\\_j}}\\\\\n",
    "\\frac{\\partial L}{\\partial W_2} = Z_{1}^T \\cdot \\frac{\\partial L}{\\partial A_2}\\\\\n",
    "\\frac{\\partial L}{\\partial Z_1} = \\frac{\\partial L}{\\partial A_2} \\cdot W_2^T\n",
    "$$\n",
    "\n",
    "$\\frac{\\partial L}{\\partial A_2}$ : $A_2$ に関する損失 $L$ の勾配 (batch_size, n_nodes2)  \n",
    "$\\frac{\\partial L}{\\partial A_{2_j}}$ : $j$番目のサンプルの$A_2$ に関する損失 $L$ の勾配 (n_nodes2,)  \n",
    "$\\frac{\\partial L}{\\partial B_2}$ : $B_2$ に関する損失 $L$ の勾配 (n_output,)  \n",
    "$\\frac{\\partial L}{\\partial W_2}$ : $W_2$ に関する損失 $L$ の勾配 (n_nodes1, n_nodes2)  \n",
    "$\\frac{\\partial L}{\\partial Z_2}$ : $Z_2$ に関する損失 $L$ の勾配 (batch_size, n_nodes2)  \n",
    "$A_2$ : 2層目の出力 (batch_size, n_nodes2)  \n",
    "$Z_{1}$ : 1層目の活性化関数の出力 (batch_size, n_nodes1)\n",
    "$W_2$ : 2層目の重み (n_nodes1, n_nodes2)  \n",
    "\n",
    "\n",
    "「1層目」\n",
    "$$\n",
    "\\frac{\\partial L}{\\partial A_1} = \\frac{\\partial L}{\\partial Z_1} \\odot \\{1-tanh^2(A_{1})\\}\\\\\n",
    "\\frac{\\partial L}{\\partial B_1} = \\sum_{j}^{n_b}\\frac{\\partial L}{\\partial A_{1\\_j}}\\\\\n",
    "\\frac{\\partial L}{\\partial W_1} = X^T \\cdot \\frac{\\partial L}{\\partial A_1}\\\\\n",
    "$$\n",
    "\n",
    "$\\frac{\\partial L}{\\partial A_1}$ : $A_1$ に関する損失 $L$ の勾配 (batch_size, n_nodes1)  \n",
    "$\\frac{\\partial L}{\\partial A_{1_j}}$ : $j$番目のサンプルの$A_1$ に関する損失 $L$ の勾配 (n_nodes1,)  \n",
    "$\\frac{\\partial L}{\\partial B_1}$ : $B_1$ に関する損失 $L$ の勾配 (n_output,)  \n",
    "$\\frac{\\partial L}{\\partial W_1}$ : $W_1$ に関する損失 $L$ の勾配 (n_features, n_nodes1)  \n",
    "$\\frac{\\partial L}{\\partial Z_1}$ : $Z_1$ に関する損失 $L$ の勾配 (batch_size, n_nodes1)  \n",
    "$A_1$ : 1層目の出力 (batch_size, n_nodes1)  \n",
    "$X$ : 特徴量ベクトル (batch_size, n_features)  \n",
    "$W_1$ : 1層目の重み (n_features, n_nodes1)  \n",
    "\n",
    "《補足》\n",
    "活性化関数にシグモイド関数を使用した場合は、次のようになります。  \n",
    "\n",
    "$$\n",
    "\\frac{\\partial L}{\\partial A_2} = \\frac{\\partial L}{\\partial Z_2} \\odot  \\{1-sigmoid(A_{2})\\}sigmoid(A_{2})\n",
    "\\\\\n",
    "\\frac{\\partial L}{\\partial A_1} = \\frac{\\partial L}{\\partial Z_1} \\odot  \\{1-sigmoid(A_{1})\\}sigmoid(A_{1})\n",
    "$$"
   ]
  },
  {
   "cell_type": "markdown",
   "metadata": {},
   "source": [
    "### 【問題5】推定  \n",
    "推定を行うメソッドを作成してください。  \n",
    "フォワードプロパゲーションによって出力された10個の確率の中で、最も高いものはどれかを判定します。"
   ]
  },
  {
   "cell_type": "code",
   "execution_count": 52,
   "metadata": {},
   "outputs": [],
   "source": [
    "class ScratchSimpleNeuralNetrowkClassifier():\n",
    "    \"\"\"\n",
    "    シンプルな三層ニューラルネットワーク分類器\n",
    "\n",
    "    Parameters\n",
    "    ----------\n",
    "\n",
    "    Attributes\n",
    "    ----------\n",
    "    \"\"\"\n",
    "    def __init__(self, n_nodes_1, n_nodes_2, sigma, activate, alpha, batch_size, epoch, verbose):\n",
    "        self.n_nodes1 = n_nodes_1\n",
    "        self.n_nodes2 = n_nodes_2\n",
    "        self.sigma = sigma\n",
    "        self.activate = activate\n",
    "        self.alpha = alpha\n",
    "        self.batch_size = batch_size\n",
    "        self.epoch = epoch\n",
    "        self.verbose = verbose\n",
    "        # iteration毎の誤差を格納するリスト\n",
    "        self.cross_entropys = []\n",
    "        self.cross_entropys_val = []\n",
    "    \n",
    "    # 問題 1 重みの初期値を決定\n",
    "    def _init_weight(self, n_features, n_nodes, sigma):\n",
    "        # 重み行列のサイズと、標準偏差を受け取る仕様\n",
    "        W = sigma * np.random.randn(n_features, n_nodes)\n",
    "        return W\n",
    "    \n",
    "    # 問題 2 フォワードプロパゲーションの実装　\n",
    "    def _forward(self, X):\n",
    "        # 1層目\n",
    "        self.A1 = X @ self.W1\n",
    "        if self.activate == 'sigmoid':\n",
    "            self.Z1 = self._sigmoid(self.A1)\n",
    "        elif self.activate == 'tanh':\n",
    "            self.Z1 = self._tanh(self.A1)\n",
    "        \n",
    "        # 2層目\n",
    "        self.Z1 = np.insert(self.Z1, 0, 1, axis=1)\n",
    "        self.A2 = self.Z1 @ self.W2\n",
    "        if self.activate == 'sigmoid':\n",
    "            self.Z2 = self._sigmoid(self.A2)\n",
    "        elif self.activate == 'tanh':\n",
    "            self.Z2 = self._tanh(self.A2)\n",
    "            \n",
    "        # 3層目\n",
    "        self.Z2 = np.insert(self.Z2, 0, 1, axis=1)\n",
    "        self.A3 = self.Z2 @ self.W3\n",
    "        self.Z3 = self._softmax(self.A3)\n",
    "        \n",
    "        return self.Z3\n",
    "    \n",
    "    # 活性化関数（シグモイド関数）\n",
    "    def _sigmoid(self, X):\n",
    "        return 1. / (1. + np.exp(-X))\n",
    "    \n",
    "    # 活性化関数（ハイパボリックタンジェント関数）\n",
    "    def _tanh(self, X):\n",
    "        return (np.exp(X) - np.exp(-X)) / (np.exp(X) + np.exp(-X))\n",
    "    \n",
    "    # ソフトマックス関数\n",
    "    def _softmax(self, A3):\n",
    "        # 分母に来る指数の行方向の和を作成\n",
    "        exp_sigma = np.sum(np.exp(A3), axis=1)[:, np.newaxis]\n",
    "        sigma_matrix = np.tile(exp_sigma, (1, A3.shape[1]))\n",
    "        # それぞれを行の和で割って出力\n",
    "        return np.exp(A3)/sigma_matrix\n",
    "    \n",
    "    # 問題 3 交差エントロピー誤差\n",
    "    def _logloss(self, Z3, y):\n",
    "        # Z3の対数にyを掛けて足し合わせ、バッチ数で割る\n",
    "        return np.sum(np.log(Z3)*y)/self.batch_size*(-1)\n",
    "\n",
    "    # 問題 4 バックプロパゲーションの実装\n",
    "    def _backward(self, X, y):\n",
    "        # 3層目\n",
    "        dL_dW3 = (self.Z2).T @ (self.Z3 - y)\n",
    "        # Bias成分を除くためW3の1行目を落とし、dL/dZ2を計算\n",
    "        W3 = np.delete(self.W3, 0, 0)\n",
    "        dL_dZ2 = (self.Z3 - y) @ W3.T\n",
    "        # 上記を生成した後、W3を更新する\n",
    "        self.W3 -= self.alpha*dL_dW3\n",
    "        \n",
    "        # 2層目\n",
    "        if self.activate == 'sigmoid':\n",
    "            dL_dA2 = (dL_dZ2)*(1. - self._sigmoid(self.A2))*self._sigmoid(self.A2)\n",
    "        elif self.activate == 'tanh':\n",
    "            dL_dA2 = (dL_dZ2)*(1. - self._tanh(self.A2)**2)    \n",
    "        dL_dW2 = (self.Z1).T @ dL_dA2\n",
    "        # Bias成分を除くためW2の1行目を落とし、dL/dZ1を計算\n",
    "        W2 = np.delete(self.W2, 0, 0)\n",
    "        dL_dZ1 = dL_dA2 @ W2.T\n",
    "        # 上記を生成した後、W2を更新する\n",
    "        self.W2 -= self.alpha*dL_dW2\n",
    "        \n",
    "        # 1層目\n",
    "        if self.activate == 'sigmoid':\n",
    "            dL_dA1 = (dL_dZ1)*(1 - self._sigmoid(self.A1))*self._sigmoid(self.A1)\n",
    "        elif self.activate == 'tanh':\n",
    "            dL_dA1 = (dL_dZ1)*(1 - self._tanh(self.A1)**2)\n",
    "        dL_dW1 = X.T @ dL_dA1\n",
    "        # W1の更新\n",
    "        self.W1 -= self.alpha*dL_dW1\n",
    "        \n",
    "        return self\n",
    "    \n",
    "    # 学習メソッド\n",
    "    def fit(self, X, y, X_val=None, y_val=None):\n",
    "        \"\"\"\n",
    "        ニューラルネットワーク分類器を学習する。\n",
    "\n",
    "        Parameters\n",
    "        ----------\n",
    "        X : 次の形のndarray, shape (n_samples, n_features)\n",
    "            訓練データの特徴量\n",
    "        y : 次の形のndarray, shape (n_samples, )\n",
    "            訓練データの正解値\n",
    "        X_val : 次の形のndarray, shape (n_samples, n_features)\n",
    "            検証データの特徴量\n",
    "        y_val : 次の形のndarray, shape (n_samples, )\n",
    "            検証データの正解値\n",
    "        \"\"\"        \n",
    "        # 特徴量の数を取得\n",
    "        n_features = X.shape[1]\n",
    "        \n",
    "        # 各層でBias項を追加する分、重みの行数を1つ増やして初期化\n",
    "        self.W1 = self._init_weight(n_features + 1, self.n_nodes1, self.sigma)\n",
    "        self.W2 = self._init_weight(self.n_nodes1 + 1, self.n_nodes2, self.sigma)\n",
    "        self.W3 = self._init_weight(self.n_nodes2 + 1, 10, self.sigma)\n",
    "        \n",
    "        # yをone-hotへエンコードしBatchインスタンスの準備\n",
    "        enc = OneHotEncoder(handle_unknown='ignore', sparse=False)\n",
    "        y_one_hot = enc.fit_transform(y[:, np.newaxis])\n",
    "        mini_batch_train = GetMiniBatch(X, y_one_hot, self.batch_size)\n",
    "        \n",
    "        # validationありの場合、インデックスのシャッフルとバッチ数を算出しておく\n",
    "        if X_val is not None and y_val is not None:\n",
    "            indices_val = np.arange(X_val.shape[0])\n",
    "            np.random.shuffle(indices_val)\n",
    "            batch_val_size = int(self.batch_size*X_val.shape[0]/X.shape[0])            \n",
    "            y_val_one_hot = enc.fit_transform(y_val[:, np.newaxis])\n",
    "        \n",
    "        # epochのループ\n",
    "        for i in range(self.epoch):\n",
    "            # 検証データインデックス決定用のループ数を初期化\n",
    "            n_val = 0\n",
    "            # バッチ取得のインスタンスをdeepcopyで作成\n",
    "            mini_batch_train_i = copy.deepcopy(mini_batch_train)\n",
    "            # Batchのループ\n",
    "            for mini_X_train, mini_y_train in mini_batch_train:\n",
    "                \n",
    "                # validationがある場合、先にfwardしCross Entropyを格納\n",
    "                # 後のtrainのforward→backwardを連続して行うため\n",
    "                if X_val is not None and y_val is not None:\n",
    "                    # シャッフルしたインデックスの上から順に、バッチ数分を抽出\n",
    "                    idx_val = indices_val[batch_val_size*n_val: batch_val_size*(n_val+1)]\n",
    "                    # 該当インデックスのX_val、y_valを抽出し、X_valにはBias挿入\n",
    "                    X_validation = X_val[idx_val]\n",
    "                    X_validation = np.insert(X_validation, 0, 1, axis=1)\n",
    "                    y_validation = y_val_one_hot[idx_val]\n",
    "                    # forwardしentropyを算出して格納\n",
    "                    Z3_val = self._forward(X_validation)\n",
    "                    entropy_val = self._logloss(Z3_val, y_validation)\n",
    "                    self.cross_entropys_val.append(entropy_val)\n",
    "                    # インデックス決定用のループ数を1増やす\n",
    "                    n_val += 1\n",
    "                \n",
    "                # trainのfoarward→backwardにより重みを更新\n",
    "                # Bias成分の挿入、正解ラベルの取得\n",
    "                X = np.insert(mini_X_train, 0, 1, axis=1)\n",
    "                y = mini_y_train\n",
    "                # forwardし、Z3を受け取る\n",
    "                Z3 = self._forward(X)\n",
    "                # Crpss Entropyを計算し、リストに格納する\n",
    "                entropy = self._logloss(Z3, y)\n",
    "                self.cross_entropys.append(entropy)\n",
    "                # backwardし、重みを更新する\n",
    "                self._backward(X, y)\n",
    "        \n",
    "        # verboseの場合、Cross Etropyのリストを出力する\n",
    "        if self.verbose:\n",
    "            print('Cross Entropy (train) :\\n', self.cross_entropys)\n",
    "            if X_val is not None and y_val is not None:\n",
    "                print('Cross Entropy (Validation) :\\n', self.cross_entropys_val)\n",
    "        \n",
    "        return self\n",
    "    \n",
    "    # 問題 5 推定\n",
    "    def predict(self, X):\n",
    "        \"\"\"\n",
    "        ニューラルネットワーク分類器を使い推定する。\n",
    "\n",
    "        Parameters\n",
    "        ----------\n",
    "        X : 次の形のndarray, shape (n_samples, n_features)\n",
    "            サンプル\n",
    "\n",
    "        Returns\n",
    "        -------\n",
    "            次の形のndarray, shape (n_samples, 1)\n",
    "            推定結果\n",
    "        \"\"\"\n",
    "        # Bias成分の挿入\n",
    "        X = np.insert(X, 0, 1, axis=1)\n",
    "        # forwardで予測\n",
    "        pred_matrix = self._forward(X)\n",
    "        # 確率をラベルへ変換し出力\n",
    "        return np.argmax(pred_matrix, axis=1)"
   ]
  },
  {
   "cell_type": "markdown",
   "metadata": {},
   "source": [
    "### 【問題6】学習と推定  \n",
    "MNISTのデータを学習・推定し、Accuracyを計算してください。"
   ]
  },
  {
   "cell_type": "code",
   "execution_count": 40,
   "metadata": {},
   "outputs": [
    {
     "data": {
      "text/plain": [
       "<__main__.ScratchSimpleNeuralNetrowkClassifier at 0x280d6722108>"
      ]
     },
     "execution_count": 40,
     "metadata": {},
     "output_type": "execute_result"
    }
   ],
   "source": [
    "# まずは以下の設定で学習・推定\n",
    "snn_t = ScratchSimpleNeuralNetrowkClassifier(n_nodes_1=400, \n",
    "                                             n_nodes_2=200,\n",
    "                                             sigma=0.05,\n",
    "                                             activate='tanh', \n",
    "                                             alpha=0.001, \n",
    "                                             batch_size=20, \n",
    "                                             epoch=1,\n",
    "                                             verbose=False)\n",
    "snn_t.fit(X_train, y_train, X_val, y_val)"
   ]
  },
  {
   "cell_type": "code",
   "execution_count": 41,
   "metadata": {},
   "outputs": [
    {
     "name": "stdout",
     "output_type": "stream",
     "text": [
      "Accuracy : 0.914\n"
     ]
    }
   ],
   "source": [
    "# Accuracy算出\n",
    "y_pred = snn_t.predict(X_val)\n",
    "acc = metrics.accuracy_score(y_val, y_pred)\n",
    "print('Accuracy : {:.3f}'.format(acc))"
   ]
  },
  {
   "cell_type": "markdown",
   "metadata": {},
   "source": [
    "- 1 epochの学習だけでも、9割近い精度が出ている"
   ]
  },
  {
   "cell_type": "markdown",
   "metadata": {},
   "source": [
    "### 【問題7】学習曲線のプロット   \n",
    "学習曲線をプロットしてください。  \n",
    "ニューラルネットワークは過学習が発生しやすいため、学習曲線の確認が重要です。訓練データと検証データに対するエポックごとの損失（交差エントロピー誤差）を記録できるようにする必要があります。"
   ]
  },
  {
   "cell_type": "code",
   "execution_count": 42,
   "metadata": {},
   "outputs": [],
   "source": [
    "# 学習曲線描画関数\n",
    "def learning_curve(n_iter, loss, loss_val):\n",
    "    plt.plot(np.arange(n_iter), loss, label='train_loss')\n",
    "    plt.plot(np.arange(n_iter), loss_val, label='val_loss')\n",
    "    plt.title('model loss')\n",
    "    plt.xlabel('iteration')\n",
    "    plt.ylabel('cross entropy')\n",
    "    plt.legend()\n",
    "    plt.show()"
   ]
  },
  {
   "cell_type": "code",
   "execution_count": 43,
   "metadata": {},
   "outputs": [
    {
     "data": {
      "image/png": "[encoded data removed]",
      "text/plain": [
       "<Figure size 432x288 with 1 Axes>"
      ]
     },
     "metadata": {
      "needs_background": "light"
     },
     "output_type": "display_data"
    }
   ],
   "source": [
    "# 上記の学習で描画\n",
    "learning_curve(2400, snn_t.cross_entropys, snn_t.cross_entropys_val)"
   ]
  },
  {
   "cell_type": "markdown",
   "metadata": {},
   "source": [
    "- epoch毎ではなく、iteration毎にcross entropyを描画している\n",
    "- 全体でみれは誤差は減少しているが、iteration毎の変動が大きい\n",
    "- 1 epochで既に定常状態に入っているようにも見える"
   ]
  },
  {
   "cell_type": "code",
   "execution_count": 44,
   "metadata": {},
   "outputs": [
    {
     "data": {
      "image/png": "[encoded data removed]",
      "text/plain": [
       "<Figure size 1080x360 with 3 Axes>"
      ]
     },
     "metadata": {
      "needs_background": "light"
     },
     "output_type": "display_data"
    }
   ],
   "source": [
    "# 重みの分布確認\n",
    "weights = [snn_t.W1, snn_t.W2, snn_t.W3]\n",
    "plt.figure(figsize=(15,5))\n",
    "for i in range(3):\n",
    "    plt.subplot(1, 3, i+1)\n",
    "    plt.title('W{}'.format(i+1))\n",
    "    plt.hist(weights[i].flatten())\n",
    "plt.show()"
   ]
  },
  {
   "cell_type": "markdown",
   "metadata": {},
   "source": [
    "- 試しに重みの分布を確認してみたが、初期化から大きく変化したものは多くなさそう"
   ]
  },
  {
   "cell_type": "markdown",
   "metadata": {},
   "source": [
    "### ＜ハイパーパラメーターの変更＞  \n",
    "活性化関数、学習率、epoch数など各ハイパーパラメーターを変更し複数のモデルを試す。"
   ]
  },
  {
   "cell_type": "code",
   "execution_count": 45,
   "metadata": {},
   "outputs": [
    {
     "name": "stdout",
     "output_type": "stream",
     "text": [
      "== Scratch Neural Netrowk ==\n",
      "( Activate : Sigmoid, Batch : 20, epoch : 1 )\n",
      "\n",
      "< Lerning Curve >\n"
     ]
    },
    {
     "data": {
      "image/png": "[encoded data removed]",
      "text/plain": [
       "<Figure size 432x288 with 1 Axes>"
      ]
     },
     "metadata": {
      "needs_background": "light"
     },
     "output_type": "display_data"
    },
    {
     "name": "stdout",
     "output_type": "stream",
     "text": [
      "< Metrics >\n",
      "Accuracy : 0.718\n"
     ]
    }
   ],
   "source": [
    "# 活性化関数をシグモイド関数とし、その他は問題6のまま\n",
    "print('== Scratch Neural Netrowk ==')\n",
    "print('( Activate : Sigmoid, Batch : 20, epoch : 1 )\\n')\n",
    "snn_s = ScratchSimpleNeuralNetrowkClassifier(n_nodes_1=400, \n",
    "                                             n_nodes_2=200,\n",
    "                                             sigma=0.05,\n",
    "                                             activate='sigmoid', \n",
    "                                             alpha=0.001, \n",
    "                                             batch_size=20, \n",
    "                                             epoch=1,\n",
    "                                             verbose=False)\n",
    "snn_s.fit(X_train, y_train, X_val, y_val)\n",
    "\n",
    "# 学習曲線描画\n",
    "print('< Lerning Curve >')\n",
    "learning_curve(2400, snn_s.cross_entropys, snn_s.cross_entropys_val)\n",
    "\n",
    "# Accuracy算出\n",
    "print('< Metrics >')\n",
    "y_pred = snn_s.predict(X_val)\n",
    "acc = metrics.accuracy_score(y_val, y_pred)\n",
    "print('Accuracy : {:.3f}'.format(acc))"
   ]
  },
  {
   "cell_type": "markdown",
   "metadata": {},
   "source": [
    "- 同じ学習回数の$tanh$と比較し、$sigmoid$では学習が遅く途中で終わってしまった様子\n",
    "- その分Accuracyも低くなっている\n",
    "- 理由としては、$tanh$の方が変化が急であり勾配が大きいため、$sigmoid$よりも学習が早く進むものと思われる\n",
    "- epoch数を増やせば、さらに学習が進んでいくだろう"
   ]
  },
  {
   "cell_type": "code",
   "execution_count": 46,
   "metadata": {},
   "outputs": [
    {
     "data": {
      "image/png": "[encoded data removed]",
      "text/plain": [
       "<Figure size 432x288 with 1 Axes>"
      ]
     },
     "metadata": {
      "needs_background": "light"
     },
     "output_type": "display_data"
    }
   ],
   "source": [
    "# sigmoid / tanh のグラフ\n",
    "z = np.arange(-5, 5, 0.005)\n",
    "sigmoid = expit(z)\n",
    "tanh = np.tanh(z)\n",
    "plt.ylim([-1.5, 1.5])\n",
    "plt.xlabel('net input $z$')\n",
    "plt.ylabel('activation $\\phi(z)$')\n",
    "plt.axhline(1, color='black', linestyle=':')\n",
    "plt.axhline(0.5, color='black', linestyle=':')\n",
    "plt.axhline(0, color='black', linestyle=':')\n",
    "plt.axhline(-0.5, color='black', linestyle=':')\n",
    "plt.axhline(-1, color='black', linestyle=':')\n",
    "plt.plot(z, tanh, linewidth=3, linestyle='--', label='tanh', color='mediumpurple')\n",
    "plt.plot(z, sigmoid, linewidth=3, linestyle='--', label='sigmoid', color='limegreen')\n",
    "plt.title('Sigmoid & Hyperbolic Tangent')\n",
    "plt.legend()\n",
    "plt.show()"
   ]
  },
  {
   "cell_type": "code",
   "execution_count": 53,
   "metadata": {},
   "outputs": [
    {
     "name": "stdout",
     "output_type": "stream",
     "text": [
      "== Scratch Neural Netrowk ==\n",
      "( Activate : Hypaerbolic Tangent, Batch : 20, epoch : 10 )\n",
      "\n",
      "< Lerning Curve >\n"
     ]
    },
    {
     "data": {
      "image/png": "[encoded data removed]",
      "text/plain": [
       "<Figure size 432x288 with 1 Axes>"
      ]
     },
     "metadata": {
      "needs_background": "light"
     },
     "output_type": "display_data"
    },
    {
     "name": "stdout",
     "output_type": "stream",
     "text": [
      "< Metrics >\n",
      "Accuracy : 0.967\n"
     ]
    }
   ],
   "source": [
    "# epoch回数のみ増やす\n",
    "print('== Scratch Neural Netrowk ==')\n",
    "print('( Activate : Hypaerbolic Tangent, Batch : 20, epoch : 10 )\\n')\n",
    "snn_e = ScratchSimpleNeuralNetrowkClassifier(n_nodes_1=400, \n",
    "                                             n_nodes_2=200,\n",
    "                                             sigma=0.05,\n",
    "                                             activate='tanh', \n",
    "                                             alpha=0.001, \n",
    "                                             batch_size=20, \n",
    "                                             epoch=10,\n",
    "                                             verbose=False)\n",
    "snn_e.fit(X_train, y_train, X_val, y_val)\n",
    "\n",
    "# 学習曲線描画\n",
    "print('< Lerning Curve >')\n",
    "learning_curve(24000, snn_e.cross_entropys, snn_e.cross_entropys_val)\n",
    "\n",
    "# Accuracy算出\n",
    "print('< Metrics >')\n",
    "y_pred = snn_e.predict(X_val)\n",
    "acc = metrics.accuracy_score(y_val, y_pred)\n",
    "print('Accuracy : {:.3f}'.format(acc))"
   ]
  },
  {
   "cell_type": "code",
   "execution_count": 54,
   "metadata": {},
   "outputs": [
    {
     "name": "stdout",
     "output_type": "stream",
     "text": [
      "== Scratch Neural Netrowk ==\n",
      "( Activate : Hypaerbolic Tangent, Batch : 200, epoch : 10 )\n",
      "\n",
      "< Lerning Curve >\n"
     ]
    },
    {
     "data": {
      "image/png": "[encoded data removed]",
      "text/plain": [
       "<Figure size 432x288 with 1 Axes>"
      ]
     },
     "metadata": {
      "needs_background": "light"
     },
     "output_type": "display_data"
    },
    {
     "name": "stdout",
     "output_type": "stream",
     "text": [
      "< Metrics >\n",
      "Accuracy : 0.966\n"
     ]
    }
   ],
   "source": [
    "# バッチサイズとepoch回数を増やす\n",
    "print('== Scratch Neural Netrowk ==')\n",
    "print('( Activate : Hypaerbolic Tangent, Batch : 200, epoch : 10 )\\n')\n",
    "snn_b = ScratchSimpleNeuralNetrowkClassifier(n_nodes_1=400, \n",
    "                                             n_nodes_2=200,\n",
    "                                             sigma=0.05,\n",
    "                                             activate='tanh', \n",
    "                                             alpha=0.001, \n",
    "                                             batch_size=200, \n",
    "                                             epoch=10,\n",
    "                                             verbose=False)\n",
    "snn_b.fit(X_train, y_train, X_val, y_val)\n",
    "\n",
    "# 学習曲線描画\n",
    "print('< Lerning Curve >')\n",
    "learning_curve(2400, snn_b.cross_entropys, snn_b.cross_entropys_val)\n",
    "\n",
    "# Accuracy算出\n",
    "print('< Metrics >')\n",
    "y_pred = snn_b.predict(X_val)\n",
    "acc = metrics.accuracy_score(y_val, y_pred)\n",
    "print('Accuracy : {:.3f}'.format(acc))"
   ]
  },
  {
   "cell_type": "markdown",
   "metadata": {},
   "source": [
    "- 問題 6 では 1epoch で既に定常状態に見えたが、epoch 数を増やすと性能が向上した\n",
    "- 最終的な性能は僅差だが、バッチ数が少ない方はiteration毎のEntropyの変動が大きい\n",
    "- 対してバッチ数とepoch数の両方を増やすと、確率的に変化する勾配ベクトルの向きがより適切になると考えられ、iteration毎の損失の変動が小さい\n",
    "- バッチ数が大きいほうが、PCの処理時間も早い印象であった"
   ]
  },
  {
   "cell_type": "code",
   "execution_count": 55,
   "metadata": {},
   "outputs": [
    {
     "name": "stdout",
     "output_type": "stream",
     "text": [
      "== Scratch Neural Netrowk ==\n",
      "( Activate : Hypaerbolic Tangent, Batch : 200, epoch : 10 )\n",
      "( Node 1 : 40, Node 2 : 20)\n",
      "\n",
      "< Lerning Curve >\n"
     ]
    },
    {
     "data": {
      "image/png": "[encoded data removed]",
      "text/plain": [
       "<Figure size 432x288 with 1 Axes>"
      ]
     },
     "metadata": {
      "needs_background": "light"
     },
     "output_type": "display_data"
    },
    {
     "name": "stdout",
     "output_type": "stream",
     "text": [
      "< Metrics >\n",
      "Accuracy : 0.961\n"
     ]
    }
   ],
   "source": [
    "# 隠れ層のノードの数を減らす\n",
    "print('== Scratch Neural Netrowk ==')\n",
    "print('( Activate : Hypaerbolic Tangent, Batch : 200, epoch : 10 )')\n",
    "print('( Node 1 : 40, Node 2 : 20)\\n')\n",
    "snn_n = ScratchSimpleNeuralNetrowkClassifier(n_nodes_1=40, \n",
    "                                             n_nodes_2=20,\n",
    "                                             sigma=0.05,\n",
    "                                             activate='tanh', \n",
    "                                             alpha=0.001, \n",
    "                                             batch_size=200, \n",
    "                                             epoch=10,\n",
    "                                             verbose=False)\n",
    "snn_n.fit(X_train, y_train, X_val, y_val)\n",
    "\n",
    "# 学習曲線描画\n",
    "print('< Lerning Curve >')\n",
    "learning_curve(2400, snn_n.cross_entropys, snn_n.cross_entropys_val)\n",
    "\n",
    "# Accuracy算出\n",
    "print('< Metrics >')\n",
    "y_pred = snn_n.predict(X_val)\n",
    "acc = metrics.accuracy_score(y_val, y_pred)\n",
    "print('Accuracy : {:.3f}'.format(acc))"
   ]
  },
  {
   "cell_type": "markdown",
   "metadata": {},
   "source": [
    "- 各層のnode数を10分の1にしてみたが、十分に学習すれば良い精度は出せるようだ"
   ]
  },
  {
   "cell_type": "markdown",
   "metadata": {},
   "source": [
    "### 【問題8】誤分類の確認  \n",
    "誤分類した画像はどのようなものだったかを確認してください。推定値を用意し、以下のコードを実行してください。  \n",
    "\n",
    "\n",
    "→　最も性能が高く安定していそうな、バッチ数とepoch数を増やしたモデルで誤分類を確認してみる。"
   ]
  },
  {
   "cell_type": "code",
   "execution_count": 56,
   "metadata": {},
   "outputs": [
    {
     "data": {
      "image/png": "[encoded data removed]",
      "text/plain": [
       "<Figure size 432x432 with 36 Axes>"
      ]
     },
     "metadata": {},
     "output_type": "display_data"
    }
   ],
   "source": [
    "# 上記のうち、バッチ数とepoch数を増やしてモデルで予測を取得\n",
    "y_pred = snn_b.predict(X_val)\n",
    "# 誤分類\n",
    "num = 36 # いくつ表示するか\n",
    "true_false = y_pred==y_val\n",
    "false_list = np.where(true_false==False)[0].astype(np.int)\n",
    "if false_list.shape[0] < num:\n",
    "    num = false_list.shape[0]\n",
    "fig = plt.figure(figsize=(6, 6))\n",
    "fig.subplots_adjust(left=0, right=0.8,  bottom=0, top=0.8, hspace=1, wspace=0.5)\n",
    "for i in range(num):\n",
    "    ax = fig.add_subplot(6, 6, i + 1, xticks=[], yticks=[])\n",
    "    ax.set_title(\"{} / {}\".format(y_pred[false_list[i]],y_val[false_list[i]]))\n",
    "    ax.imshow(X_val.reshape(-1,28,28)[false_list[i]], cmap='gray')"
   ]
  },
  {
   "cell_type": "markdown",
   "metadata": {},
   "source": [
    "- 誤分類例をみると、紛らわしく判断が難しいものが多い印象\n",
    "- 2/3, 4/9, 5/3などの微妙な曲がり具合や、細長い1/7/8などが難しいようだ"
   ]
  }
 ],
 "metadata": {
  "kernelspec": {
   "display_name": "Python 3",
   "language": "python",
   "name": "python3"
  },
  "language_info": {
   "codemirror_mode": {
    "name": "ipython",
    "version": 3
   },
   "file_extension": ".py",
   "mimetype": "text/x-python",
   "name": "python",
   "nbconvert_exporter": "python",
   "pygments_lexer": "ipython3",
   "version": "3.7.7"
  }
 },
 "nbformat": 4,
 "nbformat_minor": 4
}
